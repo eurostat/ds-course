{
 "cells": [
  {
   "cell_type": "markdown",
   "metadata": {},
   "source": [
    "### How-to..."
   ]
  },
  {
   "cell_type": "markdown",
   "metadata": {},
   "source": [
    "**Launch an existing notebook**"
   ]
  },
  {
   "cell_type": "markdown",
   "metadata": {},
   "source": [
    "From this notebook, select the _File > Open_ tab to launch `Jupyter` environment \"browser\". "
   ]
  },
  {
   "cell_type": "markdown",
   "metadata": {},
   "source": [
    "![`Jupyter` screenshot](docs/images/jupyter-browser-screenshot.png)"
   ]
  },
  {
   "cell_type": "markdown",
   "metadata": {},
   "source": [
    "You will be prompted with the `statistics-coded` environment, _i.e._ all the folders/files lister in the `github` repository."
   ]
  },
  {
   "cell_type": "markdown",
   "metadata": {},
   "source": [
    "![`Jupyter` browser](docs/images/jupyter-screenshot.png)"
   ]
  },
  {
   "cell_type": "markdown",
   "metadata": {},
   "source": [
    "Following:\n",
    "\n",
    "* ignore the files and folders used for configuration, setting, environment, _e.g.: binder/, docker/, docs/, etc..._\n",
    "* select any other data folder, _e.g.: external/, popul/, etc..._\n",
    "* consider only the notebook files, _i.e._ files with the `.ipynb` extension; ignore all others.\n",
    "* select the notebook you are interested, say for instance, the `Python` notebook below."
   ]
  },
  {
   "cell_type": "markdown",
   "metadata": {},
   "source": [
    "![`Jupyter` selection](docs/images/jupyter-selection-screenshot.png)"
   ]
  },
  {
   "cell_type": "markdown",
   "metadata": {},
   "source": [
    "Just clik to launch it! Your `Python`/`R` session can start."
   ]
  },
  {
   "cell_type": "markdown",
   "metadata": {},
   "source": [
    "**Create your own notebook**"
   ]
  },
  {
   "cell_type": "markdown",
   "metadata": {},
   "source": [
    "From this notebook, select the _File > New Notebook_ tab to create a new `Jupyter` notebook in your favourite language."
   ]
  },
  {
   "cell_type": "markdown",
   "metadata": {},
   "source": [
    "![`Jupyter` selection](docs/images/jupyter-create-screenshot.png)"
   ]
  },
  {
   "cell_type": "markdown",
   "metadata": {},
   "source": [
    "Read more about the working of `Jupyter` [toolbar](https://jupyter.brynmawr.edu/services/public/dblank/Jupyter%20Notebook%20Users%20Manual.ipynb#1.-Getting-to-Know-your-Jupyter-Notebook's-Toolbar) and [cells](https://jupyter.brynmawr.edu/services/public/dblank/Jupyter%20Notebook%20Users%20Manual.ipynb#2.-Different-Kinds-of-Cells)."
   ]
  },
  {
   "cell_type": "markdown",
   "metadata": {},
   "source": [
    "Note also that you can also start another notebook programmatically from this notebook in your _local_ (not optimal though: because this notebook is in `Python`, you will be limited to this language...):"
   ]
  },
  {
   "cell_type": "code",
   "execution_count": null,
   "metadata": {},
   "outputs": [],
   "source": [
    "%%javascript\n",
    "window.open('http://localhost:8888/tree')"
   ]
  },
  {
   "cell_type": "markdown",
   "metadata": {},
   "source": [
    "**Use `Jupyterlab`**"
   ]
  },
  {
   "cell_type": "markdown",
   "metadata": {},
   "source": [
    "![`JupyterLab` screenshot](docs/images/jupyterlab-screenshot.png)"
   ]
  },
  {
   "cell_type": "markdown",
   "metadata": {},
   "source": [
    "**Use `Rstudio`**"
   ]
  },
  {
   "cell_type": "markdown",
   "metadata": {},
   "source": [
    "![`Rstudio` screenshot](docs/images/Rstudio-screenshot.png)"
   ]
  },
  {
   "cell_type": "markdown",
   "metadata": {},
   "source": [
    "**More**\n",
    "\n",
    "* on Jupyter notebooks: [documentation](https://jupyter.org/documentation), [users manual](https://jupyter.brynmawr.edu/services/public/dblank/Jupyter%20Notebook%20Users%20Manual.ipynb), [Read The Docs](https://jupyter-notebook.readthedocs.io/en/stable/).\n",
    "* on Jupyterlab: [Read The Docs](https://jupyterlab.readthedocs.io/en/stable/)."
   ]
  }
 ],
 "metadata": {
  "kernelspec": {
   "display_name": "Python 3",
   "language": "python",
   "name": "python3"
  },
  "language_info": {
   "codemirror_mode": {
    "name": "ipython",
    "version": 3
   },
   "file_extension": ".py",
   "mimetype": "text/x-python",
   "name": "python",
   "nbconvert_exporter": "python",
   "pygments_lexer": "ipython3",
   "version": "3.7.6"
  }
 },
 "nbformat": 4,
 "nbformat_minor": 4
}
