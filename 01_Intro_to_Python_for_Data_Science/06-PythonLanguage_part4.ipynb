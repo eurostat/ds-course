{
  "nbformat": 4,
  "nbformat_minor": 0,
  "metadata": {
    "colab": {
      "name": "06-ThePythonLanguage_part4.ipynb",
      "provenance": [],
      "collapsed_sections": [],
      "toc_visible": true
    },
    "kernelspec": {
      "name": "python3",
      "display_name": "Python 3"
    },
    "language_info": {
      "name": "python"
    }
  },
  "cells": [
    {
      "cell_type": "code",
      "metadata": {
        "id": "-t6FtNBvVSlL"
      },
      "source": [
        "from IPython.display import Markdown as md\n",
        "import os\n",
        "import pandas as pd"
      ],
      "execution_count": null,
      "outputs": []
    },
    {
      "cell_type": "markdown",
      "metadata": {
        "id": "fGI0YvalSM1a"
      },
      "source": [
        "# Some Randomness, for Fun"
      ]
    },
    {
      "cell_type": "code",
      "metadata": {
        "id": "bUjvqqJfSTbZ"
      },
      "source": [
        "import random\n",
        "random.seed(0) # pick your seed"
      ],
      "execution_count": null,
      "outputs": []
    },
    {
      "cell_type": "markdown",
      "metadata": {
        "id": "X2TtYYgh45fP"
      },
      "source": [
        "# Data"
      ]
    },
    {
      "cell_type": "code",
      "metadata": {
        "colab": {
          "base_uri": "https://localhost:8080/"
        },
        "id": "q8lNjUDH_F65",
        "outputId": "a5757c72-acec-42d0-e8de-8b099ea87f4b"
      },
      "source": [
        "!pip install eurostatapiclient"
      ],
      "execution_count": null,
      "outputs": [
        {
          "output_type": "stream",
          "name": "stdout",
          "text": [
            "Requirement already satisfied: eurostatapiclient in /usr/local/lib/python3.7/dist-packages (0.2.6)\n",
            "Requirement already satisfied: requests>=2.21.0 in /usr/local/lib/python3.7/dist-packages (from eurostatapiclient) (2.23.0)\n",
            "Requirement already satisfied: pandas>=0.23.4 in /usr/local/lib/python3.7/dist-packages (from eurostatapiclient) (1.1.5)\n",
            "Requirement already satisfied: pytz>=2017.2 in /usr/local/lib/python3.7/dist-packages (from pandas>=0.23.4->eurostatapiclient) (2018.9)\n",
            "Requirement already satisfied: python-dateutil>=2.7.3 in /usr/local/lib/python3.7/dist-packages (from pandas>=0.23.4->eurostatapiclient) (2.8.2)\n",
            "Requirement already satisfied: numpy>=1.15.4 in /usr/local/lib/python3.7/dist-packages (from pandas>=0.23.4->eurostatapiclient) (1.19.5)\n",
            "Requirement already satisfied: six>=1.5 in /usr/local/lib/python3.7/dist-packages (from python-dateutil>=2.7.3->pandas>=0.23.4->eurostatapiclient) (1.15.0)\n",
            "Requirement already satisfied: chardet<4,>=3.0.2 in /usr/local/lib/python3.7/dist-packages (from requests>=2.21.0->eurostatapiclient) (3.0.4)\n",
            "Requirement already satisfied: idna<3,>=2.5 in /usr/local/lib/python3.7/dist-packages (from requests>=2.21.0->eurostatapiclient) (2.10)\n",
            "Requirement already satisfied: certifi>=2017.4.17 in /usr/local/lib/python3.7/dist-packages (from requests>=2.21.0->eurostatapiclient) (2021.5.30)\n",
            "Requirement already satisfied: urllib3!=1.25.0,!=1.25.1,<1.26,>=1.21.1 in /usr/local/lib/python3.7/dist-packages (from requests>=2.21.0->eurostatapiclient) (1.24.3)\n"
          ]
        }
      ]
    },
    {
      "cell_type": "code",
      "metadata": {
        "id": "WO5P4HrhJ_up"
      },
      "source": [
        "from eurostatapiclient import EurostatAPIClient\n",
        "\n",
        "#Set versions and formats, so far only the ones used here are availeable and call client\n",
        "VERSION = 'v2.1'\n",
        "FORMAT = 'json'\n",
        "LANGUAGE = 'en'\n",
        "client = EurostatAPIClient(VERSION, FORMAT, LANGUAGE)"
      ],
      "execution_count": null,
      "outputs": []
    },
    {
      "cell_type": "code",
      "metadata": {
        "colab": {
          "base_uri": "https://localhost:8080/",
          "height": 824
        },
        "id": "Ebu1AoVOCQz6",
        "outputId": "d3e95934-086a-4a0a-e916-a5a9f8c69876"
      },
      "source": [
        "%%html\n",
        "<iframe src=\"https://ec.europa.eu/eurostat/databrowser/view/env_waspacr/default/table?lang=en\" width=\"1000\" height=\"800\"></iframe>"
      ],
      "execution_count": null,
      "outputs": [
        {
          "output_type": "display_data",
          "data": {
            "text/html": [
              "<iframe src=\"https://ec.europa.eu/eurostat/databrowser/view/env_waspacr/default/table?lang=en\" width=\"1000\" height=\"800\"></iframe>"
            ],
            "text/plain": [
              "<IPython.core.display.HTML object>"
            ]
          },
          "metadata": {}
        }
      ]
    },
    {
      "cell_type": "code",
      "metadata": {
        "id": "CUIWRS2ZJ-vc"
      },
      "source": [
        "countries_names = {'AT':'Austria', 'BE':'Belgium', 'BG':'Bulgaria', 'CY': 'Cyprus', \n",
        "                   'CZ': 'Czechia', 'DE': 'Germany', 'DK': 'Denmark', 'EE':'Estonia', \n",
        "                   'EL': 'Greece', 'ES':'Spain', 'FI':'Finland', 'FR':'France', \n",
        "                   'HR':'Croatia', 'HU':'Hungary', 'IE':'Ireland', 'IT':'Italy', \n",
        "                   'LT':'Lithuania', 'LU':'Luxembourg', 'LV':'Latvia', 'MT': 'Malta', \n",
        "                   'NL':'Netherlands', 'PL':'Poland', 'PT':'Portugal', 'RO':'Romania', \n",
        "                   'SE':'Sweden', 'SI':'Slovenia', 'SK':'Slovakia', 'UK':'United Kingdom'}\n",
        "\n",
        "packaging_types = {'W150101': 'Paper and cardboard packaging',\n",
        "                   'W150102': 'Plastic packaging',\n",
        "                   'W150103': 'Wooden packaging',\n",
        "                   'W150104': 'Metallic packaging',\n",
        "                   'W150107': 'Glass packaging',\n",
        "                   'W150199': 'Other packaging'}"
      ],
      "execution_count": null,
      "outputs": []
    },
    {
      "cell_type": "code",
      "metadata": {
        "id": "OZj7WELC5gD-"
      },
      "source": [
        "from requests import get"
      ],
      "execution_count": null,
      "outputs": []
    },
    {
      "cell_type": "code",
      "metadata": {
        "colab": {
          "base_uri": "https://localhost:8080/",
          "height": 51
        },
        "id": "N-Vcqs0tKTt0",
        "outputId": "22774267-a2aa-4ee9-b8ef-419593ee8d47"
      },
      "source": [
        "'''\n",
        "response = get('http://ec.europa.eu/eurostat/wdds/rest/data/v2.1/json/en/pat_ep_nipc?precision=1&unit=NR&ipc=A')\n",
        "print(response.status_code)\n",
        "data_json = response.json()\n",
        "'''"
      ],
      "execution_count": null,
      "outputs": [
        {
          "output_type": "execute_result",
          "data": {
            "application/vnd.google.colaboratory.intrinsic+json": {
              "type": "string"
            },
            "text/plain": [
              "\"\\nresponse = get('http://ec.europa.eu/eurostat/wdds/rest/data/v2.1/json/en/pat_ep_nipc?precision=1&unit=NR&ipc=A')\\nprint(response.status_code)\\ndata_json = response.json()\\n\""
            ]
          },
          "metadata": {},
          "execution_count": 8
        }
      ]
    },
    {
      "cell_type": "code",
      "metadata": {
        "id": "DXC3HvTbBCLq"
      },
      "source": [
        "par_df1 = {\n",
        "    'waste': packaging_types.keys(),\n",
        "    'unit': ['RT'],\n",
        "    'geo': list(countries_names.keys()),\n",
        "}\n",
        "\n",
        "df1 = client.get_dataset('env_waspacr', params=par_df1).to_dataframe()\n",
        "\n",
        "df1.rename(columns={'geo': 'country', 'time': 'year'}, inplace=True)\n",
        "df1['year'] = df1['year'].astype('int')\n",
        "df1['country'] = df1['country'].map(countries_names)\n",
        "df1['waste'] = df1['waste'].map(packaging_types)"
      ],
      "execution_count": null,
      "outputs": []
    },
    {
      "cell_type": "code",
      "metadata": {
        "colab": {
          "base_uri": "https://localhost:8080/",
          "height": 324
        },
        "id": "e-_gcoQQCcV8",
        "outputId": "dae1bccd-a520-4173-dd86-71badab7cbff"
      },
      "source": [
        "print(len(df1))\n",
        "print(df1.dtypes)\n",
        "df1.sample(5)"
      ],
      "execution_count": null,
      "outputs": [
        {
          "output_type": "stream",
          "name": "stdout",
          "text": [
            "3696\n",
            "values     float64\n",
            "waste       object\n",
            "unit        object\n",
            "country     object\n",
            "year         int64\n",
            "dtype: object\n"
          ]
        },
        {
          "output_type": "execute_result",
          "data": {
            "text/html": [
              "<div>\n",
              "<style scoped>\n",
              "    .dataframe tbody tr th:only-of-type {\n",
              "        vertical-align: middle;\n",
              "    }\n",
              "\n",
              "    .dataframe tbody tr th {\n",
              "        vertical-align: top;\n",
              "    }\n",
              "\n",
              "    .dataframe thead th {\n",
              "        text-align: right;\n",
              "    }\n",
              "</style>\n",
              "<table border=\"1\" class=\"dataframe\">\n",
              "  <thead>\n",
              "    <tr style=\"text-align: right;\">\n",
              "      <th></th>\n",
              "      <th>values</th>\n",
              "      <th>waste</th>\n",
              "      <th>unit</th>\n",
              "      <th>country</th>\n",
              "      <th>year</th>\n",
              "    </tr>\n",
              "  </thead>\n",
              "  <tbody>\n",
              "    <tr>\n",
              "      <th>2054</th>\n",
              "      <td>59.7</td>\n",
              "      <td>Metallic packaging</td>\n",
              "      <td>RT</td>\n",
              "      <td>Spain</td>\n",
              "      <td>2005</td>\n",
              "    </tr>\n",
              "    <tr>\n",
              "      <th>958</th>\n",
              "      <td>33.5</td>\n",
              "      <td>Plastic packaging</td>\n",
              "      <td>RT</td>\n",
              "      <td>Italy</td>\n",
              "      <td>2009</td>\n",
              "    </tr>\n",
              "    <tr>\n",
              "      <th>171</th>\n",
              "      <td>74.2</td>\n",
              "      <td>Paper and cardboard packaging</td>\n",
              "      <td>RT</td>\n",
              "      <td>Estonia</td>\n",
              "      <td>2014</td>\n",
              "    </tr>\n",
              "    <tr>\n",
              "      <th>2834</th>\n",
              "      <td>74.3</td>\n",
              "      <td>Glass packaging</td>\n",
              "      <td>RT</td>\n",
              "      <td>Lithuania</td>\n",
              "      <td>2015</td>\n",
              "    </tr>\n",
              "    <tr>\n",
              "      <th>2198</th>\n",
              "      <td>72.0</td>\n",
              "      <td>Metallic packaging</td>\n",
              "      <td>RT</td>\n",
              "      <td>Italy</td>\n",
              "      <td>2017</td>\n",
              "    </tr>\n",
              "  </tbody>\n",
              "</table>\n",
              "</div>"
            ],
            "text/plain": [
              "      values                          waste unit    country  year\n",
              "2054    59.7             Metallic packaging   RT      Spain  2005\n",
              "958     33.5              Plastic packaging   RT      Italy  2009\n",
              "171     74.2  Paper and cardboard packaging   RT    Estonia  2014\n",
              "2834    74.3                Glass packaging   RT  Lithuania  2015\n",
              "2198    72.0             Metallic packaging   RT      Italy  2017"
            ]
          },
          "metadata": {},
          "execution_count": 10
        }
      ]
    },
    {
      "cell_type": "code",
      "metadata": {
        "colab": {
          "base_uri": "https://localhost:8080/",
          "height": 51
        },
        "id": "mEQNHpmsNN7W",
        "outputId": "6d0b72a6-6094-4a38-b0bd-97b31f0ac5db"
      },
      "source": [
        "import sys\n",
        "IN_COLAB = 'google.colab' in sys.modules\n",
        "if IN_COLAB:\n",
        "    from google.colab import drive\n",
        "    drive.mount('/content/gdrive', force_remount=True)\n",
        "    dir = os.path.join('gdrive', 'MyDrive', 'Eurostat', '01 - Intro to Python for Data Science')\n",
        "else:\n",
        "    dir = '.'\n",
        "    \n",
        "data_dir = os.path.join(dir, 'data')\n",
        "os.makedirs(data_dir, exist_ok=True)\n",
        "data_dir"
      ],
      "execution_count": null,
      "outputs": [
        {
          "output_type": "stream",
          "name": "stdout",
          "text": [
            "Mounted at /content/gdrive\n"
          ]
        },
        {
          "output_type": "execute_result",
          "data": {
            "application/vnd.google.colaboratory.intrinsic+json": {
              "type": "string"
            },
            "text/plain": [
              "'gdrive/MyDrive/Eurostat/01 - Intro to Python for Data Science/data'"
            ]
          },
          "metadata": {},
          "execution_count": 11
        }
      ]
    },
    {
      "cell_type": "code",
      "metadata": {
        "id": "CnQPwkvTPNuN"
      },
      "source": [
        "filename = os.path.join(data_dir, 'env_waspacr.csv')\n",
        "df1.to_csv(filename, index=False)"
      ],
      "execution_count": null,
      "outputs": []
    },
    {
      "cell_type": "code",
      "metadata": {
        "id": "xFWh6zA_Kpzv"
      },
      "source": [
        "df2 = df1.pivot(index='year', columns=['waste', 'country'], values='values')"
      ],
      "execution_count": null,
      "outputs": []
    },
    {
      "cell_type": "code",
      "metadata": {
        "colab": {
          "base_uri": "https://localhost:8080/",
          "height": 861
        },
        "id": "8rV3IFDhQkF5",
        "outputId": "7a3cc32d-4ff9-4c96-8a37-a3fb8dcf1564"
      },
      "source": [
        "df2"
      ],
      "execution_count": null,
      "outputs": [
        {
          "output_type": "execute_result",
          "data": {
            "text/html": [
              "<div>\n",
              "<style scoped>\n",
              "    .dataframe tbody tr th:only-of-type {\n",
              "        vertical-align: middle;\n",
              "    }\n",
              "\n",
              "    .dataframe tbody tr th {\n",
              "        vertical-align: top;\n",
              "    }\n",
              "\n",
              "    .dataframe thead tr th {\n",
              "        text-align: left;\n",
              "    }\n",
              "\n",
              "    .dataframe thead tr:last-of-type th {\n",
              "        text-align: right;\n",
              "    }\n",
              "</style>\n",
              "<table border=\"1\" class=\"dataframe\">\n",
              "  <thead>\n",
              "    <tr>\n",
              "      <th>waste</th>\n",
              "      <th colspan=\"28\" halign=\"left\">Paper and cardboard packaging</th>\n",
              "      <th colspan=\"12\" halign=\"left\">Plastic packaging</th>\n",
              "      <th>...</th>\n",
              "      <th colspan=\"12\" halign=\"left\">Glass packaging</th>\n",
              "      <th colspan=\"28\" halign=\"left\">Other packaging</th>\n",
              "    </tr>\n",
              "    <tr>\n",
              "      <th>country</th>\n",
              "      <th>Austria</th>\n",
              "      <th>Belgium</th>\n",
              "      <th>Bulgaria</th>\n",
              "      <th>Cyprus</th>\n",
              "      <th>Czechia</th>\n",
              "      <th>Germany</th>\n",
              "      <th>Denmark</th>\n",
              "      <th>Estonia</th>\n",
              "      <th>Greece</th>\n",
              "      <th>Spain</th>\n",
              "      <th>Finland</th>\n",
              "      <th>France</th>\n",
              "      <th>Croatia</th>\n",
              "      <th>Hungary</th>\n",
              "      <th>Ireland</th>\n",
              "      <th>Italy</th>\n",
              "      <th>Lithuania</th>\n",
              "      <th>Luxembourg</th>\n",
              "      <th>Latvia</th>\n",
              "      <th>Malta</th>\n",
              "      <th>Netherlands</th>\n",
              "      <th>Poland</th>\n",
              "      <th>Portugal</th>\n",
              "      <th>Romania</th>\n",
              "      <th>Sweden</th>\n",
              "      <th>Slovenia</th>\n",
              "      <th>Slovakia</th>\n",
              "      <th>United Kingdom</th>\n",
              "      <th>Austria</th>\n",
              "      <th>Belgium</th>\n",
              "      <th>Bulgaria</th>\n",
              "      <th>Cyprus</th>\n",
              "      <th>Czechia</th>\n",
              "      <th>Germany</th>\n",
              "      <th>Denmark</th>\n",
              "      <th>Estonia</th>\n",
              "      <th>Greece</th>\n",
              "      <th>Spain</th>\n",
              "      <th>Finland</th>\n",
              "      <th>France</th>\n",
              "      <th>...</th>\n",
              "      <th>Lithuania</th>\n",
              "      <th>Luxembourg</th>\n",
              "      <th>Latvia</th>\n",
              "      <th>Malta</th>\n",
              "      <th>Netherlands</th>\n",
              "      <th>Poland</th>\n",
              "      <th>Portugal</th>\n",
              "      <th>Romania</th>\n",
              "      <th>Sweden</th>\n",
              "      <th>Slovenia</th>\n",
              "      <th>Slovakia</th>\n",
              "      <th>United Kingdom</th>\n",
              "      <th>Austria</th>\n",
              "      <th>Belgium</th>\n",
              "      <th>Bulgaria</th>\n",
              "      <th>Cyprus</th>\n",
              "      <th>Czechia</th>\n",
              "      <th>Germany</th>\n",
              "      <th>Denmark</th>\n",
              "      <th>Estonia</th>\n",
              "      <th>Greece</th>\n",
              "      <th>Spain</th>\n",
              "      <th>Finland</th>\n",
              "      <th>France</th>\n",
              "      <th>Croatia</th>\n",
              "      <th>Hungary</th>\n",
              "      <th>Ireland</th>\n",
              "      <th>Italy</th>\n",
              "      <th>Lithuania</th>\n",
              "      <th>Luxembourg</th>\n",
              "      <th>Latvia</th>\n",
              "      <th>Malta</th>\n",
              "      <th>Netherlands</th>\n",
              "      <th>Poland</th>\n",
              "      <th>Portugal</th>\n",
              "      <th>Romania</th>\n",
              "      <th>Sweden</th>\n",
              "      <th>Slovenia</th>\n",
              "      <th>Slovakia</th>\n",
              "      <th>United Kingdom</th>\n",
              "    </tr>\n",
              "    <tr>\n",
              "      <th>year</th>\n",
              "      <th></th>\n",
              "      <th></th>\n",
              "      <th></th>\n",
              "      <th></th>\n",
              "      <th></th>\n",
              "      <th></th>\n",
              "      <th></th>\n",
              "      <th></th>\n",
              "      <th></th>\n",
              "      <th></th>\n",
              "      <th></th>\n",
              "      <th></th>\n",
              "      <th></th>\n",
              "      <th></th>\n",
              "      <th></th>\n",
              "      <th></th>\n",
              "      <th></th>\n",
              "      <th></th>\n",
              "      <th></th>\n",
              "      <th></th>\n",
              "      <th></th>\n",
              "      <th></th>\n",
              "      <th></th>\n",
              "      <th></th>\n",
              "      <th></th>\n",
              "      <th></th>\n",
              "      <th></th>\n",
              "      <th></th>\n",
              "      <th></th>\n",
              "      <th></th>\n",
              "      <th></th>\n",
              "      <th></th>\n",
              "      <th></th>\n",
              "      <th></th>\n",
              "      <th></th>\n",
              "      <th></th>\n",
              "      <th></th>\n",
              "      <th></th>\n",
              "      <th></th>\n",
              "      <th></th>\n",
              "      <th></th>\n",
              "      <th></th>\n",
              "      <th></th>\n",
              "      <th></th>\n",
              "      <th></th>\n",
              "      <th></th>\n",
              "      <th></th>\n",
              "      <th></th>\n",
              "      <th></th>\n",
              "      <th></th>\n",
              "      <th></th>\n",
              "      <th></th>\n",
              "      <th></th>\n",
              "      <th></th>\n",
              "      <th></th>\n",
              "      <th></th>\n",
              "      <th></th>\n",
              "      <th></th>\n",
              "      <th></th>\n",
              "      <th></th>\n",
              "      <th></th>\n",
              "      <th></th>\n",
              "      <th></th>\n",
              "      <th></th>\n",
              "      <th></th>\n",
              "      <th></th>\n",
              "      <th></th>\n",
              "      <th></th>\n",
              "      <th></th>\n",
              "      <th></th>\n",
              "      <th></th>\n",
              "      <th></th>\n",
              "      <th></th>\n",
              "      <th></th>\n",
              "      <th></th>\n",
              "      <th></th>\n",
              "      <th></th>\n",
              "      <th></th>\n",
              "      <th></th>\n",
              "      <th></th>\n",
              "      <th></th>\n",
              "    </tr>\n",
              "  </thead>\n",
              "  <tbody>\n",
              "    <tr>\n",
              "      <th>1997</th>\n",
              "      <td>85.0</td>\n",
              "      <td>77.5</td>\n",
              "      <td>NaN</td>\n",
              "      <td>NaN</td>\n",
              "      <td>NaN</td>\n",
              "      <td>87.6</td>\n",
              "      <td>47.3</td>\n",
              "      <td>NaN</td>\n",
              "      <td>67.3</td>\n",
              "      <td>52.4</td>\n",
              "      <td>56.5</td>\n",
              "      <td>59.2</td>\n",
              "      <td>NaN</td>\n",
              "      <td>NaN</td>\n",
              "      <td>16.6</td>\n",
              "      <td>36.3</td>\n",
              "      <td>NaN</td>\n",
              "      <td>45.1</td>\n",
              "      <td>NaN</td>\n",
              "      <td>NaN</td>\n",
              "      <td>64.9</td>\n",
              "      <td>NaN</td>\n",
              "      <td>NaN</td>\n",
              "      <td>NaN</td>\n",
              "      <td>66.2</td>\n",
              "      <td>NaN</td>\n",
              "      <td>NaN</td>\n",
              "      <td>41.2</td>\n",
              "      <td>20.0</td>\n",
              "      <td>25.3</td>\n",
              "      <td>NaN</td>\n",
              "      <td>NaN</td>\n",
              "      <td>NaN</td>\n",
              "      <td>61.1</td>\n",
              "      <td>6.1</td>\n",
              "      <td>NaN</td>\n",
              "      <td>3.1</td>\n",
              "      <td>7.3</td>\n",
              "      <td>10.0</td>\n",
              "      <td>6.5</td>\n",
              "      <td>...</td>\n",
              "      <td>NaN</td>\n",
              "      <td>71.4</td>\n",
              "      <td>NaN</td>\n",
              "      <td>NaN</td>\n",
              "      <td>75.5</td>\n",
              "      <td>NaN</td>\n",
              "      <td>NaN</td>\n",
              "      <td>NaN</td>\n",
              "      <td>75.6</td>\n",
              "      <td>NaN</td>\n",
              "      <td>NaN</td>\n",
              "      <td>19.5</td>\n",
              "      <td>53.6</td>\n",
              "      <td>11.3</td>\n",
              "      <td>NaN</td>\n",
              "      <td>NaN</td>\n",
              "      <td>NaN</td>\n",
              "      <td>0.0</td>\n",
              "      <td>NaN</td>\n",
              "      <td>NaN</td>\n",
              "      <td>NaN</td>\n",
              "      <td>NaN</td>\n",
              "      <td>NaN</td>\n",
              "      <td>NaN</td>\n",
              "      <td>NaN</td>\n",
              "      <td>NaN</td>\n",
              "      <td>20.0</td>\n",
              "      <td>NaN</td>\n",
              "      <td>NaN</td>\n",
              "      <td>0.0</td>\n",
              "      <td>NaN</td>\n",
              "      <td>NaN</td>\n",
              "      <td>NaN</td>\n",
              "      <td>NaN</td>\n",
              "      <td>NaN</td>\n",
              "      <td>NaN</td>\n",
              "      <td>NaN</td>\n",
              "      <td>NaN</td>\n",
              "      <td>NaN</td>\n",
              "      <td>0.0</td>\n",
              "    </tr>\n",
              "    <tr>\n",
              "      <th>1998</th>\n",
              "      <td>84.3</td>\n",
              "      <td>83.1</td>\n",
              "      <td>NaN</td>\n",
              "      <td>NaN</td>\n",
              "      <td>NaN</td>\n",
              "      <td>88.2</td>\n",
              "      <td>58.2</td>\n",
              "      <td>NaN</td>\n",
              "      <td>66.3</td>\n",
              "      <td>52.2</td>\n",
              "      <td>57.1</td>\n",
              "      <td>61.0</td>\n",
              "      <td>NaN</td>\n",
              "      <td>NaN</td>\n",
              "      <td>14.9</td>\n",
              "      <td>37.1</td>\n",
              "      <td>NaN</td>\n",
              "      <td>48.8</td>\n",
              "      <td>NaN</td>\n",
              "      <td>NaN</td>\n",
              "      <td>69.7</td>\n",
              "      <td>NaN</td>\n",
              "      <td>47.6</td>\n",
              "      <td>NaN</td>\n",
              "      <td>84.4</td>\n",
              "      <td>NaN</td>\n",
              "      <td>NaN</td>\n",
              "      <td>47.4</td>\n",
              "      <td>26.8</td>\n",
              "      <td>26.2</td>\n",
              "      <td>NaN</td>\n",
              "      <td>NaN</td>\n",
              "      <td>NaN</td>\n",
              "      <td>59.1</td>\n",
              "      <td>6.7</td>\n",
              "      <td>NaN</td>\n",
              "      <td>3.6</td>\n",
              "      <td>8.6</td>\n",
              "      <td>10.2</td>\n",
              "      <td>8.0</td>\n",
              "      <td>...</td>\n",
              "      <td>NaN</td>\n",
              "      <td>80.3</td>\n",
              "      <td>NaN</td>\n",
              "      <td>NaN</td>\n",
              "      <td>85.0</td>\n",
              "      <td>NaN</td>\n",
              "      <td>41.5</td>\n",
              "      <td>NaN</td>\n",
              "      <td>83.6</td>\n",
              "      <td>NaN</td>\n",
              "      <td>NaN</td>\n",
              "      <td>22.9</td>\n",
              "      <td>37.5</td>\n",
              "      <td>25.9</td>\n",
              "      <td>NaN</td>\n",
              "      <td>NaN</td>\n",
              "      <td>NaN</td>\n",
              "      <td>0.0</td>\n",
              "      <td>NaN</td>\n",
              "      <td>NaN</td>\n",
              "      <td>NaN</td>\n",
              "      <td>NaN</td>\n",
              "      <td>NaN</td>\n",
              "      <td>NaN</td>\n",
              "      <td>NaN</td>\n",
              "      <td>NaN</td>\n",
              "      <td>22.6</td>\n",
              "      <td>NaN</td>\n",
              "      <td>NaN</td>\n",
              "      <td>0.0</td>\n",
              "      <td>NaN</td>\n",
              "      <td>NaN</td>\n",
              "      <td>NaN</td>\n",
              "      <td>NaN</td>\n",
              "      <td>NaN</td>\n",
              "      <td>NaN</td>\n",
              "      <td>NaN</td>\n",
              "      <td>NaN</td>\n",
              "      <td>NaN</td>\n",
              "      <td>0.0</td>\n",
              "    </tr>\n",
              "    <tr>\n",
              "      <th>1999</th>\n",
              "      <td>87.7</td>\n",
              "      <td>69.7</td>\n",
              "      <td>NaN</td>\n",
              "      <td>NaN</td>\n",
              "      <td>NaN</td>\n",
              "      <td>87.2</td>\n",
              "      <td>59.3</td>\n",
              "      <td>NaN</td>\n",
              "      <td>66.7</td>\n",
              "      <td>53.7</td>\n",
              "      <td>60.6</td>\n",
              "      <td>59.0</td>\n",
              "      <td>NaN</td>\n",
              "      <td>NaN</td>\n",
              "      <td>14.1</td>\n",
              "      <td>39.5</td>\n",
              "      <td>NaN</td>\n",
              "      <td>34.9</td>\n",
              "      <td>NaN</td>\n",
              "      <td>NaN</td>\n",
              "      <td>71.3</td>\n",
              "      <td>NaN</td>\n",
              "      <td>52.5</td>\n",
              "      <td>NaN</td>\n",
              "      <td>72.4</td>\n",
              "      <td>NaN</td>\n",
              "      <td>NaN</td>\n",
              "      <td>49.4</td>\n",
              "      <td>25.0</td>\n",
              "      <td>24.4</td>\n",
              "      <td>NaN</td>\n",
              "      <td>NaN</td>\n",
              "      <td>NaN</td>\n",
              "      <td>58.6</td>\n",
              "      <td>11.0</td>\n",
              "      <td>NaN</td>\n",
              "      <td>3.3</td>\n",
              "      <td>14.4</td>\n",
              "      <td>12.9</td>\n",
              "      <td>9.0</td>\n",
              "      <td>...</td>\n",
              "      <td>NaN</td>\n",
              "      <td>76.0</td>\n",
              "      <td>NaN</td>\n",
              "      <td>NaN</td>\n",
              "      <td>80.2</td>\n",
              "      <td>NaN</td>\n",
              "      <td>43.7</td>\n",
              "      <td>NaN</td>\n",
              "      <td>83.9</td>\n",
              "      <td>NaN</td>\n",
              "      <td>NaN</td>\n",
              "      <td>30.1</td>\n",
              "      <td>42.9</td>\n",
              "      <td>19.7</td>\n",
              "      <td>NaN</td>\n",
              "      <td>NaN</td>\n",
              "      <td>NaN</td>\n",
              "      <td>0.0</td>\n",
              "      <td>NaN</td>\n",
              "      <td>NaN</td>\n",
              "      <td>NaN</td>\n",
              "      <td>NaN</td>\n",
              "      <td>NaN</td>\n",
              "      <td>NaN</td>\n",
              "      <td>NaN</td>\n",
              "      <td>NaN</td>\n",
              "      <td>34.4</td>\n",
              "      <td>NaN</td>\n",
              "      <td>NaN</td>\n",
              "      <td>0.0</td>\n",
              "      <td>NaN</td>\n",
              "      <td>NaN</td>\n",
              "      <td>NaN</td>\n",
              "      <td>NaN</td>\n",
              "      <td>NaN</td>\n",
              "      <td>NaN</td>\n",
              "      <td>NaN</td>\n",
              "      <td>NaN</td>\n",
              "      <td>NaN</td>\n",
              "      <td>0.0</td>\n",
              "    </tr>\n",
              "    <tr>\n",
              "      <th>2000</th>\n",
              "      <td>86.9</td>\n",
              "      <td>82.1</td>\n",
              "      <td>NaN</td>\n",
              "      <td>NaN</td>\n",
              "      <td>NaN</td>\n",
              "      <td>90.2</td>\n",
              "      <td>62.0</td>\n",
              "      <td>NaN</td>\n",
              "      <td>67.4</td>\n",
              "      <td>58.2</td>\n",
              "      <td>61.9</td>\n",
              "      <td>59.0</td>\n",
              "      <td>NaN</td>\n",
              "      <td>NaN</td>\n",
              "      <td>16.6</td>\n",
              "      <td>45.5</td>\n",
              "      <td>NaN</td>\n",
              "      <td>36.7</td>\n",
              "      <td>NaN</td>\n",
              "      <td>NaN</td>\n",
              "      <td>70.9</td>\n",
              "      <td>NaN</td>\n",
              "      <td>46.7</td>\n",
              "      <td>NaN</td>\n",
              "      <td>62.6</td>\n",
              "      <td>NaN</td>\n",
              "      <td>NaN</td>\n",
              "      <td>50.3</td>\n",
              "      <td>26.2</td>\n",
              "      <td>25.5</td>\n",
              "      <td>NaN</td>\n",
              "      <td>NaN</td>\n",
              "      <td>NaN</td>\n",
              "      <td>53.4</td>\n",
              "      <td>12.5</td>\n",
              "      <td>NaN</td>\n",
              "      <td>3.1</td>\n",
              "      <td>17.2</td>\n",
              "      <td>14.1</td>\n",
              "      <td>11.2</td>\n",
              "      <td>...</td>\n",
              "      <td>NaN</td>\n",
              "      <td>82.6</td>\n",
              "      <td>NaN</td>\n",
              "      <td>NaN</td>\n",
              "      <td>80.2</td>\n",
              "      <td>NaN</td>\n",
              "      <td>38.4</td>\n",
              "      <td>NaN</td>\n",
              "      <td>86.1</td>\n",
              "      <td>NaN</td>\n",
              "      <td>NaN</td>\n",
              "      <td>38.6</td>\n",
              "      <td>37.5</td>\n",
              "      <td>25.0</td>\n",
              "      <td>NaN</td>\n",
              "      <td>NaN</td>\n",
              "      <td>NaN</td>\n",
              "      <td>0.0</td>\n",
              "      <td>NaN</td>\n",
              "      <td>NaN</td>\n",
              "      <td>NaN</td>\n",
              "      <td>NaN</td>\n",
              "      <td>NaN</td>\n",
              "      <td>NaN</td>\n",
              "      <td>NaN</td>\n",
              "      <td>NaN</td>\n",
              "      <td>31.9</td>\n",
              "      <td>NaN</td>\n",
              "      <td>NaN</td>\n",
              "      <td>0.0</td>\n",
              "      <td>NaN</td>\n",
              "      <td>NaN</td>\n",
              "      <td>NaN</td>\n",
              "      <td>NaN</td>\n",
              "      <td>NaN</td>\n",
              "      <td>NaN</td>\n",
              "      <td>NaN</td>\n",
              "      <td>NaN</td>\n",
              "      <td>NaN</td>\n",
              "      <td>0.0</td>\n",
              "    </tr>\n",
              "    <tr>\n",
              "      <th>2001</th>\n",
              "      <td>81.4</td>\n",
              "      <td>85.8</td>\n",
              "      <td>NaN</td>\n",
              "      <td>NaN</td>\n",
              "      <td>NaN</td>\n",
              "      <td>91.0</td>\n",
              "      <td>64.9</td>\n",
              "      <td>NaN</td>\n",
              "      <td>67.6</td>\n",
              "      <td>63.8</td>\n",
              "      <td>58.0</td>\n",
              "      <td>61.5</td>\n",
              "      <td>NaN</td>\n",
              "      <td>NaN</td>\n",
              "      <td>24.2</td>\n",
              "      <td>52.1</td>\n",
              "      <td>NaN</td>\n",
              "      <td>59.4</td>\n",
              "      <td>NaN</td>\n",
              "      <td>NaN</td>\n",
              "      <td>65.2</td>\n",
              "      <td>NaN</td>\n",
              "      <td>57.0</td>\n",
              "      <td>NaN</td>\n",
              "      <td>68.7</td>\n",
              "      <td>NaN</td>\n",
              "      <td>NaN</td>\n",
              "      <td>52.7</td>\n",
              "      <td>29.1</td>\n",
              "      <td>28.5</td>\n",
              "      <td>NaN</td>\n",
              "      <td>NaN</td>\n",
              "      <td>NaN</td>\n",
              "      <td>51.8</td>\n",
              "      <td>13.9</td>\n",
              "      <td>NaN</td>\n",
              "      <td>3.0</td>\n",
              "      <td>17.8</td>\n",
              "      <td>14.8</td>\n",
              "      <td>13.6</td>\n",
              "      <td>...</td>\n",
              "      <td>NaN</td>\n",
              "      <td>91.1</td>\n",
              "      <td>NaN</td>\n",
              "      <td>NaN</td>\n",
              "      <td>78.1</td>\n",
              "      <td>NaN</td>\n",
              "      <td>33.7</td>\n",
              "      <td>NaN</td>\n",
              "      <td>84.0</td>\n",
              "      <td>NaN</td>\n",
              "      <td>NaN</td>\n",
              "      <td>34.8</td>\n",
              "      <td>27.3</td>\n",
              "      <td>34.0</td>\n",
              "      <td>NaN</td>\n",
              "      <td>NaN</td>\n",
              "      <td>NaN</td>\n",
              "      <td>0.0</td>\n",
              "      <td>NaN</td>\n",
              "      <td>NaN</td>\n",
              "      <td>NaN</td>\n",
              "      <td>NaN</td>\n",
              "      <td>NaN</td>\n",
              "      <td>NaN</td>\n",
              "      <td>NaN</td>\n",
              "      <td>NaN</td>\n",
              "      <td>43.1</td>\n",
              "      <td>NaN</td>\n",
              "      <td>NaN</td>\n",
              "      <td>10.7</td>\n",
              "      <td>NaN</td>\n",
              "      <td>NaN</td>\n",
              "      <td>NaN</td>\n",
              "      <td>NaN</td>\n",
              "      <td>NaN</td>\n",
              "      <td>NaN</td>\n",
              "      <td>NaN</td>\n",
              "      <td>NaN</td>\n",
              "      <td>NaN</td>\n",
              "      <td>0.0</td>\n",
              "    </tr>\n",
              "    <tr>\n",
              "      <th>2002</th>\n",
              "      <td>80.0</td>\n",
              "      <td>78.4</td>\n",
              "      <td>NaN</td>\n",
              "      <td>NaN</td>\n",
              "      <td>NaN</td>\n",
              "      <td>87.9</td>\n",
              "      <td>61.3</td>\n",
              "      <td>NaN</td>\n",
              "      <td>68.5</td>\n",
              "      <td>59.8</td>\n",
              "      <td>60.9</td>\n",
              "      <td>64.4</td>\n",
              "      <td>NaN</td>\n",
              "      <td>NaN</td>\n",
              "      <td>35.3</td>\n",
              "      <td>58.5</td>\n",
              "      <td>NaN</td>\n",
              "      <td>60.2</td>\n",
              "      <td>NaN</td>\n",
              "      <td>NaN</td>\n",
              "      <td>69.0</td>\n",
              "      <td>NaN</td>\n",
              "      <td>50.4</td>\n",
              "      <td>NaN</td>\n",
              "      <td>70.1</td>\n",
              "      <td>NaN</td>\n",
              "      <td>NaN</td>\n",
              "      <td>59.3</td>\n",
              "      <td>30.0</td>\n",
              "      <td>29.5</td>\n",
              "      <td>NaN</td>\n",
              "      <td>NaN</td>\n",
              "      <td>NaN</td>\n",
              "      <td>49.0</td>\n",
              "      <td>15.5</td>\n",
              "      <td>NaN</td>\n",
              "      <td>3.0</td>\n",
              "      <td>19.6</td>\n",
              "      <td>14.6</td>\n",
              "      <td>15.2</td>\n",
              "      <td>...</td>\n",
              "      <td>NaN</td>\n",
              "      <td>83.5</td>\n",
              "      <td>NaN</td>\n",
              "      <td>NaN</td>\n",
              "      <td>78.7</td>\n",
              "      <td>NaN</td>\n",
              "      <td>34.6</td>\n",
              "      <td>NaN</td>\n",
              "      <td>87.6</td>\n",
              "      <td>NaN</td>\n",
              "      <td>NaN</td>\n",
              "      <td>34.1</td>\n",
              "      <td>34.3</td>\n",
              "      <td>37.6</td>\n",
              "      <td>NaN</td>\n",
              "      <td>NaN</td>\n",
              "      <td>NaN</td>\n",
              "      <td>0.0</td>\n",
              "      <td>NaN</td>\n",
              "      <td>NaN</td>\n",
              "      <td>NaN</td>\n",
              "      <td>NaN</td>\n",
              "      <td>NaN</td>\n",
              "      <td>NaN</td>\n",
              "      <td>NaN</td>\n",
              "      <td>NaN</td>\n",
              "      <td>50.1</td>\n",
              "      <td>NaN</td>\n",
              "      <td>NaN</td>\n",
              "      <td>19.5</td>\n",
              "      <td>NaN</td>\n",
              "      <td>NaN</td>\n",
              "      <td>NaN</td>\n",
              "      <td>NaN</td>\n",
              "      <td>NaN</td>\n",
              "      <td>NaN</td>\n",
              "      <td>NaN</td>\n",
              "      <td>NaN</td>\n",
              "      <td>NaN</td>\n",
              "      <td>0.0</td>\n",
              "    </tr>\n",
              "    <tr>\n",
              "      <th>2003</th>\n",
              "      <td>81.5</td>\n",
              "      <td>79.2</td>\n",
              "      <td>NaN</td>\n",
              "      <td>NaN</td>\n",
              "      <td>62.4</td>\n",
              "      <td>80.7</td>\n",
              "      <td>60.2</td>\n",
              "      <td>NaN</td>\n",
              "      <td>70.3</td>\n",
              "      <td>57.3</td>\n",
              "      <td>62.8</td>\n",
              "      <td>69.3</td>\n",
              "      <td>NaN</td>\n",
              "      <td>NaN</td>\n",
              "      <td>65.4</td>\n",
              "      <td>57.8</td>\n",
              "      <td>NaN</td>\n",
              "      <td>63.9</td>\n",
              "      <td>NaN</td>\n",
              "      <td>NaN</td>\n",
              "      <td>68.5</td>\n",
              "      <td>NaN</td>\n",
              "      <td>50.1</td>\n",
              "      <td>NaN</td>\n",
              "      <td>88.1</td>\n",
              "      <td>NaN</td>\n",
              "      <td>49.2</td>\n",
              "      <td>65.2</td>\n",
              "      <td>30.7</td>\n",
              "      <td>32.5</td>\n",
              "      <td>NaN</td>\n",
              "      <td>NaN</td>\n",
              "      <td>37.6</td>\n",
              "      <td>38.0</td>\n",
              "      <td>17.4</td>\n",
              "      <td>NaN</td>\n",
              "      <td>3.0</td>\n",
              "      <td>19.9</td>\n",
              "      <td>14.3</td>\n",
              "      <td>16.1</td>\n",
              "      <td>...</td>\n",
              "      <td>NaN</td>\n",
              "      <td>90.4</td>\n",
              "      <td>NaN</td>\n",
              "      <td>NaN</td>\n",
              "      <td>76.2</td>\n",
              "      <td>NaN</td>\n",
              "      <td>37.5</td>\n",
              "      <td>NaN</td>\n",
              "      <td>91.6</td>\n",
              "      <td>NaN</td>\n",
              "      <td>26.5</td>\n",
              "      <td>37.5</td>\n",
              "      <td>17.8</td>\n",
              "      <td>1.5</td>\n",
              "      <td>NaN</td>\n",
              "      <td>NaN</td>\n",
              "      <td>0.0</td>\n",
              "      <td>0.0</td>\n",
              "      <td>0.0</td>\n",
              "      <td>NaN</td>\n",
              "      <td>NaN</td>\n",
              "      <td>0.0</td>\n",
              "      <td>0.0</td>\n",
              "      <td>0.0</td>\n",
              "      <td>NaN</td>\n",
              "      <td>NaN</td>\n",
              "      <td>1.1</td>\n",
              "      <td>0.0</td>\n",
              "      <td>NaN</td>\n",
              "      <td>0.0</td>\n",
              "      <td>NaN</td>\n",
              "      <td>NaN</td>\n",
              "      <td>0.0</td>\n",
              "      <td>NaN</td>\n",
              "      <td>0.0</td>\n",
              "      <td>NaN</td>\n",
              "      <td>0.0</td>\n",
              "      <td>NaN</td>\n",
              "      <td>0.4</td>\n",
              "      <td>0.0</td>\n",
              "    </tr>\n",
              "    <tr>\n",
              "      <th>2004</th>\n",
              "      <td>83.2</td>\n",
              "      <td>83.4</td>\n",
              "      <td>NaN</td>\n",
              "      <td>42.3</td>\n",
              "      <td>70.5</td>\n",
              "      <td>82.7</td>\n",
              "      <td>58.7</td>\n",
              "      <td>33.6</td>\n",
              "      <td>69.9</td>\n",
              "      <td>63.3</td>\n",
              "      <td>70.2</td>\n",
              "      <td>76.5</td>\n",
              "      <td>NaN</td>\n",
              "      <td>67.0</td>\n",
              "      <td>70.0</td>\n",
              "      <td>62.4</td>\n",
              "      <td>59.0</td>\n",
              "      <td>64.5</td>\n",
              "      <td>60.2</td>\n",
              "      <td>8.5</td>\n",
              "      <td>70.3</td>\n",
              "      <td>39.6</td>\n",
              "      <td>55.6</td>\n",
              "      <td>NaN</td>\n",
              "      <td>70.8</td>\n",
              "      <td>76.2</td>\n",
              "      <td>50.0</td>\n",
              "      <td>68.2</td>\n",
              "      <td>33.2</td>\n",
              "      <td>36.5</td>\n",
              "      <td>NaN</td>\n",
              "      <td>9.0</td>\n",
              "      <td>43.8</td>\n",
              "      <td>33.8</td>\n",
              "      <td>16.3</td>\n",
              "      <td>12.0</td>\n",
              "      <td>5.9</td>\n",
              "      <td>20.1</td>\n",
              "      <td>14.6</td>\n",
              "      <td>17.5</td>\n",
              "      <td>...</td>\n",
              "      <td>34.8</td>\n",
              "      <td>93.5</td>\n",
              "      <td>24.9</td>\n",
              "      <td>3.5</td>\n",
              "      <td>75.8</td>\n",
              "      <td>27.3</td>\n",
              "      <td>38.6</td>\n",
              "      <td>NaN</td>\n",
              "      <td>103.6</td>\n",
              "      <td>17.9</td>\n",
              "      <td>26.5</td>\n",
              "      <td>43.7</td>\n",
              "      <td>25.2</td>\n",
              "      <td>1.7</td>\n",
              "      <td>NaN</td>\n",
              "      <td>0.0</td>\n",
              "      <td>0.0</td>\n",
              "      <td>0.0</td>\n",
              "      <td>0.0</td>\n",
              "      <td>NaN</td>\n",
              "      <td>NaN</td>\n",
              "      <td>0.0</td>\n",
              "      <td>0.0</td>\n",
              "      <td>0.0</td>\n",
              "      <td>NaN</td>\n",
              "      <td>NaN</td>\n",
              "      <td>3.4</td>\n",
              "      <td>NaN</td>\n",
              "      <td>2.0</td>\n",
              "      <td>0.0</td>\n",
              "      <td>4.0</td>\n",
              "      <td>0.0</td>\n",
              "      <td>0.0</td>\n",
              "      <td>0.0</td>\n",
              "      <td>0.0</td>\n",
              "      <td>NaN</td>\n",
              "      <td>0.0</td>\n",
              "      <td>2.3</td>\n",
              "      <td>NaN</td>\n",
              "      <td>0.0</td>\n",
              "    </tr>\n",
              "    <tr>\n",
              "      <th>2005</th>\n",
              "      <td>86.4</td>\n",
              "      <td>83.3</td>\n",
              "      <td>81.6</td>\n",
              "      <td>12.9</td>\n",
              "      <td>84.0</td>\n",
              "      <td>82.1</td>\n",
              "      <td>60.0</td>\n",
              "      <td>45.1</td>\n",
              "      <td>72.5</td>\n",
              "      <td>69.2</td>\n",
              "      <td>79.1</td>\n",
              "      <td>80.9</td>\n",
              "      <td>NaN</td>\n",
              "      <td>85.8</td>\n",
              "      <td>71.6</td>\n",
              "      <td>66.6</td>\n",
              "      <td>59.3</td>\n",
              "      <td>69.3</td>\n",
              "      <td>59.1</td>\n",
              "      <td>10.8</td>\n",
              "      <td>71.7</td>\n",
              "      <td>41.0</td>\n",
              "      <td>59.8</td>\n",
              "      <td>51.1</td>\n",
              "      <td>72.2</td>\n",
              "      <td>77.3</td>\n",
              "      <td>20.1</td>\n",
              "      <td>74.2</td>\n",
              "      <td>32.9</td>\n",
              "      <td>38.1</td>\n",
              "      <td>8.4</td>\n",
              "      <td>8.7</td>\n",
              "      <td>35.0</td>\n",
              "      <td>35.2</td>\n",
              "      <td>19.1</td>\n",
              "      <td>25.5</td>\n",
              "      <td>9.9</td>\n",
              "      <td>20.7</td>\n",
              "      <td>13.6</td>\n",
              "      <td>19.0</td>\n",
              "      <td>...</td>\n",
              "      <td>40.0</td>\n",
              "      <td>91.8</td>\n",
              "      <td>37.7</td>\n",
              "      <td>7.9</td>\n",
              "      <td>77.6</td>\n",
              "      <td>27.4</td>\n",
              "      <td>40.5</td>\n",
              "      <td>10.2</td>\n",
              "      <td>95.3</td>\n",
              "      <td>40.6</td>\n",
              "      <td>50.1</td>\n",
              "      <td>52.5</td>\n",
              "      <td>36.2</td>\n",
              "      <td>2.3</td>\n",
              "      <td>0.0</td>\n",
              "      <td>0.0</td>\n",
              "      <td>15.4</td>\n",
              "      <td>0.0</td>\n",
              "      <td>0.0</td>\n",
              "      <td>0.0</td>\n",
              "      <td>0.0</td>\n",
              "      <td>0.0</td>\n",
              "      <td>0.0</td>\n",
              "      <td>0.0</td>\n",
              "      <td>NaN</td>\n",
              "      <td>0.0</td>\n",
              "      <td>1.6</td>\n",
              "      <td>NaN</td>\n",
              "      <td>9.2</td>\n",
              "      <td>4.5</td>\n",
              "      <td>5.2</td>\n",
              "      <td>0.0</td>\n",
              "      <td>0.0</td>\n",
              "      <td>NaN</td>\n",
              "      <td>0.0</td>\n",
              "      <td>0.0</td>\n",
              "      <td>0.0</td>\n",
              "      <td>0.8</td>\n",
              "      <td>NaN</td>\n",
              "      <td>0.0</td>\n",
              "    </tr>\n",
              "    <tr>\n",
              "      <th>2006</th>\n",
              "      <td>87.0</td>\n",
              "      <td>89.1</td>\n",
              "      <td>51.8</td>\n",
              "      <td>38.0</td>\n",
              "      <td>90.8</td>\n",
              "      <td>80.2</td>\n",
              "      <td>62.2</td>\n",
              "      <td>55.2</td>\n",
              "      <td>70.0</td>\n",
              "      <td>71.4</td>\n",
              "      <td>86.1</td>\n",
              "      <td>84.6</td>\n",
              "      <td>NaN</td>\n",
              "      <td>94.2</td>\n",
              "      <td>73.7</td>\n",
              "      <td>66.6</td>\n",
              "      <td>59.5</td>\n",
              "      <td>71.6</td>\n",
              "      <td>58.3</td>\n",
              "      <td>11.2</td>\n",
              "      <td>94.0</td>\n",
              "      <td>51.0</td>\n",
              "      <td>68.2</td>\n",
              "      <td>55.7</td>\n",
              "      <td>72.0</td>\n",
              "      <td>66.3</td>\n",
              "      <td>60.8</td>\n",
              "      <td>78.0</td>\n",
              "      <td>35.8</td>\n",
              "      <td>38.6</td>\n",
              "      <td>20.2</td>\n",
              "      <td>14.5</td>\n",
              "      <td>44.3</td>\n",
              "      <td>38.1</td>\n",
              "      <td>20.3</td>\n",
              "      <td>33.7</td>\n",
              "      <td>10.0</td>\n",
              "      <td>22.4</td>\n",
              "      <td>15.9</td>\n",
              "      <td>19.0</td>\n",
              "      <td>...</td>\n",
              "      <td>31.0</td>\n",
              "      <td>92.8</td>\n",
              "      <td>32.1</td>\n",
              "      <td>14.3</td>\n",
              "      <td>83.6</td>\n",
              "      <td>34.4</td>\n",
              "      <td>46.0</td>\n",
              "      <td>7.5</td>\n",
              "      <td>91.4</td>\n",
              "      <td>38.1</td>\n",
              "      <td>14.6</td>\n",
              "      <td>51.4</td>\n",
              "      <td>32.4</td>\n",
              "      <td>2.8</td>\n",
              "      <td>2.7</td>\n",
              "      <td>0.0</td>\n",
              "      <td>6.2</td>\n",
              "      <td>0.0</td>\n",
              "      <td>0.0</td>\n",
              "      <td>NaN</td>\n",
              "      <td>NaN</td>\n",
              "      <td>0.0</td>\n",
              "      <td>0.0</td>\n",
              "      <td>0.0</td>\n",
              "      <td>NaN</td>\n",
              "      <td>5.4</td>\n",
              "      <td>1.6</td>\n",
              "      <td>NaN</td>\n",
              "      <td>4.7</td>\n",
              "      <td>5.6</td>\n",
              "      <td>NaN</td>\n",
              "      <td>0.0</td>\n",
              "      <td>0.0</td>\n",
              "      <td>NaN</td>\n",
              "      <td>0.0</td>\n",
              "      <td>8.6</td>\n",
              "      <td>0.0</td>\n",
              "      <td>8.8</td>\n",
              "      <td>NaN</td>\n",
              "      <td>0.0</td>\n",
              "    </tr>\n",
              "    <tr>\n",
              "      <th>2007</th>\n",
              "      <td>83.5</td>\n",
              "      <td>92.0</td>\n",
              "      <td>97.8</td>\n",
              "      <td>39.2</td>\n",
              "      <td>94.2</td>\n",
              "      <td>80.2</td>\n",
              "      <td>60.5</td>\n",
              "      <td>57.0</td>\n",
              "      <td>79.5</td>\n",
              "      <td>70.0</td>\n",
              "      <td>87.6</td>\n",
              "      <td>89.0</td>\n",
              "      <td>NaN</td>\n",
              "      <td>86.5</td>\n",
              "      <td>77.0</td>\n",
              "      <td>69.7</td>\n",
              "      <td>67.7</td>\n",
              "      <td>70.6</td>\n",
              "      <td>57.5</td>\n",
              "      <td>8.1</td>\n",
              "      <td>93.8</td>\n",
              "      <td>69.1</td>\n",
              "      <td>81.8</td>\n",
              "      <td>61.2</td>\n",
              "      <td>73.5</td>\n",
              "      <td>68.5</td>\n",
              "      <td>86.1</td>\n",
              "      <td>79.3</td>\n",
              "      <td>32.7</td>\n",
              "      <td>38.4</td>\n",
              "      <td>19.5</td>\n",
              "      <td>14.3</td>\n",
              "      <td>45.5</td>\n",
              "      <td>40.7</td>\n",
              "      <td>21.8</td>\n",
              "      <td>38.2</td>\n",
              "      <td>13.7</td>\n",
              "      <td>23.3</td>\n",
              "      <td>18.4</td>\n",
              "      <td>21.1</td>\n",
              "      <td>...</td>\n",
              "      <td>36.0</td>\n",
              "      <td>92.1</td>\n",
              "      <td>35.4</td>\n",
              "      <td>16.6</td>\n",
              "      <td>85.7</td>\n",
              "      <td>39.7</td>\n",
              "      <td>45.9</td>\n",
              "      <td>16.6</td>\n",
              "      <td>94.5</td>\n",
              "      <td>41.8</td>\n",
              "      <td>55.0</td>\n",
              "      <td>55.2</td>\n",
              "      <td>26.8</td>\n",
              "      <td>3.3</td>\n",
              "      <td>4.0</td>\n",
              "      <td>0.0</td>\n",
              "      <td>5.9</td>\n",
              "      <td>0.0</td>\n",
              "      <td>0.0</td>\n",
              "      <td>NaN</td>\n",
              "      <td>NaN</td>\n",
              "      <td>0.0</td>\n",
              "      <td>0.0</td>\n",
              "      <td>0.0</td>\n",
              "      <td>NaN</td>\n",
              "      <td>2.1</td>\n",
              "      <td>1.5</td>\n",
              "      <td>NaN</td>\n",
              "      <td>3.4</td>\n",
              "      <td>0.0</td>\n",
              "      <td>NaN</td>\n",
              "      <td>44.3</td>\n",
              "      <td>0.0</td>\n",
              "      <td>NaN</td>\n",
              "      <td>0.0</td>\n",
              "      <td>11.4</td>\n",
              "      <td>0.0</td>\n",
              "      <td>51.3</td>\n",
              "      <td>NaN</td>\n",
              "      <td>0.0</td>\n",
              "    </tr>\n",
              "    <tr>\n",
              "      <th>2008</th>\n",
              "      <td>85.4</td>\n",
              "      <td>89.4</td>\n",
              "      <td>84.9</td>\n",
              "      <td>59.9</td>\n",
              "      <td>93.8</td>\n",
              "      <td>87.7</td>\n",
              "      <td>61.0</td>\n",
              "      <td>65.1</td>\n",
              "      <td>73.6</td>\n",
              "      <td>73.4</td>\n",
              "      <td>93.1</td>\n",
              "      <td>86.9</td>\n",
              "      <td>NaN</td>\n",
              "      <td>90.6</td>\n",
              "      <td>78.2</td>\n",
              "      <td>73.8</td>\n",
              "      <td>73.0</td>\n",
              "      <td>77.6</td>\n",
              "      <td>66.1</td>\n",
              "      <td>29.6</td>\n",
              "      <td>96.4</td>\n",
              "      <td>67.1</td>\n",
              "      <td>87.8</td>\n",
              "      <td>61.6</td>\n",
              "      <td>74.1</td>\n",
              "      <td>66.4</td>\n",
              "      <td>53.6</td>\n",
              "      <td>79.7</td>\n",
              "      <td>34.9</td>\n",
              "      <td>39.5</td>\n",
              "      <td>15.6</td>\n",
              "      <td>14.8</td>\n",
              "      <td>50.2</td>\n",
              "      <td>44.7</td>\n",
              "      <td>25.4</td>\n",
              "      <td>22.0</td>\n",
              "      <td>11.9</td>\n",
              "      <td>24.4</td>\n",
              "      <td>22.7</td>\n",
              "      <td>22.5</td>\n",
              "      <td>...</td>\n",
              "      <td>49.9</td>\n",
              "      <td>92.2</td>\n",
              "      <td>53.0</td>\n",
              "      <td>142.5</td>\n",
              "      <td>87.0</td>\n",
              "      <td>43.8</td>\n",
              "      <td>51.8</td>\n",
              "      <td>34.7</td>\n",
              "      <td>93.5</td>\n",
              "      <td>79.8</td>\n",
              "      <td>47.6</td>\n",
              "      <td>61.3</td>\n",
              "      <td>28.9</td>\n",
              "      <td>4.8</td>\n",
              "      <td>0.0</td>\n",
              "      <td>0.2</td>\n",
              "      <td>8.2</td>\n",
              "      <td>0.0</td>\n",
              "      <td>0.0</td>\n",
              "      <td>NaN</td>\n",
              "      <td>NaN</td>\n",
              "      <td>0.0</td>\n",
              "      <td>0.0</td>\n",
              "      <td>0.0</td>\n",
              "      <td>NaN</td>\n",
              "      <td>0.0</td>\n",
              "      <td>0.7</td>\n",
              "      <td>NaN</td>\n",
              "      <td>4.0</td>\n",
              "      <td>0.0</td>\n",
              "      <td>NaN</td>\n",
              "      <td>0.0</td>\n",
              "      <td>0.0</td>\n",
              "      <td>NaN</td>\n",
              "      <td>NaN</td>\n",
              "      <td>27.8</td>\n",
              "      <td>0.0</td>\n",
              "      <td>97.0</td>\n",
              "      <td>NaN</td>\n",
              "      <td>0.0</td>\n",
              "    </tr>\n",
              "    <tr>\n",
              "      <th>2009</th>\n",
              "      <td>84.8</td>\n",
              "      <td>88.0</td>\n",
              "      <td>67.3</td>\n",
              "      <td>78.9</td>\n",
              "      <td>93.9</td>\n",
              "      <td>91.1</td>\n",
              "      <td>93.5</td>\n",
              "      <td>69.1</td>\n",
              "      <td>83.0</td>\n",
              "      <td>76.7</td>\n",
              "      <td>94.7</td>\n",
              "      <td>85.6</td>\n",
              "      <td>NaN</td>\n",
              "      <td>94.0</td>\n",
              "      <td>81.2</td>\n",
              "      <td>80.4</td>\n",
              "      <td>73.5</td>\n",
              "      <td>76.5</td>\n",
              "      <td>74.6</td>\n",
              "      <td>48.4</td>\n",
              "      <td>94.8</td>\n",
              "      <td>50.9</td>\n",
              "      <td>79.5</td>\n",
              "      <td>68.7</td>\n",
              "      <td>74.2</td>\n",
              "      <td>71.8</td>\n",
              "      <td>84.2</td>\n",
              "      <td>83.9</td>\n",
              "      <td>32.7</td>\n",
              "      <td>43.0</td>\n",
              "      <td>30.0</td>\n",
              "      <td>18.2</td>\n",
              "      <td>52.5</td>\n",
              "      <td>46.5</td>\n",
              "      <td>26.4</td>\n",
              "      <td>22.7</td>\n",
              "      <td>26.7</td>\n",
              "      <td>26.6</td>\n",
              "      <td>25.3</td>\n",
              "      <td>25.0</td>\n",
              "      <td>...</td>\n",
              "      <td>76.1</td>\n",
              "      <td>92.5</td>\n",
              "      <td>44.4</td>\n",
              "      <td>8.7</td>\n",
              "      <td>91.8</td>\n",
              "      <td>41.9</td>\n",
              "      <td>55.3</td>\n",
              "      <td>48.2</td>\n",
              "      <td>90.4</td>\n",
              "      <td>52.4</td>\n",
              "      <td>51.6</td>\n",
              "      <td>61.7</td>\n",
              "      <td>26.1</td>\n",
              "      <td>7.4</td>\n",
              "      <td>0.0</td>\n",
              "      <td>0.2</td>\n",
              "      <td>10.7</td>\n",
              "      <td>0.0</td>\n",
              "      <td>0.0</td>\n",
              "      <td>NaN</td>\n",
              "      <td>NaN</td>\n",
              "      <td>NaN</td>\n",
              "      <td>NaN</td>\n",
              "      <td>0.0</td>\n",
              "      <td>NaN</td>\n",
              "      <td>29.1</td>\n",
              "      <td>24.3</td>\n",
              "      <td>NaN</td>\n",
              "      <td>2.5</td>\n",
              "      <td>0.0</td>\n",
              "      <td>NaN</td>\n",
              "      <td>0.0</td>\n",
              "      <td>0.0</td>\n",
              "      <td>NaN</td>\n",
              "      <td>NaN</td>\n",
              "      <td>42.8</td>\n",
              "      <td>0.0</td>\n",
              "      <td>0.0</td>\n",
              "      <td>11.7</td>\n",
              "      <td>NaN</td>\n",
              "    </tr>\n",
              "    <tr>\n",
              "      <th>2010</th>\n",
              "      <td>84.5</td>\n",
              "      <td>89.8</td>\n",
              "      <td>81.9</td>\n",
              "      <td>83.4</td>\n",
              "      <td>93.5</td>\n",
              "      <td>90.2</td>\n",
              "      <td>93.5</td>\n",
              "      <td>82.9</td>\n",
              "      <td>94.1</td>\n",
              "      <td>76.1</td>\n",
              "      <td>96.2</td>\n",
              "      <td>91.9</td>\n",
              "      <td>NaN</td>\n",
              "      <td>94.7</td>\n",
              "      <td>84.0</td>\n",
              "      <td>78.7</td>\n",
              "      <td>83.5</td>\n",
              "      <td>76.0</td>\n",
              "      <td>74.9</td>\n",
              "      <td>51.4</td>\n",
              "      <td>89.9</td>\n",
              "      <td>57.1</td>\n",
              "      <td>67.0</td>\n",
              "      <td>66.8</td>\n",
              "      <td>69.6</td>\n",
              "      <td>74.7</td>\n",
              "      <td>50.8</td>\n",
              "      <td>81.9</td>\n",
              "      <td>34.4</td>\n",
              "      <td>41.5</td>\n",
              "      <td>40.9</td>\n",
              "      <td>27.2</td>\n",
              "      <td>54.0</td>\n",
              "      <td>45.1</td>\n",
              "      <td>26.4</td>\n",
              "      <td>33.4</td>\n",
              "      <td>30.1</td>\n",
              "      <td>29.2</td>\n",
              "      <td>26.2</td>\n",
              "      <td>23.7</td>\n",
              "      <td>...</td>\n",
              "      <td>66.9</td>\n",
              "      <td>93.8</td>\n",
              "      <td>47.6</td>\n",
              "      <td>5.8</td>\n",
              "      <td>91.3</td>\n",
              "      <td>45.6</td>\n",
              "      <td>56.6</td>\n",
              "      <td>56.8</td>\n",
              "      <td>92.9</td>\n",
              "      <td>75.1</td>\n",
              "      <td>55.7</td>\n",
              "      <td>60.7</td>\n",
              "      <td>26.4</td>\n",
              "      <td>7.5</td>\n",
              "      <td>0.0</td>\n",
              "      <td>3.2</td>\n",
              "      <td>11.8</td>\n",
              "      <td>0.0</td>\n",
              "      <td>0.0</td>\n",
              "      <td>NaN</td>\n",
              "      <td>NaN</td>\n",
              "      <td>0.0</td>\n",
              "      <td>0.0</td>\n",
              "      <td>0.0</td>\n",
              "      <td>NaN</td>\n",
              "      <td>39.6</td>\n",
              "      <td>1.0</td>\n",
              "      <td>NaN</td>\n",
              "      <td>2.6</td>\n",
              "      <td>0.0</td>\n",
              "      <td>NaN</td>\n",
              "      <td>6.3</td>\n",
              "      <td>0.0</td>\n",
              "      <td>NaN</td>\n",
              "      <td>NaN</td>\n",
              "      <td>0.0</td>\n",
              "      <td>0.0</td>\n",
              "      <td>11.7</td>\n",
              "      <td>2.0</td>\n",
              "      <td>0.0</td>\n",
              "    </tr>\n",
              "    <tr>\n",
              "      <th>2011</th>\n",
              "      <td>84.5</td>\n",
              "      <td>90.4</td>\n",
              "      <td>98.1</td>\n",
              "      <td>88.3</td>\n",
              "      <td>90.5</td>\n",
              "      <td>88.0</td>\n",
              "      <td>63.8</td>\n",
              "      <td>79.1</td>\n",
              "      <td>91.9</td>\n",
              "      <td>76.6</td>\n",
              "      <td>96.8</td>\n",
              "      <td>88.0</td>\n",
              "      <td>NaN</td>\n",
              "      <td>94.0</td>\n",
              "      <td>91.5</td>\n",
              "      <td>79.5</td>\n",
              "      <td>83.7</td>\n",
              "      <td>77.8</td>\n",
              "      <td>75.2</td>\n",
              "      <td>72.7</td>\n",
              "      <td>88.6</td>\n",
              "      <td>58.7</td>\n",
              "      <td>71.3</td>\n",
              "      <td>65.5</td>\n",
              "      <td>75.5</td>\n",
              "      <td>73.5</td>\n",
              "      <td>80.2</td>\n",
              "      <td>84.8</td>\n",
              "      <td>34.8</td>\n",
              "      <td>41.4</td>\n",
              "      <td>39.2</td>\n",
              "      <td>38.0</td>\n",
              "      <td>57.0</td>\n",
              "      <td>46.3</td>\n",
              "      <td>22.3</td>\n",
              "      <td>39.6</td>\n",
              "      <td>33.0</td>\n",
              "      <td>32.4</td>\n",
              "      <td>25.4</td>\n",
              "      <td>23.3</td>\n",
              "      <td>...</td>\n",
              "      <td>74.1</td>\n",
              "      <td>94.4</td>\n",
              "      <td>51.6</td>\n",
              "      <td>17.2</td>\n",
              "      <td>82.8</td>\n",
              "      <td>45.0</td>\n",
              "      <td>59.7</td>\n",
              "      <td>60.0</td>\n",
              "      <td>91.9</td>\n",
              "      <td>82.3</td>\n",
              "      <td>63.9</td>\n",
              "      <td>63.9</td>\n",
              "      <td>28.7</td>\n",
              "      <td>9.0</td>\n",
              "      <td>0.0</td>\n",
              "      <td>2.6</td>\n",
              "      <td>1.9</td>\n",
              "      <td>0.0</td>\n",
              "      <td>0.0</td>\n",
              "      <td>NaN</td>\n",
              "      <td>0.0</td>\n",
              "      <td>0.0</td>\n",
              "      <td>0.0</td>\n",
              "      <td>0.0</td>\n",
              "      <td>NaN</td>\n",
              "      <td>50.8</td>\n",
              "      <td>0.3</td>\n",
              "      <td>NaN</td>\n",
              "      <td>3.1</td>\n",
              "      <td>0.0</td>\n",
              "      <td>NaN</td>\n",
              "      <td>8.6</td>\n",
              "      <td>0.0</td>\n",
              "      <td>NaN</td>\n",
              "      <td>NaN</td>\n",
              "      <td>0.0</td>\n",
              "      <td>0.0</td>\n",
              "      <td>62.2</td>\n",
              "      <td>0.0</td>\n",
              "      <td>0.0</td>\n",
              "    </tr>\n",
              "    <tr>\n",
              "      <th>2012</th>\n",
              "      <td>84.9</td>\n",
              "      <td>89.8</td>\n",
              "      <td>94.2</td>\n",
              "      <td>88.9</td>\n",
              "      <td>85.9</td>\n",
              "      <td>87.6</td>\n",
              "      <td>76.5</td>\n",
              "      <td>77.2</td>\n",
              "      <td>83.6</td>\n",
              "      <td>77.8</td>\n",
              "      <td>99.2</td>\n",
              "      <td>91.8</td>\n",
              "      <td>96.1</td>\n",
              "      <td>73.0</td>\n",
              "      <td>83.0</td>\n",
              "      <td>84.5</td>\n",
              "      <td>82.4</td>\n",
              "      <td>76.7</td>\n",
              "      <td>75.3</td>\n",
              "      <td>77.2</td>\n",
              "      <td>88.9</td>\n",
              "      <td>53.1</td>\n",
              "      <td>66.1</td>\n",
              "      <td>69.8</td>\n",
              "      <td>76.8</td>\n",
              "      <td>78.7</td>\n",
              "      <td>84.7</td>\n",
              "      <td>86.5</td>\n",
              "      <td>34.7</td>\n",
              "      <td>41.5</td>\n",
              "      <td>40.7</td>\n",
              "      <td>44.8</td>\n",
              "      <td>58.2</td>\n",
              "      <td>47.0</td>\n",
              "      <td>25.9</td>\n",
              "      <td>29.8</td>\n",
              "      <td>32.2</td>\n",
              "      <td>35.1</td>\n",
              "      <td>25.4</td>\n",
              "      <td>25.1</td>\n",
              "      <td>...</td>\n",
              "      <td>72.2</td>\n",
              "      <td>94.6</td>\n",
              "      <td>55.1</td>\n",
              "      <td>21.3</td>\n",
              "      <td>71.3</td>\n",
              "      <td>51.2</td>\n",
              "      <td>59.6</td>\n",
              "      <td>66.3</td>\n",
              "      <td>88.2</td>\n",
              "      <td>87.3</td>\n",
              "      <td>69.4</td>\n",
              "      <td>67.8</td>\n",
              "      <td>25.4</td>\n",
              "      <td>8.4</td>\n",
              "      <td>0.0</td>\n",
              "      <td>1.6</td>\n",
              "      <td>14.1</td>\n",
              "      <td>0.0</td>\n",
              "      <td>0.0</td>\n",
              "      <td>NaN</td>\n",
              "      <td>0.0</td>\n",
              "      <td>0.0</td>\n",
              "      <td>0.0</td>\n",
              "      <td>0.0</td>\n",
              "      <td>0.0</td>\n",
              "      <td>6.0</td>\n",
              "      <td>0.0</td>\n",
              "      <td>NaN</td>\n",
              "      <td>40.5</td>\n",
              "      <td>0.0</td>\n",
              "      <td>NaN</td>\n",
              "      <td>0.0</td>\n",
              "      <td>0.0</td>\n",
              "      <td>NaN</td>\n",
              "      <td>NaN</td>\n",
              "      <td>0.0</td>\n",
              "      <td>0.0</td>\n",
              "      <td>1.9</td>\n",
              "      <td>29.0</td>\n",
              "      <td>0.0</td>\n",
              "    </tr>\n",
              "    <tr>\n",
              "      <th>2013</th>\n",
              "      <td>84.3</td>\n",
              "      <td>89.1</td>\n",
              "      <td>88.8</td>\n",
              "      <td>97.3</td>\n",
              "      <td>87.6</td>\n",
              "      <td>88.2</td>\n",
              "      <td>85.4</td>\n",
              "      <td>75.5</td>\n",
              "      <td>79.7</td>\n",
              "      <td>75.0</td>\n",
              "      <td>97.6</td>\n",
              "      <td>95.8</td>\n",
              "      <td>88.2</td>\n",
              "      <td>78.3</td>\n",
              "      <td>79.1</td>\n",
              "      <td>84.6</td>\n",
              "      <td>87.3</td>\n",
              "      <td>74.4</td>\n",
              "      <td>74.7</td>\n",
              "      <td>48.4</td>\n",
              "      <td>88.2</td>\n",
              "      <td>50.0</td>\n",
              "      <td>73.4</td>\n",
              "      <td>74.6</td>\n",
              "      <td>78.4</td>\n",
              "      <td>78.7</td>\n",
              "      <td>79.7</td>\n",
              "      <td>89.4</td>\n",
              "      <td>34.4</td>\n",
              "      <td>39.0</td>\n",
              "      <td>41.3</td>\n",
              "      <td>45.3</td>\n",
              "      <td>59.7</td>\n",
              "      <td>46.8</td>\n",
              "      <td>29.1</td>\n",
              "      <td>28.1</td>\n",
              "      <td>32.3</td>\n",
              "      <td>40.7</td>\n",
              "      <td>22.7</td>\n",
              "      <td>25.6</td>\n",
              "      <td>...</td>\n",
              "      <td>54.8</td>\n",
              "      <td>94.8</td>\n",
              "      <td>55.1</td>\n",
              "      <td>49.1</td>\n",
              "      <td>79.8</td>\n",
              "      <td>43.6</td>\n",
              "      <td>55.7</td>\n",
              "      <td>49.2</td>\n",
              "      <td>89.0</td>\n",
              "      <td>85.9</td>\n",
              "      <td>72.9</td>\n",
              "      <td>68.3</td>\n",
              "      <td>24.9</td>\n",
              "      <td>6.7</td>\n",
              "      <td>0.0</td>\n",
              "      <td>3.4</td>\n",
              "      <td>15.3</td>\n",
              "      <td>0.0</td>\n",
              "      <td>0.0</td>\n",
              "      <td>NaN</td>\n",
              "      <td>0.0</td>\n",
              "      <td>0.0</td>\n",
              "      <td>NaN</td>\n",
              "      <td>0.0</td>\n",
              "      <td>0.0</td>\n",
              "      <td>24.4</td>\n",
              "      <td>0.0</td>\n",
              "      <td>NaN</td>\n",
              "      <td>74.7</td>\n",
              "      <td>0.0</td>\n",
              "      <td>NaN</td>\n",
              "      <td>0.0</td>\n",
              "      <td>0.0</td>\n",
              "      <td>NaN</td>\n",
              "      <td>NaN</td>\n",
              "      <td>0.0</td>\n",
              "      <td>0.0</td>\n",
              "      <td>0.9</td>\n",
              "      <td>33.2</td>\n",
              "      <td>0.0</td>\n",
              "    </tr>\n",
              "    <tr>\n",
              "      <th>2014</th>\n",
              "      <td>84.9</td>\n",
              "      <td>90.6</td>\n",
              "      <td>70.1</td>\n",
              "      <td>96.7</td>\n",
              "      <td>88.6</td>\n",
              "      <td>87.3</td>\n",
              "      <td>91.8</td>\n",
              "      <td>74.2</td>\n",
              "      <td>79.1</td>\n",
              "      <td>78.2</td>\n",
              "      <td>101.2</td>\n",
              "      <td>94.1</td>\n",
              "      <td>76.9</td>\n",
              "      <td>66.2</td>\n",
              "      <td>79.4</td>\n",
              "      <td>78.7</td>\n",
              "      <td>89.1</td>\n",
              "      <td>81.6</td>\n",
              "      <td>81.5</td>\n",
              "      <td>55.5</td>\n",
              "      <td>85.9</td>\n",
              "      <td>72.8</td>\n",
              "      <td>69.1</td>\n",
              "      <td>83.4</td>\n",
              "      <td>79.3</td>\n",
              "      <td>80.4</td>\n",
              "      <td>79.9</td>\n",
              "      <td>73.1</td>\n",
              "      <td>33.6</td>\n",
              "      <td>41.8</td>\n",
              "      <td>64.1</td>\n",
              "      <td>46.6</td>\n",
              "      <td>58.2</td>\n",
              "      <td>47.3</td>\n",
              "      <td>30.7</td>\n",
              "      <td>29.3</td>\n",
              "      <td>32.8</td>\n",
              "      <td>42.5</td>\n",
              "      <td>24.6</td>\n",
              "      <td>25.2</td>\n",
              "      <td>...</td>\n",
              "      <td>60.5</td>\n",
              "      <td>94.5</td>\n",
              "      <td>60.6</td>\n",
              "      <td>31.2</td>\n",
              "      <td>80.1</td>\n",
              "      <td>60.2</td>\n",
              "      <td>56.4</td>\n",
              "      <td>54.2</td>\n",
              "      <td>94.7</td>\n",
              "      <td>99.3</td>\n",
              "      <td>67.7</td>\n",
              "      <td>67.2</td>\n",
              "      <td>25.5</td>\n",
              "      <td>4.7</td>\n",
              "      <td>2.5</td>\n",
              "      <td>2.1</td>\n",
              "      <td>14.1</td>\n",
              "      <td>0.0</td>\n",
              "      <td>0.0</td>\n",
              "      <td>NaN</td>\n",
              "      <td>0.0</td>\n",
              "      <td>0.0</td>\n",
              "      <td>NaN</td>\n",
              "      <td>0.0</td>\n",
              "      <td>0.0</td>\n",
              "      <td>9.4</td>\n",
              "      <td>1.3</td>\n",
              "      <td>NaN</td>\n",
              "      <td>56.1</td>\n",
              "      <td>0.0</td>\n",
              "      <td>NaN</td>\n",
              "      <td>0.0</td>\n",
              "      <td>0.0</td>\n",
              "      <td>NaN</td>\n",
              "      <td>NaN</td>\n",
              "      <td>0.0</td>\n",
              "      <td>0.0</td>\n",
              "      <td>18.9</td>\n",
              "      <td>20.5</td>\n",
              "      <td>0.0</td>\n",
              "    </tr>\n",
              "    <tr>\n",
              "      <th>2015</th>\n",
              "      <td>84.9</td>\n",
              "      <td>90.7</td>\n",
              "      <td>78.7</td>\n",
              "      <td>96.6</td>\n",
              "      <td>90.1</td>\n",
              "      <td>85.7</td>\n",
              "      <td>95.3</td>\n",
              "      <td>76.3</td>\n",
              "      <td>89.6</td>\n",
              "      <td>76.9</td>\n",
              "      <td>111.6</td>\n",
              "      <td>92.0</td>\n",
              "      <td>89.4</td>\n",
              "      <td>75.8</td>\n",
              "      <td>79.7</td>\n",
              "      <td>79.7</td>\n",
              "      <td>87.2</td>\n",
              "      <td>77.2</td>\n",
              "      <td>77.5</td>\n",
              "      <td>56.4</td>\n",
              "      <td>85.4</td>\n",
              "      <td>77.6</td>\n",
              "      <td>62.2</td>\n",
              "      <td>89.3</td>\n",
              "      <td>81.7</td>\n",
              "      <td>75.6</td>\n",
              "      <td>76.8</td>\n",
              "      <td>77.2</td>\n",
              "      <td>33.6</td>\n",
              "      <td>42.6</td>\n",
              "      <td>60.8</td>\n",
              "      <td>63.7</td>\n",
              "      <td>61.7</td>\n",
              "      <td>47.4</td>\n",
              "      <td>30.5</td>\n",
              "      <td>27.8</td>\n",
              "      <td>36.8</td>\n",
              "      <td>44.0</td>\n",
              "      <td>23.7</td>\n",
              "      <td>25.5</td>\n",
              "      <td>...</td>\n",
              "      <td>74.3</td>\n",
              "      <td>97.0</td>\n",
              "      <td>60.5</td>\n",
              "      <td>20.3</td>\n",
              "      <td>82.7</td>\n",
              "      <td>57.2</td>\n",
              "      <td>55.2</td>\n",
              "      <td>41.1</td>\n",
              "      <td>93.6</td>\n",
              "      <td>98.5</td>\n",
              "      <td>66.2</td>\n",
              "      <td>65.7</td>\n",
              "      <td>25.9</td>\n",
              "      <td>5.5</td>\n",
              "      <td>10.0</td>\n",
              "      <td>1.1</td>\n",
              "      <td>14.1</td>\n",
              "      <td>0.0</td>\n",
              "      <td>0.0</td>\n",
              "      <td>NaN</td>\n",
              "      <td>0.0</td>\n",
              "      <td>0.0</td>\n",
              "      <td>NaN</td>\n",
              "      <td>0.0</td>\n",
              "      <td>0.0</td>\n",
              "      <td>0.0</td>\n",
              "      <td>0.5</td>\n",
              "      <td>NaN</td>\n",
              "      <td>34.0</td>\n",
              "      <td>0.0</td>\n",
              "      <td>NaN</td>\n",
              "      <td>0.0</td>\n",
              "      <td>0.0</td>\n",
              "      <td>NaN</td>\n",
              "      <td>NaN</td>\n",
              "      <td>0.0</td>\n",
              "      <td>0.0</td>\n",
              "      <td>0.7</td>\n",
              "      <td>11.9</td>\n",
              "      <td>0.0</td>\n",
              "    </tr>\n",
              "    <tr>\n",
              "      <th>2016</th>\n",
              "      <td>84.9</td>\n",
              "      <td>89.4</td>\n",
              "      <td>80.1</td>\n",
              "      <td>99.7</td>\n",
              "      <td>93.7</td>\n",
              "      <td>88.7</td>\n",
              "      <td>97.7</td>\n",
              "      <td>79.0</td>\n",
              "      <td>98.5</td>\n",
              "      <td>79.7</td>\n",
              "      <td>114.6</td>\n",
              "      <td>93.9</td>\n",
              "      <td>82.5</td>\n",
              "      <td>77.0</td>\n",
              "      <td>79.2</td>\n",
              "      <td>79.7</td>\n",
              "      <td>85.0</td>\n",
              "      <td>78.2</td>\n",
              "      <td>81.1</td>\n",
              "      <td>59.7</td>\n",
              "      <td>85.4</td>\n",
              "      <td>73.8</td>\n",
              "      <td>70.1</td>\n",
              "      <td>92.5</td>\n",
              "      <td>81.8</td>\n",
              "      <td>76.6</td>\n",
              "      <td>78.4</td>\n",
              "      <td>82.0</td>\n",
              "      <td>33.6</td>\n",
              "      <td>43.4</td>\n",
              "      <td>52.6</td>\n",
              "      <td>62.3</td>\n",
              "      <td>59.2</td>\n",
              "      <td>48.4</td>\n",
              "      <td>36.1</td>\n",
              "      <td>24.6</td>\n",
              "      <td>38.2</td>\n",
              "      <td>45.5</td>\n",
              "      <td>25.4</td>\n",
              "      <td>25.8</td>\n",
              "      <td>...</td>\n",
              "      <td>71.0</td>\n",
              "      <td>97.5</td>\n",
              "      <td>64.0</td>\n",
              "      <td>29.5</td>\n",
              "      <td>84.4</td>\n",
              "      <td>59.6</td>\n",
              "      <td>58.5</td>\n",
              "      <td>64.1</td>\n",
              "      <td>92.8</td>\n",
              "      <td>100.2</td>\n",
              "      <td>62.2</td>\n",
              "      <td>66.9</td>\n",
              "      <td>24.8</td>\n",
              "      <td>3.2</td>\n",
              "      <td>0.9</td>\n",
              "      <td>0.7</td>\n",
              "      <td>16.3</td>\n",
              "      <td>0.0</td>\n",
              "      <td>0.0</td>\n",
              "      <td>NaN</td>\n",
              "      <td>0.0</td>\n",
              "      <td>0.0</td>\n",
              "      <td>NaN</td>\n",
              "      <td>0.0</td>\n",
              "      <td>0.0</td>\n",
              "      <td>0.0</td>\n",
              "      <td>0.7</td>\n",
              "      <td>NaN</td>\n",
              "      <td>81.8</td>\n",
              "      <td>0.0</td>\n",
              "      <td>NaN</td>\n",
              "      <td>0.0</td>\n",
              "      <td>0.0</td>\n",
              "      <td>NaN</td>\n",
              "      <td>NaN</td>\n",
              "      <td>0.0</td>\n",
              "      <td>0.0</td>\n",
              "      <td>20.2</td>\n",
              "      <td>15.4</td>\n",
              "      <td>0.0</td>\n",
              "    </tr>\n",
              "    <tr>\n",
              "      <th>2017</th>\n",
              "      <td>83.5</td>\n",
              "      <td>92.9</td>\n",
              "      <td>79.6</td>\n",
              "      <td>93.3</td>\n",
              "      <td>90.6</td>\n",
              "      <td>87.6</td>\n",
              "      <td>81.9</td>\n",
              "      <td>76.9</td>\n",
              "      <td>99.5</td>\n",
              "      <td>74.6</td>\n",
              "      <td>116.1</td>\n",
              "      <td>98.4</td>\n",
              "      <td>83.7</td>\n",
              "      <td>74.5</td>\n",
              "      <td>78.5</td>\n",
              "      <td>79.8</td>\n",
              "      <td>86.7</td>\n",
              "      <td>79.1</td>\n",
              "      <td>86.2</td>\n",
              "      <td>50.7</td>\n",
              "      <td>87.1</td>\n",
              "      <td>82.2</td>\n",
              "      <td>66.9</td>\n",
              "      <td>90.6</td>\n",
              "      <td>81.8</td>\n",
              "      <td>76.2</td>\n",
              "      <td>74.2</td>\n",
              "      <td>79.0</td>\n",
              "      <td>33.4</td>\n",
              "      <td>44.5</td>\n",
              "      <td>64.8</td>\n",
              "      <td>65.0</td>\n",
              "      <td>58.9</td>\n",
              "      <td>48.0</td>\n",
              "      <td>41.8</td>\n",
              "      <td>26.5</td>\n",
              "      <td>41.4</td>\n",
              "      <td>47.9</td>\n",
              "      <td>26.5</td>\n",
              "      <td>26.5</td>\n",
              "      <td>...</td>\n",
              "      <td>45.6</td>\n",
              "      <td>97.5</td>\n",
              "      <td>65.5</td>\n",
              "      <td>28.6</td>\n",
              "      <td>86.2</td>\n",
              "      <td>63.0</td>\n",
              "      <td>49.0</td>\n",
              "      <td>63.0</td>\n",
              "      <td>93.0</td>\n",
              "      <td>98.5</td>\n",
              "      <td>68.7</td>\n",
              "      <td>67.6</td>\n",
              "      <td>25.9</td>\n",
              "      <td>6.2</td>\n",
              "      <td>8.4</td>\n",
              "      <td>0.0</td>\n",
              "      <td>15.7</td>\n",
              "      <td>0.0</td>\n",
              "      <td>0.0</td>\n",
              "      <td>NaN</td>\n",
              "      <td>0.0</td>\n",
              "      <td>0.0</td>\n",
              "      <td>NaN</td>\n",
              "      <td>0.0</td>\n",
              "      <td>0.0</td>\n",
              "      <td>0.0</td>\n",
              "      <td>0.5</td>\n",
              "      <td>NaN</td>\n",
              "      <td>0.0</td>\n",
              "      <td>0.0</td>\n",
              "      <td>NaN</td>\n",
              "      <td>0.0</td>\n",
              "      <td>0.0</td>\n",
              "      <td>NaN</td>\n",
              "      <td>NaN</td>\n",
              "      <td>0.0</td>\n",
              "      <td>0.0</td>\n",
              "      <td>52.9</td>\n",
              "      <td>8.5</td>\n",
              "      <td>0.0</td>\n",
              "    </tr>\n",
              "    <tr>\n",
              "      <th>2018</th>\n",
              "      <td>84.2</td>\n",
              "      <td>95.6</td>\n",
              "      <td>63.3</td>\n",
              "      <td>97.9</td>\n",
              "      <td>85.6</td>\n",
              "      <td>86.8</td>\n",
              "      <td>99.7</td>\n",
              "      <td>86.1</td>\n",
              "      <td>91.5</td>\n",
              "      <td>72.5</td>\n",
              "      <td>116.0</td>\n",
              "      <td>92.1</td>\n",
              "      <td>93.7</td>\n",
              "      <td>67.5</td>\n",
              "      <td>79.1</td>\n",
              "      <td>80.0</td>\n",
              "      <td>77.5</td>\n",
              "      <td>80.2</td>\n",
              "      <td>82.9</td>\n",
              "      <td>48.4</td>\n",
              "      <td>87.9</td>\n",
              "      <td>88.2</td>\n",
              "      <td>66.8</td>\n",
              "      <td>88.9</td>\n",
              "      <td>77.2</td>\n",
              "      <td>81.2</td>\n",
              "      <td>76.7</td>\n",
              "      <td>74.4</td>\n",
              "      <td>31.9</td>\n",
              "      <td>42.4</td>\n",
              "      <td>59.2</td>\n",
              "      <td>54.3</td>\n",
              "      <td>57.0</td>\n",
              "      <td>46.4</td>\n",
              "      <td>31.3</td>\n",
              "      <td>37.7</td>\n",
              "      <td>39.8</td>\n",
              "      <td>50.7</td>\n",
              "      <td>31.1</td>\n",
              "      <td>26.9</td>\n",
              "      <td>...</td>\n",
              "      <td>58.2</td>\n",
              "      <td>98.3</td>\n",
              "      <td>68.8</td>\n",
              "      <td>41.4</td>\n",
              "      <td>85.7</td>\n",
              "      <td>61.8</td>\n",
              "      <td>51.3</td>\n",
              "      <td>61.1</td>\n",
              "      <td>92.7</td>\n",
              "      <td>104.0</td>\n",
              "      <td>68.6</td>\n",
              "      <td>68.5</td>\n",
              "      <td>20.9</td>\n",
              "      <td>6.7</td>\n",
              "      <td>29.6</td>\n",
              "      <td>NaN</td>\n",
              "      <td>14.6</td>\n",
              "      <td>0.0</td>\n",
              "      <td>0.0</td>\n",
              "      <td>NaN</td>\n",
              "      <td>0.0</td>\n",
              "      <td>0.0</td>\n",
              "      <td>NaN</td>\n",
              "      <td>0.0</td>\n",
              "      <td>0.0</td>\n",
              "      <td>1.3</td>\n",
              "      <td>0.7</td>\n",
              "      <td>NaN</td>\n",
              "      <td>0.0</td>\n",
              "      <td>0.0</td>\n",
              "      <td>NaN</td>\n",
              "      <td>0.0</td>\n",
              "      <td>0.0</td>\n",
              "      <td>NaN</td>\n",
              "      <td>NaN</td>\n",
              "      <td>0.0</td>\n",
              "      <td>0.0</td>\n",
              "      <td>7.3</td>\n",
              "      <td>23.8</td>\n",
              "      <td>0.0</td>\n",
              "    </tr>\n",
              "  </tbody>\n",
              "</table>\n",
              "<p>22 rows × 168 columns</p>\n",
              "</div>"
            ],
            "text/plain": [
              "waste   Paper and cardboard packaging          ... Other packaging               \n",
              "country                       Austria Belgium  ...        Slovakia United Kingdom\n",
              "year                                           ...                               \n",
              "1997                             85.0    77.5  ...             NaN            0.0\n",
              "1998                             84.3    83.1  ...             NaN            0.0\n",
              "1999                             87.7    69.7  ...             NaN            0.0\n",
              "2000                             86.9    82.1  ...             NaN            0.0\n",
              "2001                             81.4    85.8  ...             NaN            0.0\n",
              "2002                             80.0    78.4  ...             NaN            0.0\n",
              "2003                             81.5    79.2  ...             0.4            0.0\n",
              "2004                             83.2    83.4  ...             NaN            0.0\n",
              "2005                             86.4    83.3  ...             NaN            0.0\n",
              "2006                             87.0    89.1  ...             NaN            0.0\n",
              "2007                             83.5    92.0  ...             NaN            0.0\n",
              "2008                             85.4    89.4  ...             NaN            0.0\n",
              "2009                             84.8    88.0  ...            11.7            NaN\n",
              "2010                             84.5    89.8  ...             2.0            0.0\n",
              "2011                             84.5    90.4  ...             0.0            0.0\n",
              "2012                             84.9    89.8  ...            29.0            0.0\n",
              "2013                             84.3    89.1  ...            33.2            0.0\n",
              "2014                             84.9    90.6  ...            20.5            0.0\n",
              "2015                             84.9    90.7  ...            11.9            0.0\n",
              "2016                             84.9    89.4  ...            15.4            0.0\n",
              "2017                             83.5    92.9  ...             8.5            0.0\n",
              "2018                             84.2    95.6  ...            23.8            0.0\n",
              "\n",
              "[22 rows x 168 columns]"
            ]
          },
          "metadata": {},
          "execution_count": 14
        }
      ]
    },
    {
      "cell_type": "markdown",
      "metadata": {
        "id": "ThMA3a1qGN8g"
      },
      "source": [
        "# Classes"
      ]
    },
    {
      "cell_type": "markdown",
      "metadata": {
        "id": "-UY1hs-QGPgZ"
      },
      "source": [
        "## Attributes"
      ]
    },
    {
      "cell_type": "code",
      "metadata": {
        "id": "zwRKvbLoGf78"
      },
      "source": [
        "class WasteContainer():\n",
        "\n",
        "  next_id = 1001                            # class attribute\n",
        "\n",
        "  def __init__(self, package_type):\n",
        "    self.package_type = package_type        # instance attribute\n",
        "    self.id = WasteContainer.next_id        # instance attribute\n",
        "    WasteContainer.next_id += 1"
      ],
      "execution_count": null,
      "outputs": []
    },
    {
      "cell_type": "code",
      "metadata": {
        "colab": {
          "base_uri": "https://localhost:8080/"
        },
        "id": "bETvEtoH70Uc",
        "outputId": "4c4531e5-966a-44e2-dd2b-359371a5de6b"
      },
      "source": [
        "glass_container = WasteContainer('glass')\n",
        "print(f\"id: {glass_container.id}\", f\"package: {glass_container.package_type}\", sep='\\n')"
      ],
      "execution_count": null,
      "outputs": [
        {
          "output_type": "stream",
          "name": "stdout",
          "text": [
            "id: 1001\n",
            "package: glass\n"
          ]
        }
      ]
    },
    {
      "cell_type": "code",
      "metadata": {
        "colab": {
          "base_uri": "https://localhost:8080/"
        },
        "id": "zbilHkcK8olo",
        "outputId": "8e85ab52-cb74-4a3d-8bc0-111042ecbaad"
      },
      "source": [
        "metal_container = WasteContainer('metal')\n",
        "print(f\"id: {metal_container.id}\", f\"package: {metal_container.package_type}\", sep='\\n')"
      ],
      "execution_count": null,
      "outputs": [
        {
          "output_type": "stream",
          "name": "stdout",
          "text": [
            "id: 1002\n",
            "package: metal\n"
          ]
        }
      ]
    },
    {
      "cell_type": "code",
      "metadata": {
        "colab": {
          "base_uri": "https://localhost:8080/"
        },
        "id": "BwuSbAQR8Y42",
        "outputId": "88bc44aa-c70a-4011-b08a-a3f8d651d65b"
      },
      "source": [
        "WasteContainer.next_id"
      ],
      "execution_count": null,
      "outputs": [
        {
          "output_type": "execute_result",
          "data": {
            "text/plain": [
              "1003"
            ]
          },
          "metadata": {},
          "execution_count": 18
        }
      ]
    },
    {
      "cell_type": "markdown",
      "metadata": {
        "id": "F2PSLEOpESvw"
      },
      "source": [
        "### Precedence"
      ]
    },
    {
      "cell_type": "code",
      "metadata": {
        "colab": {
          "base_uri": "https://localhost:8080/"
        },
        "id": "EazJ23P9EUhv",
        "outputId": "ced2e5d7-dbce-428f-9d94-a32290e47908"
      },
      "source": [
        "WasteContainer.next_id is glass_container.next_id"
      ],
      "execution_count": null,
      "outputs": [
        {
          "output_type": "execute_result",
          "data": {
            "text/plain": [
              "True"
            ]
          },
          "metadata": {},
          "execution_count": 19
        }
      ]
    },
    {
      "cell_type": "code",
      "metadata": {
        "colab": {
          "base_uri": "https://localhost:8080/"
        },
        "id": "lDclERqXEdRP",
        "outputId": "c8cba6c6-7d3c-424e-f50c-4fad8d440a93"
      },
      "source": [
        "glass_container.next_id is metal_container.next_id"
      ],
      "execution_count": null,
      "outputs": [
        {
          "output_type": "execute_result",
          "data": {
            "text/plain": [
              "True"
            ]
          },
          "metadata": {},
          "execution_count": 20
        }
      ]
    },
    {
      "cell_type": "code",
      "metadata": {
        "colab": {
          "base_uri": "https://localhost:8080/"
        },
        "id": "HvebLqNpEilf",
        "outputId": "9799f264-c582-4d91-d2ee-463172dfd114"
      },
      "source": [
        "glass_container.next_id = 1003\n",
        "glass_container.next_id is WasteContainer.next_id"
      ],
      "execution_count": null,
      "outputs": [
        {
          "output_type": "execute_result",
          "data": {
            "text/plain": [
              "False"
            ]
          },
          "metadata": {},
          "execution_count": 21
        }
      ]
    },
    {
      "cell_type": "markdown",
      "metadata": {
        "id": "AU5pP6GZ9Rfe"
      },
      "source": [
        "## Methods"
      ]
    },
    {
      "cell_type": "code",
      "metadata": {
        "id": "OCobWswl-brr"
      },
      "source": [
        "class WasteContainer():\n",
        "\n",
        "  next_id = 1001\n",
        "\n",
        "  def __init__(self, package_type):\n",
        "    self.package_type = package_type\n",
        "    self.id = WasteContainer.next_id\n",
        "    WasteContainer.next_id += 1\n",
        "    self.kg = 0                               # instance attribute\n",
        "\n",
        "  def fill(self, weight_kg):                  # instance method\n",
        "    self.kg += weight_kg"
      ],
      "execution_count": null,
      "outputs": []
    },
    {
      "cell_type": "code",
      "metadata": {
        "colab": {
          "base_uri": "https://localhost:8080/"
        },
        "id": "0HkmBpd6-5r_",
        "outputId": "7fdcb4c4-ebca-49e0-ccb5-6a685e068311"
      },
      "source": [
        "glass_container = WasteContainer('glass')\n",
        "print(f\"id: {glass_container.id}\", f\"package: {glass_container.package_type}\", f\"weight: {glass_container.kg}\", sep='\\n')"
      ],
      "execution_count": null,
      "outputs": [
        {
          "output_type": "stream",
          "name": "stdout",
          "text": [
            "id: 1001\n",
            "package: glass\n",
            "weight: 0\n"
          ]
        }
      ]
    },
    {
      "cell_type": "code",
      "metadata": {
        "colab": {
          "base_uri": "https://localhost:8080/"
        },
        "id": "tnezkdbb_tkQ",
        "outputId": "865159ef-49e9-4b83-b8b5-6b5a5e7ab4fb"
      },
      "source": [
        "glass_container.fill(2)\n",
        "print(f\"id: {glass_container.id}\", f\"package: {glass_container.package_type}\", f\"weight: {glass_container.kg}\", sep='\\n')"
      ],
      "execution_count": null,
      "outputs": [
        {
          "output_type": "stream",
          "name": "stdout",
          "text": [
            "id: 1001\n",
            "package: glass\n",
            "weight: 2\n"
          ]
        }
      ]
    },
    {
      "cell_type": "code",
      "metadata": {
        "colab": {
          "base_uri": "https://localhost:8080/"
        },
        "id": "7fzw9In9_2ny",
        "outputId": "f1d67b97-2fb1-478c-d03b-c456c21e8fe2"
      },
      "source": [
        "glass_container.fill(5)\n",
        "print(f\"id: {glass_container.id}\", f\"package: {glass_container.package_type}\", f\"weight: {glass_container.kg}\", sep='\\n')"
      ],
      "execution_count": null,
      "outputs": [
        {
          "output_type": "stream",
          "name": "stdout",
          "text": [
            "id: 1001\n",
            "package: glass\n",
            "weight: 7\n"
          ]
        }
      ]
    },
    {
      "cell_type": "markdown",
      "metadata": {
        "id": "8YxPBU4gB8lV"
      },
      "source": [
        "### ❓ Exercise"
      ]
    },
    {
      "cell_type": "code",
      "metadata": {
        "colab": {
          "base_uri": "https://localhost:8080/",
          "height": 64
        },
        "id": "SX1ymUHRB_8r",
        "outputId": "d327d09b-bb03-4bb1-f121-a83833b417e2"
      },
      "source": [
        "md(f\"##❓ Write a method _empty(self)_ that resets the container's weight to zero.\")"
      ],
      "execution_count": null,
      "outputs": [
        {
          "output_type": "execute_result",
          "data": {
            "text/markdown": "##❓ Write a method _empty(self)_ that resets the container's weight to zero.",
            "text/plain": [
              "<IPython.core.display.Markdown object>"
            ]
          },
          "metadata": {},
          "execution_count": 26
        }
      ]
    },
    {
      "cell_type": "code",
      "metadata": {
        "id": "scSx8cYiCMGQ"
      },
      "source": [
        "class WasteContainer():\n",
        "\n",
        "  next_id = 1001\n",
        "\n",
        "  def __init__(self, package_type):\n",
        "    self.package_type = package_type\n",
        "    self.id = WasteContainer.next_id\n",
        "    WasteContainer.next_id += 1\n",
        "    self.kg = 0\n",
        "\n",
        "  def fill(self, weight_kg):\n",
        "    self.kg += weight_kg\n",
        "\n",
        "  def empty(self):\n",
        "    pass"
      ],
      "execution_count": null,
      "outputs": []
    },
    {
      "cell_type": "code",
      "metadata": {
        "colab": {
          "base_uri": "https://localhost:8080/"
        },
        "id": "O4GHhUTu_3oB",
        "outputId": "cbb295ef-eff7-4b4a-9c24-9fcf3a01da41"
      },
      "source": [
        "glass_container = WasteContainer('glass')\n",
        "print(\"-- Feed container some waste\")\n",
        "glass_container.fill(5)\n",
        "print(f\"id: {glass_container.id}\", f\"package: {glass_container.package_type}\", f\"weight: {glass_container.kg}\", sep='\\n')\n",
        "print(\"-- Empty container\")\n",
        "glass_container.empty()\n",
        "print(f\"id: {glass_container.id}\", f\"package: {glass_container.package_type}\", f\"weight: {glass_container.kg}\", sep='\\n')"
      ],
      "execution_count": null,
      "outputs": [
        {
          "output_type": "stream",
          "name": "stdout",
          "text": [
            "-- Feed container some waste\n",
            "id: 1001\n",
            "package: glass\n",
            "weight: 5\n",
            "-- Empty container\n",
            "id: 1001\n",
            "package: glass\n",
            "weight: 5\n"
          ]
        }
      ]
    },
    {
      "cell_type": "markdown",
      "metadata": {
        "id": "FHmD5f_vCwy-"
      },
      "source": [
        "## Decorators"
      ]
    },
    {
      "cell_type": "markdown",
      "metadata": {
        "id": "J-slMSWaFntK"
      },
      "source": [
        "### @classmethod"
      ]
    },
    {
      "cell_type": "code",
      "metadata": {
        "id": "Dtt0iV-PADJm"
      },
      "source": [
        "class WasteContainer():\n",
        "\n",
        "  _next_id = 1001                             # _ indicates this variable is not meant for public twiddling\n",
        "\n",
        "  @classmethod\n",
        "  def _generate_id(cls):                      # class method\n",
        "    id = cls._next_id\n",
        "    cls._next_id += 1\n",
        "    return id\n",
        "  \n",
        "  def __init__(self, package_type):\n",
        "    self.package_type = package_type\n",
        "    self.id = WasteContainer._generate_id()   # invocation of to class method\n",
        "    self.kg = 0\n",
        "\n",
        "  def fill(self, weight_kg):\n",
        "    self.kg += weight_kg\n",
        "\n",
        "  def empty(self):\n",
        "    self.kg = 0"
      ],
      "execution_count": null,
      "outputs": []
    },
    {
      "cell_type": "code",
      "metadata": {
        "colab": {
          "base_uri": "https://localhost:8080/"
        },
        "id": "w6AckPFxBeyI",
        "outputId": "bd1b8724-8ee5-4b13-d123-5cbccb700099"
      },
      "source": [
        "glass_container = WasteContainer('glass')\n",
        "print(f\"id: {glass_container.id}\", f\"package: {glass_container.package_type}\", f\"weight: {glass_container.kg}\", sep='\\n')"
      ],
      "execution_count": null,
      "outputs": [
        {
          "output_type": "stream",
          "name": "stdout",
          "text": [
            "id: 1001\n",
            "package: glass\n",
            "weight: 0\n"
          ]
        }
      ]
    },
    {
      "cell_type": "code",
      "metadata": {
        "colab": {
          "base_uri": "https://localhost:8080/"
        },
        "id": "kvgOQCMqBl57",
        "outputId": "b98c68c8-b699-4209-e824-a38f878ea9e7"
      },
      "source": [
        "metal_container = WasteContainer('metal')\n",
        "metal_container.fill(100)\n",
        "print(f\"id: {metal_container.id}\", f\"package: {metal_container.package_type}\", f\"weight: {metal_container.kg}\", sep='\\n')"
      ],
      "execution_count": null,
      "outputs": [
        {
          "output_type": "stream",
          "name": "stdout",
          "text": [
            "id: 1002\n",
            "package: metal\n",
            "weight: 100\n"
          ]
        }
      ]
    },
    {
      "cell_type": "markdown",
      "metadata": {
        "id": "sJRO9adZHNeW"
      },
      "source": [
        "### @property"
      ]
    },
    {
      "cell_type": "code",
      "metadata": {
        "colab": {
          "base_uri": "https://localhost:8080/"
        },
        "id": "OlewjJ5_HdyL",
        "outputId": "f18dd30c-4409-434c-a41d-d47acdca18ee"
      },
      "source": [
        "plastic_container = WasteContainer('plastic')\n",
        "plastic_container.fill(100)\n",
        "print(f\"id: {plastic_container.id}\", f\"package: {plastic_container.package_type}\", f\"weight: {plastic_container.kg}\", sep='\\n')"
      ],
      "execution_count": null,
      "outputs": [
        {
          "output_type": "stream",
          "name": "stdout",
          "text": [
            "id: 1003\n",
            "package: plastic\n",
            "weight: 100\n"
          ]
        }
      ]
    },
    {
      "cell_type": "code",
      "metadata": {
        "colab": {
          "base_uri": "https://localhost:8080/"
        },
        "id": "LQcD_CmKHszA",
        "outputId": "0b8220e3-92b0-4a25-a982-08647f55a2ee"
      },
      "source": [
        "plastic_container.kg = 200\n",
        "plastic_container.kg"
      ],
      "execution_count": null,
      "outputs": [
        {
          "output_type": "execute_result",
          "data": {
            "text/plain": [
              "200"
            ]
          },
          "metadata": {},
          "execution_count": 33
        }
      ]
    },
    {
      "cell_type": "code",
      "metadata": {
        "id": "GALWKc0qHaZy"
      },
      "source": [
        "class WasteContainer():\n",
        "\n",
        "  _next_id = 1001\n",
        "\n",
        "  @classmethod\n",
        "  def _generate_id(cls):\n",
        "    id = cls._next_id\n",
        "    cls._next_id += 1\n",
        "    return id\n",
        "  \n",
        "  def __init__(self, package_type):\n",
        "    self.package_type = package_type\n",
        "    self.id = WasteContainer._generate_id()\n",
        "    self._kg = 0\n",
        "\n",
        "  @property\n",
        "  def kg(self):\n",
        "    return self._kg\n",
        "\n",
        "  def fill(self, weight_kg):\n",
        "    self._kg += weight_kg\n",
        "\n",
        "  def empty(self):\n",
        "    self._kg = 0"
      ],
      "execution_count": null,
      "outputs": []
    },
    {
      "cell_type": "code",
      "metadata": {
        "id": "a0RCOwzvGzE5",
        "colab": {
          "base_uri": "https://localhost:8080/"
        },
        "outputId": "e9ff97d4-d69d-46d2-e975-73cd696d20da"
      },
      "source": [
        "plastic_container = WasteContainer('plastic')\n",
        "plastic_container.fill(100)\n",
        "print(f\"id: {plastic_container.id}\", f\"package: {plastic_container.package_type}\", f\"weight: {plastic_container.kg}\", sep='\\n')\n",
        "#plastic_container.kg = 200"
      ],
      "execution_count": null,
      "outputs": [
        {
          "output_type": "stream",
          "name": "stdout",
          "text": [
            "id: 1001\n",
            "package: plastic\n",
            "weight: 100\n"
          ]
        }
      ]
    },
    {
      "cell_type": "markdown",
      "metadata": {
        "id": "nuHqbBBBIoH_"
      },
      "source": [
        "### @property.setter"
      ]
    },
    {
      "cell_type": "code",
      "metadata": {
        "id": "H5Uk4vAgIhg-"
      },
      "source": [
        "class WasteContainer():\n",
        "\n",
        "  _next_id = 1001\n",
        "\n",
        "  @classmethod\n",
        "  def _generate_id(cls):\n",
        "    id = cls._next_id\n",
        "    cls._next_id += 1\n",
        "    return id\n",
        "  \n",
        "  def __init__(self, package_type):\n",
        "    self.package_type = package_type\n",
        "    self.id = WasteContainer._generate_id()\n",
        "    self._kg = 0\n",
        "\n",
        "  @property\n",
        "  def kg(self):\n",
        "    return self._kg\n",
        "\n",
        "  @kg.setter\n",
        "  def kg(self, weight_kg):\n",
        "    self._kg = weight_kg\n",
        "\n",
        "  def fill(self, weight_kg):\n",
        "    self._kg += weight_kg\n",
        "\n",
        "  def empty(self):\n",
        "    self._kg = 0"
      ],
      "execution_count": null,
      "outputs": []
    },
    {
      "cell_type": "code",
      "metadata": {
        "colab": {
          "base_uri": "https://localhost:8080/"
        },
        "id": "i_Nty7ZyI1jO",
        "outputId": "484277a1-c75f-4412-813e-bec1b283e551"
      },
      "source": [
        "plastic_container = WasteContainer('plastic')\n",
        "plastic_container.fill(100)\n",
        "print(f\"id: {plastic_container.id}\", f\"package: {plastic_container.package_type}\", f\"weight: {plastic_container.kg}\", sep='\\n')\n",
        "plastic_container.kg = 200\n",
        "plastic_container.kg"
      ],
      "execution_count": null,
      "outputs": [
        {
          "output_type": "stream",
          "name": "stdout",
          "text": [
            "id: 1001\n",
            "package: plastic\n",
            "weight: 100\n"
          ]
        },
        {
          "output_type": "execute_result",
          "data": {
            "text/plain": [
              "200"
            ]
          },
          "metadata": {},
          "execution_count": 37
        }
      ]
    },
    {
      "cell_type": "code",
      "metadata": {
        "id": "znawpQl-JAM1"
      },
      "source": [
        "class WasteContainer():\n",
        "\n",
        "  _next_id = 1001\n",
        "\n",
        "  @classmethod\n",
        "  def _generate_id(cls):\n",
        "    id = cls._next_id\n",
        "    cls._next_id += 1\n",
        "    return id\n",
        "  \n",
        "  def __init__(self, package_type):\n",
        "    self.package_type = package_type\n",
        "    self.id = WasteContainer._generate_id()\n",
        "    self.kg = 0\n",
        "\n",
        "  @property\n",
        "  def kg(self):\n",
        "    return self._kg\n",
        "\n",
        "  @kg.setter\n",
        "  def kg(self, weight_kg):\n",
        "    if weight_kg > 1000:\n",
        "      raise ValueError(\"Container too heavy\")\n",
        "    self._kg = weight_kg\n",
        "\n",
        "  def fill(self, weight_kg):\n",
        "    self.kg = self.kg + weight_kg\n",
        "\n",
        "  def empty(self):\n",
        "    self.kg = 0"
      ],
      "execution_count": null,
      "outputs": []
    },
    {
      "cell_type": "code",
      "metadata": {
        "colab": {
          "base_uri": "https://localhost:8080/"
        },
        "id": "LDqXUpAGJ1B8",
        "outputId": "70186f31-16ba-4091-80d7-59a7da8f2c7d"
      },
      "source": [
        "plastic_container = WasteContainer('plastic')\n",
        "plastic_container.fill(100)\n",
        "print(f\"id: {plastic_container.id}\", f\"package: {plastic_container.package_type}\", f\"weight: {plastic_container.kg}\", sep='\\n')\n",
        "plastic_container.kg = 200\n",
        "plastic_container.kg"
      ],
      "execution_count": null,
      "outputs": [
        {
          "output_type": "stream",
          "name": "stdout",
          "text": [
            "id: 1001\n",
            "package: plastic\n",
            "weight: 100\n"
          ]
        },
        {
          "output_type": "execute_result",
          "data": {
            "text/plain": [
              "200"
            ]
          },
          "metadata": {},
          "execution_count": 39
        }
      ]
    },
    {
      "cell_type": "code",
      "metadata": {
        "colab": {
          "base_uri": "https://localhost:8080/"
        },
        "id": "iQyG_2gIJ2VD",
        "outputId": "62edb060-5e4c-462e-f96a-ccb12e31f812"
      },
      "source": [
        "metal_container = WasteContainer('plastic')\n",
        "metal_container.fill(100)\n",
        "print(f\"id: {metal_container.id}\", f\"package: {metal_container.package_type}\", f\"weight: {metal_container.kg}\", sep='\\n')\n",
        "#metal_container.fill(9500)"
      ],
      "execution_count": null,
      "outputs": [
        {
          "output_type": "stream",
          "name": "stdout",
          "text": [
            "id: 1002\n",
            "package: plastic\n",
            "weight: 100\n"
          ]
        }
      ]
    },
    {
      "cell_type": "markdown",
      "metadata": {
        "id": "UTz0xUAiLUd6"
      },
      "source": [
        "### @staticmethod"
      ]
    },
    {
      "cell_type": "code",
      "metadata": {
        "id": "-n0LS2gqKqQv"
      },
      "source": [
        "class WasteContainer():\n",
        "\n",
        "  _next_id = 1001\n",
        "\n",
        "  @staticmethod\n",
        "  def _kg_to_lbs(weight_kg):\n",
        "    weight_lbs = weight_kg * 2.20462\n",
        "    return weight_lbs\n",
        "\n",
        "  @staticmethod\n",
        "  def _lbs_to_kg(weight_lbs):\n",
        "    weight_kg = weight_lbs / 2.20462\n",
        "    return weight_kg\n",
        "\n",
        "  @classmethod\n",
        "  def _generate_id(cls):\n",
        "    id = cls._next_id\n",
        "    cls._next_id += 1\n",
        "    return id\n",
        "  \n",
        "  def __init__(self, package_type):\n",
        "    self.package_type = package_type\n",
        "    self.id = WasteContainer._generate_id()\n",
        "    self.kg = 0\n",
        "\n",
        "  @property\n",
        "  def kg(self):\n",
        "    return self._kg\n",
        "\n",
        "  @kg.setter\n",
        "  def kg(self, weight_kg):\n",
        "    if weight_kg > 1000:\n",
        "      raise ValueError(\"Container too heavy\")\n",
        "    self._kg = weight_kg\n",
        "\n",
        "  def fill(self, weight_kg):\n",
        "    self.kg = self.kg + weight_kg\n",
        "\n",
        "  def empty(self):\n",
        "    self.kg = 0"
      ],
      "execution_count": null,
      "outputs": []
    },
    {
      "cell_type": "markdown",
      "metadata": {
        "id": "yMiZ1kApLMY8"
      },
      "source": [
        "### ❓ Exercise"
      ]
    },
    {
      "cell_type": "code",
      "metadata": {
        "colab": {
          "base_uri": "https://localhost:8080/",
          "height": 90
        },
        "id": "VN7dk__gLPeI",
        "outputId": "7018cac4-525b-4235-9ec8-d6b87572d7e2"
      },
      "source": [
        "md(f\"##❓ Write a property (and its setter) that allow to access and manipulate the container's weight in pounds (lbs). The weight in kg and lbs must be linked by the 1:2.20462 ratio at all times!\")"
      ],
      "execution_count": null,
      "outputs": [
        {
          "output_type": "execute_result",
          "data": {
            "text/markdown": "##❓ Write a property (and its setter) that allow to access and manipulate the container's weight in pounds (lbs). The weight in kg and lbs must be linked by the 1:2.20462 ratio at all times!",
            "text/plain": [
              "<IPython.core.display.Markdown object>"
            ]
          },
          "metadata": {},
          "execution_count": 42
        }
      ]
    },
    {
      "cell_type": "code",
      "metadata": {
        "id": "OSpolOH-Le9L"
      },
      "source": [
        "class WasteContainer():\n",
        "\n",
        "  _next_id = 1001\n",
        "\n",
        "  @staticmethod\n",
        "  def _kg_to_lbs(weight_kg):\n",
        "    weight_lbs = weight_kg * 2.20462\n",
        "    return weight_lbs\n",
        "\n",
        "  @staticmethod\n",
        "  def _lbs_to_kg(weight_lbs):\n",
        "    weight_kg = weight_lbs / 2.20462\n",
        "    return weight_kg\n",
        "\n",
        "  @classmethod\n",
        "  def _generate_id(cls):\n",
        "    id = cls._next_id\n",
        "    cls._next_id += 1\n",
        "    return id\n",
        "  \n",
        "  def __init__(self, package_type):\n",
        "    self.package_type = package_type\n",
        "    self.id = WasteContainer._generate_id()\n",
        "    self.kg = 0\n",
        "\n",
        "  @property\n",
        "  def kg(self):\n",
        "    return self._kg\n",
        "\n",
        "  @kg.setter\n",
        "  def kg(self, weight_kg):\n",
        "    if weight_kg > 1000:\n",
        "      raise ValueError(\"Container too heavy\")\n",
        "    self._kg = weight_kg\n",
        "\n",
        "  # your code goes here\n",
        "\n",
        "  def fill(self, weight_kg):\n",
        "    self.kg = self.kg + weight_kg\n",
        "\n",
        "  def empty(self):\n",
        "    self.kg = 0"
      ],
      "execution_count": null,
      "outputs": []
    },
    {
      "cell_type": "code",
      "metadata": {
        "id": "iA2XaPVYMUAY"
      },
      "source": [
        "paper_container = WasteContainer('paper')\n",
        "paper_container.fill(100)\n",
        "#print(f\"id: {paper_container.id}\", f\"package: {paper_container.package_type}\", f\"weight: {paper_container.kg:.2f} kg, {paper_container.lbs:.2f} lbs\", sep='\\n')"
      ],
      "execution_count": null,
      "outputs": []
    },
    {
      "cell_type": "code",
      "metadata": {
        "id": "_Jpn4KCSMqMK"
      },
      "source": [
        "paper_container.lbs = 500\n",
        "#print(f\"id: {paper_container.id}\", f\"package: {paper_container.package_type}\", f\"weight: {paper_container.kg:.2f} kg, {paper_container.lbs:.2f} lbs\", sep='\\n')"
      ],
      "execution_count": null,
      "outputs": []
    },
    {
      "cell_type": "markdown",
      "metadata": {
        "id": "N54KqhgiN2gh"
      },
      "source": [
        "# String Representations"
      ]
    },
    {
      "cell_type": "markdown",
      "metadata": {
        "id": "-dk6daCFQeGg"
      },
      "source": [
        "## docstring"
      ]
    },
    {
      "cell_type": "code",
      "metadata": {
        "colab": {
          "base_uri": "https://localhost:8080/"
        },
        "id": "0JsM1gwrOFui",
        "outputId": "60f80c45-cbf9-4e4a-b19f-e24baee5e7e0"
      },
      "source": [
        "help(WasteContainer)"
      ],
      "execution_count": null,
      "outputs": [
        {
          "output_type": "stream",
          "name": "stdout",
          "text": [
            "Help on class WasteContainer in module __main__:\n",
            "\n",
            "class WasteContainer(builtins.object)\n",
            " |  WasteContainer(package_type)\n",
            " |  \n",
            " |  Methods defined here:\n",
            " |  \n",
            " |  __init__(self, package_type)\n",
            " |      Initialize self.  See help(type(self)) for accurate signature.\n",
            " |  \n",
            " |  empty(self)\n",
            " |  \n",
            " |  fill(self, weight_kg)\n",
            " |  \n",
            " |  ----------------------------------------------------------------------\n",
            " |  Data descriptors defined here:\n",
            " |  \n",
            " |  __dict__\n",
            " |      dictionary for instance variables (if defined)\n",
            " |  \n",
            " |  __weakref__\n",
            " |      list of weak references to the object (if defined)\n",
            " |  \n",
            " |  kg\n",
            "\n"
          ]
        }
      ]
    },
    {
      "cell_type": "code",
      "metadata": {
        "id": "hkjIxqARQ3pG"
      },
      "source": [
        "class WasteContainer():\n",
        "  \"\"\"\n",
        "  WasteContainers can be filled with package waste of a specific type and up to a maximum weight.\n",
        "  \"\"\"\n",
        "\n",
        "  _next_id = 1001\n",
        "\n",
        "  @staticmethod\n",
        "  def _kg_to_lbs(weight_kg):\n",
        "    weight_lbs = weight_kg * 2.20462\n",
        "    return weight_lbs\n",
        "\n",
        "  @staticmethod\n",
        "  def _lbs_to_kg(weight_lbs):\n",
        "    weight_kg = weight_lbs / 2.20462\n",
        "    return weight_kg\n",
        "\n",
        "  @classmethod\n",
        "  def _generate_id(cls):\n",
        "    id = cls._next_id\n",
        "    cls._next_id += 1\n",
        "    return id\n",
        "  \n",
        "  def __init__(self, package_type):\n",
        "    \"\"\"\n",
        "    The type of package waste is specified at initialization.\n",
        "    \"\"\"\n",
        "    self.package_type = package_type\n",
        "    self.id = WasteContainer._generate_id()\n",
        "    self.kg = 0\n",
        "\n",
        "  @property\n",
        "  def kg(self):\n",
        "    \"\"\"\n",
        "    The weight of waste, in kilogramms.\n",
        "    \"\"\"\n",
        "    return self._kg\n",
        "\n",
        "  @kg.setter\n",
        "  def kg(self, weight_kg):\n",
        "    if weight_kg > 1000:\n",
        "      raise ValueError(\"Container too heavy\")\n",
        "    self._kg = weight_kg\n",
        "\n",
        "  @property\n",
        "  def lbs(self):\n",
        "    \"\"\"\n",
        "    The weight of waste, in pounds.\n",
        "    \"\"\"\n",
        "    return WasteContainer._kg_to_lbs(self.kg)\n",
        "\n",
        "  @lbs.setter\n",
        "  def lbs(self, weight_lbs):\n",
        "    self.kg = WasteContainer._lbs_to_kg(weight_lbs)\n",
        "\n",
        "  def fill(self, weight_kg):\n",
        "    '''\n",
        "    Add weight_kg kilograms of waste to the container.\n",
        "    '''\n",
        "    self.kg = self.kg + weight_kg\n",
        "\n",
        "  def empty(self):\n",
        "    '''\n",
        "    Emptying the container resets its weight to zero.\n",
        "    '''\n",
        "    self.kg = 0"
      ],
      "execution_count": null,
      "outputs": []
    },
    {
      "cell_type": "code",
      "metadata": {
        "colab": {
          "base_uri": "https://localhost:8080/"
        },
        "id": "TpglfUeuSBbB",
        "outputId": "1b3d9ac7-4e75-49ce-bb99-d4f880448299"
      },
      "source": [
        "help(WasteContainer)"
      ],
      "execution_count": null,
      "outputs": [
        {
          "output_type": "stream",
          "name": "stdout",
          "text": [
            "Help on class WasteContainer in module __main__:\n",
            "\n",
            "class WasteContainer(builtins.object)\n",
            " |  WasteContainer(package_type)\n",
            " |  \n",
            " |  WasteContainers can be filled with package waste of a specific type and up to a maximum weight.\n",
            " |  \n",
            " |  Methods defined here:\n",
            " |  \n",
            " |  __init__(self, package_type)\n",
            " |      The type of package waste is specified at initialization.\n",
            " |  \n",
            " |  empty(self)\n",
            " |      Emptying the container resets its weight to zero.\n",
            " |  \n",
            " |  fill(self, weight_kg)\n",
            " |      Add weight_kg kilograms of waste to the container.\n",
            " |  \n",
            " |  ----------------------------------------------------------------------\n",
            " |  Data descriptors defined here:\n",
            " |  \n",
            " |  __dict__\n",
            " |      dictionary for instance variables (if defined)\n",
            " |  \n",
            " |  __weakref__\n",
            " |      list of weak references to the object (if defined)\n",
            " |  \n",
            " |  kg\n",
            " |      The weight of waste, in kilogramms.\n",
            " |  \n",
            " |  lbs\n",
            " |      The weight of waste, in pounds.\n",
            "\n"
          ]
        }
      ]
    },
    {
      "cell_type": "markdown",
      "metadata": {
        "id": "DpzM1y4ZLfSO"
      },
      "source": [
        "## repr"
      ]
    },
    {
      "cell_type": "code",
      "metadata": {
        "colab": {
          "base_uri": "https://localhost:8080/"
        },
        "id": "37B_17xWLhZ2",
        "outputId": "d65ce694-50a7-4051-a7ca-fbba059b34f3"
      },
      "source": [
        "paper_container = WasteContainer('paper')\n",
        "paper_container.fill(100)\n",
        "paper_container"
      ],
      "execution_count": null,
      "outputs": [
        {
          "output_type": "execute_result",
          "data": {
            "text/plain": [
              "<__main__.WasteContainer at 0x7fafcc3c1890>"
            ]
          },
          "metadata": {},
          "execution_count": 49
        }
      ]
    },
    {
      "cell_type": "code",
      "metadata": {
        "id": "NWrDrAyHN_v_"
      },
      "source": [
        "class PrintableWasteContainer(WasteContainer):\n",
        "  def __repr__(self):\n",
        "    return f\"WasteContainer(id: {self.id}, package_type: {self.package_type}, kg: {self.kg})\""
      ],
      "execution_count": null,
      "outputs": []
    },
    {
      "cell_type": "code",
      "metadata": {
        "colab": {
          "base_uri": "https://localhost:8080/"
        },
        "id": "2YFny75YLq5J",
        "outputId": "891673ff-21b5-4d70-a8cf-29907e888892"
      },
      "source": [
        "paper_container = PrintableWasteContainer('paper')\n",
        "paper_container.fill(100)\n",
        "paper_container"
      ],
      "execution_count": null,
      "outputs": [
        {
          "output_type": "execute_result",
          "data": {
            "text/plain": [
              "WasteContainer(id: 1002, package_type: paper, kg: 100)"
            ]
          },
          "metadata": {},
          "execution_count": 51
        }
      ]
    },
    {
      "cell_type": "markdown",
      "metadata": {
        "id": "YiSmoX_VOs6v"
      },
      "source": [
        "## str"
      ]
    },
    {
      "cell_type": "code",
      "metadata": {
        "colab": {
          "base_uri": "https://localhost:8080/"
        },
        "id": "hvj_jOXBOvK1",
        "outputId": "8517c7a2-8f8a-4d5b-a8ee-b2b8e04372b6"
      },
      "source": [
        "paper_container = PrintableWasteContainer('paper')\n",
        "paper_container.fill(950)\n",
        "print(paper_container, 'needs to be emptied soon')"
      ],
      "execution_count": null,
      "outputs": [
        {
          "output_type": "stream",
          "name": "stdout",
          "text": [
            "WasteContainer(id: 1003, package_type: paper, kg: 950) needs to be emptied soon\n"
          ]
        }
      ]
    },
    {
      "cell_type": "code",
      "metadata": {
        "id": "hxV-iu1HPZSn"
      },
      "source": [
        "class PrintableWasteContainer(WasteContainer):\n",
        "  def __repr__(self):\n",
        "    return f\"WasteContainer(id: {self.id}, package_type: {self.package_type}, kg: {self.kg})\"\n",
        "\n",
        "  def __str__(self):\n",
        "    return f\"Container #{self.id} holding {self.kg:.0f} kg of {self.package_type}\""
      ],
      "execution_count": null,
      "outputs": []
    },
    {
      "cell_type": "code",
      "metadata": {
        "colab": {
          "base_uri": "https://localhost:8080/"
        },
        "id": "dIzf6hzpPpoD",
        "outputId": "71fc51e9-9db3-40ce-83d7-5645e5e403e3"
      },
      "source": [
        "paper_container = PrintableWasteContainer('paper')\n",
        "paper_container.fill(950)\n",
        "print(paper_container, 'needs to be emptied soon')"
      ],
      "execution_count": null,
      "outputs": [
        {
          "output_type": "stream",
          "name": "stdout",
          "text": [
            "Container #1004 holding 950 kg of paper needs to be emptied soon\n"
          ]
        }
      ]
    },
    {
      "cell_type": "markdown",
      "metadata": {
        "id": "aiPrTGMjQQn7"
      },
      "source": [
        "## format"
      ]
    },
    {
      "cell_type": "code",
      "metadata": {
        "id": "dfXQaTwpQSwW"
      },
      "source": [
        "class PrintableWasteContainer(WasteContainer):\n",
        "  def __repr__(self):\n",
        "    return f\"WasteContainer(id: {self.id}, package_type: {self.package_type}, kg: {self.kg})\"\n",
        "\n",
        "  def __str__(self):\n",
        "    return f\"Container #{self.id} holding {self.kg:.0f} kg of {self.package_type}\"\n",
        "\n",
        "  def __format__(self, format_spec):\n",
        "    if format_spec == 'lbs':\n",
        "      return f\"Container #{self.id} holding {self.lbs:.0f} lbs of {self.package_type}\"\n",
        "    else:\n",
        "      return f\"Container #{self.id} holding {self.kg:.0f} kg of {self.package_type}\""
      ],
      "execution_count": null,
      "outputs": []
    },
    {
      "cell_type": "code",
      "metadata": {
        "colab": {
          "base_uri": "https://localhost:8080/"
        },
        "id": "O6RFZ1G_Q7jt",
        "outputId": "e728de29-b60b-45da-e7de-9abfb2804e9f"
      },
      "source": [
        "paper_container = PrintableWasteContainer('paper')\n",
        "paper_container.fill(950)\n",
        "print(f\"{paper_container} needs to be emptied soon\")\n",
        "print(f\"{paper_container:lbs} needs to be emptied soon\")"
      ],
      "execution_count": null,
      "outputs": [
        {
          "output_type": "stream",
          "name": "stdout",
          "text": [
            "Container #1005 holding 950 kg of paper needs to be emptied soon\n",
            "Container #1005 holding 2094 lbs of paper needs to be emptied soon\n"
          ]
        }
      ]
    },
    {
      "cell_type": "markdown",
      "metadata": {
        "id": "0Uy2n-FITEAF"
      },
      "source": [
        "# Inheritance"
      ]
    },
    {
      "cell_type": "code",
      "metadata": {
        "id": "tJS-6sjzW2E6",
        "colab": {
          "base_uri": "https://localhost:8080/"
        },
        "outputId": "aad2ffb0-0a7d-4bff-f0cc-7d2f7a142d76"
      },
      "source": [
        "help(PrintableWasteContainer)"
      ],
      "execution_count": null,
      "outputs": [
        {
          "output_type": "stream",
          "name": "stdout",
          "text": [
            "Help on class PrintableWasteContainer in module __main__:\n",
            "\n",
            "class PrintableWasteContainer(WasteContainer)\n",
            " |  PrintableWasteContainer(package_type)\n",
            " |  \n",
            " |  WasteContainers can be filled with package waste of a specific type and up to a maximum weight.\n",
            " |  \n",
            " |  Method resolution order:\n",
            " |      PrintableWasteContainer\n",
            " |      WasteContainer\n",
            " |      builtins.object\n",
            " |  \n",
            " |  Methods defined here:\n",
            " |  \n",
            " |  __format__(self, format_spec)\n",
            " |      Default object formatter.\n",
            " |  \n",
            " |  __repr__(self)\n",
            " |      Return repr(self).\n",
            " |  \n",
            " |  __str__(self)\n",
            " |      Return str(self).\n",
            " |  \n",
            " |  ----------------------------------------------------------------------\n",
            " |  Methods inherited from WasteContainer:\n",
            " |  \n",
            " |  __init__(self, package_type)\n",
            " |      The type of package waste is specified at initialization.\n",
            " |  \n",
            " |  empty(self)\n",
            " |      Emptying the container resets its weight to zero.\n",
            " |  \n",
            " |  fill(self, weight_kg)\n",
            " |      Add weight_kg kilograms of waste to the container.\n",
            " |  \n",
            " |  ----------------------------------------------------------------------\n",
            " |  Data descriptors inherited from WasteContainer:\n",
            " |  \n",
            " |  __dict__\n",
            " |      dictionary for instance variables (if defined)\n",
            " |  \n",
            " |  __weakref__\n",
            " |      list of weak references to the object (if defined)\n",
            " |  \n",
            " |  kg\n",
            " |      The weight of waste, in kilogramms.\n",
            " |  \n",
            " |  lbs\n",
            " |      The weight of waste, in pounds.\n",
            "\n"
          ]
        }
      ]
    },
    {
      "cell_type": "code",
      "metadata": {
        "id": "fNu6nlQRTXSG"
      },
      "source": [
        "class GlassContainer(PrintableWasteContainer):\n",
        "\n",
        "  def __init__(self, glass_color):\n",
        "    self._glass_color = glass_color\n",
        "    super().__init__('glass')\n",
        "\n",
        "  @property\n",
        "  def glass_color(self):\n",
        "    return self._glass_color"
      ],
      "execution_count": null,
      "outputs": []
    },
    {
      "cell_type": "code",
      "metadata": {
        "colab": {
          "base_uri": "https://localhost:8080/"
        },
        "id": "TNVVN2XHT4a9",
        "outputId": "3407051e-fb90-438b-8661-53e4a46df1a5"
      },
      "source": [
        "glass_container = GlassContainer('green')\n",
        "glass_container"
      ],
      "execution_count": null,
      "outputs": [
        {
          "output_type": "execute_result",
          "data": {
            "text/plain": [
              "WasteContainer(id: 1006, package_type: glass, kg: 0)"
            ]
          },
          "metadata": {},
          "execution_count": 59
        }
      ]
    },
    {
      "cell_type": "code",
      "metadata": {
        "colab": {
          "base_uri": "https://localhost:8080/",
          "height": 34
        },
        "id": "ffXVTEXMUkpM",
        "outputId": "b671c0aa-ec47-43e6-9ac9-eaa47b9ae2c6"
      },
      "source": [
        "type(glass_container).__name__"
      ],
      "execution_count": null,
      "outputs": [
        {
          "output_type": "execute_result",
          "data": {
            "application/vnd.google.colaboratory.intrinsic+json": {
              "type": "string"
            },
            "text/plain": [
              "'GlassContainer'"
            ]
          },
          "metadata": {},
          "execution_count": 60
        }
      ]
    },
    {
      "cell_type": "code",
      "metadata": {
        "id": "31sfSXmnT7br"
      },
      "source": [
        "class PrintableWasteContainer(WasteContainer):\n",
        "  def __repr__(self):\n",
        "    #return f\"{WasteContainer}(id: {self.id}, package_type: {self.package_type}, kg: {self.kg})\"\n",
        "    return f\"{type(self).__name__}(id: {self.id}, package_type: {self.package_type}, kg: {self.kg})\"\n",
        "\n",
        "  def __str__(self):\n",
        "    return f\"Container #{self.id} holding {self.kg:.0f} kg of {self.package_type}\"\n",
        "\n",
        "  def __format__(self, format_spec):\n",
        "    if format_spec == 'lbs':\n",
        "      return f\"Container #{self.id} holding {self.lbs:.0f} lbs of {self.package_type}\"\n",
        "    else:\n",
        "      return f\"Container #{self.id} holding {self.kg:.0f} kg of {self.package_type}\""
      ],
      "execution_count": null,
      "outputs": []
    },
    {
      "cell_type": "code",
      "metadata": {
        "colab": {
          "base_uri": "https://localhost:8080/"
        },
        "id": "p1IsD1IkVJQA",
        "outputId": "f8246338-5824-403e-a65f-4d1723b11c83"
      },
      "source": [
        "glass_container = GlassContainer('green')\n",
        "glass_container"
      ],
      "execution_count": null,
      "outputs": [
        {
          "output_type": "execute_result",
          "data": {
            "text/plain": [
              "WasteContainer(id: 1007, package_type: glass, kg: 0)"
            ]
          },
          "metadata": {},
          "execution_count": 62
        }
      ]
    },
    {
      "cell_type": "code",
      "metadata": {
        "colab": {
          "base_uri": "https://localhost:8080/"
        },
        "id": "SBdy8gIcVLTf",
        "outputId": "5d1469c6-0be4-4161-e30d-e161a432f126"
      },
      "source": [
        "waste_container = PrintableWasteContainer('glass')\n",
        "waste_container"
      ],
      "execution_count": null,
      "outputs": [
        {
          "output_type": "execute_result",
          "data": {
            "text/plain": [
              "PrintableWasteContainer(id: 1008, package_type: glass, kg: 0)"
            ]
          },
          "metadata": {},
          "execution_count": 63
        }
      ]
    },
    {
      "cell_type": "code",
      "metadata": {
        "colab": {
          "base_uri": "https://localhost:8080/"
        },
        "id": "3For8q15VY25",
        "outputId": "6ea55407-9519-4ee3-8d84-a7df3b2ce420"
      },
      "source": [
        "print(glass_container.glass_color)\n",
        "#print(waste_container.glass_color)"
      ],
      "execution_count": null,
      "outputs": [
        {
          "output_type": "stream",
          "name": "stdout",
          "text": [
            "green\n"
          ]
        }
      ]
    },
    {
      "cell_type": "markdown",
      "metadata": {
        "id": "OFzvXrwCWTl2"
      },
      "source": [
        "### ❓ Exercise"
      ]
    },
    {
      "cell_type": "code",
      "metadata": {
        "colab": {
          "base_uri": "https://localhost:8080/",
          "height": 64
        },
        "id": "SNKOTDH7WQNi",
        "outputId": "852c27a2-fced-4f8a-b69a-311045b6664c"
      },
      "source": [
        "md(f\"##❓ Override the __str__() function of GlassContainer, to indicate the color of the glass!\")"
      ],
      "execution_count": null,
      "outputs": [
        {
          "output_type": "execute_result",
          "data": {
            "text/markdown": "##❓ Override the __str__() function of GlassContainer, to indicate the color of the glass!",
            "text/plain": [
              "<IPython.core.display.Markdown object>"
            ]
          },
          "metadata": {},
          "execution_count": 65
        }
      ]
    },
    {
      "cell_type": "code",
      "metadata": {
        "id": "OC9HWGELWTC1"
      },
      "source": [
        ""
      ],
      "execution_count": null,
      "outputs": []
    }
  ]
}