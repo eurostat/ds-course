{
  "nbformat": 4,
  "nbformat_minor": 0,
  "metadata": {
    "kernelspec": {
      "display_name": "Python 3 (ipykernel)",
      "language": "python",
      "name": "python3"
    },
    "language_info": {
      "codemirror_mode": {
        "name": "ipython",
        "version": 3
      },
      "file_extension": ".py",
      "mimetype": "text/x-python",
      "name": "python",
      "nbconvert_exporter": "python",
      "pygments_lexer": "ipython3",
      "version": "3.8.10"
    },
    "toc": {
      "base_numbering": 1,
      "nav_menu": {},
      "number_sections": true,
      "sideBar": true,
      "skip_h1_title": false,
      "title_cell": "Table of Contents",
      "title_sidebar": "Contents",
      "toc_cell": false,
      "toc_position": {},
      "toc_section_display": true,
      "toc_window_display": true
    },
    "colab": {
      "name": "13-InsightsCommunication_part4.ipynb",
      "provenance": []
    }
  },
  "cells": [
    {
      "cell_type": "markdown",
      "metadata": {
        "id": "q9qwUj-xcvh3"
      },
      "source": [
        "# Installs"
      ]
    },
    {
      "cell_type": "markdown",
      "metadata": {
        "id": "0qkFNMD8cviK"
      },
      "source": [
        "## Papermill"
      ]
    },
    {
      "cell_type": "code",
      "metadata": {
        "id": "-4T6cZzDcviQ",
        "outputId": "249bf0a7-6c53-4ad9-b228-4e2a6f5106d5"
      },
      "source": [
        "%%html\n",
        "<iframe src=\"https://papermill.readthedocs.io/en/latest/\" width=\"1000\" height=\"600\"></iframe>"
      ],
      "execution_count": null,
      "outputs": [
        {
          "data": {
            "text/html": [
              "<iframe src=\"https://papermill.readthedocs.io/en/latest/\" width=\"1000\" height=\"600\"></iframe>\n"
            ],
            "text/plain": [
              "<IPython.core.display.HTML object>"
            ]
          },
          "metadata": {},
          "output_type": "display_data"
        }
      ]
    },
    {
      "cell_type": "code",
      "metadata": {
        "id": "hEepsxv-cvia",
        "outputId": "9cc76ce3-586f-4972-ebe2-d127e2bdc90c"
      },
      "source": [
        "#!conda install papermill"
      ],
      "execution_count": null,
      "outputs": [
        {
          "name": "stdout",
          "output_type": "stream",
          "text": [
            "Collecting package metadata (current_repodata.json): ...working... done\n",
            "Solving environment: ...working... done\n",
            "\n",
            "# All requested packages already installed.\n",
            "\n"
          ]
        }
      ]
    },
    {
      "cell_type": "markdown",
      "metadata": {
        "id": "IWmPF-cbcvid"
      },
      "source": [
        "## Unofficial Jupyter Notebook Extensions"
      ]
    },
    {
      "cell_type": "code",
      "metadata": {
        "id": "POYO1E-wcvig",
        "outputId": "580e1347-33a1-43c1-9d33-dda4c3949f15"
      },
      "source": [
        "%%html\n",
        "<iframe src=\"https://jupyter-contrib-nbextensions.readthedocs.io/en/latest/\" width=\"1000\" height=\"600\"></iframe>"
      ],
      "execution_count": null,
      "outputs": [
        {
          "data": {
            "text/html": [
              "<iframe src=\"https://jupyter-contrib-nbextensions.readthedocs.io/en/latest/\" width=\"1000\" height=\"600\"></iframe>\n"
            ],
            "text/plain": [
              "<IPython.core.display.HTML object>"
            ]
          },
          "metadata": {},
          "output_type": "display_data"
        }
      ]
    },
    {
      "cell_type": "code",
      "metadata": {
        "id": "DMtuV6Wqcvik",
        "outputId": "1dde56ed-c675-45db-8b4f-f5c48dfc7164"
      },
      "source": [
        "#!conda install jupyter_contrib_nbextensions"
      ],
      "execution_count": null,
      "outputs": [
        {
          "name": "stdout",
          "output_type": "stream",
          "text": [
            "Collecting package metadata (current_repodata.json): ...working... done\n",
            "Solving environment: ...working... done\n",
            "\n",
            "# All requested packages already installed.\n",
            "\n"
          ]
        }
      ]
    },
    {
      "cell_type": "code",
      "metadata": {
        "id": "Umy5qbrucvim"
      },
      "source": [
        "import os\n",
        "import papermill as pm\n",
        "import subprocess\n",
        "import shlex"
      ],
      "execution_count": null,
      "outputs": []
    },
    {
      "cell_type": "code",
      "metadata": {
        "id": "tJm4oawYcviq"
      },
      "source": [
        "countries_names = {'AT':'Austria', 'BE':'Belgium', 'BG':'Bulgaria', 'CY': 'Cyprus', \n",
        "                   'CZ': 'Czechia', 'DE': 'Germany', 'DK': 'Denmark', 'EE':'Estonia', \n",
        "                   'EL': 'Greece', 'ES':'Spain', 'FI':'Finland', 'FR':'France', \n",
        "                   'HR':'Croatia', 'HU':'Hungary', 'IE':'Ireland', 'IT':'Italy', \n",
        "                   'LT':'Lithuania', 'LU':'Luxembourg', 'LV':'Latvia', 'MT': 'Malta', \n",
        "                   'NL':'Netherlands', 'PL':'Poland', 'PT':'Portugal', 'RO':'Romania', \n",
        "                   'SE':'Sweden', 'SI':'Slovenia', 'SK':'Slovakia', 'UK':'United Kingdom'}"
      ],
      "execution_count": null,
      "outputs": []
    },
    {
      "cell_type": "code",
      "metadata": {
        "id": "ihlh0qIwcviy",
        "outputId": "15c4eb20-32fb-4f44-a908-90379c3f83e5"
      },
      "source": [
        "countries = list(countries_names.keys())\n",
        "print(len(countries), f\"countr{'ies' if len(countries)>1 else 'y'}\")"
      ],
      "execution_count": null,
      "outputs": [
        {
          "name": "stdout",
          "output_type": "stream",
          "text": [
            "28 countries\n"
          ]
        }
      ]
    },
    {
      "cell_type": "markdown",
      "metadata": {
        "id": "aNEm210Ecvi2"
      },
      "source": [
        "# Batch Report Generation"
      ]
    },
    {
      "cell_type": "markdown",
      "metadata": {
        "id": "Z3ZiSlj5cvi6"
      },
      "source": [
        "## First Version"
      ]
    },
    {
      "cell_type": "code",
      "metadata": {
        "id": "SExDkUU2cvi9",
        "outputId": "5f3b6d50-3880-4b6b-b66a-d3a83473d623",
        "colab": {
          "referenced_widgets": [
            "743b86b68e024314bd477b26abce80e2"
          ]
        }
      },
      "source": [
        "%%time\n",
        "for country in countries:\n",
        "    print(country)\n",
        "    pm.execute_notebook(\n",
        "       '11-InsightsCommunication_part2.ipynb',\n",
        "       '{}.ipynb'.format(countries_names[country]),\n",
        "       parameters=dict(country=country)\n",
        "    )\n",
        "    subprocess.call(shlex.split('jupyter trust %s.ipynb' % countries_names[country]))\n",
        "    subprocess.call(shlex.split('jupyter nbconvert %s.ipynb --no-input --to pdf --output %s' % (countries_names[country], countries_names[country])))"
      ],
      "execution_count": null,
      "outputs": [
        {
          "name": "stdout",
          "output_type": "stream",
          "text": [
            "IT\n"
          ]
        },
        {
          "data": {
            "application/vnd.jupyter.widget-view+json": {
              "model_id": "743b86b68e024314bd477b26abce80e2",
              "version_major": 2,
              "version_minor": 0
            },
            "text/plain": [
              "Executing:   0%|          | 0/49 [00:00<?, ?cell/s]"
            ]
          },
          "metadata": {},
          "output_type": "display_data"
        },
        {
          "name": "stdout",
          "output_type": "stream",
          "text": [
            "Wall time: 27.7 s\n"
          ]
        }
      ]
    },
    {
      "cell_type": "markdown",
      "metadata": {
        "id": "wexS41mEcvjB"
      },
      "source": [
        "- Markdown looks stylish, printed text looks geeky.\n",
        "- Where is the map?\n",
        "- The Tables aren't very appealing.\n",
        "- Let's declutter!"
      ]
    },
    {
      "cell_type": "markdown",
      "metadata": {
        "id": "5DQTUJ6pcvjE"
      },
      "source": [
        "## Tidy Version"
      ]
    },
    {
      "cell_type": "code",
      "metadata": {
        "id": "6MNg693PcvjG",
        "outputId": "f1750f48-2551-480f-ae4a-53e4c887ff8a",
        "colab": {
          "referenced_widgets": [
            "a163ebd09cc2440c9fcf1218bb6bf941",
            "6b3671020db547cbb0f8bb4610cec5c7",
            "15cdaebb94e549f2a5db1ea8989d0db2",
            "ce81c3bee3dc4cdeb155d5b3b46ebf17",
            "91dd481fad074a19811e64cd0582007c",
            "47c97d8e366348f6945f23ffdfff115a",
            "72c530e3be4a4c688bfd16e4d7d4205d",
            "2ed43d170181446181315a2f326ee25b",
            "a088af2c9f494235a9796c2834dbdf44",
            "512d082c0ad449979b21ecac9e54d773",
            "6963be9f7df34f8a856ec7e08212533b",
            "32dc8b1d5da249299cdc18c8a78cac03",
            "f4c74d8fa63043fd9e15acca7cd67fbc",
            "650f82d76bc9458c9abbb28f5dc177ad",
            "ce711f91a92446a6aca6c9ef05f82d24",
            "d5f8471e5a504c12ae63d2e388d3dd02",
            "47f04623e1d14505bf45bc1086f747f0",
            "9ce09a4dcc4a4eb58692b707d56aba9f",
            "d14eb43899814f18b066a1c158e62538",
            "988d383a9a7b48dc9f67a3cb26d588f8",
            "17b4d9333d6847059b142729d74f888f",
            "51a73c9b92f44302ba3b1dfecb4747e0",
            "c5b8df9259984bf790a14cbd52117ad2",
            "cfa9c031591248679d19c76fa90b7a4e",
            "aff1f818810c4db48b8d9745c0e2beb3",
            "26d300d3adf44584bf78c00f0d5835f7",
            "4affff29e06942388c687071f88e519e",
            "9a67a923a3db4326bc892ba61f9d2cbf"
          ]
        }
      },
      "source": [
        "%%time\n",
        "for country in countries:\n",
        "    print(country)\n",
        "    pm.execute_notebook(\n",
        "       '14-InsightsCommunication_part5.ipynb',\n",
        "       '{}.ipynb'.format(countries_names[country]),\n",
        "       parameters=dict(country=country, debug=False)\n",
        "    )\n",
        "    subprocess.call(shlex.split('jupyter trust %s.ipynb' % countries_names[country]))\n",
        "    subprocess.call(shlex.split('jupyter nbconvert %s.ipynb --no-input --to pdf --output %s' % (countries_names[country], countries_names[country])))"
      ],
      "execution_count": null,
      "outputs": [
        {
          "name": "stdout",
          "output_type": "stream",
          "text": [
            "AT\n"
          ]
        },
        {
          "data": {
            "application/vnd.jupyter.widget-view+json": {
              "model_id": "a163ebd09cc2440c9fcf1218bb6bf941",
              "version_major": 2,
              "version_minor": 0
            },
            "text/plain": [
              "Executing:   0%|          | 0/59 [00:00<?, ?cell/s]"
            ]
          },
          "metadata": {},
          "output_type": "display_data"
        },
        {
          "name": "stdout",
          "output_type": "stream",
          "text": [
            "BE\n"
          ]
        },
        {
          "data": {
            "application/vnd.jupyter.widget-view+json": {
              "model_id": "6b3671020db547cbb0f8bb4610cec5c7",
              "version_major": 2,
              "version_minor": 0
            },
            "text/plain": [
              "Executing:   0%|          | 0/59 [00:00<?, ?cell/s]"
            ]
          },
          "metadata": {},
          "output_type": "display_data"
        },
        {
          "name": "stdout",
          "output_type": "stream",
          "text": [
            "BG\n"
          ]
        },
        {
          "data": {
            "application/vnd.jupyter.widget-view+json": {
              "model_id": "15cdaebb94e549f2a5db1ea8989d0db2",
              "version_major": 2,
              "version_minor": 0
            },
            "text/plain": [
              "Executing:   0%|          | 0/59 [00:00<?, ?cell/s]"
            ]
          },
          "metadata": {},
          "output_type": "display_data"
        },
        {
          "name": "stdout",
          "output_type": "stream",
          "text": [
            "CY\n"
          ]
        },
        {
          "data": {
            "application/vnd.jupyter.widget-view+json": {
              "model_id": "ce81c3bee3dc4cdeb155d5b3b46ebf17",
              "version_major": 2,
              "version_minor": 0
            },
            "text/plain": [
              "Executing:   0%|          | 0/59 [00:00<?, ?cell/s]"
            ]
          },
          "metadata": {},
          "output_type": "display_data"
        },
        {
          "name": "stdout",
          "output_type": "stream",
          "text": [
            "CZ\n"
          ]
        },
        {
          "data": {
            "application/vnd.jupyter.widget-view+json": {
              "model_id": "91dd481fad074a19811e64cd0582007c",
              "version_major": 2,
              "version_minor": 0
            },
            "text/plain": [
              "Executing:   0%|          | 0/59 [00:00<?, ?cell/s]"
            ]
          },
          "metadata": {},
          "output_type": "display_data"
        },
        {
          "name": "stdout",
          "output_type": "stream",
          "text": [
            "DE\n"
          ]
        },
        {
          "data": {
            "application/vnd.jupyter.widget-view+json": {
              "model_id": "47c97d8e366348f6945f23ffdfff115a",
              "version_major": 2,
              "version_minor": 0
            },
            "text/plain": [
              "Executing:   0%|          | 0/59 [00:00<?, ?cell/s]"
            ]
          },
          "metadata": {},
          "output_type": "display_data"
        },
        {
          "name": "stdout",
          "output_type": "stream",
          "text": [
            "DK\n"
          ]
        },
        {
          "data": {
            "application/vnd.jupyter.widget-view+json": {
              "model_id": "72c530e3be4a4c688bfd16e4d7d4205d",
              "version_major": 2,
              "version_minor": 0
            },
            "text/plain": [
              "Executing:   0%|          | 0/59 [00:00<?, ?cell/s]"
            ]
          },
          "metadata": {},
          "output_type": "display_data"
        },
        {
          "name": "stdout",
          "output_type": "stream",
          "text": [
            "EE\n"
          ]
        },
        {
          "data": {
            "application/vnd.jupyter.widget-view+json": {
              "model_id": "2ed43d170181446181315a2f326ee25b",
              "version_major": 2,
              "version_minor": 0
            },
            "text/plain": [
              "Executing:   0%|          | 0/59 [00:00<?, ?cell/s]"
            ]
          },
          "metadata": {},
          "output_type": "display_data"
        },
        {
          "name": "stdout",
          "output_type": "stream",
          "text": [
            "EL\n"
          ]
        },
        {
          "data": {
            "application/vnd.jupyter.widget-view+json": {
              "model_id": "a088af2c9f494235a9796c2834dbdf44",
              "version_major": 2,
              "version_minor": 0
            },
            "text/plain": [
              "Executing:   0%|          | 0/59 [00:00<?, ?cell/s]"
            ]
          },
          "metadata": {},
          "output_type": "display_data"
        },
        {
          "name": "stdout",
          "output_type": "stream",
          "text": [
            "ES\n"
          ]
        },
        {
          "data": {
            "application/vnd.jupyter.widget-view+json": {
              "model_id": "512d082c0ad449979b21ecac9e54d773",
              "version_major": 2,
              "version_minor": 0
            },
            "text/plain": [
              "Executing:   0%|          | 0/59 [00:00<?, ?cell/s]"
            ]
          },
          "metadata": {},
          "output_type": "display_data"
        },
        {
          "name": "stdout",
          "output_type": "stream",
          "text": [
            "FI\n"
          ]
        },
        {
          "data": {
            "application/vnd.jupyter.widget-view+json": {
              "model_id": "6963be9f7df34f8a856ec7e08212533b",
              "version_major": 2,
              "version_minor": 0
            },
            "text/plain": [
              "Executing:   0%|          | 0/59 [00:00<?, ?cell/s]"
            ]
          },
          "metadata": {},
          "output_type": "display_data"
        },
        {
          "name": "stdout",
          "output_type": "stream",
          "text": [
            "FR\n"
          ]
        },
        {
          "data": {
            "application/vnd.jupyter.widget-view+json": {
              "model_id": "32dc8b1d5da249299cdc18c8a78cac03",
              "version_major": 2,
              "version_minor": 0
            },
            "text/plain": [
              "Executing:   0%|          | 0/59 [00:00<?, ?cell/s]"
            ]
          },
          "metadata": {},
          "output_type": "display_data"
        },
        {
          "name": "stdout",
          "output_type": "stream",
          "text": [
            "HR\n"
          ]
        },
        {
          "data": {
            "application/vnd.jupyter.widget-view+json": {
              "model_id": "f4c74d8fa63043fd9e15acca7cd67fbc",
              "version_major": 2,
              "version_minor": 0
            },
            "text/plain": [
              "Executing:   0%|          | 0/59 [00:00<?, ?cell/s]"
            ]
          },
          "metadata": {},
          "output_type": "display_data"
        },
        {
          "name": "stdout",
          "output_type": "stream",
          "text": [
            "HU\n"
          ]
        },
        {
          "data": {
            "application/vnd.jupyter.widget-view+json": {
              "model_id": "650f82d76bc9458c9abbb28f5dc177ad",
              "version_major": 2,
              "version_minor": 0
            },
            "text/plain": [
              "Executing:   0%|          | 0/59 [00:00<?, ?cell/s]"
            ]
          },
          "metadata": {},
          "output_type": "display_data"
        },
        {
          "name": "stdout",
          "output_type": "stream",
          "text": [
            "IE\n"
          ]
        },
        {
          "data": {
            "application/vnd.jupyter.widget-view+json": {
              "model_id": "ce711f91a92446a6aca6c9ef05f82d24",
              "version_major": 2,
              "version_minor": 0
            },
            "text/plain": [
              "Executing:   0%|          | 0/59 [00:00<?, ?cell/s]"
            ]
          },
          "metadata": {},
          "output_type": "display_data"
        },
        {
          "name": "stdout",
          "output_type": "stream",
          "text": [
            "IT\n"
          ]
        },
        {
          "data": {
            "application/vnd.jupyter.widget-view+json": {
              "model_id": "d5f8471e5a504c12ae63d2e388d3dd02",
              "version_major": 2,
              "version_minor": 0
            },
            "text/plain": [
              "Executing:   0%|          | 0/59 [00:00<?, ?cell/s]"
            ]
          },
          "metadata": {},
          "output_type": "display_data"
        },
        {
          "name": "stdout",
          "output_type": "stream",
          "text": [
            "LT\n"
          ]
        },
        {
          "data": {
            "application/vnd.jupyter.widget-view+json": {
              "model_id": "47f04623e1d14505bf45bc1086f747f0",
              "version_major": 2,
              "version_minor": 0
            },
            "text/plain": [
              "Executing:   0%|          | 0/59 [00:00<?, ?cell/s]"
            ]
          },
          "metadata": {},
          "output_type": "display_data"
        },
        {
          "name": "stdout",
          "output_type": "stream",
          "text": [
            "LU\n"
          ]
        },
        {
          "data": {
            "application/vnd.jupyter.widget-view+json": {
              "model_id": "9ce09a4dcc4a4eb58692b707d56aba9f",
              "version_major": 2,
              "version_minor": 0
            },
            "text/plain": [
              "Executing:   0%|          | 0/59 [00:00<?, ?cell/s]"
            ]
          },
          "metadata": {},
          "output_type": "display_data"
        },
        {
          "name": "stdout",
          "output_type": "stream",
          "text": [
            "LV\n"
          ]
        },
        {
          "data": {
            "application/vnd.jupyter.widget-view+json": {
              "model_id": "d14eb43899814f18b066a1c158e62538",
              "version_major": 2,
              "version_minor": 0
            },
            "text/plain": [
              "Executing:   0%|          | 0/59 [00:00<?, ?cell/s]"
            ]
          },
          "metadata": {},
          "output_type": "display_data"
        },
        {
          "name": "stdout",
          "output_type": "stream",
          "text": [
            "MT\n"
          ]
        },
        {
          "data": {
            "application/vnd.jupyter.widget-view+json": {
              "model_id": "988d383a9a7b48dc9f67a3cb26d588f8",
              "version_major": 2,
              "version_minor": 0
            },
            "text/plain": [
              "Executing:   0%|          | 0/59 [00:00<?, ?cell/s]"
            ]
          },
          "metadata": {},
          "output_type": "display_data"
        },
        {
          "name": "stdout",
          "output_type": "stream",
          "text": [
            "NL\n"
          ]
        },
        {
          "data": {
            "application/vnd.jupyter.widget-view+json": {
              "model_id": "17b4d9333d6847059b142729d74f888f",
              "version_major": 2,
              "version_minor": 0
            },
            "text/plain": [
              "Executing:   0%|          | 0/59 [00:00<?, ?cell/s]"
            ]
          },
          "metadata": {},
          "output_type": "display_data"
        },
        {
          "name": "stdout",
          "output_type": "stream",
          "text": [
            "PL\n"
          ]
        },
        {
          "data": {
            "application/vnd.jupyter.widget-view+json": {
              "model_id": "51a73c9b92f44302ba3b1dfecb4747e0",
              "version_major": 2,
              "version_minor": 0
            },
            "text/plain": [
              "Executing:   0%|          | 0/59 [00:00<?, ?cell/s]"
            ]
          },
          "metadata": {},
          "output_type": "display_data"
        },
        {
          "name": "stdout",
          "output_type": "stream",
          "text": [
            "PT\n"
          ]
        },
        {
          "data": {
            "application/vnd.jupyter.widget-view+json": {
              "model_id": "c5b8df9259984bf790a14cbd52117ad2",
              "version_major": 2,
              "version_minor": 0
            },
            "text/plain": [
              "Executing:   0%|          | 0/59 [00:00<?, ?cell/s]"
            ]
          },
          "metadata": {},
          "output_type": "display_data"
        },
        {
          "name": "stdout",
          "output_type": "stream",
          "text": [
            "RO\n"
          ]
        },
        {
          "data": {
            "application/vnd.jupyter.widget-view+json": {
              "model_id": "cfa9c031591248679d19c76fa90b7a4e",
              "version_major": 2,
              "version_minor": 0
            },
            "text/plain": [
              "Executing:   0%|          | 0/59 [00:00<?, ?cell/s]"
            ]
          },
          "metadata": {},
          "output_type": "display_data"
        },
        {
          "name": "stdout",
          "output_type": "stream",
          "text": [
            "SE\n"
          ]
        },
        {
          "data": {
            "application/vnd.jupyter.widget-view+json": {
              "model_id": "aff1f818810c4db48b8d9745c0e2beb3",
              "version_major": 2,
              "version_minor": 0
            },
            "text/plain": [
              "Executing:   0%|          | 0/59 [00:00<?, ?cell/s]"
            ]
          },
          "metadata": {},
          "output_type": "display_data"
        },
        {
          "name": "stdout",
          "output_type": "stream",
          "text": [
            "SI\n"
          ]
        },
        {
          "data": {
            "application/vnd.jupyter.widget-view+json": {
              "model_id": "26d300d3adf44584bf78c00f0d5835f7",
              "version_major": 2,
              "version_minor": 0
            },
            "text/plain": [
              "Executing:   0%|          | 0/59 [00:00<?, ?cell/s]"
            ]
          },
          "metadata": {},
          "output_type": "display_data"
        },
        {
          "name": "stdout",
          "output_type": "stream",
          "text": [
            "SK\n"
          ]
        },
        {
          "data": {
            "application/vnd.jupyter.widget-view+json": {
              "model_id": "4affff29e06942388c687071f88e519e",
              "version_major": 2,
              "version_minor": 0
            },
            "text/plain": [
              "Executing:   0%|          | 0/59 [00:00<?, ?cell/s]"
            ]
          },
          "metadata": {},
          "output_type": "display_data"
        },
        {
          "name": "stdout",
          "output_type": "stream",
          "text": [
            "UK\n"
          ]
        },
        {
          "data": {
            "application/vnd.jupyter.widget-view+json": {
              "model_id": "9a67a923a3db4326bc892ba61f9d2cbf",
              "version_major": 2,
              "version_minor": 0
            },
            "text/plain": [
              "Executing:   0%|          | 0/59 [00:00<?, ?cell/s]"
            ]
          },
          "metadata": {},
          "output_type": "display_data"
        },
        {
          "name": "stdout",
          "output_type": "stream",
          "text": [
            "Wall time: 18min 2s\n"
          ]
        }
      ]
    },
    {
      "cell_type": "code",
      "metadata": {
        "id": "kN29T4x3cvjK"
      },
      "source": [
        ""
      ],
      "execution_count": null,
      "outputs": []
    }
  ]
}