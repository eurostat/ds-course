{
  "nbformat": 4,
  "nbformat_minor": 5,
  "metadata": {
    "kernelspec": {
      "display_name": "Python 3 (ipykernel)",
      "language": "python",
      "name": "python3"
    },
    "language_info": {
      "codemirror_mode": {
        "name": "ipython",
        "version": 3
      },
      "file_extension": ".py",
      "mimetype": "text/x-python",
      "name": "python",
      "nbconvert_exporter": "python",
      "pygments_lexer": "ipython3",
      "version": "3.8.10"
    },
    "toc": {
      "base_numbering": 1,
      "nav_menu": {},
      "number_sections": true,
      "sideBar": true,
      "skip_h1_title": false,
      "title_cell": "Table of Contents",
      "title_sidebar": "Contents",
      "toc_cell": false,
      "toc_position": {},
      "toc_section_display": true,
      "toc_window_display": true
    },
    "colab": {
      "name": "10-InsightsCommunication_part1.ipynb",
      "provenance": []
    }
  },
  "cells": [
    {
      "cell_type": "code",
      "metadata": {
        "id": "d385f668"
      },
      "source": [
        "#!conda install ipywidgets"
      ],
      "id": "d385f668",
      "execution_count": null,
      "outputs": []
    },
    {
      "cell_type": "code",
      "metadata": {
        "id": "18535294"
      },
      "source": [
        "# Jupyter notebook\n",
        "from IPython.display import Markdown as md\n",
        "from IPython import display\n",
        "from IPython.display import display\n",
        "from base64 import b64decode\n",
        "\n",
        "import ipywidgets as widgets\n",
        "from ipywidgets import interact, interactive, fixed, interact_manual\n",
        "\n",
        "# Eurostat data\n",
        "from eurostatapiclient import EurostatAPIClient\n",
        "\n",
        "# Maps\n",
        "import folium\n",
        "from folium import Choropleth, Circle, Marker\n",
        "from folium.plugins import HeatMap, MarkerCluster\n",
        "import geopandas as gpd\n",
        "from geopandas.tools import geocode\n",
        "\n",
        "# Data Science\n",
        "import matplotlib.pyplot as plt\n",
        "import os\n",
        "import numpy as np\n",
        "import pandas as pd\n",
        "import seaborn as sns"
      ],
      "id": "18535294",
      "execution_count": null,
      "outputs": []
    },
    {
      "cell_type": "markdown",
      "metadata": {
        "id": "30612ad4"
      },
      "source": [
        "# Recycling Data"
      ],
      "id": "30612ad4"
    },
    {
      "cell_type": "code",
      "metadata": {
        "id": "f3ac973e"
      },
      "source": [
        "from eurostatapiclient import EurostatAPIClient\n",
        "\n",
        "#Set versions and formats, so far only the ones used here are availeable and call client\n",
        "VERSION = 'v2.1'\n",
        "FORMAT = 'json'\n",
        "LANGUAGE = 'en'\n",
        "client = EurostatAPIClient(VERSION, FORMAT, LANGUAGE)"
      ],
      "id": "f3ac973e",
      "execution_count": null,
      "outputs": []
    },
    {
      "cell_type": "code",
      "metadata": {
        "id": "2de7168a",
        "outputId": "31ece53d-9d09-466d-ed23-5198925c182f"
      },
      "source": [
        "%%html\n",
        "<iframe src=\"https://ec.europa.eu/eurostat/databrowser/view/env_waspacr/default/table?lang=en\" width=\"1000\" height=\"800\"></iframe>"
      ],
      "id": "2de7168a",
      "execution_count": null,
      "outputs": [
        {
          "data": {
            "text/html": [
              "<iframe src=\"https://ec.europa.eu/eurostat/databrowser/view/env_waspacr/default/table?lang=en\" width=\"1000\" height=\"800\"></iframe>\n"
            ],
            "text/plain": [
              "<IPython.core.display.HTML object>"
            ]
          },
          "metadata": {},
          "output_type": "display_data"
        }
      ]
    },
    {
      "cell_type": "code",
      "metadata": {
        "id": "01ce9d71"
      },
      "source": [
        "countries_names = {'AT':'Austria', 'BE':'Belgium', 'BG':'Bulgaria', 'CY': 'Cyprus', \n",
        "                   'CZ': 'Czechia', 'DE': 'Germany', 'DK': 'Denmark', 'EE':'Estonia', \n",
        "                   'EL': 'Greece', 'ES':'Spain', 'FI':'Finland', 'FR':'France', \n",
        "                   'HR':'Croatia', 'HU':'Hungary', 'IE':'Ireland', 'IT':'Italy', \n",
        "                   'LT':'Lithuania', 'LU':'Luxembourg', 'LV':'Latvia', 'MT': 'Malta', \n",
        "                   'NL':'Netherlands', 'PL':'Poland', 'PT':'Portugal', 'RO':'Romania', \n",
        "                   'SE':'Sweden', 'SI':'Slovenia', 'SK':'Slovakia', 'UK':'United Kingdom'}\n",
        "\n",
        "packaging_types = {'W150101': 'Paper and cardboard packaging',\n",
        "                   'W150102': 'Plastic packaging',\n",
        "                   'W150103': 'Wooden packaging',\n",
        "                   'W150104': 'Metallic packaging',\n",
        "                   'W150107': 'Glass packaging',\n",
        "                   'W150199': 'Other packaging'}"
      ],
      "id": "01ce9d71",
      "execution_count": null,
      "outputs": []
    },
    {
      "cell_type": "code",
      "metadata": {
        "id": "98a2b4a3"
      },
      "source": [
        "par_df1 = {\n",
        "    'waste': packaging_types.keys(),\n",
        "    'unit': ['RT'],\n",
        "    'geo': list(countries_names.keys()),\n",
        "}\n",
        "\n",
        "df1 = client.get_dataset('env_waspacr', params=par_df1).to_dataframe()\n",
        "\n",
        "df1.rename(columns={'geo': 'country', 'time': 'year'}, inplace=True)\n",
        "df1['year'] = df1['year'].astype('int')\n",
        "df1['country'] = df1['country'].map(countries_names)\n",
        "df1['waste'] = df1['waste'].map(packaging_types)"
      ],
      "id": "98a2b4a3",
      "execution_count": null,
      "outputs": []
    },
    {
      "cell_type": "code",
      "metadata": {
        "id": "a10fab43",
        "outputId": "fce584ae-6b8e-49df-aba5-f0bce66576e9"
      },
      "source": [
        "print(len(df1))\n",
        "print(df1.dtypes)\n",
        "df1.sample(5)"
      ],
      "id": "a10fab43",
      "execution_count": null,
      "outputs": [
        {
          "name": "stdout",
          "output_type": "stream",
          "text": [
            "3696\n",
            "values     float64\n",
            "waste       object\n",
            "unit        object\n",
            "country     object\n",
            "year         int32\n",
            "dtype: object\n"
          ]
        },
        {
          "data": {
            "text/html": [
              "<div>\n",
              "<style scoped>\n",
              "    .dataframe tbody tr th:only-of-type {\n",
              "        vertical-align: middle;\n",
              "    }\n",
              "\n",
              "    .dataframe tbody tr th {\n",
              "        vertical-align: top;\n",
              "    }\n",
              "\n",
              "    .dataframe thead th {\n",
              "        text-align: right;\n",
              "    }\n",
              "</style>\n",
              "<table border=\"1\" class=\"dataframe\">\n",
              "  <thead>\n",
              "    <tr style=\"text-align: right;\">\n",
              "      <th></th>\n",
              "      <th>values</th>\n",
              "      <th>waste</th>\n",
              "      <th>unit</th>\n",
              "      <th>country</th>\n",
              "      <th>year</th>\n",
              "    </tr>\n",
              "  </thead>\n",
              "  <tbody>\n",
              "    <tr>\n",
              "      <th>2365</th>\n",
              "      <td>51.0</td>\n",
              "      <td>Metallic packaging</td>\n",
              "      <td>RT</td>\n",
              "      <td>Romania</td>\n",
              "      <td>2008</td>\n",
              "    </tr>\n",
              "    <tr>\n",
              "      <th>1990</th>\n",
              "      <td>86.8</td>\n",
              "      <td>Metallic packaging</td>\n",
              "      <td>RT</td>\n",
              "      <td>Denmark</td>\n",
              "      <td>2007</td>\n",
              "    </tr>\n",
              "    <tr>\n",
              "      <th>2590</th>\n",
              "      <td>88.7</td>\n",
              "      <td>Glass packaging</td>\n",
              "      <td>RT</td>\n",
              "      <td>Germany</td>\n",
              "      <td>2013</td>\n",
              "    </tr>\n",
              "    <tr>\n",
              "      <th>906</th>\n",
              "      <td>NaN</td>\n",
              "      <td>Plastic packaging</td>\n",
              "      <td>RT</td>\n",
              "      <td>Hungary</td>\n",
              "      <td>2001</td>\n",
              "    </tr>\n",
              "    <tr>\n",
              "      <th>921</th>\n",
              "      <td>31.4</td>\n",
              "      <td>Plastic packaging</td>\n",
              "      <td>RT</td>\n",
              "      <td>Hungary</td>\n",
              "      <td>2016</td>\n",
              "    </tr>\n",
              "  </tbody>\n",
              "</table>\n",
              "</div>"
            ],
            "text/plain": [
              "      values               waste unit  country  year\n",
              "2365    51.0  Metallic packaging   RT  Romania  2008\n",
              "1990    86.8  Metallic packaging   RT  Denmark  2007\n",
              "2590    88.7     Glass packaging   RT  Germany  2013\n",
              "906      NaN   Plastic packaging   RT  Hungary  2001\n",
              "921     31.4   Plastic packaging   RT  Hungary  2016"
            ]
          },
          "execution_count": 7,
          "metadata": {},
          "output_type": "execute_result"
        }
      ]
    },
    {
      "cell_type": "code",
      "metadata": {
        "id": "31ea1acd",
        "outputId": "46cc3ebd-12d9-447b-f24c-377f5466a769"
      },
      "source": [
        "import sys\n",
        "IN_COLAB = 'google.colab' in sys.modules\n",
        "if IN_COLAB:\n",
        "    from google.colab import drive\n",
        "    drive.mount('/content/gdrive', force_remount=True)\n",
        "    dir = os.path.join('gdrive', 'MyDrive', 'Eurostat', '01 - Intro to Python for Data Science')\n",
        "else:\n",
        "    dir = '.'\n",
        "    \n",
        "data_dir = os.path.join(dir, 'data')\n",
        "os.makedirs(data_dir, exist_ok=True)\n",
        "data_dir"
      ],
      "id": "31ea1acd",
      "execution_count": null,
      "outputs": [
        {
          "data": {
            "text/plain": [
              "'.\\\\data'"
            ]
          },
          "execution_count": 8,
          "metadata": {},
          "output_type": "execute_result"
        }
      ]
    },
    {
      "cell_type": "code",
      "metadata": {
        "id": "e1db8825"
      },
      "source": [
        "filename = os.path.join(data_dir, 'env_waspacr.csv')\n",
        "df1.to_csv(filename, index=False)"
      ],
      "id": "e1db8825",
      "execution_count": null,
      "outputs": []
    },
    {
      "cell_type": "code",
      "metadata": {
        "id": "9c41b226",
        "outputId": "b4dec932-a848-4f6d-dd4a-f9bf3b4e85ca"
      },
      "source": [
        "df3 = pd.pivot(\n",
        "    df1,\n",
        "    index=['year', 'country'],\n",
        "    columns=['waste'],\n",
        "    values='values')\n",
        "df3"
      ],
      "id": "9c41b226",
      "execution_count": null,
      "outputs": [
        {
          "data": {
            "text/html": [
              "<div>\n",
              "<style scoped>\n",
              "    .dataframe tbody tr th:only-of-type {\n",
              "        vertical-align: middle;\n",
              "    }\n",
              "\n",
              "    .dataframe tbody tr th {\n",
              "        vertical-align: top;\n",
              "    }\n",
              "\n",
              "    .dataframe thead th {\n",
              "        text-align: right;\n",
              "    }\n",
              "</style>\n",
              "<table border=\"1\" class=\"dataframe\">\n",
              "  <thead>\n",
              "    <tr style=\"text-align: right;\">\n",
              "      <th></th>\n",
              "      <th>waste</th>\n",
              "      <th>Glass packaging</th>\n",
              "      <th>Metallic packaging</th>\n",
              "      <th>Other packaging</th>\n",
              "      <th>Paper and cardboard packaging</th>\n",
              "      <th>Plastic packaging</th>\n",
              "      <th>Wooden packaging</th>\n",
              "    </tr>\n",
              "    <tr>\n",
              "      <th>year</th>\n",
              "      <th>country</th>\n",
              "      <th></th>\n",
              "      <th></th>\n",
              "      <th></th>\n",
              "      <th></th>\n",
              "      <th></th>\n",
              "      <th></th>\n",
              "    </tr>\n",
              "  </thead>\n",
              "  <tbody>\n",
              "    <tr>\n",
              "      <th rowspan=\"5\" valign=\"top\">1997</th>\n",
              "      <th>Austria</th>\n",
              "      <td>76.5</td>\n",
              "      <td>34.1</td>\n",
              "      <td>53.6</td>\n",
              "      <td>85.0</td>\n",
              "      <td>20.0</td>\n",
              "      <td>14.0</td>\n",
              "    </tr>\n",
              "    <tr>\n",
              "      <th>Belgium</th>\n",
              "      <td>70.1</td>\n",
              "      <td>70.3</td>\n",
              "      <td>11.3</td>\n",
              "      <td>77.5</td>\n",
              "      <td>25.3</td>\n",
              "      <td>52.8</td>\n",
              "    </tr>\n",
              "    <tr>\n",
              "      <th>Bulgaria</th>\n",
              "      <td>NaN</td>\n",
              "      <td>NaN</td>\n",
              "      <td>NaN</td>\n",
              "      <td>NaN</td>\n",
              "      <td>NaN</td>\n",
              "      <td>NaN</td>\n",
              "    </tr>\n",
              "    <tr>\n",
              "      <th>Croatia</th>\n",
              "      <td>NaN</td>\n",
              "      <td>NaN</td>\n",
              "      <td>NaN</td>\n",
              "      <td>NaN</td>\n",
              "      <td>NaN</td>\n",
              "      <td>NaN</td>\n",
              "    </tr>\n",
              "    <tr>\n",
              "      <th>Cyprus</th>\n",
              "      <td>NaN</td>\n",
              "      <td>NaN</td>\n",
              "      <td>NaN</td>\n",
              "      <td>NaN</td>\n",
              "      <td>NaN</td>\n",
              "      <td>NaN</td>\n",
              "    </tr>\n",
              "    <tr>\n",
              "      <th>...</th>\n",
              "      <th>...</th>\n",
              "      <td>...</td>\n",
              "      <td>...</td>\n",
              "      <td>...</td>\n",
              "      <td>...</td>\n",
              "      <td>...</td>\n",
              "      <td>...</td>\n",
              "    </tr>\n",
              "    <tr>\n",
              "      <th rowspan=\"5\" valign=\"top\">2018</th>\n",
              "      <th>Slovakia</th>\n",
              "      <td>68.6</td>\n",
              "      <td>75.4</td>\n",
              "      <td>23.8</td>\n",
              "      <td>76.7</td>\n",
              "      <td>51.4</td>\n",
              "      <td>53.4</td>\n",
              "    </tr>\n",
              "    <tr>\n",
              "      <th>Slovenia</th>\n",
              "      <td>104.0</td>\n",
              "      <td>64.3</td>\n",
              "      <td>7.3</td>\n",
              "      <td>81.2</td>\n",
              "      <td>48.8</td>\n",
              "      <td>25.1</td>\n",
              "    </tr>\n",
              "    <tr>\n",
              "      <th>Spain</th>\n",
              "      <td>76.8</td>\n",
              "      <td>84.0</td>\n",
              "      <td>0.0</td>\n",
              "      <td>72.5</td>\n",
              "      <td>50.7</td>\n",
              "      <td>67.0</td>\n",
              "    </tr>\n",
              "    <tr>\n",
              "      <th>Sweden</th>\n",
              "      <td>92.7</td>\n",
              "      <td>82.8</td>\n",
              "      <td>0.0</td>\n",
              "      <td>77.2</td>\n",
              "      <td>50.0</td>\n",
              "      <td>51.1</td>\n",
              "    </tr>\n",
              "    <tr>\n",
              "      <th>United Kingdom</th>\n",
              "      <td>68.5</td>\n",
              "      <td>65.2</td>\n",
              "      <td>0.0</td>\n",
              "      <td>74.4</td>\n",
              "      <td>43.8</td>\n",
              "      <td>35.2</td>\n",
              "    </tr>\n",
              "  </tbody>\n",
              "</table>\n",
              "<p>616 rows × 6 columns</p>\n",
              "</div>"
            ],
            "text/plain": [
              "waste                Glass packaging  Metallic packaging  Other packaging  \\\n",
              "year country                                                                \n",
              "1997 Austria                    76.5                34.1             53.6   \n",
              "     Belgium                    70.1                70.3             11.3   \n",
              "     Bulgaria                    NaN                 NaN              NaN   \n",
              "     Croatia                     NaN                 NaN              NaN   \n",
              "     Cyprus                      NaN                 NaN              NaN   \n",
              "...                              ...                 ...              ...   \n",
              "2018 Slovakia                   68.6                75.4             23.8   \n",
              "     Slovenia                  104.0                64.3              7.3   \n",
              "     Spain                      76.8                84.0              0.0   \n",
              "     Sweden                     92.7                82.8              0.0   \n",
              "     United Kingdom             68.5                65.2              0.0   \n",
              "\n",
              "waste                Paper and cardboard packaging  Plastic packaging  \\\n",
              "year country                                                            \n",
              "1997 Austria                                  85.0               20.0   \n",
              "     Belgium                                  77.5               25.3   \n",
              "     Bulgaria                                  NaN                NaN   \n",
              "     Croatia                                   NaN                NaN   \n",
              "     Cyprus                                    NaN                NaN   \n",
              "...                                            ...                ...   \n",
              "2018 Slovakia                                 76.7               51.4   \n",
              "     Slovenia                                 81.2               48.8   \n",
              "     Spain                                    72.5               50.7   \n",
              "     Sweden                                   77.2               50.0   \n",
              "     United Kingdom                           74.4               43.8   \n",
              "\n",
              "waste                Wooden packaging  \n",
              "year country                           \n",
              "1997 Austria                     14.0  \n",
              "     Belgium                     52.8  \n",
              "     Bulgaria                     NaN  \n",
              "     Croatia                      NaN  \n",
              "     Cyprus                       NaN  \n",
              "...                               ...  \n",
              "2018 Slovakia                    53.4  \n",
              "     Slovenia                    25.1  \n",
              "     Spain                       67.0  \n",
              "     Sweden                      51.1  \n",
              "     United Kingdom              35.2  \n",
              "\n",
              "[616 rows x 6 columns]"
            ]
          },
          "execution_count": 10,
          "metadata": {},
          "output_type": "execute_result"
        }
      ]
    },
    {
      "cell_type": "markdown",
      "metadata": {
        "id": "bead6042"
      },
      "source": [
        "# Pan, Zoom & Position"
      ],
      "id": "bead6042"
    },
    {
      "cell_type": "code",
      "metadata": {
        "id": "f3e9f5aa",
        "outputId": "e5d84ae3-1e97-493d-ad06-d580f7a1b89f"
      },
      "source": [
        "sns.pairplot(data=df3[['Glass packaging', 'Metallic packaging', 'Wooden packaging']], height=3)"
      ],
      "id": "f3e9f5aa",
      "execution_count": null,
      "outputs": [
        {
          "data": {
            "text/plain": [
              "<seaborn.axisgrid.PairGrid at 0x2796ed1b7c0>"
            ]
          },
          "execution_count": 11,
          "metadata": {},
          "output_type": "execute_result"
        },
        {
          "data": {
            "image/png": "[encoded data removed]",
            "text/plain": [
              "<Figure size 648x648 with 12 Axes>"
            ]
          },
          "metadata": {
            "needs_background": "light"
          },
          "output_type": "display_data"
        }
      ]
    },
    {
      "cell_type": "code",
      "metadata": {
        "id": "8251be29"
      },
      "source": [
        "%matplotlib notebook"
      ],
      "id": "8251be29",
      "execution_count": null,
      "outputs": []
    },
    {
      "cell_type": "code",
      "metadata": {
        "id": "61b866f8"
      },
      "source": [
        "%matplotlib inline"
      ],
      "id": "61b866f8",
      "execution_count": null,
      "outputs": []
    },
    {
      "cell_type": "markdown",
      "metadata": {
        "id": "3eb321cf"
      },
      "source": [
        "# User Inputs"
      ],
      "id": "3eb321cf"
    },
    {
      "cell_type": "markdown",
      "metadata": {
        "id": "7d01381e"
      },
      "source": [
        "## Interact"
      ],
      "id": "7d01381e"
    },
    {
      "cell_type": "code",
      "metadata": {
        "id": "2480f924",
        "outputId": "f568c3ed-be88-45b8-a6ef-39a91c916d35"
      },
      "source": [
        "%%html\n",
        "<iframe src=\"https://ipywidgets.readthedocs.io/en/7.6.2/examples/Using%20Interact.html\" width=\"800\" height=\"600\"></iframe>"
      ],
      "id": "2480f924",
      "execution_count": null,
      "outputs": [
        {
          "data": {
            "text/html": [
              "<iframe src=\"https://ipywidgets.readthedocs.io/en/7.6.2/examples/Using%20Interact.html\" width=\"800\" height=\"600\"></iframe>\n"
            ],
            "text/plain": [
              "<IPython.core.display.HTML object>"
            ]
          },
          "metadata": {},
          "output_type": "display_data"
        }
      ]
    },
    {
      "cell_type": "code",
      "metadata": {
        "id": "d630f8b6"
      },
      "source": [
        "def my_sum(x, y):\n",
        "    return x+y"
      ],
      "id": "d630f8b6",
      "execution_count": null,
      "outputs": []
    },
    {
      "cell_type": "code",
      "metadata": {
        "id": "82eb0035",
        "outputId": "cfe77ae7-5f18-4e5f-9c76-137708f59cd0"
      },
      "source": [
        "my_sum(3, 5)"
      ],
      "id": "82eb0035",
      "execution_count": null,
      "outputs": [
        {
          "data": {
            "text/plain": [
              "8"
            ]
          },
          "execution_count": 16,
          "metadata": {},
          "output_type": "execute_result"
        }
      ]
    },
    {
      "cell_type": "code",
      "metadata": {
        "id": "5a613ad9",
        "outputId": "20904d17-8c2e-47a4-9c81-1bacc7c1b12a"
      },
      "source": [
        "@interact(x=5, y=5)\n",
        "def my_sum(x, y):\n",
        "    return x+y"
      ],
      "id": "5a613ad9",
      "execution_count": null,
      "outputs": [
        {
          "data": {
            "application/vnd.jupyter.widget-view+json": {
              "model_id": "4ef067bc4831412081eb693997b28975",
              "version_major": 2,
              "version_minor": 0
            },
            "text/plain": [
              "interactive(children=(IntSlider(value=5, description='x', max=15, min=-5), IntSlider(value=5, description='y',…"
            ]
          },
          "metadata": {},
          "output_type": "display_data"
        }
      ]
    },
    {
      "cell_type": "code",
      "metadata": {
        "id": "0b543a15",
        "outputId": "1fffa1c9-e964-4f60-c871-b43f997c39ef"
      },
      "source": [
        "@interact(x=5, y=fixed(5))\n",
        "def my_sum(x, y):\n",
        "    return x+y"
      ],
      "id": "0b543a15",
      "execution_count": null,
      "outputs": [
        {
          "data": {
            "application/vnd.jupyter.widget-view+json": {
              "model_id": "c5b9c1a6c131442e8bbba17c27234b9b",
              "version_major": 2,
              "version_minor": 0
            },
            "text/plain": [
              "interactive(children=(IntSlider(value=5, description='x', max=15, min=-5), Output()), _dom_classes=('widget-in…"
            ]
          },
          "metadata": {},
          "output_type": "display_data"
        }
      ]
    },
    {
      "cell_type": "code",
      "metadata": {
        "id": "3b596f42",
        "outputId": "990bd361-e2aa-4c66-afd4-c6b68e5e8e1a"
      },
      "source": [
        "@interact(x=(-10, 10), y=(-100, 100, 10))\n",
        "def my_sum(x, y):\n",
        "    return x+y"
      ],
      "id": "3b596f42",
      "execution_count": null,
      "outputs": [
        {
          "data": {
            "application/vnd.jupyter.widget-view+json": {
              "model_id": "460fb34ef5c443a0bedf1db3f862b2f2",
              "version_major": 2,
              "version_minor": 0
            },
            "text/plain": [
              "interactive(children=(IntSlider(value=0, description='x', max=10, min=-10), IntSlider(value=0, description='y'…"
            ]
          },
          "metadata": {},
          "output_type": "display_data"
        }
      ]
    },
    {
      "cell_type": "code",
      "metadata": {
        "id": "2b476817",
        "outputId": "83126214-9604-486d-e6aa-4f6b40b82308"
      },
      "source": [
        "@interact(waste=packaging_types.values())\n",
        "def print_waste(waste):\n",
        "    print(f\"This is {waste}.\")"
      ],
      "id": "2b476817",
      "execution_count": null,
      "outputs": [
        {
          "data": {
            "application/vnd.jupyter.widget-view+json": {
              "model_id": "ddd625479b8e4f66a6956438eec7100d",
              "version_major": 2,
              "version_minor": 0
            },
            "text/plain": [
              "interactive(children=(Dropdown(description='waste', options=('Paper and cardboard packaging', 'Plastic packagi…"
            ]
          },
          "metadata": {},
          "output_type": "display_data"
        }
      ]
    },
    {
      "cell_type": "code",
      "metadata": {
        "id": "edd4555c",
        "outputId": "64ab39c1-bc30-4e7d-fe41-dafed5e1330c"
      },
      "source": [
        "@interact(waste=packaging_types.items())\n",
        "def print_waste(waste):\n",
        "    print(f\"This is {waste}.\")"
      ],
      "id": "edd4555c",
      "execution_count": null,
      "outputs": [
        {
          "data": {
            "application/vnd.jupyter.widget-view+json": {
              "model_id": "aae8650993e84495a966aa4a114bcc3d",
              "version_major": 2,
              "version_minor": 0
            },
            "text/plain": [
              "interactive(children=(Dropdown(description='waste', options=(('W150101', 'Paper and cardboard packaging'), ('W…"
            ]
          },
          "metadata": {},
          "output_type": "display_data"
        }
      ]
    },
    {
      "cell_type": "markdown",
      "metadata": {
        "id": "e3a4fb60"
      },
      "source": [
        "### ❓ Exercise"
      ],
      "id": "e3a4fb60"
    },
    {
      "cell_type": "code",
      "metadata": {
        "id": "2e7b15be",
        "outputId": "62fb188a-8161-4668-fa3c-396ee61dc468"
      },
      "source": [
        "md(f\"##❓ Make all variables of the following function interactive.\")"
      ],
      "id": "2e7b15be",
      "execution_count": null,
      "outputs": [
        {
          "data": {
            "text/markdown": [
              "##❓ Make all variables of the following function interactive."
            ],
            "text/plain": [
              "<IPython.core.display.Markdown object>"
            ]
          },
          "execution_count": 22,
          "metadata": {},
          "output_type": "execute_result"
        }
      ]
    },
    {
      "cell_type": "code",
      "metadata": {
        "id": "dc9773a2"
      },
      "source": [
        "def recycling_rate(country, waste, year):\n",
        "    rate = 0\n",
        "    print(f\"In {year}, {country} recycled {rate:.1f}% of its {waste}.\")"
      ],
      "id": "dc9773a2",
      "execution_count": null,
      "outputs": []
    },
    {
      "cell_type": "code",
      "metadata": {
        "id": "97cb8a40",
        "outputId": "587ce82e-876e-44fc-cb9a-b176d2cd7c99"
      },
      "source": [
        "recycling_rate('Italy', 'Plastic packaging', 2015)"
      ],
      "id": "97cb8a40",
      "execution_count": null,
      "outputs": [
        {
          "name": "stdout",
          "output_type": "stream",
          "text": [
            "In 2015, Italy recycled 0.0% of its Plastic packaging.\n"
          ]
        }
      ]
    },
    {
      "cell_type": "markdown",
      "metadata": {
        "id": "98df3cde"
      },
      "source": [
        "## Interactive"
      ],
      "id": "98df3cde"
    },
    {
      "cell_type": "code",
      "metadata": {
        "id": "7c70efbd"
      },
      "source": [
        "def my_sum(x, y):\n",
        "    return x+y"
      ],
      "id": "7c70efbd",
      "execution_count": null,
      "outputs": []
    },
    {
      "cell_type": "code",
      "metadata": {
        "id": "7039cc0e"
      },
      "source": [
        "z = interactive(my_sum, x=(-10, 10), y=(-100, 100, 10))"
      ],
      "id": "7039cc0e",
      "execution_count": null,
      "outputs": []
    },
    {
      "cell_type": "code",
      "metadata": {
        "id": "87622f0c",
        "outputId": "fe8ff928-cd90-4bf8-b261-1e880e42684e"
      },
      "source": [
        "type(z)"
      ],
      "id": "87622f0c",
      "execution_count": null,
      "outputs": [
        {
          "data": {
            "text/plain": [
              "ipywidgets.widgets.interaction.interactive"
            ]
          },
          "execution_count": 27,
          "metadata": {},
          "output_type": "execute_result"
        }
      ]
    },
    {
      "cell_type": "code",
      "metadata": {
        "id": "49fc4eca",
        "outputId": "cab0a96e-f1bc-4968-b820-ea54656d932d"
      },
      "source": [
        "z.children"
      ],
      "id": "49fc4eca",
      "execution_count": null,
      "outputs": [
        {
          "data": {
            "text/plain": [
              "(IntSlider(value=0, description='x', max=10, min=-10),\n",
              " IntSlider(value=0, description='y', min=-100, step=10),\n",
              " Output())"
            ]
          },
          "execution_count": 28,
          "metadata": {},
          "output_type": "execute_result"
        }
      ]
    },
    {
      "cell_type": "code",
      "metadata": {
        "id": "1ed6bbc8",
        "outputId": "7e73588e-8cbb-438f-9092-8aaf6bd9d687"
      },
      "source": [
        "display(z)"
      ],
      "id": "1ed6bbc8",
      "execution_count": null,
      "outputs": [
        {
          "data": {
            "application/vnd.jupyter.widget-view+json": {
              "model_id": "a42e391588bc4afb8aa01797cbf4941a",
              "version_major": 2,
              "version_minor": 0
            },
            "text/plain": [
              "interactive(children=(IntSlider(value=0, description='x', max=10, min=-10), IntSlider(value=0, description='y'…"
            ]
          },
          "metadata": {},
          "output_type": "display_data"
        }
      ]
    },
    {
      "cell_type": "code",
      "metadata": {
        "id": "25d7fc1f",
        "outputId": "69ff7260-02a5-431f-bcb7-439994eb0580"
      },
      "source": [
        "z.kwargs"
      ],
      "id": "25d7fc1f",
      "execution_count": null,
      "outputs": [
        {
          "data": {
            "text/plain": [
              "{'x': 0, 'y': 0}"
            ]
          },
          "execution_count": 30,
          "metadata": {},
          "output_type": "execute_result"
        }
      ]
    },
    {
      "cell_type": "code",
      "metadata": {
        "id": "ed72cd52",
        "outputId": "844d24aa-c9aa-4f27-b7a6-1753a0bfc06d"
      },
      "source": [
        "z.result"
      ],
      "id": "ed72cd52",
      "execution_count": null,
      "outputs": [
        {
          "data": {
            "text/plain": [
              "0"
            ]
          },
          "execution_count": 31,
          "metadata": {},
          "output_type": "execute_result"
        }
      ]
    },
    {
      "cell_type": "markdown",
      "metadata": {
        "id": "fc9080d3"
      },
      "source": [
        "## Non-continuous Execution"
      ],
      "id": "fc9080d3"
    },
    {
      "cell_type": "code",
      "metadata": {
        "id": "f8f40988",
        "outputId": "efa839dc-33cd-4046-bcc0-5cd4124a99db"
      },
      "source": [
        "z = interact_manual(my_sum, \n",
        "                    x=(-10, 10),\n",
        "                    y=(-100, 100, 10))"
      ],
      "id": "f8f40988",
      "execution_count": null,
      "outputs": [
        {
          "data": {
            "application/vnd.jupyter.widget-view+json": {
              "model_id": "fccb6e9124fb4b16941d367297bc7744",
              "version_major": 2,
              "version_minor": 0
            },
            "text/plain": [
              "interactive(children=(IntSlider(value=0, description='x', max=10, min=-10), IntSlider(value=0, description='y'…"
            ]
          },
          "metadata": {},
          "output_type": "display_data"
        }
      ]
    },
    {
      "cell_type": "code",
      "metadata": {
        "id": "4706752f"
      },
      "source": [
        "z = interactive(my_sum, \n",
        "                {'manual': True},\n",
        "                x=(-10, 10),\n",
        "                y=(-100, 100, 10))"
      ],
      "id": "4706752f",
      "execution_count": null,
      "outputs": []
    },
    {
      "cell_type": "code",
      "metadata": {
        "id": "82f562d4",
        "outputId": "28adcd14-8002-49b5-93d7-4a9845f98d2f"
      },
      "source": [
        "display(z)"
      ],
      "id": "82f562d4",
      "execution_count": null,
      "outputs": [
        {
          "data": {
            "application/vnd.jupyter.widget-view+json": {
              "model_id": "75e53e1bbd26472e96e0578df5190712",
              "version_major": 2,
              "version_minor": 0
            },
            "text/plain": [
              "interactive(children=(IntSlider(value=0, description='x', max=10, min=-10), IntSlider(value=0, description='y'…"
            ]
          },
          "metadata": {},
          "output_type": "display_data"
        }
      ]
    },
    {
      "cell_type": "code",
      "metadata": {
        "id": "d8219e8b"
      },
      "source": [
        "z.result"
      ],
      "id": "d8219e8b",
      "execution_count": null,
      "outputs": []
    },
    {
      "cell_type": "code",
      "metadata": {
        "id": "0b0d8ce4",
        "outputId": "51901434-26b3-4e03-8318-56cf6c98de24"
      },
      "source": [
        "interact(my_sum, \n",
        "         x=widgets.FloatSlider(min=-10, max=10, step=0.1, continuous_update=True),\n",
        "         y=widgets.IntSlider(min=-20, max=20, step=2, continuous_update=False))"
      ],
      "id": "0b0d8ce4",
      "execution_count": null,
      "outputs": [
        {
          "data": {
            "application/vnd.jupyter.widget-view+json": {
              "model_id": "de469fd95805472fb2d198417e0b2763",
              "version_major": 2,
              "version_minor": 0
            },
            "text/plain": [
              "interactive(children=(FloatSlider(value=0.0, description='x', max=10.0, min=-10.0), IntSlider(value=0, continu…"
            ]
          },
          "metadata": {},
          "output_type": "display_data"
        },
        {
          "data": {
            "text/plain": [
              "<function __main__.my_sum(x, y)>"
            ]
          },
          "execution_count": 36,
          "metadata": {},
          "output_type": "execute_result"
        }
      ]
    },
    {
      "cell_type": "markdown",
      "metadata": {
        "id": "6973b036"
      },
      "source": [
        "## Interactive_output"
      ],
      "id": "6973b036"
    },
    {
      "cell_type": "code",
      "metadata": {
        "id": "67f8be1b",
        "outputId": "4b395577-a0ef-46ba-c750-de15ce361630"
      },
      "source": [
        "a_widget = widgets.IntSlider()\n",
        "b_widget = widgets.IntSlider()\n",
        "c_widget = widgets.IntSlider()\n",
        "ui = widgets.HBox([a_widget, b_widget, c_widget])\n",
        "\n",
        "def f(a, b, c):\n",
        "    print((a, b, c))\n",
        "\n",
        "out = widgets.interactive_output(f, {'a': a_widget, 'b': b_widget, 'c': c_widget})\n",
        "\n",
        "display(ui, out)"
      ],
      "id": "67f8be1b",
      "execution_count": null,
      "outputs": [
        {
          "data": {
            "application/vnd.jupyter.widget-view+json": {
              "model_id": "820213f588a34f08b20c8c808f1d863d",
              "version_major": 2,
              "version_minor": 0
            },
            "text/plain": [
              "HBox(children=(IntSlider(value=0), IntSlider(value=0), IntSlider(value=0)))"
            ]
          },
          "metadata": {},
          "output_type": "display_data"
        },
        {
          "data": {
            "application/vnd.jupyter.widget-view+json": {
              "model_id": "49adf44ae87b4eff83740032fffc8819",
              "version_major": 2,
              "version_minor": 0
            },
            "text/plain": [
              "Output()"
            ]
          },
          "metadata": {},
          "output_type": "display_data"
        }
      ]
    },
    {
      "cell_type": "markdown",
      "metadata": {
        "id": "7e052a7d"
      },
      "source": [
        "## Dependent Arguments"
      ],
      "id": "7e052a7d"
    },
    {
      "cell_type": "code",
      "metadata": {
        "id": "8a7a2fcd",
        "outputId": "4eb9ac2e-af9c-484d-f7aa-e3de66612333"
      },
      "source": [
        "x_widget = widgets.FloatSlider(min=0.0, max=10.0, step=0.05)\n",
        "x_max_widget = widgets.FloatSlider(min=0.5, max=10.0, step=0.05, value=5.0)\n",
        "\n",
        "def update_x_range(*args):\n",
        "    x_widget.max = x_max_widget.value\n",
        "x_max_widget.observe(update_x_range, 'value')\n",
        "\n",
        "def printer(x, x_max):\n",
        "    print(x, x_max)\n",
        "    \n",
        "interact(printer,\n",
        "         x=x_widget,\n",
        "         x_max=x_max_widget);"
      ],
      "id": "8a7a2fcd",
      "execution_count": null,
      "outputs": [
        {
          "data": {
            "application/vnd.jupyter.widget-view+json": {
              "model_id": "1caa6f7d2a1a4122a65baf1d341fbabe",
              "version_major": 2,
              "version_minor": 0
            },
            "text/plain": [
              "interactive(children=(FloatSlider(value=0.0, description='x', max=10.0, step=0.05), FloatSlider(value=5.0, des…"
            ]
          },
          "metadata": {},
          "output_type": "display_data"
        }
      ]
    },
    {
      "cell_type": "markdown",
      "metadata": {
        "id": "e3d5d161"
      },
      "source": [
        "# Interactive Plots"
      ],
      "id": "e3d5d161"
    },
    {
      "cell_type": "code",
      "metadata": {
        "id": "a22bd3dc",
        "outputId": "2c89cc13-109a-4afb-cbef-1f3653e62350",
        "colab": {
          "referenced_widgets": [
            "5f8c6dc2b60c42bb8bf082dd921d272e"
          ]
        }
      },
      "source": [
        "%matplotlib inline\n",
        "from ipywidgets import interactive\n",
        "import matplotlib.pyplot as plt\n",
        "\n",
        "def f(m, b):\n",
        "    plt.figure(figsize=(12, 8))\n",
        "    x = np.linspace(-10, 10, num=1000)\n",
        "    plt.plot(x, m * x + b)\n",
        "    plt.ylim(-5, 5)\n",
        "    plt.show()\n",
        "\n",
        "interactive_plot = interactive(f, m=(-2.0, 2.0), b=(-3, 3, 0.5))\n",
        "output = interactive_plot.children[-1]\n",
        "output.layout.height = '350px'\n",
        "interactive_plot"
      ],
      "id": "a22bd3dc",
      "execution_count": null,
      "outputs": [
        {
          "data": {
            "application/vnd.jupyter.widget-view+json": {
              "model_id": "5f8c6dc2b60c42bb8bf082dd921d272e",
              "version_major": 2,
              "version_minor": 0
            },
            "text/plain": [
              "interactive(children=(FloatSlider(value=0.0, description='m', max=2.0, min=-2.0), FloatSlider(value=0.0, descr…"
            ]
          },
          "metadata": {},
          "output_type": "display_data"
        }
      ]
    },
    {
      "cell_type": "code",
      "metadata": {
        "id": "8d78bf54"
      },
      "source": [
        "def plot_pairs(wastes):\n",
        "    sns.pairplot(data=df3[list(wastes)], height=3)\n",
        "    return plt.show()"
      ],
      "id": "8d78bf54",
      "execution_count": null,
      "outputs": []
    },
    {
      "cell_type": "code",
      "metadata": {
        "id": "6f38d621",
        "outputId": "e44c2f92-3ce6-40d5-f646-25e2ce6a21a9"
      },
      "source": [
        "plot_pairs(('Glass packaging', 'Metallic packaging', 'Wooden packaging'))"
      ],
      "id": "6f38d621",
      "execution_count": null,
      "outputs": [
        {
          "data": {
            "image/png": "[encoded data removed]",
            "text/plain": [
              "<Figure size 648x648 with 12 Axes>"
            ]
          },
          "metadata": {
            "needs_background": "light"
          },
          "output_type": "display_data"
        }
      ]
    },
    {
      "cell_type": "code",
      "metadata": {
        "id": "6c9dc013",
        "outputId": "9a33cd49-db72-4c96-fe38-a43c5dd59c09",
        "colab": {
          "referenced_widgets": [
            "b84df5c9fae9474aa5664e543ce1311a"
          ]
        }
      },
      "source": [
        "my_plot = interact(plot_pairs,\n",
        "                   wastes = widgets.SelectMultiple(options=packaging_types.values(),\n",
        "                                                   value=list(packaging_types.values())[:3],\n",
        "                                                   rows=len(packaging_types.values()),\n",
        "                                                   description='wastes',\n",
        "                                                   disabled=False))"
      ],
      "id": "6c9dc013",
      "execution_count": null,
      "outputs": [
        {
          "data": {
            "application/vnd.jupyter.widget-view+json": {
              "model_id": "b84df5c9fae9474aa5664e543ce1311a",
              "version_major": 2,
              "version_minor": 0
            },
            "text/plain": [
              "interactive(children=(SelectMultiple(description='wastes', index=(0, 1, 2), options=('Paper and cardboard pack…"
            ]
          },
          "metadata": {},
          "output_type": "display_data"
        }
      ]
    },
    {
      "cell_type": "markdown",
      "metadata": {
        "id": "45f0f11f"
      },
      "source": [
        "### ❓ Exercise"
      ],
      "id": "45f0f11f"
    },
    {
      "cell_type": "code",
      "metadata": {
        "id": "f67c5416",
        "outputId": "1861f1c3-398c-4076-d9b8-156a2af34ea7"
      },
      "source": [
        "md(f\"##❓ Pick a graph from Course 08 and make it interactive. Let the Widget List inspire you!\")"
      ],
      "id": "f67c5416",
      "execution_count": null,
      "outputs": [
        {
          "data": {
            "text/markdown": [
              "##❓ Pick a graph from Course 08 and make it interactive. Let the Widget List inspire you!"
            ],
            "text/plain": [
              "<IPython.core.display.Markdown object>"
            ]
          },
          "execution_count": 43,
          "metadata": {},
          "output_type": "execute_result"
        }
      ]
    },
    {
      "cell_type": "code",
      "metadata": {
        "id": "730c8fe7",
        "outputId": "97cde3c3-b9cf-4a30-e24c-f5a8699f32bf"
      },
      "source": [
        "%%html\n",
        "<iframe src=\"https://ipywidgets.readthedocs.io/en/7.6.2/examples/Widget%20List.html\" width=\"800\" height=\"600\"></iframe>"
      ],
      "id": "730c8fe7",
      "execution_count": null,
      "outputs": [
        {
          "data": {
            "text/html": [
              "<iframe src=\"https://ipywidgets.readthedocs.io/en/7.6.2/examples/Widget%20List.html\" width=\"800\" height=\"600\"></iframe>\n"
            ],
            "text/plain": [
              "<IPython.core.display.HTML object>"
            ]
          },
          "metadata": {},
          "output_type": "display_data"
        }
      ]
    },
    {
      "cell_type": "markdown",
      "metadata": {
        "id": "e6491ec3"
      },
      "source": [
        "# Other great Libraries\n",
        "- Hover over\n",
        "- Webpage integration"
      ],
      "id": "e6491ec3"
    },
    {
      "cell_type": "markdown",
      "metadata": {
        "id": "270ae78a"
      },
      "source": [
        "## Bokeh"
      ],
      "id": "270ae78a"
    },
    {
      "cell_type": "code",
      "metadata": {
        "id": "58d02cdf",
        "outputId": "109fcf6b-a576-43be-86c3-3a2d94741306"
      },
      "source": [
        "%%html\n",
        "<iframe src=\"https://bokeh.org/\" width=\"800\" height=\"600\"></iframe>"
      ],
      "id": "58d02cdf",
      "execution_count": null,
      "outputs": [
        {
          "data": {
            "text/html": [
              "<iframe src=\"https://bokeh.org/\" width=\"800\" height=\"600\"></iframe>\n"
            ],
            "text/plain": [
              "<IPython.core.display.HTML object>"
            ]
          },
          "metadata": {},
          "output_type": "display_data"
        }
      ]
    },
    {
      "cell_type": "markdown",
      "metadata": {
        "id": "96127232"
      },
      "source": [
        "## Plotly"
      ],
      "id": "96127232"
    },
    {
      "cell_type": "code",
      "metadata": {
        "id": "ccf7a0c0",
        "outputId": "ae39a3ef-8d8c-42f1-a8cc-fc21c3539169"
      },
      "source": [
        "%%html\n",
        "<iframe src=\"https://plotly.com/python/\" width=\"800\" height=\"600\"></iframe>"
      ],
      "id": "ccf7a0c0",
      "execution_count": null,
      "outputs": [
        {
          "data": {
            "text/html": [
              "<iframe src=\"https://plotly.com/python/\" width=\"800\" height=\"600\"></iframe>\n"
            ],
            "text/plain": [
              "<IPython.core.display.HTML object>"
            ]
          },
          "metadata": {},
          "output_type": "display_data"
        }
      ]
    },
    {
      "cell_type": "markdown",
      "metadata": {
        "id": "677308ee"
      },
      "source": [
        "## Altair"
      ],
      "id": "677308ee"
    },
    {
      "cell_type": "code",
      "metadata": {
        "id": "6d1c512c",
        "outputId": "83696336-e742-4fb8-ef67-fcb2d6040a72"
      },
      "source": [
        "%%html\n",
        "<iframe src=\"https://altair-viz.github.io/\" width=\"800\" height=\"600\"></iframe>"
      ],
      "id": "6d1c512c",
      "execution_count": null,
      "outputs": [
        {
          "data": {
            "text/html": [
              "<iframe src=\"https://altair-viz.github.io/\" width=\"800\" height=\"600\"></iframe>\n"
            ],
            "text/plain": [
              "<IPython.core.display.HTML object>"
            ]
          },
          "metadata": {},
          "output_type": "display_data"
        }
      ]
    },
    {
      "cell_type": "code",
      "metadata": {
        "id": "d8ac2ff3"
      },
      "source": [
        ""
      ],
      "id": "d8ac2ff3",
      "execution_count": null,
      "outputs": []
    }
  ]
}