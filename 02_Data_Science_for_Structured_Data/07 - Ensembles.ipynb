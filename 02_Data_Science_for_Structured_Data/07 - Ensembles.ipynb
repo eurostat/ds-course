{
  "nbformat": 4,
  "nbformat_minor": 0,
  "metadata": {
    "colab": {
      "name": "07 - Ensembles",
      "provenance": [],
      "collapsed_sections": [],
      "toc_visible": true
    },
    "kernelspec": {
      "name": "python3",
      "display_name": "Python 3"
    },
    "language_info": {
      "name": "python"
    },
    "accelerator": "GPU"
  },
  "cells": [
    {
      "cell_type": "markdown",
      "metadata": {
        "id": "hS45lYAmmjmP"
      },
      "source": [
        "# Libraries"
      ]
    },
    {
      "cell_type": "code",
      "metadata": {
        "id": "MooF5k5vmlSM"
      },
      "source": [
        "from google.colab import drive\n",
        "import matplotlib.pyplot as plt\n",
        "import numpy as np\n",
        "import os as os\n",
        "import pandas as pd\n",
        "import seaborn as sns\n",
        "\n",
        "import random\n",
        "random.seed(0) # pick your seed\n",
        "\n",
        "from sklearn.model_selection import train_test_split\n",
        "from sklearn.model_selection import KFold\n",
        "from sklearn.model_selection import cross_val_score\n",
        "\n",
        "from sklearn.pipeline import Pipeline\n",
        "from sklearn.tree import DecisionTreeRegressor\n",
        "from sklearn.ensemble import BaggingRegressor\n",
        "from sklearn.ensemble import RandomForestRegressor\n",
        "from sklearn.ensemble import AdaBoostRegressor\n",
        "from sklearn.ensemble import GradientBoostingRegressor\n",
        "from xgboost import XGBRegressor\n",
        "from sklearn.linear_model import LinearRegression\n",
        "from sklearn.ensemble import VotingRegressor\n",
        "from sklearn.ensemble import StackingRegressor"
      ],
      "execution_count": null,
      "outputs": []
    },
    {
      "cell_type": "markdown",
      "metadata": {
        "id": "JYCg8uYSmrNx"
      },
      "source": [
        "# Data"
      ]
    },
    {
      "cell_type": "code",
      "metadata": {
        "colab": {
          "base_uri": "https://localhost:8080/"
        },
        "id": "uX1DziSqmoL_",
        "outputId": "c94822fb-2a45-4687-cbaa-5676f7bc00ab"
      },
      "source": [
        "import sys\n",
        "IN_COLAB = 'google.colab' in sys.modules\n",
        "if IN_COLAB:\n",
        "  drive.mount('/content/gdrive', force_remount=True)\n",
        "  dir = os.path.join('gdrive', 'My Drive', 'Eurostat', '02 - Data Science for Structured Data')\n",
        "else:\n",
        "  dir = \".\"\n",
        "data_dir = os.path.join(dir, 'data')\n",
        "model_dir = os.path.join(dir, 'model')"
      ],
      "execution_count": null,
      "outputs": [
        {
          "output_type": "stream",
          "name": "stdout",
          "text": [
            "Mounted at /content/gdrive\n"
          ]
        }
      ]
    },
    {
      "cell_type": "code",
      "metadata": {
        "colab": {
          "base_uri": "https://localhost:8080/",
          "height": 143
        },
        "id": "ABH1QSo3msEu",
        "outputId": "1abd447a-02d9-4028-a725-ed3fdc119d34"
      },
      "source": [
        "df_iris = pd.read_csv(os.path.join(data_dir, 'iris.csv'),\n",
        "                      header=None,\n",
        "                      names=['sepal_length', 'sepal_width', 'petal_length', 'petal_width', 'class'])\n",
        "df_iris.sample(3)"
      ],
      "execution_count": null,
      "outputs": [
        {
          "output_type": "execute_result",
          "data": {
            "text/html": [
              "<div>\n",
              "<style scoped>\n",
              "    .dataframe tbody tr th:only-of-type {\n",
              "        vertical-align: middle;\n",
              "    }\n",
              "\n",
              "    .dataframe tbody tr th {\n",
              "        vertical-align: top;\n",
              "    }\n",
              "\n",
              "    .dataframe thead th {\n",
              "        text-align: right;\n",
              "    }\n",
              "</style>\n",
              "<table border=\"1\" class=\"dataframe\">\n",
              "  <thead>\n",
              "    <tr style=\"text-align: right;\">\n",
              "      <th></th>\n",
              "      <th>sepal_length</th>\n",
              "      <th>sepal_width</th>\n",
              "      <th>petal_length</th>\n",
              "      <th>petal_width</th>\n",
              "      <th>class</th>\n",
              "    </tr>\n",
              "  </thead>\n",
              "  <tbody>\n",
              "    <tr>\n",
              "      <th>39</th>\n",
              "      <td>5.1</td>\n",
              "      <td>3.4</td>\n",
              "      <td>1.5</td>\n",
              "      <td>0.2</td>\n",
              "      <td>Iris-setosa</td>\n",
              "    </tr>\n",
              "    <tr>\n",
              "      <th>67</th>\n",
              "      <td>5.8</td>\n",
              "      <td>2.7</td>\n",
              "      <td>4.1</td>\n",
              "      <td>1.0</td>\n",
              "      <td>Iris-versicolor</td>\n",
              "    </tr>\n",
              "    <tr>\n",
              "      <th>115</th>\n",
              "      <td>6.4</td>\n",
              "      <td>3.2</td>\n",
              "      <td>5.3</td>\n",
              "      <td>2.3</td>\n",
              "      <td>Iris-virginica</td>\n",
              "    </tr>\n",
              "  </tbody>\n",
              "</table>\n",
              "</div>"
            ],
            "text/plain": [
              "     sepal_length  sepal_width  petal_length  petal_width            class\n",
              "39            5.1          3.4           1.5          0.2      Iris-setosa\n",
              "67            5.8          2.7           4.1          1.0  Iris-versicolor\n",
              "115           6.4          3.2           5.3          2.3   Iris-virginica"
            ]
          },
          "metadata": {},
          "execution_count": 3
        }
      ]
    },
    {
      "cell_type": "code",
      "metadata": {
        "colab": {
          "base_uri": "https://localhost:8080/",
          "height": 143
        },
        "id": "dQ4Cxir4mziS",
        "outputId": "ab3b0a09-f866-4859-d84c-2d61cf0cb27b"
      },
      "source": [
        "df_pima = pd.read_csv(os.path.join(data_dir, 'pima.csv'),\n",
        "                      header=8,\n",
        "                      names = ['preg', 'gluc', 'pres', 'skin' ,'insu', 'bmi', 'pedi', 'age', 'class'])\n",
        "df_pima.sample(3)"
      ],
      "execution_count": null,
      "outputs": [
        {
          "output_type": "execute_result",
          "data": {
            "text/html": [
              "<div>\n",
              "<style scoped>\n",
              "    .dataframe tbody tr th:only-of-type {\n",
              "        vertical-align: middle;\n",
              "    }\n",
              "\n",
              "    .dataframe tbody tr th {\n",
              "        vertical-align: top;\n",
              "    }\n",
              "\n",
              "    .dataframe thead th {\n",
              "        text-align: right;\n",
              "    }\n",
              "</style>\n",
              "<table border=\"1\" class=\"dataframe\">\n",
              "  <thead>\n",
              "    <tr style=\"text-align: right;\">\n",
              "      <th></th>\n",
              "      <th>preg</th>\n",
              "      <th>gluc</th>\n",
              "      <th>pres</th>\n",
              "      <th>skin</th>\n",
              "      <th>insu</th>\n",
              "      <th>bmi</th>\n",
              "      <th>pedi</th>\n",
              "      <th>age</th>\n",
              "      <th>class</th>\n",
              "    </tr>\n",
              "  </thead>\n",
              "  <tbody>\n",
              "    <tr>\n",
              "      <th>83</th>\n",
              "      <td>0</td>\n",
              "      <td>101</td>\n",
              "      <td>65</td>\n",
              "      <td>28</td>\n",
              "      <td>0</td>\n",
              "      <td>24.6</td>\n",
              "      <td>0.237</td>\n",
              "      <td>22</td>\n",
              "      <td>0</td>\n",
              "    </tr>\n",
              "    <tr>\n",
              "      <th>539</th>\n",
              "      <td>3</td>\n",
              "      <td>129</td>\n",
              "      <td>92</td>\n",
              "      <td>49</td>\n",
              "      <td>155</td>\n",
              "      <td>36.4</td>\n",
              "      <td>0.968</td>\n",
              "      <td>32</td>\n",
              "      <td>1</td>\n",
              "    </tr>\n",
              "    <tr>\n",
              "      <th>512</th>\n",
              "      <td>9</td>\n",
              "      <td>91</td>\n",
              "      <td>68</td>\n",
              "      <td>0</td>\n",
              "      <td>0</td>\n",
              "      <td>24.2</td>\n",
              "      <td>0.200</td>\n",
              "      <td>58</td>\n",
              "      <td>0</td>\n",
              "    </tr>\n",
              "  </tbody>\n",
              "</table>\n",
              "</div>"
            ],
            "text/plain": [
              "     preg  gluc  pres  skin  insu   bmi   pedi  age  class\n",
              "83      0   101    65    28     0  24.6  0.237   22      0\n",
              "539     3   129    92    49   155  36.4  0.968   32      1\n",
              "512     9    91    68     0     0  24.2  0.200   58      0"
            ]
          },
          "metadata": {},
          "execution_count": 4
        }
      ]
    },
    {
      "cell_type": "code",
      "metadata": {
        "colab": {
          "base_uri": "https://localhost:8080/",
          "height": 161
        },
        "id": "T9HUz_aFm1dp",
        "outputId": "6b7ef5b6-9052-43fb-b6e6-f091e7fd0728"
      },
      "source": [
        "df_wine = pd.read_csv(os.path.join(data_dir, 'wine.csv'), \n",
        "                      sep=';')\n",
        "df_wine.sample(3)"
      ],
      "execution_count": null,
      "outputs": [
        {
          "output_type": "execute_result",
          "data": {
            "text/html": [
              "<div>\n",
              "<style scoped>\n",
              "    .dataframe tbody tr th:only-of-type {\n",
              "        vertical-align: middle;\n",
              "    }\n",
              "\n",
              "    .dataframe tbody tr th {\n",
              "        vertical-align: top;\n",
              "    }\n",
              "\n",
              "    .dataframe thead th {\n",
              "        text-align: right;\n",
              "    }\n",
              "</style>\n",
              "<table border=\"1\" class=\"dataframe\">\n",
              "  <thead>\n",
              "    <tr style=\"text-align: right;\">\n",
              "      <th></th>\n",
              "      <th>fixed acidity</th>\n",
              "      <th>volatile acidity</th>\n",
              "      <th>citric acid</th>\n",
              "      <th>residual sugar</th>\n",
              "      <th>chlorides</th>\n",
              "      <th>free sulfur dioxide</th>\n",
              "      <th>total sulfur dioxide</th>\n",
              "      <th>density</th>\n",
              "      <th>pH</th>\n",
              "      <th>sulphates</th>\n",
              "      <th>alcohol</th>\n",
              "      <th>quality</th>\n",
              "    </tr>\n",
              "  </thead>\n",
              "  <tbody>\n",
              "    <tr>\n",
              "      <th>819</th>\n",
              "      <td>9.1</td>\n",
              "      <td>0.66</td>\n",
              "      <td>0.15</td>\n",
              "      <td>3.2</td>\n",
              "      <td>0.097</td>\n",
              "      <td>9.0</td>\n",
              "      <td>59.0</td>\n",
              "      <td>0.99976</td>\n",
              "      <td>3.28</td>\n",
              "      <td>0.54</td>\n",
              "      <td>9.6</td>\n",
              "      <td>5</td>\n",
              "    </tr>\n",
              "    <tr>\n",
              "      <th>181</th>\n",
              "      <td>8.9</td>\n",
              "      <td>0.61</td>\n",
              "      <td>0.49</td>\n",
              "      <td>2.0</td>\n",
              "      <td>0.270</td>\n",
              "      <td>23.0</td>\n",
              "      <td>110.0</td>\n",
              "      <td>0.99720</td>\n",
              "      <td>3.12</td>\n",
              "      <td>1.02</td>\n",
              "      <td>9.3</td>\n",
              "      <td>5</td>\n",
              "    </tr>\n",
              "    <tr>\n",
              "      <th>1172</th>\n",
              "      <td>9.7</td>\n",
              "      <td>0.42</td>\n",
              "      <td>0.46</td>\n",
              "      <td>2.1</td>\n",
              "      <td>0.074</td>\n",
              "      <td>5.0</td>\n",
              "      <td>16.0</td>\n",
              "      <td>0.99649</td>\n",
              "      <td>3.27</td>\n",
              "      <td>0.74</td>\n",
              "      <td>12.3</td>\n",
              "      <td>6</td>\n",
              "    </tr>\n",
              "  </tbody>\n",
              "</table>\n",
              "</div>"
            ],
            "text/plain": [
              "      fixed acidity  volatile acidity  citric acid  ...  sulphates  alcohol  quality\n",
              "819             9.1              0.66         0.15  ...       0.54      9.6        5\n",
              "181             8.9              0.61         0.49  ...       1.02      9.3        5\n",
              "1172            9.7              0.42         0.46  ...       0.74     12.3        6\n",
              "\n",
              "[3 rows x 12 columns]"
            ]
          },
          "metadata": {},
          "execution_count": 5
        }
      ]
    },
    {
      "cell_type": "code",
      "metadata": {
        "colab": {
          "base_uri": "https://localhost:8080/",
          "height": 143
        },
        "id": "Qkkneto3m4Am",
        "outputId": "0b25fbc4-29c5-4386-a9f4-ab0779da6271"
      },
      "source": [
        "df_housing = pd.read_csv(os.path.join(data_dir, 'housing.csv'))\n",
        "df_housing.sample(3)"
      ],
      "execution_count": null,
      "outputs": [
        {
          "output_type": "execute_result",
          "data": {
            "text/html": [
              "<div>\n",
              "<style scoped>\n",
              "    .dataframe tbody tr th:only-of-type {\n",
              "        vertical-align: middle;\n",
              "    }\n",
              "\n",
              "    .dataframe tbody tr th {\n",
              "        vertical-align: top;\n",
              "    }\n",
              "\n",
              "    .dataframe thead th {\n",
              "        text-align: right;\n",
              "    }\n",
              "</style>\n",
              "<table border=\"1\" class=\"dataframe\">\n",
              "  <thead>\n",
              "    <tr style=\"text-align: right;\">\n",
              "      <th></th>\n",
              "      <th>crim</th>\n",
              "      <th>zn</th>\n",
              "      <th>indus</th>\n",
              "      <th>chas</th>\n",
              "      <th>nox</th>\n",
              "      <th>rm</th>\n",
              "      <th>age</th>\n",
              "      <th>dis</th>\n",
              "      <th>rad</th>\n",
              "      <th>tax</th>\n",
              "      <th>ptratio</th>\n",
              "      <th>b</th>\n",
              "      <th>lstat</th>\n",
              "      <th>medv</th>\n",
              "    </tr>\n",
              "  </thead>\n",
              "  <tbody>\n",
              "    <tr>\n",
              "      <th>399</th>\n",
              "      <td>9.91655</td>\n",
              "      <td>0.0</td>\n",
              "      <td>18.10</td>\n",
              "      <td>0</td>\n",
              "      <td>0.693</td>\n",
              "      <td>5.852</td>\n",
              "      <td>77.8</td>\n",
              "      <td>1.5004</td>\n",
              "      <td>24</td>\n",
              "      <td>666</td>\n",
              "      <td>20.2</td>\n",
              "      <td>338.16</td>\n",
              "      <td>29.97</td>\n",
              "      <td>6.3</td>\n",
              "    </tr>\n",
              "    <tr>\n",
              "      <th>309</th>\n",
              "      <td>0.34940</td>\n",
              "      <td>0.0</td>\n",
              "      <td>9.90</td>\n",
              "      <td>0</td>\n",
              "      <td>0.544</td>\n",
              "      <td>5.972</td>\n",
              "      <td>76.7</td>\n",
              "      <td>3.1025</td>\n",
              "      <td>4</td>\n",
              "      <td>304</td>\n",
              "      <td>18.4</td>\n",
              "      <td>396.24</td>\n",
              "      <td>9.97</td>\n",
              "      <td>20.3</td>\n",
              "    </tr>\n",
              "    <tr>\n",
              "      <th>26</th>\n",
              "      <td>0.67191</td>\n",
              "      <td>0.0</td>\n",
              "      <td>8.14</td>\n",
              "      <td>0</td>\n",
              "      <td>0.538</td>\n",
              "      <td>5.813</td>\n",
              "      <td>90.3</td>\n",
              "      <td>4.6820</td>\n",
              "      <td>4</td>\n",
              "      <td>307</td>\n",
              "      <td>21.0</td>\n",
              "      <td>376.88</td>\n",
              "      <td>14.81</td>\n",
              "      <td>16.6</td>\n",
              "    </tr>\n",
              "  </tbody>\n",
              "</table>\n",
              "</div>"
            ],
            "text/plain": [
              "        crim   zn  indus  chas    nox  ...  tax  ptratio       b  lstat  medv\n",
              "399  9.91655  0.0  18.10     0  0.693  ...  666     20.2  338.16  29.97   6.3\n",
              "309  0.34940  0.0   9.90     0  0.544  ...  304     18.4  396.24   9.97  20.3\n",
              "26   0.67191  0.0   8.14     0  0.538  ...  307     21.0  376.88  14.81  16.6\n",
              "\n",
              "[3 rows x 14 columns]"
            ]
          },
          "metadata": {},
          "execution_count": 6
        }
      ]
    },
    {
      "cell_type": "code",
      "metadata": {
        "colab": {
          "base_uri": "https://localhost:8080/",
          "height": 143
        },
        "id": "dHZCRstjm6XB",
        "outputId": "b54bdc46-3693-4c9b-da80-dd16c9c7ac18"
      },
      "source": [
        "df_happiness = pd.read_csv(os.path.join(data_dir, 'happiness.csv'))\n",
        "df_happiness.sample(3)"
      ],
      "execution_count": null,
      "outputs": [
        {
          "output_type": "execute_result",
          "data": {
            "text/html": [
              "<div>\n",
              "<style scoped>\n",
              "    .dataframe tbody tr th:only-of-type {\n",
              "        vertical-align: middle;\n",
              "    }\n",
              "\n",
              "    .dataframe tbody tr th {\n",
              "        vertical-align: top;\n",
              "    }\n",
              "\n",
              "    .dataframe thead th {\n",
              "        text-align: right;\n",
              "    }\n",
              "</style>\n",
              "<table border=\"1\" class=\"dataframe\">\n",
              "  <thead>\n",
              "    <tr style=\"text-align: right;\">\n",
              "      <th></th>\n",
              "      <th>isced11</th>\n",
              "      <th>sex</th>\n",
              "      <th>age</th>\n",
              "      <th>geo</th>\n",
              "      <th>time</th>\n",
              "      <th>ACCSAT</th>\n",
              "      <th>COMSAT</th>\n",
              "      <th>FINSAT</th>\n",
              "      <th>GREENSAT</th>\n",
              "      <th>JOBSAT</th>\n",
              "      <th>LIFESAT</th>\n",
              "      <th>LIVENVSAT</th>\n",
              "      <th>MEANLIFE</th>\n",
              "      <th>RELSAT</th>\n",
              "      <th>TIMESAT</th>\n",
              "    </tr>\n",
              "  </thead>\n",
              "  <tbody>\n",
              "    <tr>\n",
              "      <th>1126</th>\n",
              "      <td>ED3_4</td>\n",
              "      <td>M</td>\n",
              "      <td>Y25-34</td>\n",
              "      <td>AL</td>\n",
              "      <td>2018</td>\n",
              "      <td>NaN</td>\n",
              "      <td>NaN</td>\n",
              "      <td>5.1</td>\n",
              "      <td>NaN</td>\n",
              "      <td>5.5</td>\n",
              "      <td>5.8</td>\n",
              "      <td>NaN</td>\n",
              "      <td>NaN</td>\n",
              "      <td>7.2</td>\n",
              "      <td>5.7</td>\n",
              "    </tr>\n",
              "    <tr>\n",
              "      <th>1392</th>\n",
              "      <td>ED3_4</td>\n",
              "      <td>M</td>\n",
              "      <td>Y65-74</td>\n",
              "      <td>PL</td>\n",
              "      <td>2018</td>\n",
              "      <td>NaN</td>\n",
              "      <td>NaN</td>\n",
              "      <td>6.4</td>\n",
              "      <td>NaN</td>\n",
              "      <td>7.2</td>\n",
              "      <td>7.7</td>\n",
              "      <td>NaN</td>\n",
              "      <td>NaN</td>\n",
              "      <td>8.0</td>\n",
              "      <td>7.8</td>\n",
              "    </tr>\n",
              "    <tr>\n",
              "      <th>857</th>\n",
              "      <td>ED3_4</td>\n",
              "      <td>F</td>\n",
              "      <td>Y35-49</td>\n",
              "      <td>DK</td>\n",
              "      <td>2018</td>\n",
              "      <td>NaN</td>\n",
              "      <td>NaN</td>\n",
              "      <td>6.9</td>\n",
              "      <td>NaN</td>\n",
              "      <td>7.6</td>\n",
              "      <td>7.4</td>\n",
              "      <td>NaN</td>\n",
              "      <td>NaN</td>\n",
              "      <td>8.2</td>\n",
              "      <td>7.2</td>\n",
              "    </tr>\n",
              "  </tbody>\n",
              "</table>\n",
              "</div>"
            ],
            "text/plain": [
              "     isced11 sex     age geo  ...  LIVENVSAT  MEANLIFE  RELSAT  TIMESAT\n",
              "1126   ED3_4   M  Y25-34  AL  ...        NaN       NaN     7.2      5.7\n",
              "1392   ED3_4   M  Y65-74  PL  ...        NaN       NaN     8.0      7.8\n",
              "857    ED3_4   F  Y35-49  DK  ...        NaN       NaN     8.2      7.2\n",
              "\n",
              "[3 rows x 15 columns]"
            ]
          },
          "metadata": {},
          "execution_count": 7
        }
      ]
    },
    {
      "cell_type": "markdown",
      "metadata": {
        "id": "xs_itYOTGYBJ"
      },
      "source": [
        "# Ensembles\n",
        "You'll learn how to boost performance with:\n",
        "1. **Bagging ensemble methods**, such as bagged decision trees, random forest and extra trees.\n",
        "2. **Boosting ensemble methods**, such as AdaBoost, stochastic gradient boosting and XGBoost\n",
        "3. **Voting/Stacking ensemble methods**, to combine the predictions from multiple algorithms."
      ]
    },
    {
      "cell_type": "code",
      "metadata": {
        "colab": {
          "base_uri": "https://localhost:8080/"
        },
        "id": "3eDh9IU5dlpb",
        "outputId": "55db0cdf-3af7-4781-c303-adff4dbc903e"
      },
      "source": [
        "from sklearn.model_selection import KFold, cross_val_score\n",
        "from sklearn.tree import DecisionTreeRegressor\n",
        "\n",
        "X = df_housing.copy()\n",
        "y = X.pop('medv')\n",
        "\n",
        "kfold = KFold(n_splits=5, shuffle=True, random_state=8)\n",
        "model = DecisionTreeRegressor(max_depth=4)\n",
        "\n",
        "scoring = 'neg_mean_squared_error'\n",
        "results = cross_val_score(model, X, y, cv=kfold, scoring=scoring)\n",
        "print(f\"MSE: {-results.mean():.4f} ({results.std():.4f})\")"
      ],
      "execution_count": null,
      "outputs": [
        {
          "output_type": "stream",
          "name": "stdout",
          "text": [
            "MSE: 22.7198 (7.2371)\n"
          ]
        }
      ]
    },
    {
      "cell_type": "markdown",
      "metadata": {
        "id": "56PpTinchE3a"
      },
      "source": [
        ""
      ]
    },
    {
      "cell_type": "markdown",
      "metadata": {
        "id": "v1TAAA7GbbTm"
      },
      "source": [
        "## Bagging\n",
        "- Bagging, or \"Bootstrap Aggregation\", consists in building multiple models (typically of the same type) from different subsamples of the training dataset.\n",
        "\n",
        "- Performs best with algorithms that have high variance.\n",
        "- [How it works](https://en.wikipedia.org/wiki/Bootstrap_aggregating)\n",
        "- [How to use it](https://scikit-learn.org/stable/modules/generated/sklearn.ensemble.BaggingRegressor.html)"
      ]
    },
    {
      "cell_type": "code",
      "metadata": {
        "colab": {
          "base_uri": "https://localhost:8080/"
        },
        "id": "Y3Un5H5JgMc9",
        "outputId": "ee88ed13-440c-44b2-b691-a0717dcc96f9"
      },
      "source": [
        "from sklearn.model_selection import KFold, cross_val_score\n",
        "from sklearn.ensemble import BaggingRegressor\n",
        "\n",
        "X = df_housing.copy()\n",
        "y = X.pop('medv')\n",
        "\n",
        "kfold = KFold(n_splits=5, shuffle=True, random_state=8)\n",
        "model = BaggingRegressor(base_estimator=DecisionTreeRegressor(),\n",
        "                         n_estimators=100,\n",
        "                         random_state=8)\n",
        "\n",
        "scoring = 'neg_mean_squared_error'\n",
        "results = cross_val_score(model, X, y, cv=kfold, scoring=scoring)\n",
        "print(f\"MSE: {-results.mean():.4f} ({results.std():.4f})\")"
      ],
      "execution_count": null,
      "outputs": [
        {
          "output_type": "stream",
          "name": "stdout",
          "text": [
            "MSE: 13.6572 (6.4198)\n"
          ]
        }
      ]
    },
    {
      "cell_type": "markdown",
      "metadata": {
        "id": "iSp_8VcbilA9"
      },
      "source": [
        "### Random Forest\n",
        "\n",
        "- extension of bagged decision trees.\n",
        "- trees are constructed in a way that reduces the correlation\n",
        "between individual classifiers. Specifically, rather than greedily choosing the best split point in the construction of each tree, only a random subset of features are considered for each split.\n",
        "\n",
        "- [How it works](https://en.wikipedia.org/wiki/Random_forest)\n",
        "- [How to use it](https://scikit-learn.org/stable/modules/generated/sklearn.ensemble.RandomForestRegressor)\n"
      ]
    },
    {
      "cell_type": "code",
      "metadata": {
        "colab": {
          "base_uri": "https://localhost:8080/"
        },
        "id": "Zm5N9yGvi2kK",
        "outputId": "114a0400-f525-4703-f7d4-c9b041e01720"
      },
      "source": [
        "from sklearn.model_selection import KFold, cross_val_score\n",
        "from sklearn.ensemble import RandomForestRegressor\n",
        "\n",
        "X = df_housing.copy()\n",
        "y = X.pop('medv')\n",
        "\n",
        "kfold = KFold(n_splits=5, shuffle=True, random_state=8)\n",
        "model = RandomForestRegressor(n_estimators=100,\n",
        "                              max_features=3,\n",
        "                              random_state=8)\n",
        "\n",
        "scoring = 'neg_mean_squared_error'\n",
        "results = cross_val_score(model, X, y, cv=kfold, scoring=scoring)\n",
        "print(f\"MSE: {-results.mean():.4f} ({results.std():.4f})\")"
      ],
      "execution_count": null,
      "outputs": [
        {
          "output_type": "stream",
          "name": "stdout",
          "text": [
            "MSE: 11.4845 (4.2065)\n"
          ]
        }
      ]
    },
    {
      "cell_type": "markdown",
      "metadata": {
        "id": "Dq6iEgj8jiZY"
      },
      "source": [
        "### Extra Trees\n",
        "- **Extremely randomized trees** are another modification of bagging where random trees are constructed from samples of the training dataset.\n",
        "- Splits are  selected at random.\n",
        "- [How to use it](https://scikit-learn.org/stable/modules/generated/sklearn.ensemble.ExtraTreesRegressor.html)"
      ]
    },
    {
      "cell_type": "code",
      "metadata": {
        "colab": {
          "base_uri": "https://localhost:8080/"
        },
        "id": "LUqCUUv0i8VZ",
        "outputId": "28f878ab-831c-4705-cac8-cc931e4b94ca"
      },
      "source": [
        "from sklearn.model_selection import KFold, cross_val_score\n",
        "from sklearn.ensemble import ExtraTreesRegressor\n",
        "\n",
        "X = df_housing.copy()\n",
        "y = X.pop('medv')\n",
        "\n",
        "kfold = KFold(n_splits=5, shuffle=True, random_state=8)\n",
        "model = ExtraTreesRegressor(n_estimators=100,\n",
        "                            max_features=5,\n",
        "                            random_state=8)\n",
        "\n",
        "scoring = 'neg_mean_squared_error'\n",
        "results = cross_val_score(model, X, y, cv=kfold, scoring=scoring)\n",
        "print(f\"MSE: {-results.mean():.4f} ({results.std():.4f})\")"
      ],
      "execution_count": null,
      "outputs": [
        {
          "output_type": "stream",
          "name": "stdout",
          "text": [
            "MSE: 9.6719 (2.6532)\n"
          ]
        }
      ]
    },
    {
      "cell_type": "markdown",
      "metadata": {
        "id": "RAc4YVQskoYk"
      },
      "source": [
        "## Boosting\n",
        "Building multiple models (typically of the same type) each of which learns to\n",
        "fix the prediction errors of a prior model in the sequence of models."
      ]
    },
    {
      "cell_type": "markdown",
      "metadata": {
        "id": "PIjX1-GKkzL0"
      },
      "source": [
        "### AdaBoost\n",
        "- _Adaptive Boosting_ weights instances in the dataset by how easy or difficult they are to classify, allowing the algorithm to pay more or less attention to them in the construction of subsequent models.\n",
        "- [How it works](https://en.wikipedia.org/wiki/AdaBoost)\n",
        "- [How to use it](https://scikit-learn.org/stable/modules/generated/sklearn.ensemble.AdaBoostRegressor.html)"
      ]
    },
    {
      "cell_type": "code",
      "metadata": {
        "colab": {
          "base_uri": "https://localhost:8080/"
        },
        "id": "IxpPrt7OkKuh",
        "outputId": "c41af698-b44e-46ed-d1dc-48a5eabe3187"
      },
      "source": [
        "from sklearn.model_selection import KFold, cross_val_score\n",
        "from sklearn.ensemble import AdaBoostRegressor\n",
        "\n",
        "X = df_housing.copy()\n",
        "y = X.pop('medv')\n",
        "\n",
        "kfold = KFold(n_splits=5, shuffle=True, random_state=8)\n",
        "model = AdaBoostRegressor(n_estimators=60,\n",
        "                          random_state=8)\n",
        "\n",
        "scoring = 'neg_mean_squared_error'\n",
        "results = cross_val_score(model, X, y, cv=kfold, scoring=scoring)\n",
        "print(f\"MSE: {-results.mean():.4f} ({results.std():.4f})\")"
      ],
      "execution_count": null,
      "outputs": [
        {
          "output_type": "stream",
          "name": "stdout",
          "text": [
            "MSE: 15.6009 (5.5179)\n"
          ]
        }
      ]
    },
    {
      "cell_type": "markdown",
      "metadata": {
        "id": "IZx5Cee-lrpB"
      },
      "source": [
        "### Stochastic Gradient Boosting\n",
        "- **Gradient Boosting Machines** are one of the most\n",
        "sophisticated ensemble techniques, proving to be perhaps one of\n",
        "the best techniques available for improving performance via ensembles.\n",
        "- Each tree corrects for the residuals left after all previous trees, thus each taking one small step (~ learning rate) into the right direction.\n",
        "- [How it works](https://en.wikipedia.org/wiki/Gradient_boosting)\n",
        "- [How to use it](https://scikit-learn.org/stable/modules/generated/sklearn.ensemble.GradientBoostingRegressor.html)"
      ]
    },
    {
      "cell_type": "code",
      "metadata": {
        "colab": {
          "base_uri": "https://localhost:8080/"
        },
        "id": "NpxhqbQ-lSi5",
        "outputId": "adcbd2e7-5595-4c91-bac6-8698749ffb4b"
      },
      "source": [
        "from sklearn.model_selection import KFold, cross_val_score\n",
        "from sklearn.ensemble import GradientBoostingRegressor\n",
        "\n",
        "X = df_housing.copy()\n",
        "y = X.pop('medv')\n",
        "\n",
        "kfold = KFold(n_splits=5, shuffle=True, random_state=8)\n",
        "model = GradientBoostingRegressor(n_estimators=100,\n",
        "                                  min_samples_leaf=4,\n",
        "                                  random_state=8)\n",
        "\n",
        "scoring = 'neg_mean_squared_error'\n",
        "results = cross_val_score(model, X, y, cv=kfold, scoring=scoring)\n",
        "print(f\"MSE: {-results.mean():.4f} ({results.std():.4f})\")"
      ],
      "execution_count": null,
      "outputs": [
        {
          "output_type": "stream",
          "name": "stdout",
          "text": [
            "MSE: 10.9898 (4.4357)\n"
          ]
        }
      ]
    },
    {
      "cell_type": "markdown",
      "metadata": {
        "id": "kq52XSyysV3v"
      },
      "source": [
        "### XGBoost\n",
        "- An integral part of winning strategies for data-science competitions on Structured/Tabular Data\n",
        "- [Read the docs](https://xgboost.readthedocs.io/en/latest/get_started.html)\n",
        "- Change the runtime type to GPU"
      ]
    },
    {
      "cell_type": "code",
      "metadata": {
        "colab": {
          "base_uri": "https://localhost:8080/"
        },
        "id": "IKbvh_40skwX",
        "outputId": "c70795fd-3913-4fd2-b847-a82cc0c95ce1"
      },
      "source": [
        "from sklearn.model_selection import KFold, cross_val_score\n",
        "from xgboost import XGBRegressor\n",
        "from sklearn.metrics import mean_squared_error\n",
        "\n",
        "X = df_housing.copy()\n",
        "\n",
        "mses = []\n",
        "kfold = KFold(n_splits=5, shuffle=True, random_state=8)\n",
        "for idx_train, idx_test in kfold.split(X):\n",
        "  # Train, validation and test set\n",
        "  X_train = X.iloc[idx_train,:]\n",
        "  y_train = X_train.pop('medv')\n",
        "\n",
        "  X_train, X_valid, y_train, y_valid = train_test_split(X_train, y_train, test_size=0.2, random_state=8)\n",
        "  \n",
        "  X_test = X.iloc[idx_test,:]\n",
        "  y_test = X_test.pop('medv')\n",
        "\n",
        "  # Model training\n",
        "  model = XGBRegressor(n_estimors=100,\n",
        "                       objective ='reg:squarederror')\n",
        "  model.fit(\n",
        "    X_train, \n",
        "    y_train,\n",
        "    eval_set = [(X_valid,y_valid)],\n",
        "    verbose = 0,\n",
        "    early_stopping_rounds = 100)  \n",
        "\n",
        "  # Performance assessment\n",
        "  predictions = model.predict(X_test)\n",
        "  mses.append(mean_squared_error(y_test, predictions, squared=True))\n",
        "\n",
        "print(f\"MSE: {-results.mean():.4f} ({results.std():.4f})\")"
      ],
      "execution_count": null,
      "outputs": [
        {
          "output_type": "stream",
          "name": "stdout",
          "text": [
            "MSE: 10.9898 (4.4357)\n"
          ]
        }
      ]
    },
    {
      "cell_type": "markdown",
      "metadata": {
        "id": "FFUVnGQDzNCX"
      },
      "source": [
        "## Voting / Stacking\n",
        "- Building multiple models (typically of differing types) and combining predictions.\n",
        "- Another step toward data science awards."
      ]
    },
    {
      "cell_type": "markdown",
      "metadata": {
        "id": "6Y8FdzfyzFSm"
      },
      "source": [
        "### Averaging\n",
        "- Simple statistics (like calculating the mean) are used to combine predictions.\n",
        "- [How to use it](https://scikit-learn.org/stable/modules/generated/sklearn.ensemble.VotingRegressor)"
      ]
    },
    {
      "cell_type": "code",
      "metadata": {
        "colab": {
          "base_uri": "https://localhost:8080/"
        },
        "id": "RsPiHI39zvFY",
        "outputId": "152ce87b-c815-4b82-cf15-be9c474befe2"
      },
      "source": [
        "from sklearn.model_selection import KFold, cross_val_score\n",
        "from sklearn.linear_model import LinearRegression\n",
        "from sklearn.ensemble import RandomForestRegressor\n",
        "from sklearn.ensemble import GradientBoostingRegressor\n",
        "from sklearn.ensemble import VotingRegressor\n",
        "\n",
        "X = df_housing.copy()\n",
        "y = X.pop('medv')\n",
        "\n",
        "kfold = KFold(n_splits=5, shuffle=True, random_state=8)\n",
        "\n",
        "estimators = [('linear_regressor', LinearRegression()),\n",
        "              ('random_forest', RandomForestRegressor(n_estimators=100, max_features=3, random_state=8)),\n",
        "              ('gradient_boost', GradientBoostingRegressor(n_estimators=100, min_samples_leaf=4, random_state=8))]\n",
        "\n",
        "model = VotingRegressor(estimators)\n",
        "\n",
        "scoring = 'neg_mean_squared_error'\n",
        "results = cross_val_score(model, X, y, cv=kfold, scoring=scoring)\n",
        "print(f\"MSE: {-results.mean():.4f} ({results.std():.4f})\")"
      ],
      "execution_count": null,
      "outputs": [
        {
          "output_type": "stream",
          "name": "stdout",
          "text": [
            "MSE: 12.0417 (4.9395)\n"
          ]
        }
      ]
    },
    {
      "cell_type": "markdown",
      "metadata": {
        "id": "2QN88KmZ2eWt"
      },
      "source": [
        "### Stacking\n",
        "- Consists in stacking the output of individual estimator (typically of differing types) and use a regressor to compute the final prediction.\n",
        "\n",
        "- Allows to use the strength of each individual estimator by using their output as input of a final estimator.\n",
        "\n",
        "- [How to use it](https://scikit-learn.org/stable/modules/generated/sklearn.ensemble.StackingRegressor.html)"
      ]
    },
    {
      "cell_type": "code",
      "metadata": {
        "colab": {
          "base_uri": "https://localhost:8080/"
        },
        "id": "Lp_Sybz32n0Y",
        "outputId": "410301d2-733e-477f-9348-d91613a19ea5"
      },
      "source": [
        "from sklearn.model_selection import KFold, cross_val_score\n",
        "from sklearn.linear_model import LinearRegression\n",
        "from sklearn.ensemble import RandomForestRegressor\n",
        "from sklearn.ensemble import GradientBoostingRegressor\n",
        "from sklearn.ensemble import StackingRegressor\n",
        "\n",
        "X = df_housing.copy()\n",
        "y = X.pop('medv')\n",
        "\n",
        "kfold = KFold(n_splits=5, shuffle=True, random_state=8)\n",
        "\n",
        "estimators = [('linear_regressor', LinearRegression()),\n",
        "              ('random_forest', RandomForestRegressor(n_estimators=100, max_features=3, random_state=8)),\n",
        "              ('gradient_boost', GradientBoostingRegressor(n_estimators=100, min_samples_leaf=4, random_state=8))]\n",
        "\n",
        "model = StackingRegressor(estimators, passthrough=False)\n",
        "\n",
        "scoring = 'neg_mean_squared_error'\n",
        "results = cross_val_score(model, X, y, cv=kfold, scoring=scoring)\n",
        "print(f\"MSE: {-results.mean():.4f} ({results.std():.4f})\")"
      ],
      "execution_count": null,
      "outputs": [
        {
          "output_type": "stream",
          "name": "stdout",
          "text": [
            "MSE: 10.7812 (4.1656)\n"
          ]
        }
      ]
    }
  ]
}