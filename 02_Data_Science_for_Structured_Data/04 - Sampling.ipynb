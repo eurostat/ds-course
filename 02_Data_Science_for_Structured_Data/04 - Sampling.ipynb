{
  "nbformat": 4,
  "nbformat_minor": 0,
  "metadata": {
    "colab": {
      "name": "04 - Data Sampling",
      "provenance": [],
      "collapsed_sections": [],
      "toc_visible": true
    },
    "kernelspec": {
      "name": "python3",
      "display_name": "Python 3"
    },
    "language_info": {
      "name": "python"
    }
  },
  "cells": [
    {
      "cell_type": "markdown",
      "metadata": {
        "id": "hS45lYAmmjmP"
      },
      "source": [
        "# Libraries"
      ]
    },
    {
      "cell_type": "code",
      "metadata": {
        "id": "MooF5k5vmlSM"
      },
      "source": [
        "from google.colab import drive\n",
        "import matplotlib.pyplot as plt\n",
        "import numpy as np\n",
        "import os as os\n",
        "import pandas as pd\n",
        "import seaborn as sns\n",
        "\n",
        "import random\n",
        "random.seed(0) # pick your seed\n",
        "\n",
        "from sklearn.model_selection import train_test_split\n",
        "from sklearn.model_selection import KFold\n",
        "from sklearn.model_selection import cross_val_score\n",
        "\n",
        "from sklearn.preprocessing import LabelEncoder\n",
        "from sklearn.linear_model import LogisticRegression\n",
        "from sklearn.svm import SVR\n",
        "from sklearn.metrics import confusion_matrix\n",
        "from sklearn.metrics import plot_roc_curve\n",
        "from sklearn.metrics import plot_confusion_matrix\n",
        "from sklearn.metrics import classification_report"
      ],
      "execution_count": null,
      "outputs": []
    },
    {
      "cell_type": "markdown",
      "metadata": {
        "id": "JYCg8uYSmrNx"
      },
      "source": [
        "# Data"
      ]
    },
    {
      "cell_type": "code",
      "metadata": {
        "colab": {
          "base_uri": "https://localhost:8080/"
        },
        "id": "uX1DziSqmoL_",
        "outputId": "d1e6257f-cb4b-44d8-9edb-64c07fa4a5fe"
      },
      "source": [
        "import sys\n",
        "IN_COLAB = 'google.colab' in sys.modules\n",
        "if IN_COLAB:\n",
        "  drive.mount('/content/gdrive', force_remount=True)\n",
        "  dir = os.path.join('gdrive', 'My Drive', 'Eurostat', '02 - Data Science for Structured Data')\n",
        "  data_dir = os.path.join(dir, 'data')\n",
        "  os.system('cd \"gdrive${dir}\" && mkdir -p data')\n",
        "else:\n",
        "  data_dir = \".\" "
      ],
      "execution_count": null,
      "outputs": [
        {
          "output_type": "stream",
          "name": "stdout",
          "text": [
            "Mounted at /content/gdrive\n"
          ]
        }
      ]
    },
    {
      "cell_type": "code",
      "metadata": {
        "colab": {
          "base_uri": "https://localhost:8080/",
          "height": 142
        },
        "id": "ABH1QSo3msEu",
        "outputId": "a44349bb-66d7-4a83-a370-681a7f544b20"
      },
      "source": [
        "df_iris = pd.read_csv(os.path.join(data_dir, 'iris.csv'),\n",
        "                      header=None,\n",
        "                      names=['sepal_length', 'sepal_width', 'petal_length', 'petal_width', 'class'])\n",
        "df_iris.sample(3)"
      ],
      "execution_count": null,
      "outputs": [
        {
          "output_type": "execute_result",
          "data": {
            "text/html": [
              "<div>\n",
              "<style scoped>\n",
              "    .dataframe tbody tr th:only-of-type {\n",
              "        vertical-align: middle;\n",
              "    }\n",
              "\n",
              "    .dataframe tbody tr th {\n",
              "        vertical-align: top;\n",
              "    }\n",
              "\n",
              "    .dataframe thead th {\n",
              "        text-align: right;\n",
              "    }\n",
              "</style>\n",
              "<table border=\"1\" class=\"dataframe\">\n",
              "  <thead>\n",
              "    <tr style=\"text-align: right;\">\n",
              "      <th></th>\n",
              "      <th>sepal_length</th>\n",
              "      <th>sepal_width</th>\n",
              "      <th>petal_length</th>\n",
              "      <th>petal_width</th>\n",
              "      <th>class</th>\n",
              "    </tr>\n",
              "  </thead>\n",
              "  <tbody>\n",
              "    <tr>\n",
              "      <th>45</th>\n",
              "      <td>4.8</td>\n",
              "      <td>3.0</td>\n",
              "      <td>1.4</td>\n",
              "      <td>0.3</td>\n",
              "      <td>Iris-setosa</td>\n",
              "    </tr>\n",
              "    <tr>\n",
              "      <th>74</th>\n",
              "      <td>6.4</td>\n",
              "      <td>2.9</td>\n",
              "      <td>4.3</td>\n",
              "      <td>1.3</td>\n",
              "      <td>Iris-versicolor</td>\n",
              "    </tr>\n",
              "    <tr>\n",
              "      <th>41</th>\n",
              "      <td>4.5</td>\n",
              "      <td>2.3</td>\n",
              "      <td>1.3</td>\n",
              "      <td>0.3</td>\n",
              "      <td>Iris-setosa</td>\n",
              "    </tr>\n",
              "  </tbody>\n",
              "</table>\n",
              "</div>"
            ],
            "text/plain": [
              "    sepal_length  sepal_width  petal_length  petal_width            class\n",
              "45           4.8          3.0           1.4          0.3      Iris-setosa\n",
              "74           6.4          2.9           4.3          1.3  Iris-versicolor\n",
              "41           4.5          2.3           1.3          0.3      Iris-setosa"
            ]
          },
          "metadata": {},
          "execution_count": 3
        }
      ]
    },
    {
      "cell_type": "code",
      "metadata": {
        "colab": {
          "base_uri": "https://localhost:8080/",
          "height": 142
        },
        "id": "dQ4Cxir4mziS",
        "outputId": "d3ceab67-e5a7-4f0f-9a40-9a818ae3edd8"
      },
      "source": [
        "df_pima = pd.read_csv(os.path.join(data_dir, 'pima.csv'),\n",
        "                      header=8,\n",
        "                      names = ['preg', 'gluc', 'pres', 'skin' ,'insu', 'bmi', 'pedi', 'age', 'class'])\n",
        "df_pima.sample(3)"
      ],
      "execution_count": null,
      "outputs": [
        {
          "output_type": "execute_result",
          "data": {
            "text/html": [
              "<div>\n",
              "<style scoped>\n",
              "    .dataframe tbody tr th:only-of-type {\n",
              "        vertical-align: middle;\n",
              "    }\n",
              "\n",
              "    .dataframe tbody tr th {\n",
              "        vertical-align: top;\n",
              "    }\n",
              "\n",
              "    .dataframe thead th {\n",
              "        text-align: right;\n",
              "    }\n",
              "</style>\n",
              "<table border=\"1\" class=\"dataframe\">\n",
              "  <thead>\n",
              "    <tr style=\"text-align: right;\">\n",
              "      <th></th>\n",
              "      <th>preg</th>\n",
              "      <th>gluc</th>\n",
              "      <th>pres</th>\n",
              "      <th>skin</th>\n",
              "      <th>insu</th>\n",
              "      <th>bmi</th>\n",
              "      <th>pedi</th>\n",
              "      <th>age</th>\n",
              "      <th>class</th>\n",
              "    </tr>\n",
              "  </thead>\n",
              "  <tbody>\n",
              "    <tr>\n",
              "      <th>73</th>\n",
              "      <td>4</td>\n",
              "      <td>129</td>\n",
              "      <td>86</td>\n",
              "      <td>20</td>\n",
              "      <td>270</td>\n",
              "      <td>35.1</td>\n",
              "      <td>0.231</td>\n",
              "      <td>23</td>\n",
              "      <td>0</td>\n",
              "    </tr>\n",
              "    <tr>\n",
              "      <th>734</th>\n",
              "      <td>2</td>\n",
              "      <td>105</td>\n",
              "      <td>75</td>\n",
              "      <td>0</td>\n",
              "      <td>0</td>\n",
              "      <td>23.3</td>\n",
              "      <td>0.560</td>\n",
              "      <td>53</td>\n",
              "      <td>0</td>\n",
              "    </tr>\n",
              "    <tr>\n",
              "      <th>388</th>\n",
              "      <td>5</td>\n",
              "      <td>144</td>\n",
              "      <td>82</td>\n",
              "      <td>26</td>\n",
              "      <td>285</td>\n",
              "      <td>32.0</td>\n",
              "      <td>0.452</td>\n",
              "      <td>58</td>\n",
              "      <td>1</td>\n",
              "    </tr>\n",
              "  </tbody>\n",
              "</table>\n",
              "</div>"
            ],
            "text/plain": [
              "     preg  gluc  pres  skin  insu   bmi   pedi  age  class\n",
              "73      4   129    86    20   270  35.1  0.231   23      0\n",
              "734     2   105    75     0     0  23.3  0.560   53      0\n",
              "388     5   144    82    26   285  32.0  0.452   58      1"
            ]
          },
          "metadata": {},
          "execution_count": 4
        }
      ]
    },
    {
      "cell_type": "code",
      "metadata": {
        "colab": {
          "base_uri": "https://localhost:8080/",
          "height": 159
        },
        "id": "T9HUz_aFm1dp",
        "outputId": "0c046acf-65bc-4a6e-9b10-1884d049f69f"
      },
      "source": [
        "df_wine = pd.read_csv(os.path.join(data_dir, 'wine.csv'), \n",
        "                      sep=';')\n",
        "df_wine.sample(3)"
      ],
      "execution_count": null,
      "outputs": [
        {
          "output_type": "execute_result",
          "data": {
            "text/html": [
              "<div>\n",
              "<style scoped>\n",
              "    .dataframe tbody tr th:only-of-type {\n",
              "        vertical-align: middle;\n",
              "    }\n",
              "\n",
              "    .dataframe tbody tr th {\n",
              "        vertical-align: top;\n",
              "    }\n",
              "\n",
              "    .dataframe thead th {\n",
              "        text-align: right;\n",
              "    }\n",
              "</style>\n",
              "<table border=\"1\" class=\"dataframe\">\n",
              "  <thead>\n",
              "    <tr style=\"text-align: right;\">\n",
              "      <th></th>\n",
              "      <th>fixed acidity</th>\n",
              "      <th>volatile acidity</th>\n",
              "      <th>citric acid</th>\n",
              "      <th>residual sugar</th>\n",
              "      <th>chlorides</th>\n",
              "      <th>free sulfur dioxide</th>\n",
              "      <th>total sulfur dioxide</th>\n",
              "      <th>density</th>\n",
              "      <th>pH</th>\n",
              "      <th>sulphates</th>\n",
              "      <th>alcohol</th>\n",
              "      <th>quality</th>\n",
              "    </tr>\n",
              "  </thead>\n",
              "  <tbody>\n",
              "    <tr>\n",
              "      <th>39</th>\n",
              "      <td>7.3</td>\n",
              "      <td>0.45</td>\n",
              "      <td>0.36</td>\n",
              "      <td>5.9</td>\n",
              "      <td>0.074</td>\n",
              "      <td>12.0</td>\n",
              "      <td>87.0</td>\n",
              "      <td>0.99780</td>\n",
              "      <td>3.33</td>\n",
              "      <td>0.83</td>\n",
              "      <td>10.5</td>\n",
              "      <td>5</td>\n",
              "    </tr>\n",
              "    <tr>\n",
              "      <th>758</th>\n",
              "      <td>8.1</td>\n",
              "      <td>0.87</td>\n",
              "      <td>0.00</td>\n",
              "      <td>2.2</td>\n",
              "      <td>0.084</td>\n",
              "      <td>10.0</td>\n",
              "      <td>31.0</td>\n",
              "      <td>0.99656</td>\n",
              "      <td>3.25</td>\n",
              "      <td>0.50</td>\n",
              "      <td>9.8</td>\n",
              "      <td>5</td>\n",
              "    </tr>\n",
              "    <tr>\n",
              "      <th>899</th>\n",
              "      <td>8.3</td>\n",
              "      <td>1.02</td>\n",
              "      <td>0.02</td>\n",
              "      <td>3.4</td>\n",
              "      <td>0.084</td>\n",
              "      <td>6.0</td>\n",
              "      <td>11.0</td>\n",
              "      <td>0.99892</td>\n",
              "      <td>3.48</td>\n",
              "      <td>0.49</td>\n",
              "      <td>11.0</td>\n",
              "      <td>3</td>\n",
              "    </tr>\n",
              "  </tbody>\n",
              "</table>\n",
              "</div>"
            ],
            "text/plain": [
              "     fixed acidity  volatile acidity  citric acid  ...  sulphates  alcohol  quality\n",
              "39             7.3              0.45         0.36  ...       0.83     10.5        5\n",
              "758            8.1              0.87         0.00  ...       0.50      9.8        5\n",
              "899            8.3              1.02         0.02  ...       0.49     11.0        3\n",
              "\n",
              "[3 rows x 12 columns]"
            ]
          },
          "metadata": {},
          "execution_count": 5
        }
      ]
    },
    {
      "cell_type": "code",
      "metadata": {
        "colab": {
          "base_uri": "https://localhost:8080/",
          "height": 142
        },
        "id": "Qkkneto3m4Am",
        "outputId": "59ec9282-7292-4bc1-b164-582b7b12429e"
      },
      "source": [
        "df_housing = pd.read_csv(os.path.join(data_dir, 'housing.csv'))\n",
        "df_housing.sample(3)"
      ],
      "execution_count": null,
      "outputs": [
        {
          "output_type": "execute_result",
          "data": {
            "text/html": [
              "<div>\n",
              "<style scoped>\n",
              "    .dataframe tbody tr th:only-of-type {\n",
              "        vertical-align: middle;\n",
              "    }\n",
              "\n",
              "    .dataframe tbody tr th {\n",
              "        vertical-align: top;\n",
              "    }\n",
              "\n",
              "    .dataframe thead th {\n",
              "        text-align: right;\n",
              "    }\n",
              "</style>\n",
              "<table border=\"1\" class=\"dataframe\">\n",
              "  <thead>\n",
              "    <tr style=\"text-align: right;\">\n",
              "      <th></th>\n",
              "      <th>crim</th>\n",
              "      <th>zn</th>\n",
              "      <th>indus</th>\n",
              "      <th>chas</th>\n",
              "      <th>nox</th>\n",
              "      <th>rm</th>\n",
              "      <th>age</th>\n",
              "      <th>dis</th>\n",
              "      <th>rad</th>\n",
              "      <th>tax</th>\n",
              "      <th>ptratio</th>\n",
              "      <th>b</th>\n",
              "      <th>lstat</th>\n",
              "      <th>medv</th>\n",
              "    </tr>\n",
              "  </thead>\n",
              "  <tbody>\n",
              "    <tr>\n",
              "      <th>259</th>\n",
              "      <td>0.65665</td>\n",
              "      <td>20.0</td>\n",
              "      <td>3.97</td>\n",
              "      <td>0</td>\n",
              "      <td>0.647</td>\n",
              "      <td>6.842</td>\n",
              "      <td>100.0</td>\n",
              "      <td>2.0107</td>\n",
              "      <td>5</td>\n",
              "      <td>264</td>\n",
              "      <td>13.0</td>\n",
              "      <td>391.93</td>\n",
              "      <td>6.90</td>\n",
              "      <td>30.1</td>\n",
              "    </tr>\n",
              "    <tr>\n",
              "      <th>241</th>\n",
              "      <td>0.10612</td>\n",
              "      <td>30.0</td>\n",
              "      <td>4.93</td>\n",
              "      <td>0</td>\n",
              "      <td>0.428</td>\n",
              "      <td>6.095</td>\n",
              "      <td>65.1</td>\n",
              "      <td>6.3361</td>\n",
              "      <td>6</td>\n",
              "      <td>300</td>\n",
              "      <td>16.6</td>\n",
              "      <td>394.62</td>\n",
              "      <td>12.40</td>\n",
              "      <td>20.1</td>\n",
              "    </tr>\n",
              "    <tr>\n",
              "      <th>207</th>\n",
              "      <td>0.25199</td>\n",
              "      <td>0.0</td>\n",
              "      <td>10.59</td>\n",
              "      <td>0</td>\n",
              "      <td>0.489</td>\n",
              "      <td>5.783</td>\n",
              "      <td>72.7</td>\n",
              "      <td>4.3549</td>\n",
              "      <td>4</td>\n",
              "      <td>277</td>\n",
              "      <td>18.6</td>\n",
              "      <td>389.43</td>\n",
              "      <td>18.06</td>\n",
              "      <td>22.5</td>\n",
              "    </tr>\n",
              "  </tbody>\n",
              "</table>\n",
              "</div>"
            ],
            "text/plain": [
              "        crim    zn  indus  chas    nox  ...  tax  ptratio       b  lstat  medv\n",
              "259  0.65665  20.0   3.97     0  0.647  ...  264     13.0  391.93   6.90  30.1\n",
              "241  0.10612  30.0   4.93     0  0.428  ...  300     16.6  394.62  12.40  20.1\n",
              "207  0.25199   0.0  10.59     0  0.489  ...  277     18.6  389.43  18.06  22.5\n",
              "\n",
              "[3 rows x 14 columns]"
            ]
          },
          "metadata": {},
          "execution_count": 6
        }
      ]
    },
    {
      "cell_type": "code",
      "metadata": {
        "colab": {
          "base_uri": "https://localhost:8080/",
          "height": 142
        },
        "id": "dHZCRstjm6XB",
        "outputId": "ff525fb3-44f8-49a1-bfd4-8aa2da08b948"
      },
      "source": [
        "df_happiness = pd.read_csv(os.path.join(data_dir, 'happiness.csv'))\n",
        "df_happiness.sample(3)"
      ],
      "execution_count": null,
      "outputs": [
        {
          "output_type": "execute_result",
          "data": {
            "text/html": [
              "<div>\n",
              "<style scoped>\n",
              "    .dataframe tbody tr th:only-of-type {\n",
              "        vertical-align: middle;\n",
              "    }\n",
              "\n",
              "    .dataframe tbody tr th {\n",
              "        vertical-align: top;\n",
              "    }\n",
              "\n",
              "    .dataframe thead th {\n",
              "        text-align: right;\n",
              "    }\n",
              "</style>\n",
              "<table border=\"1\" class=\"dataframe\">\n",
              "  <thead>\n",
              "    <tr style=\"text-align: right;\">\n",
              "      <th></th>\n",
              "      <th>isced11</th>\n",
              "      <th>sex</th>\n",
              "      <th>age</th>\n",
              "      <th>geo</th>\n",
              "      <th>time</th>\n",
              "      <th>ACCSAT</th>\n",
              "      <th>COMSAT</th>\n",
              "      <th>FINSAT</th>\n",
              "      <th>GREENSAT</th>\n",
              "      <th>JOBSAT</th>\n",
              "      <th>LIFESAT</th>\n",
              "      <th>LIVENVSAT</th>\n",
              "      <th>MEANLIFE</th>\n",
              "      <th>RELSAT</th>\n",
              "      <th>TIMESAT</th>\n",
              "    </tr>\n",
              "  </thead>\n",
              "  <tbody>\n",
              "    <tr>\n",
              "      <th>679</th>\n",
              "      <td>ED0-2</td>\n",
              "      <td>M</td>\n",
              "      <td>Y65-74</td>\n",
              "      <td>NO</td>\n",
              "      <td>2013</td>\n",
              "      <td>8.6</td>\n",
              "      <td>NaN</td>\n",
              "      <td>7.9</td>\n",
              "      <td>9.0</td>\n",
              "      <td>NaN</td>\n",
              "      <td>8.2</td>\n",
              "      <td>8.9</td>\n",
              "      <td>8.3</td>\n",
              "      <td>8.8</td>\n",
              "      <td>8.6</td>\n",
              "    </tr>\n",
              "    <tr>\n",
              "      <th>405</th>\n",
              "      <td>ED0-2</td>\n",
              "      <td>M</td>\n",
              "      <td>Y16-24</td>\n",
              "      <td>PT</td>\n",
              "      <td>2013</td>\n",
              "      <td>7.6</td>\n",
              "      <td>6.7</td>\n",
              "      <td>5.4</td>\n",
              "      <td>6.3</td>\n",
              "      <td>7.1</td>\n",
              "      <td>7.3</td>\n",
              "      <td>6.2</td>\n",
              "      <td>7.9</td>\n",
              "      <td>8.5</td>\n",
              "      <td>7.6</td>\n",
              "    </tr>\n",
              "    <tr>\n",
              "      <th>545</th>\n",
              "      <td>ED0-2</td>\n",
              "      <td>M</td>\n",
              "      <td>Y35-49</td>\n",
              "      <td>RS</td>\n",
              "      <td>2013</td>\n",
              "      <td>5.0</td>\n",
              "      <td>6.3</td>\n",
              "      <td>2.8</td>\n",
              "      <td>4.5</td>\n",
              "      <td>4.8</td>\n",
              "      <td>3.8</td>\n",
              "      <td>4.1</td>\n",
              "      <td>6.3</td>\n",
              "      <td>7.9</td>\n",
              "      <td>4.9</td>\n",
              "    </tr>\n",
              "  </tbody>\n",
              "</table>\n",
              "</div>"
            ],
            "text/plain": [
              "    isced11 sex     age geo  ...  LIVENVSAT  MEANLIFE  RELSAT  TIMESAT\n",
              "679   ED0-2   M  Y65-74  NO  ...        8.9       8.3     8.8      8.6\n",
              "405   ED0-2   M  Y16-24  PT  ...        6.2       7.9     8.5      7.6\n",
              "545   ED0-2   M  Y35-49  RS  ...        4.1       6.3     7.9      4.9\n",
              "\n",
              "[3 rows x 15 columns]"
            ]
          },
          "metadata": {},
          "execution_count": 7
        }
      ]
    },
    {
      "cell_type": "markdown",
      "metadata": {
        "id": "i7YpMROxNaBu"
      },
      "source": [
        "# Sampling"
      ]
    },
    {
      "cell_type": "markdown",
      "metadata": {
        "id": "5MDaS2c1NeqE"
      },
      "source": [
        "## Train- & Test-Sets\n",
        "- Very fast\n",
        "- Ideal for large datasets (millions of records)\n",
        "- Ideal for slow-to-train algorithms"
      ]
    },
    {
      "cell_type": "code",
      "metadata": {
        "id": "bfOxQNdMENzx",
        "colab": {
          "base_uri": "https://localhost:8080/"
        },
        "outputId": "b9240f52-d7a7-464c-e0f8-b7aab8801e6c"
      },
      "source": [
        "from sklearn.model_selection import train_test_split\n",
        "\n",
        "X = df_iris.copy()\n",
        "y = X.pop('class')\n",
        "\n",
        "test_size = 0.33\n",
        "seed = 8\n",
        "\n",
        "X_train, X_test, y_train, y_test = train_test_split(X, y, test_size=test_size, random_state=seed)\n",
        "\n",
        "print('Train: ', X_train.shape, y_train.shape)\n",
        "print('Test:  ', X_test.shape, y_test.shape)"
      ],
      "execution_count": null,
      "outputs": [
        {
          "output_type": "stream",
          "name": "stdout",
          "text": [
            "Train:  (100, 4) (100,)\n",
            "Test:   (50, 4) (50,)\n"
          ]
        }
      ]
    },
    {
      "cell_type": "code",
      "metadata": {
        "colab": {
          "base_uri": "https://localhost:8080/",
          "height": 204
        },
        "id": "3VOoHxHkPMqt",
        "outputId": "2dc43b70-3b0d-4514-e333-9898ea2aab52"
      },
      "source": [
        "X_train.sample(5)"
      ],
      "execution_count": null,
      "outputs": [
        {
          "output_type": "execute_result",
          "data": {
            "text/html": [
              "<div>\n",
              "<style scoped>\n",
              "    .dataframe tbody tr th:only-of-type {\n",
              "        vertical-align: middle;\n",
              "    }\n",
              "\n",
              "    .dataframe tbody tr th {\n",
              "        vertical-align: top;\n",
              "    }\n",
              "\n",
              "    .dataframe thead th {\n",
              "        text-align: right;\n",
              "    }\n",
              "</style>\n",
              "<table border=\"1\" class=\"dataframe\">\n",
              "  <thead>\n",
              "    <tr style=\"text-align: right;\">\n",
              "      <th></th>\n",
              "      <th>sepal_length</th>\n",
              "      <th>sepal_width</th>\n",
              "      <th>petal_length</th>\n",
              "      <th>petal_width</th>\n",
              "    </tr>\n",
              "  </thead>\n",
              "  <tbody>\n",
              "    <tr>\n",
              "      <th>102</th>\n",
              "      <td>7.1</td>\n",
              "      <td>3.0</td>\n",
              "      <td>5.9</td>\n",
              "      <td>2.1</td>\n",
              "    </tr>\n",
              "    <tr>\n",
              "      <th>13</th>\n",
              "      <td>4.3</td>\n",
              "      <td>3.0</td>\n",
              "      <td>1.1</td>\n",
              "      <td>0.1</td>\n",
              "    </tr>\n",
              "    <tr>\n",
              "      <th>130</th>\n",
              "      <td>7.4</td>\n",
              "      <td>2.8</td>\n",
              "      <td>6.1</td>\n",
              "      <td>1.9</td>\n",
              "    </tr>\n",
              "    <tr>\n",
              "      <th>138</th>\n",
              "      <td>6.0</td>\n",
              "      <td>3.0</td>\n",
              "      <td>4.8</td>\n",
              "      <td>1.8</td>\n",
              "    </tr>\n",
              "    <tr>\n",
              "      <th>110</th>\n",
              "      <td>6.5</td>\n",
              "      <td>3.2</td>\n",
              "      <td>5.1</td>\n",
              "      <td>2.0</td>\n",
              "    </tr>\n",
              "  </tbody>\n",
              "</table>\n",
              "</div>"
            ],
            "text/plain": [
              "     sepal_length  sepal_width  petal_length  petal_width\n",
              "102           7.1          3.0           5.9          2.1\n",
              "13            4.3          3.0           1.1          0.1\n",
              "130           7.4          2.8           6.1          1.9\n",
              "138           6.0          3.0           4.8          1.8\n",
              "110           6.5          3.2           5.1          2.0"
            ]
          },
          "metadata": {},
          "execution_count": 9
        }
      ]
    },
    {
      "cell_type": "code",
      "metadata": {
        "colab": {
          "base_uri": "https://localhost:8080/"
        },
        "id": "SIKxdM6TWNS-",
        "outputId": "af222901-93bc-4a43-b78b-177aa0f8d183"
      },
      "source": [
        "y_train.sample(5)"
      ],
      "execution_count": null,
      "outputs": [
        {
          "output_type": "execute_result",
          "data": {
            "text/plain": [
              "108     Iris-virginica\n",
              "59     Iris-versicolor\n",
              "53     Iris-versicolor\n",
              "35         Iris-setosa\n",
              "37         Iris-setosa\n",
              "Name: class, dtype: object"
            ]
          },
          "metadata": {},
          "execution_count": 10
        }
      ]
    },
    {
      "cell_type": "code",
      "metadata": {
        "colab": {
          "base_uri": "https://localhost:8080/"
        },
        "id": "31hpGzrTjuCO",
        "outputId": "1b8cb677-9fff-432a-de8d-720741ccf375"
      },
      "source": [
        "from sklearn.preprocessing import LabelEncoder\n",
        "from sklearn.svm import SVR\n",
        "\n",
        "label_encoder = LabelEncoder()\n",
        "y_train_enc = label_encoder.fit_transform(y_train)\n",
        "y_test_enc = label_encoder.transform(y_test)\n",
        "\n",
        "model = SVR()\n",
        "model.fit(X_train, y_train_enc)\n",
        "\n",
        "preds = np.round(model.predict(X_test), 0)\n",
        "correct = [int(pred_i) == y_i for pred_i, y_i in zip(preds, y_test_enc)]\n",
        "print(f\"Accuracy: {sum(correct)/len(correct)*100:.2f}%\")"
      ],
      "execution_count": null,
      "outputs": [
        {
          "output_type": "stream",
          "name": "stdout",
          "text": [
            "Accuracy: 98.00%\n"
          ]
        }
      ]
    },
    {
      "cell_type": "markdown",
      "metadata": {
        "id": "Q8cP3HBmhI1E"
      },
      "source": [
        "### Stratification"
      ]
    },
    {
      "cell_type": "code",
      "metadata": {
        "colab": {
          "base_uri": "https://localhost:8080/"
        },
        "id": "U1kUMtwdhK-z",
        "outputId": "a68f3718-4e28-467c-f4ae-1be39991a628"
      },
      "source": [
        "df_iris['class'].value_counts()"
      ],
      "execution_count": null,
      "outputs": [
        {
          "output_type": "execute_result",
          "data": {
            "text/plain": [
              "Iris-virginica     50\n",
              "Iris-versicolor    50\n",
              "Iris-setosa        50\n",
              "Name: class, dtype: int64"
            ]
          },
          "metadata": {},
          "execution_count": 12
        }
      ]
    },
    {
      "cell_type": "code",
      "metadata": {
        "colab": {
          "base_uri": "https://localhost:8080/"
        },
        "id": "as5deOvzhLFJ",
        "outputId": "0c7183cf-adbd-4e2d-b911-fe39b8b8e0a4"
      },
      "source": [
        "df_pima['class'].value_counts()"
      ],
      "execution_count": null,
      "outputs": [
        {
          "output_type": "execute_result",
          "data": {
            "text/plain": [
              "0    500\n",
              "1    268\n",
              "Name: class, dtype: int64"
            ]
          },
          "metadata": {},
          "execution_count": 13
        }
      ]
    },
    {
      "cell_type": "code",
      "metadata": {
        "colab": {
          "base_uri": "https://localhost:8080/"
        },
        "id": "xKHbQ8sphWDk",
        "outputId": "74784f60-5404-4025-c31e-e00fa5b73c62"
      },
      "source": [
        "df_wine['quality'].value_counts()"
      ],
      "execution_count": null,
      "outputs": [
        {
          "output_type": "execute_result",
          "data": {
            "text/plain": [
              "5    681\n",
              "6    638\n",
              "7    199\n",
              "4     53\n",
              "8     18\n",
              "3     10\n",
              "Name: quality, dtype: int64"
            ]
          },
          "metadata": {},
          "execution_count": 14
        }
      ]
    },
    {
      "cell_type": "code",
      "metadata": {
        "colab": {
          "base_uri": "https://localhost:8080/",
          "height": 824
        },
        "id": "ndDaxYP_hDq2",
        "outputId": "4e4df9c0-5154-42c0-bc08-f77e97fe2a12"
      },
      "source": [
        "%%html\n",
        "<iframe src=\"https://scikit-learn.org/stable/modules/generated/sklearn.model_selection.StratifiedShuffleSplit.html\" width=\"1000\" height=\"800\"></iframe>"
      ],
      "execution_count": null,
      "outputs": [
        {
          "output_type": "display_data",
          "data": {
            "text/html": [
              "<iframe src=\"https://scikit-learn.org/stable/modules/generated/sklearn.model_selection.StratifiedShuffleSplit.html\" width=\"1000\" height=\"800\"></iframe>"
            ],
            "text/plain": [
              "<IPython.core.display.HTML object>"
            ]
          },
          "metadata": {}
        }
      ]
    },
    {
      "cell_type": "markdown",
      "metadata": {
        "id": "bkPxlUaRhhsd"
      },
      "source": [
        "## K-fold Cross-Validation\n",
        "- a more reliable estimate of the performance of the algorithm on new data\n",
        "- **Gold standard** with _k = 3, 5, 10_"
      ]
    },
    {
      "cell_type": "code",
      "metadata": {
        "colab": {
          "base_uri": "https://localhost:8080/"
        },
        "id": "OBvQC2bug9vV",
        "outputId": "41ff0fd0-240b-425e-9239-9da57e4c4401"
      },
      "source": [
        "from sklearn.model_selection import KFold, cross_val_score\n",
        "from sklearn.linear_model import LogisticRegression\n",
        "\n",
        "X = df_pima.copy()\n",
        "y = X.pop('class')\n",
        "\n",
        "kfold = KFold(n_splits=5, shuffle=True, random_state=8)\n",
        "model = LogisticRegression(max_iter=1000)\n",
        "\n",
        "results = cross_val_score(model, X, y, cv=kfold)\n",
        "print(\"Accuracy: %.3f%% (%.3f%%)\" % (results.mean()*100.0, results.std()*100.0))"
      ],
      "execution_count": null,
      "outputs": [
        {
          "output_type": "stream",
          "name": "stdout",
          "text": [
            "Accuracy: 77.081% (1.650%)\n"
          ]
        }
      ]
    },
    {
      "cell_type": "code",
      "metadata": {
        "colab": {
          "base_uri": "https://localhost:8080/"
        },
        "id": "_Fj41ADqWQw7",
        "outputId": "38666ff1-831b-45b1-a4c2-ae8aa5fbd5f2"
      },
      "source": [
        "class_counts = sorted(y.value_counts().values)\n",
        "print(f'The baseline is at: {class_counts[-1]/sum(class_counts)*100:.2f}%')"
      ],
      "execution_count": null,
      "outputs": [
        {
          "output_type": "stream",
          "name": "stdout",
          "text": [
            "The baseline is at: 65.10%\n"
          ]
        }
      ]
    },
    {
      "cell_type": "code",
      "metadata": {
        "colab": {
          "base_uri": "https://localhost:8080/"
        },
        "id": "XWAi2jX5o9zG",
        "outputId": "c2f65586-0ab4-4f67-9a96-b1b435e3a8b4"
      },
      "source": [
        "help(cross_val_score)"
      ],
      "execution_count": null,
      "outputs": [
        {
          "output_type": "stream",
          "name": "stdout",
          "text": [
            "Help on function cross_val_score in module sklearn.model_selection._validation:\n",
            "\n",
            "cross_val_score(estimator, X, y=None, groups=None, scoring=None, cv=None, n_jobs=None, verbose=0, fit_params=None, pre_dispatch='2*n_jobs', error_score=nan)\n",
            "    Evaluate a score by cross-validation\n",
            "    \n",
            "    Read more in the :ref:`User Guide <cross_validation>`.\n",
            "    \n",
            "    Parameters\n",
            "    ----------\n",
            "    estimator : estimator object implementing 'fit'\n",
            "        The object to use to fit the data.\n",
            "    \n",
            "    X : array-like\n",
            "        The data to fit. Can be for example a list, or an array.\n",
            "    \n",
            "    y : array-like, optional, default: None\n",
            "        The target variable to try to predict in the case of\n",
            "        supervised learning.\n",
            "    \n",
            "    groups : array-like, with shape (n_samples,), optional\n",
            "        Group labels for the samples used while splitting the dataset into\n",
            "        train/test set. Only used in conjunction with a \"Group\" :term:`cv`\n",
            "        instance (e.g., :class:`GroupKFold`).\n",
            "    \n",
            "    scoring : string, callable or None, optional, default: None\n",
            "        A string (see model evaluation documentation) or\n",
            "        a scorer callable object / function with signature\n",
            "        ``scorer(estimator, X, y)`` which should return only\n",
            "        a single value.\n",
            "    \n",
            "        Similar to :func:`cross_validate`\n",
            "        but only a single metric is permitted.\n",
            "    \n",
            "        If None, the estimator's default scorer (if available) is used.\n",
            "    \n",
            "    cv : int, cross-validation generator or an iterable, optional\n",
            "        Determines the cross-validation splitting strategy.\n",
            "        Possible inputs for cv are:\n",
            "    \n",
            "        - None, to use the default 5-fold cross validation,\n",
            "        - integer, to specify the number of folds in a `(Stratified)KFold`,\n",
            "        - :term:`CV splitter`,\n",
            "        - An iterable yielding (train, test) splits as arrays of indices.\n",
            "    \n",
            "        For integer/None inputs, if the estimator is a classifier and ``y`` is\n",
            "        either binary or multiclass, :class:`StratifiedKFold` is used. In all\n",
            "        other cases, :class:`KFold` is used.\n",
            "    \n",
            "        Refer :ref:`User Guide <cross_validation>` for the various\n",
            "        cross-validation strategies that can be used here.\n",
            "    \n",
            "        .. versionchanged:: 0.22\n",
            "            ``cv`` default value if None changed from 3-fold to 5-fold.\n",
            "    \n",
            "    n_jobs : int or None, optional (default=None)\n",
            "        The number of CPUs to use to do the computation.\n",
            "        ``None`` means 1 unless in a :obj:`joblib.parallel_backend` context.\n",
            "        ``-1`` means using all processors. See :term:`Glossary <n_jobs>`\n",
            "        for more details.\n",
            "    \n",
            "    verbose : integer, optional\n",
            "        The verbosity level.\n",
            "    \n",
            "    fit_params : dict, optional\n",
            "        Parameters to pass to the fit method of the estimator.\n",
            "    \n",
            "    pre_dispatch : int, or string, optional\n",
            "        Controls the number of jobs that get dispatched during parallel\n",
            "        execution. Reducing this number can be useful to avoid an\n",
            "        explosion of memory consumption when more jobs get dispatched\n",
            "        than CPUs can process. This parameter can be:\n",
            "    \n",
            "            - None, in which case all the jobs are immediately\n",
            "              created and spawned. Use this for lightweight and\n",
            "              fast-running jobs, to avoid delays due to on-demand\n",
            "              spawning of the jobs\n",
            "    \n",
            "            - An int, giving the exact number of total jobs that are\n",
            "              spawned\n",
            "    \n",
            "            - A string, giving an expression as a function of n_jobs,\n",
            "              as in '2*n_jobs'\n",
            "    \n",
            "    error_score : 'raise' or numeric\n",
            "        Value to assign to the score if an error occurs in estimator fitting.\n",
            "        If set to 'raise', the error is raised.\n",
            "        If a numeric value is given, FitFailedWarning is raised. This parameter\n",
            "        does not affect the refit step, which will always raise the error.\n",
            "    \n",
            "    Returns\n",
            "    -------\n",
            "    scores : array of float, shape=(len(list(cv)),)\n",
            "        Array of scores of the estimator for each run of the cross validation.\n",
            "    \n",
            "    Examples\n",
            "    --------\n",
            "    >>> from sklearn import datasets, linear_model\n",
            "    >>> from sklearn.model_selection import cross_val_score\n",
            "    >>> diabetes = datasets.load_diabetes()\n",
            "    >>> X = diabetes.data[:150]\n",
            "    >>> y = diabetes.target[:150]\n",
            "    >>> lasso = linear_model.Lasso()\n",
            "    >>> print(cross_val_score(lasso, X, y, cv=3))\n",
            "    [0.33150734 0.08022311 0.03531764]\n",
            "    \n",
            "    See Also\n",
            "    ---------\n",
            "    :func:`sklearn.model_selection.cross_validate`:\n",
            "        To run cross-validation on multiple metrics and also to return\n",
            "        train scores, fit times and score times.\n",
            "    \n",
            "    :func:`sklearn.model_selection.cross_val_predict`:\n",
            "        Get predictions from each split of cross-validation for diagnostic\n",
            "        purposes.\n",
            "    \n",
            "    :func:`sklearn.metrics.make_scorer`:\n",
            "        Make a scorer from a performance metric or loss function.\n",
            "\n"
          ]
        }
      ]
    },
    {
      "cell_type": "markdown",
      "metadata": {
        "id": "x9pArw0ioyv3"
      },
      "source": [
        "# Classification Metrics"
      ]
    },
    {
      "cell_type": "markdown",
      "metadata": {
        "id": "zigFChcHpKhh"
      },
      "source": [
        "### Classification Accuracy\n",
        "- is the number of correct predictions made as a ratio of all predictions\n",
        "made.\n",
        "- suitable when there are an equal number of observations in each class\n",
        "- suitable when all predictions and prediction errors are equally important"
      ]
    },
    {
      "cell_type": "code",
      "metadata": {
        "colab": {
          "base_uri": "https://localhost:8080/"
        },
        "id": "4vf1xMcopULT",
        "outputId": "b6742266-7b4e-44c7-a69b-449ec1442158"
      },
      "source": [
        "from sklearn.model_selection import KFold, cross_val_score\n",
        "from sklearn.linear_model import LogisticRegression\n",
        "\n",
        "X = df_pima.copy()\n",
        "y = X.pop('class')\n",
        "\n",
        "kfold = KFold(n_splits=5, shuffle=True, random_state=8)\n",
        "model = LogisticRegression(max_iter=1000)\n",
        "\n",
        "results = cross_val_score(model,\n",
        "                          X, \n",
        "                          y, \n",
        "                          cv=kfold)\n",
        "print(\"Accuracy: %.3f%% (%.3f%%)\" % (results.mean()*100.0, results.std()*100.0))"
      ],
      "execution_count": null,
      "outputs": [
        {
          "output_type": "stream",
          "name": "stdout",
          "text": [
            "Accuracy: 77.081% (1.650%)\n"
          ]
        }
      ]
    },
    {
      "cell_type": "markdown",
      "metadata": {
        "id": "0DZezIpppbp8"
      },
      "source": [
        "### Logarithmic Loss\n",
        "- **Likelihood function**: \"How likely did the model think the actually observed set of outcomes was.\"\n",
        "- Perfect score: 0\n",
        "- Also called [Cross-entropy-loss](https://scikit-learn.org/stable/modules/generated/sklearn.metrics.log_loss.html#sklearn.metrics.log_loss)"
      ]
    },
    {
      "cell_type": "code",
      "metadata": {
        "colab": {
          "base_uri": "https://localhost:8080/",
          "height": 328
        },
        "id": "KVrRugG2rO0f",
        "outputId": "0b1f9947-21aa-4e94-8b69-fb18d5b8cb48"
      },
      "source": [
        "%%html\n",
        "<img src=\"https://miro.medium.com/max/1254/1*T8KWtAn8FkAcsg8RsjiZ6Q.png\">"
      ],
      "execution_count": null,
      "outputs": [
        {
          "output_type": "display_data",
          "data": {
            "text/html": [
              "<img src=\"https://miro.medium.com/max/1254/1*T8KWtAn8FkAcsg8RsjiZ6Q.png\">"
            ],
            "text/plain": [
              "<IPython.core.display.HTML object>"
            ]
          },
          "metadata": {}
        }
      ]
    },
    {
      "cell_type": "code",
      "metadata": {
        "colab": {
          "base_uri": "https://localhost:8080/"
        },
        "id": "PcPUpxVUi9Qx",
        "outputId": "0bb47aaf-cadf-4d10-c73d-b44728c37eac"
      },
      "source": [
        "from sklearn.model_selection import KFold, cross_val_score\n",
        "from sklearn.linear_model import LogisticRegression\n",
        "\n",
        "X = df_pima.copy()\n",
        "y = X.pop('class')\n",
        "\n",
        "kfold = KFold(n_splits=10, shuffle=True, random_state=8)\n",
        "model = LogisticRegression(max_iter=1000)\n",
        "\n",
        "scoring = 'neg_log_loss'\n",
        "results = cross_val_score(model,\n",
        "                          X, \n",
        "                          y,\n",
        "                          cv=kfold,\n",
        "                          scoring=scoring)\n",
        "print(\"Logloss: %.3f (%.3f)\" % (results.mean(), results.std()))"
      ],
      "execution_count": null,
      "outputs": [
        {
          "output_type": "stream",
          "name": "stdout",
          "text": [
            "Logloss: -0.488 (0.059)\n"
          ]
        }
      ]
    },
    {
      "cell_type": "markdown",
      "metadata": {
        "id": "JYOSc6Worm59"
      },
      "source": [
        "### Area Under ROC Curve\n",
        "* Represents a model's ability to discriminate between positive and negative\n",
        "classes.\n",
        "* Perfect score: 1\n",
        "* Random model score: 0.5\n",
        "* Trade-off between **sensitivity** and **specificity**\n",
        "- **Sensitivity**: True positive rate, also called the **recall**. It is the ratio of instances from the positive class that were actually predicted correctly: TP / (TP + FN)\n",
        "- **Specificity**: The true negative rate. Is the ratio of instances from the negative class that were actually predicted correctly: TN / (TN + FP)"
      ]
    },
    {
      "cell_type": "code",
      "metadata": {
        "colab": {
          "base_uri": "https://localhost:8080/",
          "height": 748
        },
        "id": "E0yJd9lPsS1n",
        "outputId": "48d54634-03f7-4e2d-b8a6-bdeeb88a3fa4"
      },
      "source": [
        "%%html\n",
        "<img src=\"https://upload.wikimedia.org/wikipedia/commons/thumb/5/5a/Sensitivity_and_specificity_1.01.svg/1280px-Sensitivity_and_specificity_1.01.svg.png\" width='400px'>"
      ],
      "execution_count": null,
      "outputs": [
        {
          "output_type": "display_data",
          "data": {
            "text/html": [
              "<img src=\"https://upload.wikimedia.org/wikipedia/commons/thumb/5/5a/Sensitivity_and_specificity_1.01.svg/1280px-Sensitivity_and_specificity_1.01.svg.png\" width='400px'>"
            ],
            "text/plain": [
              "<IPython.core.display.HTML object>"
            ]
          },
          "metadata": {}
        }
      ]
    },
    {
      "cell_type": "code",
      "metadata": {
        "colab": {
          "base_uri": "https://localhost:8080/"
        },
        "id": "LJnDBZOxp3Of",
        "outputId": "5f01232c-48bb-496b-8caf-716e0654d81f"
      },
      "source": [
        "from sklearn.model_selection import KFold, cross_val_score\n",
        "from sklearn.linear_model import LogisticRegression\n",
        "\n",
        "X = df_pima.copy()\n",
        "y = X.pop('class')\n",
        "\n",
        "kfold = KFold(n_splits=10, shuffle=True, random_state=8)\n",
        "model = LogisticRegression(max_iter=1000)\n",
        "\n",
        "scoring = 'roc_auc'\n",
        "results = cross_val_score(model,\n",
        "                          X,\n",
        "                          y,\n",
        "                          cv=kfold,\n",
        "                          scoring=scoring)\n",
        "print(\"AUC: %.3f (%.3f)\" % (results.mean(), results.std()))"
      ],
      "execution_count": null,
      "outputs": [
        {
          "output_type": "stream",
          "name": "stdout",
          "text": [
            "AUC: 0.827 (0.040)\n"
          ]
        }
      ]
    },
    {
      "cell_type": "code",
      "metadata": {
        "colab": {
          "base_uri": "https://localhost:8080/",
          "height": 514
        },
        "id": "DB0T5MsDtS5o",
        "outputId": "8255c830-b329-4eb6-bba0-416bf11bae1f"
      },
      "source": [
        "from sklearn.metrics import plot_roc_curve\n",
        "\n",
        "X = df_pima.copy()\n",
        "y = X.pop('class')\n",
        "\n",
        "X_train, X_test, y_train, y_test = train_test_split(X, y, test_size=0.33, random_state=8)\n",
        "\n",
        "model = LogisticRegression(max_iter=1000)\n",
        "model.fit(X_test, y_test)\n",
        "\n",
        "fig, ax = plt.subplots(figsize=(12, 8))\n",
        "plot_roc_curve(model, X_test, y_test, ax=ax)"
      ],
      "execution_count": null,
      "outputs": [
        {
          "output_type": "execute_result",
          "data": {
            "text/plain": [
              "<sklearn.metrics._plot.roc_curve.RocCurveDisplay at 0x7f44596eeed0>"
            ]
          },
          "metadata": {},
          "execution_count": 24
        },
        {
          "output_type": "display_data",
          "data": {
            "image/png": "[encoded data removed]",
            "text/plain": [
              "<Figure size 864x576 with 1 Axes>"
            ]
          },
          "metadata": {
            "needs_background": "light"
          }
        }
      ]
    },
    {
      "cell_type": "markdown",
      "metadata": {
        "id": "Q8YQubDVvKZV"
      },
      "source": [
        "## Confusion Matrix"
      ]
    },
    {
      "cell_type": "code",
      "metadata": {
        "colab": {
          "base_uri": "https://localhost:8080/"
        },
        "id": "oD-KtPk9tmdb",
        "outputId": "3728d2d9-e8fa-4e1e-9c4a-7f6b11244e32"
      },
      "source": [
        "from sklearn.model_selection import train_test_split\n",
        "from sklearn.metrics import confusion_matrix\n",
        "\n",
        "X = df_pima.copy()\n",
        "y = X.pop('class')\n",
        "\n",
        "X_train, X_test, y_train, y_test = train_test_split(X, y, test_size=0.33, random_state=8)\n",
        "\n",
        "model = LogisticRegression(max_iter=1000)\n",
        "model.fit(X_train, y_train)\n",
        "\n",
        "predicted = model.predict(X_test)\n",
        "matrix = confusion_matrix(y_test, predicted)\n",
        "print(matrix)"
      ],
      "execution_count": null,
      "outputs": [
        {
          "output_type": "stream",
          "name": "stdout",
          "text": [
            "[[148  16]\n",
            " [ 37  53]]\n"
          ]
        }
      ]
    },
    {
      "cell_type": "code",
      "metadata": {
        "colab": {
          "base_uri": "https://localhost:8080/",
          "height": 514
        },
        "id": "oJXppFg2wSyE",
        "outputId": "1a26228d-9b80-4c3b-8d69-1f0c099bd7d4"
      },
      "source": [
        "from sklearn.metrics import plot_confusion_matrix\n",
        "\n",
        "fig, ax = plt.subplots(figsize=(12, 8))\n",
        "\n",
        "plot_confusion_matrix(model,\n",
        "                      X_test, \n",
        "                      y_test,\n",
        "                      values_format='d',\n",
        "                      ax=ax)\n",
        "\n",
        "ax.set_xticklabels(['non-diabetic', 'diabetic'])\n",
        "ax.set_yticklabels(['non-diabetic', 'diabetic'])"
      ],
      "execution_count": null,
      "outputs": [
        {
          "output_type": "execute_result",
          "data": {
            "text/plain": [
              "[Text(0, 0, 'non-diabetic'), Text(0, 0, 'diabetic')]"
            ]
          },
          "metadata": {},
          "execution_count": 26
        },
        {
          "output_type": "display_data",
          "data": {
            "image/png": "[encoded data removed]",
            "text/plain": [
              "<Figure size 864x576 with 2 Axes>"
            ]
          },
          "metadata": {
            "needs_background": "light"
          }
        }
      ]
    },
    {
      "cell_type": "code",
      "metadata": {
        "colab": {
          "base_uri": "https://localhost:8080/"
        },
        "id": "IJxvTOKNwLME",
        "outputId": "060943f6-fd8f-4200-c4be-d65b89a894ee"
      },
      "source": [
        "help(plot_confusion_matrix)"
      ],
      "execution_count": null,
      "outputs": [
        {
          "output_type": "stream",
          "name": "stdout",
          "text": [
            "Help on function plot_confusion_matrix in module sklearn.metrics._plot.confusion_matrix:\n",
            "\n",
            "plot_confusion_matrix(estimator, X, y_true, labels=None, sample_weight=None, normalize=None, display_labels=None, include_values=True, xticks_rotation='horizontal', values_format=None, cmap='viridis', ax=None)\n",
            "    Plot Confusion Matrix.\n",
            "    \n",
            "    Read more in the :ref:`User Guide <confusion_matrix>`.\n",
            "    \n",
            "    Parameters\n",
            "    ----------\n",
            "    estimator : estimator instance\n",
            "        Trained classifier.\n",
            "    \n",
            "    X : {array-like, sparse matrix} of shape (n_samples, n_features)\n",
            "        Input values.\n",
            "    \n",
            "    y : array-like of shape (n_samples,)\n",
            "        Target values.\n",
            "    \n",
            "    labels : array-like of shape (n_classes,), default=None\n",
            "        List of labels to index the matrix. This may be used to reorder or\n",
            "        select a subset of labels. If `None` is given, those that appear at\n",
            "        least once in `y_true` or `y_pred` are used in sorted order.\n",
            "    \n",
            "    sample_weight : array-like of shape (n_samples,), default=None\n",
            "        Sample weights.\n",
            "    \n",
            "    normalize : {'true', 'pred', 'all'}, default=None\n",
            "        Normalizes confusion matrix over the true (rows), predicted (columns)\n",
            "        conditions or all the population. If None, confusion matrix will not be\n",
            "        normalized.\n",
            "    \n",
            "    display_labels : array-like of shape (n_classes,), default=None\n",
            "        Target names used for plotting. By default, `labels` will be used if\n",
            "        it is defined, otherwise the unique labels of `y_true` and `y_pred`\n",
            "        will be used.\n",
            "    \n",
            "    include_values : bool, default=True\n",
            "        Includes values in confusion matrix.\n",
            "    \n",
            "    xticks_rotation : {'vertical', 'horizontal'} or float,                         default='horizontal'\n",
            "        Rotation of xtick labels.\n",
            "    \n",
            "    values_format : str, default=None\n",
            "        Format specification for values in confusion matrix. If `None`,\n",
            "        the format specification is '.2g'.\n",
            "    \n",
            "    cmap : str or matplotlib Colormap, default='viridis'\n",
            "        Colormap recognized by matplotlib.\n",
            "    \n",
            "    ax : matplotlib Axes, default=None\n",
            "        Axes object to plot on. If `None`, a new figure and axes is\n",
            "        created.\n",
            "    \n",
            "    Returns\n",
            "    -------\n",
            "    display : :class:`~sklearn.metrics.ConfusionMatrixDisplay`\n",
            "\n"
          ]
        }
      ]
    },
    {
      "cell_type": "markdown",
      "metadata": {
        "id": "Z_V9IRbhxmm9"
      },
      "source": [
        "## Classification Report\n",
        "- **F1 score** is the harmonic mean of **precision** and **recall (sensitivity)**"
      ]
    },
    {
      "cell_type": "code",
      "metadata": {
        "colab": {
          "base_uri": "https://localhost:8080/",
          "height": 748
        },
        "id": "75aHrLa_yeqI",
        "outputId": "91cb9abf-6d03-4b05-9032-d5baf01ea9cd"
      },
      "source": [
        "%%html\n",
        "<img src=\"https://upload.wikimedia.org/wikipedia/commons/thumb/2/26/Precisionrecall.svg/1280px-Precisionrecall.svg.png\" width='400px'>"
      ],
      "execution_count": null,
      "outputs": [
        {
          "output_type": "display_data",
          "data": {
            "text/html": [
              "<img src=\"https://upload.wikimedia.org/wikipedia/commons/thumb/2/26/Precisionrecall.svg/1280px-Precisionrecall.svg.png\" width='400px'>"
            ],
            "text/plain": [
              "<IPython.core.display.HTML object>"
            ]
          },
          "metadata": {}
        }
      ]
    },
    {
      "cell_type": "code",
      "metadata": {
        "colab": {
          "base_uri": "https://localhost:8080/"
        },
        "id": "lkmBPZQOwiPY",
        "outputId": "10be8850-7a97-4d0a-ce04-196ec46297a5"
      },
      "source": [
        "from sklearn.model_selection import train_test_split\n",
        "from sklearn.metrics import classification_report\n",
        "\n",
        "X = df_pima.copy()\n",
        "y = X.pop('class')\n",
        "\n",
        "X_train, X_test, y_train, y_test = train_test_split(X, y, test_size=0.33, random_state=8)\n",
        "model = LogisticRegression(max_iter=1000)\n",
        "model.fit(X_train, y_train)\n",
        "\n",
        "predicted = model.predict(X_test)\n",
        "report = classification_report(y_test, predicted)\n",
        "print(report)"
      ],
      "execution_count": null,
      "outputs": [
        {
          "output_type": "stream",
          "name": "stdout",
          "text": [
            "              precision    recall  f1-score   support\n",
            "\n",
            "           0       0.80      0.90      0.85       164\n",
            "           1       0.77      0.59      0.67        90\n",
            "\n",
            "    accuracy                           0.79       254\n",
            "   macro avg       0.78      0.75      0.76       254\n",
            "weighted avg       0.79      0.79      0.78       254\n",
            "\n"
          ]
        }
      ]
    },
    {
      "cell_type": "code",
      "metadata": {
        "colab": {
          "base_uri": "https://localhost:8080/"
        },
        "id": "KL8cdbz_x9_-",
        "outputId": "e2973c26-96f9-448f-96d7-89abc312c380"
      },
      "source": [
        "from sklearn.model_selection import KFold, cross_val_score\n",
        "from sklearn.linear_model import LogisticRegression\n",
        "\n",
        "X = df_pima.copy()\n",
        "y = X.pop('class')\n",
        "\n",
        "kfold = KFold(n_splits=10, shuffle=True, random_state=8)\n",
        "model = LogisticRegression(max_iter=1000)\n",
        "\n",
        "scoring = 'f1_weighted'\n",
        "results = cross_val_score(model,\n",
        "                          X, \n",
        "                          y,\n",
        "                          cv=kfold,\n",
        "                          scoring=scoring)\n",
        "print(\"Logloss: %.3f (%.3f)\" % (results.mean(), results.std()))"
      ],
      "execution_count": null,
      "outputs": [
        {
          "output_type": "stream",
          "name": "stdout",
          "text": [
            "Logloss: 0.770 (0.039)\n"
          ]
        }
      ]
    }
  ]
}