{
  "nbformat": 4,
  "nbformat_minor": 0,
  "metadata": {
    "colab": {
      "name": "03 - Feature Engineering.ipynb",
      "provenance": [],
      "collapsed_sections": [],
      "toc_visible": true
    },
    "kernelspec": {
      "name": "python3",
      "display_name": "Python 3"
    },
    "language_info": {
      "name": "python"
    }
  },
  "cells": [
    {
      "cell_type": "markdown",
      "metadata": {
        "id": "hS45lYAmmjmP"
      },
      "source": [
        "# Libraries"
      ]
    },
    {
      "cell_type": "code",
      "metadata": {
        "id": "MooF5k5vmlSM"
      },
      "source": [
        "\n",
        "import matplotlib.pyplot as plt\n",
        "import numpy as np\n",
        "import os as os\n",
        "import pandas as pd\n",
        "import seaborn as sns\n",
        "\n",
        "import random\n",
        "random.seed(0) # pick your seed\n",
        "\n",
        "from sklearn.cluster import KMeans\n",
        "from sklearn.feature_selection import mutual_info_regression\n",
        "from sklearn.decomposition import PCA\n",
        "from sklearn.preprocessing import OrdinalEncoder\n",
        "from sklearn.preprocessing import StandardScaler"
      ],
      "execution_count": null,
      "outputs": []
    },
    {
      "cell_type": "markdown",
      "metadata": {
        "id": "JYCg8uYSmrNx"
      },
      "source": [
        "# Data"
      ]
    },
    {
      "cell_type": "code",
      "metadata": {
        "colab": {
          "base_uri": "https://localhost:8080/"
        },
        "id": "uX1DziSqmoL_",
        "outputId": "43f4e5d6-190e-4040-c8bb-6c672f9604bf"
      },
      "source": [
        "import sys\n",
        "IN_COLAB = 'google.colab' in sys.modules\n",
        "if IN_COLAB:\n",
        "  from google.colab import drive\n",
        "  drive.mount('/content/gdrive', force_remount=True)\n",
        "  dir = os.path.join('gdrive', 'My Drive', 'Eurostat', '02 - Data Science for Structured Data')\n",
        "  os.system('cd \"gdrive${dir}\" && mkdir -p data')\n",
        "else:\n",
        "  dir = \".\" \n",
        "\n",
        "data_dir = os.path.join(dir, 'data')"
      ],
      "execution_count": null,
      "outputs": [
        {
          "output_type": "stream",
          "name": "stdout",
          "text": [
            "Mounted at /content/gdrive\n"
          ]
        }
      ]
    },
    {
      "cell_type": "code",
      "metadata": {
        "colab": {
          "base_uri": "https://localhost:8080/",
          "height": 142
        },
        "id": "ABH1QSo3msEu",
        "outputId": "16a3c421-54b9-490a-f6fc-30d83199523d"
      },
      "source": [
        "df_iris = pd.read_csv(os.path.join(data_dir, 'iris.csv'),\n",
        "                      header=None,\n",
        "                      names=['sepal_length', 'sepal_width', 'petal_length', 'petal_width', 'class'])\n",
        "df_iris.sample(3)"
      ],
      "execution_count": null,
      "outputs": [
        {
          "output_type": "execute_result",
          "data": {
            "text/html": [
              "<div>\n",
              "<style scoped>\n",
              "    .dataframe tbody tr th:only-of-type {\n",
              "        vertical-align: middle;\n",
              "    }\n",
              "\n",
              "    .dataframe tbody tr th {\n",
              "        vertical-align: top;\n",
              "    }\n",
              "\n",
              "    .dataframe thead th {\n",
              "        text-align: right;\n",
              "    }\n",
              "</style>\n",
              "<table border=\"1\" class=\"dataframe\">\n",
              "  <thead>\n",
              "    <tr style=\"text-align: right;\">\n",
              "      <th></th>\n",
              "      <th>sepal_length</th>\n",
              "      <th>sepal_width</th>\n",
              "      <th>petal_length</th>\n",
              "      <th>petal_width</th>\n",
              "      <th>class</th>\n",
              "    </tr>\n",
              "  </thead>\n",
              "  <tbody>\n",
              "    <tr>\n",
              "      <th>113</th>\n",
              "      <td>5.7</td>\n",
              "      <td>2.5</td>\n",
              "      <td>5.0</td>\n",
              "      <td>2.0</td>\n",
              "      <td>Iris-virginica</td>\n",
              "    </tr>\n",
              "    <tr>\n",
              "      <th>32</th>\n",
              "      <td>5.2</td>\n",
              "      <td>4.1</td>\n",
              "      <td>1.5</td>\n",
              "      <td>0.1</td>\n",
              "      <td>Iris-setosa</td>\n",
              "    </tr>\n",
              "    <tr>\n",
              "      <th>119</th>\n",
              "      <td>6.0</td>\n",
              "      <td>2.2</td>\n",
              "      <td>5.0</td>\n",
              "      <td>1.5</td>\n",
              "      <td>Iris-virginica</td>\n",
              "    </tr>\n",
              "  </tbody>\n",
              "</table>\n",
              "</div>"
            ],
            "text/plain": [
              "     sepal_length  sepal_width  petal_length  petal_width           class\n",
              "113           5.7          2.5           5.0          2.0  Iris-virginica\n",
              "32            5.2          4.1           1.5          0.1     Iris-setosa\n",
              "119           6.0          2.2           5.0          1.5  Iris-virginica"
            ]
          },
          "metadata": {},
          "execution_count": 3
        }
      ]
    },
    {
      "cell_type": "code",
      "metadata": {
        "colab": {
          "base_uri": "https://localhost:8080/",
          "height": 142
        },
        "id": "dQ4Cxir4mziS",
        "outputId": "8b6f02e4-cb5e-43f5-aff6-3cc527ef2723"
      },
      "source": [
        "df_pima = pd.read_csv(os.path.join(data_dir, 'pima.csv'),\n",
        "                      header=8,\n",
        "                      names = ['preg', 'gluc', 'pres', 'skin' ,'insu', 'bmi', 'pedi', 'age', 'class'])\n",
        "df_pima.sample(3)"
      ],
      "execution_count": null,
      "outputs": [
        {
          "output_type": "execute_result",
          "data": {
            "text/html": [
              "<div>\n",
              "<style scoped>\n",
              "    .dataframe tbody tr th:only-of-type {\n",
              "        vertical-align: middle;\n",
              "    }\n",
              "\n",
              "    .dataframe tbody tr th {\n",
              "        vertical-align: top;\n",
              "    }\n",
              "\n",
              "    .dataframe thead th {\n",
              "        text-align: right;\n",
              "    }\n",
              "</style>\n",
              "<table border=\"1\" class=\"dataframe\">\n",
              "  <thead>\n",
              "    <tr style=\"text-align: right;\">\n",
              "      <th></th>\n",
              "      <th>preg</th>\n",
              "      <th>gluc</th>\n",
              "      <th>pres</th>\n",
              "      <th>skin</th>\n",
              "      <th>insu</th>\n",
              "      <th>bmi</th>\n",
              "      <th>pedi</th>\n",
              "      <th>age</th>\n",
              "      <th>class</th>\n",
              "    </tr>\n",
              "  </thead>\n",
              "  <tbody>\n",
              "    <tr>\n",
              "      <th>33</th>\n",
              "      <td>6</td>\n",
              "      <td>92</td>\n",
              "      <td>92</td>\n",
              "      <td>0</td>\n",
              "      <td>0</td>\n",
              "      <td>19.9</td>\n",
              "      <td>0.188</td>\n",
              "      <td>28</td>\n",
              "      <td>0</td>\n",
              "    </tr>\n",
              "    <tr>\n",
              "      <th>666</th>\n",
              "      <td>4</td>\n",
              "      <td>145</td>\n",
              "      <td>82</td>\n",
              "      <td>18</td>\n",
              "      <td>0</td>\n",
              "      <td>32.5</td>\n",
              "      <td>0.235</td>\n",
              "      <td>70</td>\n",
              "      <td>1</td>\n",
              "    </tr>\n",
              "    <tr>\n",
              "      <th>230</th>\n",
              "      <td>4</td>\n",
              "      <td>142</td>\n",
              "      <td>86</td>\n",
              "      <td>0</td>\n",
              "      <td>0</td>\n",
              "      <td>44.0</td>\n",
              "      <td>0.645</td>\n",
              "      <td>22</td>\n",
              "      <td>1</td>\n",
              "    </tr>\n",
              "  </tbody>\n",
              "</table>\n",
              "</div>"
            ],
            "text/plain": [
              "     preg  gluc  pres  skin  insu   bmi   pedi  age  class\n",
              "33      6    92    92     0     0  19.9  0.188   28      0\n",
              "666     4   145    82    18     0  32.5  0.235   70      1\n",
              "230     4   142    86     0     0  44.0  0.645   22      1"
            ]
          },
          "metadata": {},
          "execution_count": 4
        }
      ]
    },
    {
      "cell_type": "code",
      "metadata": {
        "colab": {
          "base_uri": "https://localhost:8080/",
          "height": 159
        },
        "id": "T9HUz_aFm1dp",
        "outputId": "5fd524fa-92ec-458a-f549-60133bb90e87"
      },
      "source": [
        "df_wine = pd.read_csv(os.path.join(data_dir, 'wine.csv'), \n",
        "                      sep=';')\n",
        "df_wine.sample(3)"
      ],
      "execution_count": null,
      "outputs": [
        {
          "output_type": "execute_result",
          "data": {
            "text/html": [
              "<div>\n",
              "<style scoped>\n",
              "    .dataframe tbody tr th:only-of-type {\n",
              "        vertical-align: middle;\n",
              "    }\n",
              "\n",
              "    .dataframe tbody tr th {\n",
              "        vertical-align: top;\n",
              "    }\n",
              "\n",
              "    .dataframe thead th {\n",
              "        text-align: right;\n",
              "    }\n",
              "</style>\n",
              "<table border=\"1\" class=\"dataframe\">\n",
              "  <thead>\n",
              "    <tr style=\"text-align: right;\">\n",
              "      <th></th>\n",
              "      <th>fixed acidity</th>\n",
              "      <th>volatile acidity</th>\n",
              "      <th>citric acid</th>\n",
              "      <th>residual sugar</th>\n",
              "      <th>chlorides</th>\n",
              "      <th>free sulfur dioxide</th>\n",
              "      <th>total sulfur dioxide</th>\n",
              "      <th>density</th>\n",
              "      <th>pH</th>\n",
              "      <th>sulphates</th>\n",
              "      <th>alcohol</th>\n",
              "      <th>quality</th>\n",
              "    </tr>\n",
              "  </thead>\n",
              "  <tbody>\n",
              "    <tr>\n",
              "      <th>1108</th>\n",
              "      <td>8.1</td>\n",
              "      <td>0.78</td>\n",
              "      <td>0.10</td>\n",
              "      <td>3.3</td>\n",
              "      <td>0.090</td>\n",
              "      <td>4.0</td>\n",
              "      <td>13.0</td>\n",
              "      <td>0.99855</td>\n",
              "      <td>3.36</td>\n",
              "      <td>0.49</td>\n",
              "      <td>9.5</td>\n",
              "      <td>5</td>\n",
              "    </tr>\n",
              "    <tr>\n",
              "      <th>1169</th>\n",
              "      <td>7.6</td>\n",
              "      <td>0.50</td>\n",
              "      <td>0.29</td>\n",
              "      <td>2.3</td>\n",
              "      <td>0.086</td>\n",
              "      <td>5.0</td>\n",
              "      <td>14.0</td>\n",
              "      <td>0.99502</td>\n",
              "      <td>3.32</td>\n",
              "      <td>0.62</td>\n",
              "      <td>11.5</td>\n",
              "      <td>6</td>\n",
              "    </tr>\n",
              "    <tr>\n",
              "      <th>653</th>\n",
              "      <td>9.4</td>\n",
              "      <td>0.33</td>\n",
              "      <td>0.59</td>\n",
              "      <td>2.8</td>\n",
              "      <td>0.079</td>\n",
              "      <td>9.0</td>\n",
              "      <td>30.0</td>\n",
              "      <td>0.99760</td>\n",
              "      <td>3.12</td>\n",
              "      <td>0.54</td>\n",
              "      <td>12.0</td>\n",
              "      <td>6</td>\n",
              "    </tr>\n",
              "  </tbody>\n",
              "</table>\n",
              "</div>"
            ],
            "text/plain": [
              "      fixed acidity  volatile acidity  citric acid  ...  sulphates  alcohol  quality\n",
              "1108            8.1              0.78         0.10  ...       0.49      9.5        5\n",
              "1169            7.6              0.50         0.29  ...       0.62     11.5        6\n",
              "653             9.4              0.33         0.59  ...       0.54     12.0        6\n",
              "\n",
              "[3 rows x 12 columns]"
            ]
          },
          "metadata": {},
          "execution_count": 5
        }
      ]
    },
    {
      "cell_type": "code",
      "metadata": {
        "colab": {
          "base_uri": "https://localhost:8080/",
          "height": 142
        },
        "id": "Qkkneto3m4Am",
        "outputId": "066f3925-0f14-4697-82c7-900702f174a9"
      },
      "source": [
        "df_housing = pd.read_csv(os.path.join(data_dir, 'housing.csv'))\n",
        "df_housing.sample(3)"
      ],
      "execution_count": null,
      "outputs": [
        {
          "output_type": "execute_result",
          "data": {
            "text/html": [
              "<div>\n",
              "<style scoped>\n",
              "    .dataframe tbody tr th:only-of-type {\n",
              "        vertical-align: middle;\n",
              "    }\n",
              "\n",
              "    .dataframe tbody tr th {\n",
              "        vertical-align: top;\n",
              "    }\n",
              "\n",
              "    .dataframe thead th {\n",
              "        text-align: right;\n",
              "    }\n",
              "</style>\n",
              "<table border=\"1\" class=\"dataframe\">\n",
              "  <thead>\n",
              "    <tr style=\"text-align: right;\">\n",
              "      <th></th>\n",
              "      <th>crim</th>\n",
              "      <th>zn</th>\n",
              "      <th>indus</th>\n",
              "      <th>chas</th>\n",
              "      <th>nox</th>\n",
              "      <th>rm</th>\n",
              "      <th>age</th>\n",
              "      <th>dis</th>\n",
              "      <th>rad</th>\n",
              "      <th>tax</th>\n",
              "      <th>ptratio</th>\n",
              "      <th>b</th>\n",
              "      <th>lstat</th>\n",
              "      <th>medv</th>\n",
              "    </tr>\n",
              "  </thead>\n",
              "  <tbody>\n",
              "    <tr>\n",
              "      <th>459</th>\n",
              "      <td>6.80117</td>\n",
              "      <td>0.0</td>\n",
              "      <td>18.1</td>\n",
              "      <td>0</td>\n",
              "      <td>0.713</td>\n",
              "      <td>6.081</td>\n",
              "      <td>84.4</td>\n",
              "      <td>2.7175</td>\n",
              "      <td>24</td>\n",
              "      <td>666</td>\n",
              "      <td>20.2</td>\n",
              "      <td>396.90</td>\n",
              "      <td>14.70</td>\n",
              "      <td>20.0</td>\n",
              "    </tr>\n",
              "    <tr>\n",
              "      <th>367</th>\n",
              "      <td>13.52220</td>\n",
              "      <td>0.0</td>\n",
              "      <td>18.1</td>\n",
              "      <td>0</td>\n",
              "      <td>0.631</td>\n",
              "      <td>3.863</td>\n",
              "      <td>100.0</td>\n",
              "      <td>1.5106</td>\n",
              "      <td>24</td>\n",
              "      <td>666</td>\n",
              "      <td>20.2</td>\n",
              "      <td>131.42</td>\n",
              "      <td>13.33</td>\n",
              "      <td>23.1</td>\n",
              "    </tr>\n",
              "    <tr>\n",
              "      <th>221</th>\n",
              "      <td>0.40771</td>\n",
              "      <td>0.0</td>\n",
              "      <td>6.2</td>\n",
              "      <td>1</td>\n",
              "      <td>0.507</td>\n",
              "      <td>6.164</td>\n",
              "      <td>91.3</td>\n",
              "      <td>3.0480</td>\n",
              "      <td>8</td>\n",
              "      <td>307</td>\n",
              "      <td>17.4</td>\n",
              "      <td>395.24</td>\n",
              "      <td>21.46</td>\n",
              "      <td>21.7</td>\n",
              "    </tr>\n",
              "  </tbody>\n",
              "</table>\n",
              "</div>"
            ],
            "text/plain": [
              "         crim   zn  indus  chas    nox  ...  tax  ptratio       b  lstat  medv\n",
              "459   6.80117  0.0   18.1     0  0.713  ...  666     20.2  396.90  14.70  20.0\n",
              "367  13.52220  0.0   18.1     0  0.631  ...  666     20.2  131.42  13.33  23.1\n",
              "221   0.40771  0.0    6.2     1  0.507  ...  307     17.4  395.24  21.46  21.7\n",
              "\n",
              "[3 rows x 14 columns]"
            ]
          },
          "metadata": {},
          "execution_count": 6
        }
      ]
    },
    {
      "cell_type": "code",
      "metadata": {
        "colab": {
          "base_uri": "https://localhost:8080/",
          "height": 142
        },
        "id": "dHZCRstjm6XB",
        "outputId": "c731dfa5-3853-49b5-a43c-7707fd29ff6f"
      },
      "source": [
        "df_happiness = pd.read_csv(os.path.join(data_dir, 'happiness.csv'))\n",
        "df_happiness.sample(3)"
      ],
      "execution_count": null,
      "outputs": [
        {
          "output_type": "execute_result",
          "data": {
            "text/html": [
              "<div>\n",
              "<style scoped>\n",
              "    .dataframe tbody tr th:only-of-type {\n",
              "        vertical-align: middle;\n",
              "    }\n",
              "\n",
              "    .dataframe tbody tr th {\n",
              "        vertical-align: top;\n",
              "    }\n",
              "\n",
              "    .dataframe thead th {\n",
              "        text-align: right;\n",
              "    }\n",
              "</style>\n",
              "<table border=\"1\" class=\"dataframe\">\n",
              "  <thead>\n",
              "    <tr style=\"text-align: right;\">\n",
              "      <th></th>\n",
              "      <th>isced11</th>\n",
              "      <th>sex</th>\n",
              "      <th>age</th>\n",
              "      <th>geo</th>\n",
              "      <th>time</th>\n",
              "      <th>ACCSAT</th>\n",
              "      <th>COMSAT</th>\n",
              "      <th>FINSAT</th>\n",
              "      <th>GREENSAT</th>\n",
              "      <th>JOBSAT</th>\n",
              "      <th>LIFESAT</th>\n",
              "      <th>LIVENVSAT</th>\n",
              "      <th>MEANLIFE</th>\n",
              "      <th>RELSAT</th>\n",
              "      <th>TIMESAT</th>\n",
              "    </tr>\n",
              "  </thead>\n",
              "  <tbody>\n",
              "    <tr>\n",
              "      <th>684</th>\n",
              "      <td>ED0-2</td>\n",
              "      <td>M</td>\n",
              "      <td>Y65-74</td>\n",
              "      <td>PT</td>\n",
              "      <td>2018</td>\n",
              "      <td>NaN</td>\n",
              "      <td>NaN</td>\n",
              "      <td>5.0</td>\n",
              "      <td>NaN</td>\n",
              "      <td>6.8</td>\n",
              "      <td>6.4</td>\n",
              "      <td>NaN</td>\n",
              "      <td>NaN</td>\n",
              "      <td>8.1</td>\n",
              "      <td>7.3</td>\n",
              "    </tr>\n",
              "    <tr>\n",
              "      <th>568</th>\n",
              "      <td>ED0-2</td>\n",
              "      <td>M</td>\n",
              "      <td>Y50-64</td>\n",
              "      <td>CZ</td>\n",
              "      <td>2013</td>\n",
              "      <td>6.7</td>\n",
              "      <td>6.7</td>\n",
              "      <td>4.9</td>\n",
              "      <td>7.4</td>\n",
              "      <td>6.7</td>\n",
              "      <td>5.4</td>\n",
              "      <td>7.2</td>\n",
              "      <td>6.5</td>\n",
              "      <td>7.5</td>\n",
              "      <td>6.8</td>\n",
              "    </tr>\n",
              "    <tr>\n",
              "      <th>408</th>\n",
              "      <td>ED0-2</td>\n",
              "      <td>M</td>\n",
              "      <td>Y16-24</td>\n",
              "      <td>RO</td>\n",
              "      <td>2018</td>\n",
              "      <td>NaN</td>\n",
              "      <td>NaN</td>\n",
              "      <td>6.6</td>\n",
              "      <td>NaN</td>\n",
              "      <td>5.8</td>\n",
              "      <td>8.1</td>\n",
              "      <td>NaN</td>\n",
              "      <td>NaN</td>\n",
              "      <td>8.0</td>\n",
              "      <td>7.6</td>\n",
              "    </tr>\n",
              "  </tbody>\n",
              "</table>\n",
              "</div>"
            ],
            "text/plain": [
              "    isced11 sex     age geo  ...  LIVENVSAT  MEANLIFE  RELSAT  TIMESAT\n",
              "684   ED0-2   M  Y65-74  PT  ...        NaN       NaN     8.1      7.3\n",
              "568   ED0-2   M  Y50-64  CZ  ...        7.2       6.5     7.5      6.8\n",
              "408   ED0-2   M  Y16-24  RO  ...        NaN       NaN     8.0      7.6\n",
              "\n",
              "[3 rows x 15 columns]"
            ]
          },
          "metadata": {},
          "execution_count": 7
        }
      ]
    },
    {
      "cell_type": "markdown",
      "metadata": {
        "id": "oINln9iPnF6g"
      },
      "source": [
        "# Feature Engineering\n",
        "Make your data better suited to the problem at hand!\n",
        "\n",
        "Goal:\n",
        "- improve a model's predictive performance\n",
        "- reduce computational or data needs\n",
        "- improve interpretability of the results"
      ]
    },
    {
      "cell_type": "markdown",
      "metadata": {
        "id": "tFj9jA8YrwYZ"
      },
      "source": [
        "## Mutual Information"
      ]
    },
    {
      "cell_type": "code",
      "metadata": {
        "colab": {
          "base_uri": "https://localhost:8080/",
          "height": 351
        },
        "id": "kCsWN0kWryDK",
        "outputId": "7ac32648-197b-4374-c247-09e1a4a0eb9d"
      },
      "source": [
        "fig, ax = plt.subplots(figsize=(12, 5))\n",
        "sns.boxplot(data=df_happiness,\n",
        "            y='age',\n",
        "            x='LIFESAT',\n",
        "            orient='h')"
      ],
      "execution_count": null,
      "outputs": [
        {
          "output_type": "execute_result",
          "data": {
            "text/plain": [
              "<matplotlib.axes._subplots.AxesSubplot at 0x7fc991f9cf50>"
            ]
          },
          "metadata": {},
          "execution_count": 8
        },
        {
          "output_type": "display_data",
          "data": {
            "image/png": "[encoded data removed]",
            "text/plain": [
              "<Figure size 864x360 with 1 Axes>"
            ]
          },
          "metadata": {
            "needs_background": "light"
          }
        }
      ]
    },
    {
      "cell_type": "code",
      "metadata": {
        "id": "3bgjxD39s-AV"
      },
      "source": [
        "from sklearn.feature_selection import mutual_info_regression"
      ],
      "execution_count": null,
      "outputs": []
    },
    {
      "cell_type": "code",
      "metadata": {
        "id": "VzShpPIYsUy1"
      },
      "source": [
        "def make_mi_scores(X, y, is_discrete_feature):\n",
        "  mi_scores = mutual_info_regression(X, y, discrete_features=is_discrete_feature)\n",
        "  mi_scores = pd.Series(mi_scores, name=\"MI Scores\", index=X.columns)\n",
        "  mi_scores = mi_scores.sort_values(ascending=False)\n",
        "  return mi_scores"
      ],
      "execution_count": null,
      "outputs": []
    },
    {
      "cell_type": "code",
      "metadata": {
        "colab": {
          "base_uri": "https://localhost:8080/"
        },
        "id": "o0oKwLlTuMav",
        "outputId": "bf8c0a7d-e9a3-4a1c-8b00-b21a41899b54"
      },
      "source": [
        "X = df_happiness.copy().drop('LIFESAT', axis=1)\n",
        "y = df_happiness['LIFESAT']\n",
        "\n",
        "# Fill-in missing values\n",
        "X.fillna(0, inplace=True)\n",
        "\n",
        "# Ordinal-encode discrete features\n",
        "is_discrete_feature = [X[col].dtype == 'object' for col in X]\n",
        "X[X.columns[is_discrete_feature]] = OrdinalEncoder().fit_transform(X[X.columns[is_discrete_feature]])\n",
        "print('Discrete Features: ', X.columns[is_discrete_feature])\n",
        "\n",
        "# Compute MI\n",
        "mi_scores = make_mi_scores(X, y, is_discrete_feature)\n",
        "mi_scores"
      ],
      "execution_count": null,
      "outputs": [
        {
          "output_type": "stream",
          "name": "stdout",
          "text": [
            "Discrete Features:  Index(['isced11', 'sex', 'age', 'geo'], dtype='object')\n"
          ]
        },
        {
          "output_type": "execute_result",
          "data": {
            "text/plain": [
              "FINSAT       0.818961\n",
              "geo          0.473803\n",
              "JOBSAT       0.428320\n",
              "RELSAT       0.403771\n",
              "MEANLIFE     0.301168\n",
              "ACCSAT       0.263564\n",
              "GREENSAT     0.253854\n",
              "TIMESAT      0.238932\n",
              "LIVENVSAT    0.237739\n",
              "isced11      0.122884\n",
              "COMSAT       0.118621\n",
              "age          0.045827\n",
              "sex          0.002906\n",
              "time         0.000000\n",
              "Name: MI Scores, dtype: float64"
            ]
          },
          "metadata": {},
          "execution_count": 11
        }
      ]
    },
    {
      "cell_type": "code",
      "metadata": {
        "colab": {
          "base_uri": "https://localhost:8080/",
          "height": 351
        },
        "id": "UBobhRACwcla",
        "outputId": "9b159cdf-67a2-41cd-8f9d-f3d0695221c2"
      },
      "source": [
        "fig, ax = plt.subplots(figsize=(12, 5))\n",
        "sns.barplot(data=mi_scores.to_frame().reset_index(),\n",
        "            y='index',\n",
        "            x='MI Scores',\n",
        "            orient='h')"
      ],
      "execution_count": null,
      "outputs": [
        {
          "output_type": "execute_result",
          "data": {
            "text/plain": [
              "<matplotlib.axes._subplots.AxesSubplot at 0x7fc991e89650>"
            ]
          },
          "metadata": {},
          "execution_count": 12
        },
        {
          "output_type": "display_data",
          "data": {
            "image/png": "[encoded data removed]",
            "text/plain": [
              "<Figure size 864x360 with 1 Axes>"
            ]
          },
          "metadata": {
            "needs_background": "light"
          }
        }
      ]
    },
    {
      "cell_type": "code",
      "metadata": {
        "colab": {
          "base_uri": "https://localhost:8080/",
          "height": 484
        },
        "id": "aunIFg1CzbMC",
        "outputId": "982a5037-1c1f-454e-c47e-e7373b670fde"
      },
      "source": [
        "mi_scores.to_frame().reset_index()"
      ],
      "execution_count": null,
      "outputs": [
        {
          "output_type": "execute_result",
          "data": {
            "text/html": [
              "<div>\n",
              "<style scoped>\n",
              "    .dataframe tbody tr th:only-of-type {\n",
              "        vertical-align: middle;\n",
              "    }\n",
              "\n",
              "    .dataframe tbody tr th {\n",
              "        vertical-align: top;\n",
              "    }\n",
              "\n",
              "    .dataframe thead th {\n",
              "        text-align: right;\n",
              "    }\n",
              "</style>\n",
              "<table border=\"1\" class=\"dataframe\">\n",
              "  <thead>\n",
              "    <tr style=\"text-align: right;\">\n",
              "      <th></th>\n",
              "      <th>index</th>\n",
              "      <th>MI Scores</th>\n",
              "    </tr>\n",
              "  </thead>\n",
              "  <tbody>\n",
              "    <tr>\n",
              "      <th>0</th>\n",
              "      <td>FINSAT</td>\n",
              "      <td>0.818961</td>\n",
              "    </tr>\n",
              "    <tr>\n",
              "      <th>1</th>\n",
              "      <td>geo</td>\n",
              "      <td>0.473803</td>\n",
              "    </tr>\n",
              "    <tr>\n",
              "      <th>2</th>\n",
              "      <td>JOBSAT</td>\n",
              "      <td>0.428320</td>\n",
              "    </tr>\n",
              "    <tr>\n",
              "      <th>3</th>\n",
              "      <td>RELSAT</td>\n",
              "      <td>0.403771</td>\n",
              "    </tr>\n",
              "    <tr>\n",
              "      <th>4</th>\n",
              "      <td>MEANLIFE</td>\n",
              "      <td>0.301168</td>\n",
              "    </tr>\n",
              "    <tr>\n",
              "      <th>5</th>\n",
              "      <td>ACCSAT</td>\n",
              "      <td>0.263564</td>\n",
              "    </tr>\n",
              "    <tr>\n",
              "      <th>6</th>\n",
              "      <td>GREENSAT</td>\n",
              "      <td>0.253854</td>\n",
              "    </tr>\n",
              "    <tr>\n",
              "      <th>7</th>\n",
              "      <td>TIMESAT</td>\n",
              "      <td>0.238932</td>\n",
              "    </tr>\n",
              "    <tr>\n",
              "      <th>8</th>\n",
              "      <td>LIVENVSAT</td>\n",
              "      <td>0.237739</td>\n",
              "    </tr>\n",
              "    <tr>\n",
              "      <th>9</th>\n",
              "      <td>isced11</td>\n",
              "      <td>0.122884</td>\n",
              "    </tr>\n",
              "    <tr>\n",
              "      <th>10</th>\n",
              "      <td>COMSAT</td>\n",
              "      <td>0.118621</td>\n",
              "    </tr>\n",
              "    <tr>\n",
              "      <th>11</th>\n",
              "      <td>age</td>\n",
              "      <td>0.045827</td>\n",
              "    </tr>\n",
              "    <tr>\n",
              "      <th>12</th>\n",
              "      <td>sex</td>\n",
              "      <td>0.002906</td>\n",
              "    </tr>\n",
              "    <tr>\n",
              "      <th>13</th>\n",
              "      <td>time</td>\n",
              "      <td>0.000000</td>\n",
              "    </tr>\n",
              "  </tbody>\n",
              "</table>\n",
              "</div>"
            ],
            "text/plain": [
              "        index  MI Scores\n",
              "0      FINSAT   0.818961\n",
              "1         geo   0.473803\n",
              "2      JOBSAT   0.428320\n",
              "3      RELSAT   0.403771\n",
              "4    MEANLIFE   0.301168\n",
              "5      ACCSAT   0.263564\n",
              "6    GREENSAT   0.253854\n",
              "7     TIMESAT   0.238932\n",
              "8   LIVENVSAT   0.237739\n",
              "9     isced11   0.122884\n",
              "10     COMSAT   0.118621\n",
              "11        age   0.045827\n",
              "12        sex   0.002906\n",
              "13       time   0.000000"
            ]
          },
          "metadata": {},
          "execution_count": 13
        }
      ]
    },
    {
      "cell_type": "code",
      "metadata": {
        "colab": {
          "base_uri": "https://localhost:8080/",
          "height": 111
        },
        "id": "alG6DCNMthE5",
        "outputId": "8400799a-1aa4-4855-cd6d-bd9aa0cee9e3"
      },
      "source": [
        "sns.pairplot(data=df_happiness,\n",
        "             x_vars=df_happiness.columns.drop('LIFESAT'),\n",
        "             y_vars=['LIFESAT'],       \n",
        "             height=4)"
      ],
      "execution_count": null,
      "outputs": [
        {
          "output_type": "execute_result",
          "data": {
            "text/plain": [
              "<seaborn.axisgrid.PairGrid at 0x7fc991e70210>"
            ]
          },
          "metadata": {},
          "execution_count": 14
        },
        {
          "output_type": "display_data",
          "data": {
            "image/png": "[encoded data removed]",
            "text/plain": [
              "<Figure size 4032x288 with 14 Axes>"
            ]
          },
          "metadata": {
            "needs_background": "light"
          }
        }
      ]
    },
    {
      "cell_type": "markdown",
      "metadata": {
        "id": "dav8CaVv1eZ8"
      },
      "source": [
        "## Engineered Features"
      ]
    },
    {
      "cell_type": "markdown",
      "metadata": {
        "id": "pZwvTDvDTmNn"
      },
      "source": [
        "### Domain Knowledge"
      ]
    },
    {
      "cell_type": "code",
      "metadata": {
        "colab": {
          "base_uri": "https://localhost:8080/",
          "height": 221
        },
        "id": "VdryfygqGHO8",
        "outputId": "a3e55501-8bca-4bff-cf11-26858201e323"
      },
      "source": [
        "df_wine_domain = df_wine.copy()\n",
        "\n",
        "df_wine_domain['salts'] = df_wine_domain['chlorides'] + df_wine_domain['sulphates']\n",
        "df_wine_domain.sample(5)"
      ],
      "execution_count": null,
      "outputs": [
        {
          "output_type": "execute_result",
          "data": {
            "text/html": [
              "<div>\n",
              "<style scoped>\n",
              "    .dataframe tbody tr th:only-of-type {\n",
              "        vertical-align: middle;\n",
              "    }\n",
              "\n",
              "    .dataframe tbody tr th {\n",
              "        vertical-align: top;\n",
              "    }\n",
              "\n",
              "    .dataframe thead th {\n",
              "        text-align: right;\n",
              "    }\n",
              "</style>\n",
              "<table border=\"1\" class=\"dataframe\">\n",
              "  <thead>\n",
              "    <tr style=\"text-align: right;\">\n",
              "      <th></th>\n",
              "      <th>fixed acidity</th>\n",
              "      <th>volatile acidity</th>\n",
              "      <th>citric acid</th>\n",
              "      <th>residual sugar</th>\n",
              "      <th>chlorides</th>\n",
              "      <th>free sulfur dioxide</th>\n",
              "      <th>total sulfur dioxide</th>\n",
              "      <th>density</th>\n",
              "      <th>pH</th>\n",
              "      <th>sulphates</th>\n",
              "      <th>alcohol</th>\n",
              "      <th>quality</th>\n",
              "      <th>salts</th>\n",
              "    </tr>\n",
              "  </thead>\n",
              "  <tbody>\n",
              "    <tr>\n",
              "      <th>972</th>\n",
              "      <td>10.1</td>\n",
              "      <td>0.38</td>\n",
              "      <td>0.50</td>\n",
              "      <td>2.4</td>\n",
              "      <td>0.104</td>\n",
              "      <td>6.0</td>\n",
              "      <td>13.0</td>\n",
              "      <td>0.99643</td>\n",
              "      <td>3.22</td>\n",
              "      <td>0.65</td>\n",
              "      <td>11.6</td>\n",
              "      <td>7</td>\n",
              "      <td>0.754</td>\n",
              "    </tr>\n",
              "    <tr>\n",
              "      <th>808</th>\n",
              "      <td>7.4</td>\n",
              "      <td>0.53</td>\n",
              "      <td>0.12</td>\n",
              "      <td>1.9</td>\n",
              "      <td>0.165</td>\n",
              "      <td>4.0</td>\n",
              "      <td>12.0</td>\n",
              "      <td>0.99702</td>\n",
              "      <td>3.26</td>\n",
              "      <td>0.86</td>\n",
              "      <td>9.2</td>\n",
              "      <td>5</td>\n",
              "      <td>1.025</td>\n",
              "    </tr>\n",
              "    <tr>\n",
              "      <th>1560</th>\n",
              "      <td>7.8</td>\n",
              "      <td>0.60</td>\n",
              "      <td>0.26</td>\n",
              "      <td>2.0</td>\n",
              "      <td>0.080</td>\n",
              "      <td>31.0</td>\n",
              "      <td>131.0</td>\n",
              "      <td>0.99622</td>\n",
              "      <td>3.21</td>\n",
              "      <td>0.52</td>\n",
              "      <td>9.9</td>\n",
              "      <td>5</td>\n",
              "      <td>0.600</td>\n",
              "    </tr>\n",
              "    <tr>\n",
              "      <th>138</th>\n",
              "      <td>7.8</td>\n",
              "      <td>0.56</td>\n",
              "      <td>0.19</td>\n",
              "      <td>2.1</td>\n",
              "      <td>0.081</td>\n",
              "      <td>15.0</td>\n",
              "      <td>105.0</td>\n",
              "      <td>0.99620</td>\n",
              "      <td>3.33</td>\n",
              "      <td>0.54</td>\n",
              "      <td>9.5</td>\n",
              "      <td>5</td>\n",
              "      <td>0.621</td>\n",
              "    </tr>\n",
              "    <tr>\n",
              "      <th>1122</th>\n",
              "      <td>6.3</td>\n",
              "      <td>0.47</td>\n",
              "      <td>0.00</td>\n",
              "      <td>1.4</td>\n",
              "      <td>0.055</td>\n",
              "      <td>27.0</td>\n",
              "      <td>33.0</td>\n",
              "      <td>0.99220</td>\n",
              "      <td>3.45</td>\n",
              "      <td>0.48</td>\n",
              "      <td>12.3</td>\n",
              "      <td>6</td>\n",
              "      <td>0.535</td>\n",
              "    </tr>\n",
              "  </tbody>\n",
              "</table>\n",
              "</div>"
            ],
            "text/plain": [
              "      fixed acidity  volatile acidity  citric acid  ...  alcohol  quality  salts\n",
              "972            10.1              0.38         0.50  ...     11.6        7  0.754\n",
              "808             7.4              0.53         0.12  ...      9.2        5  1.025\n",
              "1560            7.8              0.60         0.26  ...      9.9        5  0.600\n",
              "138             7.8              0.56         0.19  ...      9.5        5  0.621\n",
              "1122            6.3              0.47         0.00  ...     12.3        6  0.535\n",
              "\n",
              "[5 rows x 13 columns]"
            ]
          },
          "metadata": {},
          "execution_count": 15
        }
      ]
    },
    {
      "cell_type": "code",
      "metadata": {
        "colab": {
          "base_uri": "https://localhost:8080/"
        },
        "id": "RDJGYBUsGEsF",
        "outputId": "62c7753c-6600-4abd-ad7d-62e11fa10195"
      },
      "source": [
        "X = df_wine_domain.drop('quality', axis=1)\n",
        "y = df_wine_domain['quality']\n",
        "mi_scores = make_mi_scores(X, y, is_discrete_feature = [False]*len(X.columns))\n",
        "mi_scores"
      ],
      "execution_count": null,
      "outputs": [
        {
          "output_type": "execute_result",
          "data": {
            "text/plain": [
              "alcohol                 0.182267\n",
              "salts                   0.133873\n",
              "volatile acidity        0.113758\n",
              "density                 0.090372\n",
              "sulphates               0.087593\n",
              "citric acid             0.059449\n",
              "total sulfur dioxide    0.054644\n",
              "pH                      0.041393\n",
              "fixed acidity           0.034593\n",
              "chlorides               0.032357\n",
              "free sulfur dioxide     0.017711\n",
              "residual sugar          0.012814\n",
              "Name: MI Scores, dtype: float64"
            ]
          },
          "metadata": {},
          "execution_count": 16
        }
      ]
    },
    {
      "cell_type": "markdown",
      "metadata": {
        "id": "pr2skE7qB0as"
      },
      "source": [
        "### Polynomial Features\n",
        "\n",
        "Generate a new feature matrix consisting of all polynomial combinations of the features with degree less than or equal to the specified degree. "
      ]
    },
    {
      "cell_type": "code",
      "metadata": {
        "colab": {
          "base_uri": "https://localhost:8080/",
          "height": 420
        },
        "id": "UArz6KouB3Vt",
        "outputId": "e7f7e1c2-9dc5-40c4-ab27-f56e8e3214b5"
      },
      "source": [
        "from sklearn.preprocessing import PolynomialFeatures\n",
        "\n",
        "poly = PolynomialFeatures(2, include_bias=False)\n",
        "pd.DataFrame(poly.fit_transform(df_iris.iloc[:,:-1]),\n",
        "             index=df_iris.index)"
      ],
      "execution_count": null,
      "outputs": [
        {
          "output_type": "execute_result",
          "data": {
            "text/html": [
              "<div>\n",
              "<style scoped>\n",
              "    .dataframe tbody tr th:only-of-type {\n",
              "        vertical-align: middle;\n",
              "    }\n",
              "\n",
              "    .dataframe tbody tr th {\n",
              "        vertical-align: top;\n",
              "    }\n",
              "\n",
              "    .dataframe thead th {\n",
              "        text-align: right;\n",
              "    }\n",
              "</style>\n",
              "<table border=\"1\" class=\"dataframe\">\n",
              "  <thead>\n",
              "    <tr style=\"text-align: right;\">\n",
              "      <th></th>\n",
              "      <th>0</th>\n",
              "      <th>1</th>\n",
              "      <th>2</th>\n",
              "      <th>3</th>\n",
              "      <th>4</th>\n",
              "      <th>5</th>\n",
              "      <th>6</th>\n",
              "      <th>7</th>\n",
              "      <th>8</th>\n",
              "      <th>9</th>\n",
              "      <th>10</th>\n",
              "      <th>11</th>\n",
              "      <th>12</th>\n",
              "      <th>13</th>\n",
              "    </tr>\n",
              "  </thead>\n",
              "  <tbody>\n",
              "    <tr>\n",
              "      <th>0</th>\n",
              "      <td>5.1</td>\n",
              "      <td>3.5</td>\n",
              "      <td>1.4</td>\n",
              "      <td>0.2</td>\n",
              "      <td>26.01</td>\n",
              "      <td>17.85</td>\n",
              "      <td>7.14</td>\n",
              "      <td>1.02</td>\n",
              "      <td>12.25</td>\n",
              "      <td>4.90</td>\n",
              "      <td>0.70</td>\n",
              "      <td>1.96</td>\n",
              "      <td>0.28</td>\n",
              "      <td>0.04</td>\n",
              "    </tr>\n",
              "    <tr>\n",
              "      <th>1</th>\n",
              "      <td>4.9</td>\n",
              "      <td>3.0</td>\n",
              "      <td>1.4</td>\n",
              "      <td>0.2</td>\n",
              "      <td>24.01</td>\n",
              "      <td>14.70</td>\n",
              "      <td>6.86</td>\n",
              "      <td>0.98</td>\n",
              "      <td>9.00</td>\n",
              "      <td>4.20</td>\n",
              "      <td>0.60</td>\n",
              "      <td>1.96</td>\n",
              "      <td>0.28</td>\n",
              "      <td>0.04</td>\n",
              "    </tr>\n",
              "    <tr>\n",
              "      <th>2</th>\n",
              "      <td>4.7</td>\n",
              "      <td>3.2</td>\n",
              "      <td>1.3</td>\n",
              "      <td>0.2</td>\n",
              "      <td>22.09</td>\n",
              "      <td>15.04</td>\n",
              "      <td>6.11</td>\n",
              "      <td>0.94</td>\n",
              "      <td>10.24</td>\n",
              "      <td>4.16</td>\n",
              "      <td>0.64</td>\n",
              "      <td>1.69</td>\n",
              "      <td>0.26</td>\n",
              "      <td>0.04</td>\n",
              "    </tr>\n",
              "    <tr>\n",
              "      <th>3</th>\n",
              "      <td>4.6</td>\n",
              "      <td>3.1</td>\n",
              "      <td>1.5</td>\n",
              "      <td>0.2</td>\n",
              "      <td>21.16</td>\n",
              "      <td>14.26</td>\n",
              "      <td>6.90</td>\n",
              "      <td>0.92</td>\n",
              "      <td>9.61</td>\n",
              "      <td>4.65</td>\n",
              "      <td>0.62</td>\n",
              "      <td>2.25</td>\n",
              "      <td>0.30</td>\n",
              "      <td>0.04</td>\n",
              "    </tr>\n",
              "    <tr>\n",
              "      <th>4</th>\n",
              "      <td>5.0</td>\n",
              "      <td>3.6</td>\n",
              "      <td>1.4</td>\n",
              "      <td>0.2</td>\n",
              "      <td>25.00</td>\n",
              "      <td>18.00</td>\n",
              "      <td>7.00</td>\n",
              "      <td>1.00</td>\n",
              "      <td>12.96</td>\n",
              "      <td>5.04</td>\n",
              "      <td>0.72</td>\n",
              "      <td>1.96</td>\n",
              "      <td>0.28</td>\n",
              "      <td>0.04</td>\n",
              "    </tr>\n",
              "    <tr>\n",
              "      <th>...</th>\n",
              "      <td>...</td>\n",
              "      <td>...</td>\n",
              "      <td>...</td>\n",
              "      <td>...</td>\n",
              "      <td>...</td>\n",
              "      <td>...</td>\n",
              "      <td>...</td>\n",
              "      <td>...</td>\n",
              "      <td>...</td>\n",
              "      <td>...</td>\n",
              "      <td>...</td>\n",
              "      <td>...</td>\n",
              "      <td>...</td>\n",
              "      <td>...</td>\n",
              "    </tr>\n",
              "    <tr>\n",
              "      <th>145</th>\n",
              "      <td>6.7</td>\n",
              "      <td>3.0</td>\n",
              "      <td>5.2</td>\n",
              "      <td>2.3</td>\n",
              "      <td>44.89</td>\n",
              "      <td>20.10</td>\n",
              "      <td>34.84</td>\n",
              "      <td>15.41</td>\n",
              "      <td>9.00</td>\n",
              "      <td>15.60</td>\n",
              "      <td>6.90</td>\n",
              "      <td>27.04</td>\n",
              "      <td>11.96</td>\n",
              "      <td>5.29</td>\n",
              "    </tr>\n",
              "    <tr>\n",
              "      <th>146</th>\n",
              "      <td>6.3</td>\n",
              "      <td>2.5</td>\n",
              "      <td>5.0</td>\n",
              "      <td>1.9</td>\n",
              "      <td>39.69</td>\n",
              "      <td>15.75</td>\n",
              "      <td>31.50</td>\n",
              "      <td>11.97</td>\n",
              "      <td>6.25</td>\n",
              "      <td>12.50</td>\n",
              "      <td>4.75</td>\n",
              "      <td>25.00</td>\n",
              "      <td>9.50</td>\n",
              "      <td>3.61</td>\n",
              "    </tr>\n",
              "    <tr>\n",
              "      <th>147</th>\n",
              "      <td>6.5</td>\n",
              "      <td>3.0</td>\n",
              "      <td>5.2</td>\n",
              "      <td>2.0</td>\n",
              "      <td>42.25</td>\n",
              "      <td>19.50</td>\n",
              "      <td>33.80</td>\n",
              "      <td>13.00</td>\n",
              "      <td>9.00</td>\n",
              "      <td>15.60</td>\n",
              "      <td>6.00</td>\n",
              "      <td>27.04</td>\n",
              "      <td>10.40</td>\n",
              "      <td>4.00</td>\n",
              "    </tr>\n",
              "    <tr>\n",
              "      <th>148</th>\n",
              "      <td>6.2</td>\n",
              "      <td>3.4</td>\n",
              "      <td>5.4</td>\n",
              "      <td>2.3</td>\n",
              "      <td>38.44</td>\n",
              "      <td>21.08</td>\n",
              "      <td>33.48</td>\n",
              "      <td>14.26</td>\n",
              "      <td>11.56</td>\n",
              "      <td>18.36</td>\n",
              "      <td>7.82</td>\n",
              "      <td>29.16</td>\n",
              "      <td>12.42</td>\n",
              "      <td>5.29</td>\n",
              "    </tr>\n",
              "    <tr>\n",
              "      <th>149</th>\n",
              "      <td>5.9</td>\n",
              "      <td>3.0</td>\n",
              "      <td>5.1</td>\n",
              "      <td>1.8</td>\n",
              "      <td>34.81</td>\n",
              "      <td>17.70</td>\n",
              "      <td>30.09</td>\n",
              "      <td>10.62</td>\n",
              "      <td>9.00</td>\n",
              "      <td>15.30</td>\n",
              "      <td>5.40</td>\n",
              "      <td>26.01</td>\n",
              "      <td>9.18</td>\n",
              "      <td>3.24</td>\n",
              "    </tr>\n",
              "  </tbody>\n",
              "</table>\n",
              "<p>150 rows × 14 columns</p>\n",
              "</div>"
            ],
            "text/plain": [
              "      0    1    2    3      4      5   ...     8      9     10     11     12    13\n",
              "0    5.1  3.5  1.4  0.2  26.01  17.85  ...  12.25   4.90  0.70   1.96   0.28  0.04\n",
              "1    4.9  3.0  1.4  0.2  24.01  14.70  ...   9.00   4.20  0.60   1.96   0.28  0.04\n",
              "2    4.7  3.2  1.3  0.2  22.09  15.04  ...  10.24   4.16  0.64   1.69   0.26  0.04\n",
              "3    4.6  3.1  1.5  0.2  21.16  14.26  ...   9.61   4.65  0.62   2.25   0.30  0.04\n",
              "4    5.0  3.6  1.4  0.2  25.00  18.00  ...  12.96   5.04  0.72   1.96   0.28  0.04\n",
              "..   ...  ...  ...  ...    ...    ...  ...    ...    ...   ...    ...    ...   ...\n",
              "145  6.7  3.0  5.2  2.3  44.89  20.10  ...   9.00  15.60  6.90  27.04  11.96  5.29\n",
              "146  6.3  2.5  5.0  1.9  39.69  15.75  ...   6.25  12.50  4.75  25.00   9.50  3.61\n",
              "147  6.5  3.0  5.2  2.0  42.25  19.50  ...   9.00  15.60  6.00  27.04  10.40  4.00\n",
              "148  6.2  3.4  5.4  2.3  38.44  21.08  ...  11.56  18.36  7.82  29.16  12.42  5.29\n",
              "149  5.9  3.0  5.1  1.8  34.81  17.70  ...   9.00  15.30  5.40  26.01   9.18  3.24\n",
              "\n",
              "[150 rows x 14 columns]"
            ]
          },
          "metadata": {},
          "execution_count": 17
        }
      ]
    },
    {
      "cell_type": "markdown",
      "metadata": {
        "id": "Vj_Su3lHHRdX"
      },
      "source": [
        "### Counts\n",
        "are especially helpful for tree models, since these models don't have a natural way of aggregating information across many features at once."
      ]
    },
    {
      "cell_type": "code",
      "metadata": {
        "id": "GXtIRiRbGn3p"
      },
      "source": [
        "df_happiness_counts = df_happiness.copy()\n",
        "sat_cats = ['ACCSAT', 'COMSAT', 'FINSAT', 'GREENSAT', 'JOBSAT', 'LIVENVSAT', 'MEANLIFE', 'RELSAT', 'TIMESAT']\n",
        "sat_counts = []\n",
        "for _, row in df_happiness_counts.iterrows():\n",
        "  sat_counts.append(np.sum([row[col]<5 for col in sat_cats]))\n",
        "df_happiness_counts['UNSAT_COUNT'] = sat_counts"
      ],
      "execution_count": null,
      "outputs": []
    },
    {
      "cell_type": "code",
      "metadata": {
        "colab": {
          "base_uri": "https://localhost:8080/",
          "height": 204
        },
        "id": "Zbe-CNqwpT8-",
        "outputId": "48798828-3480-4bb7-8960-7c880b6e21d9"
      },
      "source": [
        "df_happiness_counts.sample(5)"
      ],
      "execution_count": null,
      "outputs": [
        {
          "output_type": "execute_result",
          "data": {
            "text/html": [
              "<div>\n",
              "<style scoped>\n",
              "    .dataframe tbody tr th:only-of-type {\n",
              "        vertical-align: middle;\n",
              "    }\n",
              "\n",
              "    .dataframe tbody tr th {\n",
              "        vertical-align: top;\n",
              "    }\n",
              "\n",
              "    .dataframe thead th {\n",
              "        text-align: right;\n",
              "    }\n",
              "</style>\n",
              "<table border=\"1\" class=\"dataframe\">\n",
              "  <thead>\n",
              "    <tr style=\"text-align: right;\">\n",
              "      <th></th>\n",
              "      <th>isced11</th>\n",
              "      <th>sex</th>\n",
              "      <th>age</th>\n",
              "      <th>geo</th>\n",
              "      <th>time</th>\n",
              "      <th>ACCSAT</th>\n",
              "      <th>COMSAT</th>\n",
              "      <th>FINSAT</th>\n",
              "      <th>GREENSAT</th>\n",
              "      <th>JOBSAT</th>\n",
              "      <th>LIFESAT</th>\n",
              "      <th>LIVENVSAT</th>\n",
              "      <th>MEANLIFE</th>\n",
              "      <th>RELSAT</th>\n",
              "      <th>TIMESAT</th>\n",
              "      <th>UNSAT_COUNT</th>\n",
              "    </tr>\n",
              "  </thead>\n",
              "  <tbody>\n",
              "    <tr>\n",
              "      <th>561</th>\n",
              "      <td>ED0-2</td>\n",
              "      <td>M</td>\n",
              "      <td>Y50-64</td>\n",
              "      <td>BE</td>\n",
              "      <td>2013</td>\n",
              "      <td>7.7</td>\n",
              "      <td>7.7</td>\n",
              "      <td>6.4</td>\n",
              "      <td>7.3</td>\n",
              "      <td>7.4</td>\n",
              "      <td>7.3</td>\n",
              "      <td>7.4</td>\n",
              "      <td>7.6</td>\n",
              "      <td>7.5</td>\n",
              "      <td>7.3</td>\n",
              "      <td>0</td>\n",
              "    </tr>\n",
              "    <tr>\n",
              "      <th>361</th>\n",
              "      <td>ED0-2</td>\n",
              "      <td>M</td>\n",
              "      <td>Y16-24</td>\n",
              "      <td>CZ</td>\n",
              "      <td>2013</td>\n",
              "      <td>7.5</td>\n",
              "      <td>NaN</td>\n",
              "      <td>5.4</td>\n",
              "      <td>7.3</td>\n",
              "      <td>NaN</td>\n",
              "      <td>7.4</td>\n",
              "      <td>7.2</td>\n",
              "      <td>7.4</td>\n",
              "      <td>8.2</td>\n",
              "      <td>7.5</td>\n",
              "      <td>0</td>\n",
              "    </tr>\n",
              "    <tr>\n",
              "      <th>483</th>\n",
              "      <td>ED0-2</td>\n",
              "      <td>M</td>\n",
              "      <td>Y25-34</td>\n",
              "      <td>TR</td>\n",
              "      <td>2018</td>\n",
              "      <td>NaN</td>\n",
              "      <td>NaN</td>\n",
              "      <td>4.4</td>\n",
              "      <td>NaN</td>\n",
              "      <td>5.9</td>\n",
              "      <td>5.3</td>\n",
              "      <td>NaN</td>\n",
              "      <td>NaN</td>\n",
              "      <td>6.8</td>\n",
              "      <td>5.0</td>\n",
              "      <td>1</td>\n",
              "    </tr>\n",
              "    <tr>\n",
              "      <th>247</th>\n",
              "      <td>ED0-2</td>\n",
              "      <td>F</td>\n",
              "      <td>Y50-64</td>\n",
              "      <td>LU</td>\n",
              "      <td>2013</td>\n",
              "      <td>7.5</td>\n",
              "      <td>7.8</td>\n",
              "      <td>6.4</td>\n",
              "      <td>7.6</td>\n",
              "      <td>7.8</td>\n",
              "      <td>7.0</td>\n",
              "      <td>7.8</td>\n",
              "      <td>8.0</td>\n",
              "      <td>8.0</td>\n",
              "      <td>7.3</td>\n",
              "      <td>0</td>\n",
              "    </tr>\n",
              "    <tr>\n",
              "      <th>923</th>\n",
              "      <td>ED3_4</td>\n",
              "      <td>F</td>\n",
              "      <td>Y50-64</td>\n",
              "      <td>CZ</td>\n",
              "      <td>2013</td>\n",
              "      <td>7.9</td>\n",
              "      <td>7.6</td>\n",
              "      <td>5.9</td>\n",
              "      <td>7.7</td>\n",
              "      <td>7.2</td>\n",
              "      <td>6.7</td>\n",
              "      <td>7.6</td>\n",
              "      <td>7.6</td>\n",
              "      <td>8.1</td>\n",
              "      <td>7.0</td>\n",
              "      <td>0</td>\n",
              "    </tr>\n",
              "  </tbody>\n",
              "</table>\n",
              "</div>"
            ],
            "text/plain": [
              "    isced11 sex     age geo  ...  MEANLIFE  RELSAT  TIMESAT  UNSAT_COUNT\n",
              "561   ED0-2   M  Y50-64  BE  ...       7.6     7.5      7.3            0\n",
              "361   ED0-2   M  Y16-24  CZ  ...       7.4     8.2      7.5            0\n",
              "483   ED0-2   M  Y25-34  TR  ...       NaN     6.8      5.0            1\n",
              "247   ED0-2   F  Y50-64  LU  ...       8.0     8.0      7.3            0\n",
              "923   ED3_4   F  Y50-64  CZ  ...       7.6     8.1      7.0            0\n",
              "\n",
              "[5 rows x 16 columns]"
            ]
          },
          "metadata": {},
          "execution_count": 19
        }
      ]
    },
    {
      "cell_type": "code",
      "metadata": {
        "colab": {
          "base_uri": "https://localhost:8080/"
        },
        "id": "JG7BoiXCJezI",
        "outputId": "ceb9af15-438d-4c75-a3e8-98bc7703d8d3"
      },
      "source": [
        "df_happiness_counts['UNSAT_COUNT'].value_counts()"
      ],
      "execution_count": null,
      "outputs": [
        {
          "output_type": "execute_result",
          "data": {
            "text/plain": [
              "0    1749\n",
              "1     330\n",
              "2      39\n",
              "3      17\n",
              "5       4\n",
              "4       3\n",
              "7       1\n",
              "8       1\n",
              "6       1\n",
              "Name: UNSAT_COUNT, dtype: int64"
            ]
          },
          "metadata": {},
          "execution_count": 20
        }
      ]
    },
    {
      "cell_type": "code",
      "metadata": {
        "colab": {
          "base_uri": "https://localhost:8080/"
        },
        "id": "9QuVauzLMFOY",
        "outputId": "58308f72-ccae-490a-ec5b-fd3f5fa0aaa6"
      },
      "source": [
        "X = df_happiness_counts.copy().drop('LIFESAT', axis=1)\n",
        "y = df_happiness_counts['LIFESAT']\n",
        "\n",
        "# Fill-in missing values\n",
        "X.fillna(0, inplace=True)\n",
        "\n",
        "# Ordinal-encode discrete features\n",
        "is_discrete_feature = [X[col].dtype == 'object' for col in X]\n",
        "X[X.columns[is_discrete_feature]] = OrdinalEncoder().fit_transform(X[X.columns[is_discrete_feature]])\n",
        "print('Discrete Features: ', X.columns[is_discrete_feature])\n",
        "\n",
        "# Compute MI\n",
        "mi_scores = make_mi_scores(X, y, is_discrete_feature)\n",
        "mi_scores"
      ],
      "execution_count": null,
      "outputs": [
        {
          "output_type": "stream",
          "name": "stdout",
          "text": [
            "Discrete Features:  Index(['isced11', 'sex', 'age', 'geo'], dtype='object')\n"
          ]
        },
        {
          "output_type": "execute_result",
          "data": {
            "text/plain": [
              "FINSAT         0.832578\n",
              "geo            0.493819\n",
              "RELSAT         0.396778\n",
              "JOBSAT         0.389580\n",
              "UNSAT_COUNT    0.309223\n",
              "MEANLIFE       0.297919\n",
              "ACCSAT         0.280244\n",
              "LIVENVSAT      0.254495\n",
              "GREENSAT       0.238782\n",
              "TIMESAT        0.232178\n",
              "COMSAT         0.124249\n",
              "isced11        0.104952\n",
              "age            0.049011\n",
              "time           0.000000\n",
              "sex            0.000000\n",
              "Name: MI Scores, dtype: float64"
            ]
          },
          "metadata": {},
          "execution_count": 21
        }
      ]
    },
    {
      "cell_type": "markdown",
      "metadata": {
        "id": "_TT54h7vqVua"
      },
      "source": [
        "### Group Transforms"
      ]
    },
    {
      "cell_type": "code",
      "metadata": {
        "colab": {
          "base_uri": "https://localhost:8080/",
          "height": 551
        },
        "id": "aRZIA4NWX7OY",
        "outputId": "668ca9df-d356-4684-a247-a0a68be994a2"
      },
      "source": [
        "df_happiness_group = df_happiness.copy()\n",
        "df_happiness_group['avgTIMSATforAge'] = df_happiness.groupby('age')['TIMESAT'].transform(np.mean)\n",
        "df_happiness_group.sample(10)"
      ],
      "execution_count": null,
      "outputs": [
        {
          "output_type": "execute_result",
          "data": {
            "text/html": [
              "<div>\n",
              "<style scoped>\n",
              "    .dataframe tbody tr th:only-of-type {\n",
              "        vertical-align: middle;\n",
              "    }\n",
              "\n",
              "    .dataframe tbody tr th {\n",
              "        vertical-align: top;\n",
              "    }\n",
              "\n",
              "    .dataframe thead th {\n",
              "        text-align: right;\n",
              "    }\n",
              "</style>\n",
              "<table border=\"1\" class=\"dataframe\">\n",
              "  <thead>\n",
              "    <tr style=\"text-align: right;\">\n",
              "      <th></th>\n",
              "      <th>isced11</th>\n",
              "      <th>sex</th>\n",
              "      <th>age</th>\n",
              "      <th>geo</th>\n",
              "      <th>time</th>\n",
              "      <th>ACCSAT</th>\n",
              "      <th>COMSAT</th>\n",
              "      <th>FINSAT</th>\n",
              "      <th>GREENSAT</th>\n",
              "      <th>JOBSAT</th>\n",
              "      <th>LIFESAT</th>\n",
              "      <th>LIVENVSAT</th>\n",
              "      <th>MEANLIFE</th>\n",
              "      <th>RELSAT</th>\n",
              "      <th>TIMESAT</th>\n",
              "      <th>avgTIMSATforAge</th>\n",
              "    </tr>\n",
              "  </thead>\n",
              "  <tbody>\n",
              "    <tr>\n",
              "      <th>423</th>\n",
              "      <td>ED0-2</td>\n",
              "      <td>M</td>\n",
              "      <td>Y25-34</td>\n",
              "      <td>AT</td>\n",
              "      <td>2018</td>\n",
              "      <td>NaN</td>\n",
              "      <td>NaN</td>\n",
              "      <td>6.1</td>\n",
              "      <td>NaN</td>\n",
              "      <td>7.4</td>\n",
              "      <td>7.4</td>\n",
              "      <td>NaN</td>\n",
              "      <td>NaN</td>\n",
              "      <td>8.3</td>\n",
              "      <td>6.5</td>\n",
              "      <td>6.396056</td>\n",
              "    </tr>\n",
              "    <tr>\n",
              "      <th>1022</th>\n",
              "      <td>ED3_4</td>\n",
              "      <td>F</td>\n",
              "      <td>Y65-74</td>\n",
              "      <td>LU</td>\n",
              "      <td>2013</td>\n",
              "      <td>8.3</td>\n",
              "      <td>NaN</td>\n",
              "      <td>7.5</td>\n",
              "      <td>7.9</td>\n",
              "      <td>NaN</td>\n",
              "      <td>7.4</td>\n",
              "      <td>7.8</td>\n",
              "      <td>8.2</td>\n",
              "      <td>8.3</td>\n",
              "      <td>7.8</td>\n",
              "      <td>7.633941</td>\n",
              "    </tr>\n",
              "    <tr>\n",
              "      <th>302</th>\n",
              "      <td>ED0-2</td>\n",
              "      <td>F</td>\n",
              "      <td>Y65-74</td>\n",
              "      <td>FI</td>\n",
              "      <td>2013</td>\n",
              "      <td>8.5</td>\n",
              "      <td>NaN</td>\n",
              "      <td>7.8</td>\n",
              "      <td>8.4</td>\n",
              "      <td>NaN</td>\n",
              "      <td>8.1</td>\n",
              "      <td>7.9</td>\n",
              "      <td>8.1</td>\n",
              "      <td>8.5</td>\n",
              "      <td>8.7</td>\n",
              "      <td>7.633941</td>\n",
              "    </tr>\n",
              "    <tr>\n",
              "      <th>1530</th>\n",
              "      <td>ED5-8</td>\n",
              "      <td>F</td>\n",
              "      <td>Y25-34</td>\n",
              "      <td>SI</td>\n",
              "      <td>2013</td>\n",
              "      <td>7.9</td>\n",
              "      <td>7.8</td>\n",
              "      <td>6.5</td>\n",
              "      <td>8.0</td>\n",
              "      <td>7.9</td>\n",
              "      <td>8.0</td>\n",
              "      <td>7.8</td>\n",
              "      <td>8.5</td>\n",
              "      <td>8.6</td>\n",
              "      <td>6.7</td>\n",
              "      <td>6.396056</td>\n",
              "    </tr>\n",
              "    <tr>\n",
              "      <th>2010</th>\n",
              "      <td>ED5-8</td>\n",
              "      <td>M</td>\n",
              "      <td>Y65-74</td>\n",
              "      <td>DE</td>\n",
              "      <td>2013</td>\n",
              "      <td>8.3</td>\n",
              "      <td>9.1</td>\n",
              "      <td>7.3</td>\n",
              "      <td>8.0</td>\n",
              "      <td>8.7</td>\n",
              "      <td>7.8</td>\n",
              "      <td>8.0</td>\n",
              "      <td>7.9</td>\n",
              "      <td>8.4</td>\n",
              "      <td>8.0</td>\n",
              "      <td>7.633941</td>\n",
              "    </tr>\n",
              "    <tr>\n",
              "      <th>884</th>\n",
              "      <td>ED3_4</td>\n",
              "      <td>F</td>\n",
              "      <td>Y35-49</td>\n",
              "      <td>ME</td>\n",
              "      <td>2013</td>\n",
              "      <td>6.6</td>\n",
              "      <td>6.1</td>\n",
              "      <td>4.4</td>\n",
              "      <td>6.3</td>\n",
              "      <td>6.6</td>\n",
              "      <td>5.5</td>\n",
              "      <td>5.8</td>\n",
              "      <td>6.0</td>\n",
              "      <td>7.8</td>\n",
              "      <td>5.9</td>\n",
              "      <td>6.226364</td>\n",
              "    </tr>\n",
              "    <tr>\n",
              "      <th>73</th>\n",
              "      <td>ED0-2</td>\n",
              "      <td>F</td>\n",
              "      <td>Y25-34</td>\n",
              "      <td>AT</td>\n",
              "      <td>2018</td>\n",
              "      <td>NaN</td>\n",
              "      <td>NaN</td>\n",
              "      <td>6.1</td>\n",
              "      <td>NaN</td>\n",
              "      <td>8.2</td>\n",
              "      <td>7.7</td>\n",
              "      <td>NaN</td>\n",
              "      <td>NaN</td>\n",
              "      <td>8.1</td>\n",
              "      <td>6.9</td>\n",
              "      <td>6.396056</td>\n",
              "    </tr>\n",
              "    <tr>\n",
              "      <th>753</th>\n",
              "      <td>ED3_4</td>\n",
              "      <td>F</td>\n",
              "      <td>Y16-24</td>\n",
              "      <td>PL</td>\n",
              "      <td>2018</td>\n",
              "      <td>NaN</td>\n",
              "      <td>NaN</td>\n",
              "      <td>6.6</td>\n",
              "      <td>NaN</td>\n",
              "      <td>7.0</td>\n",
              "      <td>8.3</td>\n",
              "      <td>NaN</td>\n",
              "      <td>NaN</td>\n",
              "      <td>8.6</td>\n",
              "      <td>7.0</td>\n",
              "      <td>7.109114</td>\n",
              "    </tr>\n",
              "    <tr>\n",
              "      <th>1346</th>\n",
              "      <td>ED3_4</td>\n",
              "      <td>M</td>\n",
              "      <td>Y65-74</td>\n",
              "      <td>CH</td>\n",
              "      <td>2018</td>\n",
              "      <td>NaN</td>\n",
              "      <td>NaN</td>\n",
              "      <td>8.0</td>\n",
              "      <td>NaN</td>\n",
              "      <td>8.9</td>\n",
              "      <td>8.5</td>\n",
              "      <td>NaN</td>\n",
              "      <td>NaN</td>\n",
              "      <td>8.7</td>\n",
              "      <td>8.9</td>\n",
              "      <td>7.633941</td>\n",
              "    </tr>\n",
              "    <tr>\n",
              "      <th>394</th>\n",
              "      <td>ED0-2</td>\n",
              "      <td>M</td>\n",
              "      <td>Y16-24</td>\n",
              "      <td>ME</td>\n",
              "      <td>2018</td>\n",
              "      <td>NaN</td>\n",
              "      <td>NaN</td>\n",
              "      <td>6.3</td>\n",
              "      <td>NaN</td>\n",
              "      <td>NaN</td>\n",
              "      <td>7.7</td>\n",
              "      <td>NaN</td>\n",
              "      <td>NaN</td>\n",
              "      <td>8.4</td>\n",
              "      <td>7.0</td>\n",
              "      <td>7.109114</td>\n",
              "    </tr>\n",
              "  </tbody>\n",
              "</table>\n",
              "</div>"
            ],
            "text/plain": [
              "     isced11 sex     age geo  ...  MEANLIFE  RELSAT  TIMESAT  avgTIMSATforAge\n",
              "423    ED0-2   M  Y25-34  AT  ...       NaN     8.3      6.5         6.396056\n",
              "1022   ED3_4   F  Y65-74  LU  ...       8.2     8.3      7.8         7.633941\n",
              "302    ED0-2   F  Y65-74  FI  ...       8.1     8.5      8.7         7.633941\n",
              "1530   ED5-8   F  Y25-34  SI  ...       8.5     8.6      6.7         6.396056\n",
              "2010   ED5-8   M  Y65-74  DE  ...       7.9     8.4      8.0         7.633941\n",
              "884    ED3_4   F  Y35-49  ME  ...       6.0     7.8      5.9         6.226364\n",
              "73     ED0-2   F  Y25-34  AT  ...       NaN     8.1      6.9         6.396056\n",
              "753    ED3_4   F  Y16-24  PL  ...       NaN     8.6      7.0         7.109114\n",
              "1346   ED3_4   M  Y65-74  CH  ...       NaN     8.7      8.9         7.633941\n",
              "394    ED0-2   M  Y16-24  ME  ...       NaN     8.4      7.0         7.109114\n",
              "\n",
              "[10 rows x 16 columns]"
            ]
          },
          "metadata": {},
          "execution_count": 22
        }
      ]
    },
    {
      "cell_type": "markdown",
      "metadata": {
        "id": "fP9CXY00g6zu"
      },
      "source": [
        "## Clustering (K-Means)\n",
        "- An unsupervised technique to discover new features\n",
        "- Clustering algorithms make \"birds of a feather flock together\"\n",
        "- Can help machine learning models untangle complicated relationships of space or proximity"
      ]
    },
    {
      "cell_type": "markdown",
      "metadata": {
        "id": "J3Xt3he1jmoP"
      },
      "source": [
        "💡 Idea/Hypothesis: Satisfaction of recreational and green areas varies smoothly with geography\n",
        "\n",
        "--> Let's cluster countries by the [longitude & latitude](https://developers.google.com/public-data/docs/canonical/countries_csv)"
      ]
    },
    {
      "cell_type": "code",
      "metadata": {
        "colab": {
          "base_uri": "https://localhost:8080/"
        },
        "id": "KEPL9u6zlBIo",
        "outputId": "e59078cb-7c20-42a0-bd1e-d5fce1d16ded"
      },
      "source": [
        "df_happiness['geo'].unique()"
      ],
      "execution_count": null,
      "outputs": [
        {
          "output_type": "execute_result",
          "data": {
            "text/plain": [
              "array(['AL', 'AT', 'BE', 'BG', 'CH', 'CY', 'CZ', 'DE', 'DK', 'EE', 'EL',\n",
              "       'ES', 'FI', 'FR', 'HR', 'HU', 'IE', 'IS', 'IT', 'LT', 'LU', 'LV',\n",
              "       'ME', 'MK', 'MT', 'NL', 'NO', 'PL', 'PT', 'RO', 'RS', 'SE', 'SI',\n",
              "       'SK', 'TR', 'UK', 'XK'], dtype=object)"
            ]
          },
          "metadata": {},
          "execution_count": 23
        }
      ]
    },
    {
      "cell_type": "code",
      "metadata": {
        "colab": {
          "base_uri": "https://localhost:8080/",
          "height": 310
        },
        "id": "92UToN5XY0Ib",
        "outputId": "94218088-8523-41dc-e1d8-3e703dd80830"
      },
      "source": [
        "coordinates = {\n",
        "    'AL': (41.153332, 20.168331),\n",
        "    'AT': (47.516231,\t14.550072),\n",
        "    'BE': (50.503887,\t4.469936),\n",
        "    'BG': (42.733883, 25.48583),\n",
        "    'CH': (46.818188,\t8.227512),\n",
        "    'CY': (35.126413, 33.429859),\n",
        "    'CZ': (49.817492, 15.472962),\n",
        "    'DE': (51.165691,\t10.451526),\n",
        "    'DK': (56.26392, 9.501785),\n",
        "    'EE': (58.595272,\t25.013607),\n",
        "    'EL': (39.074208,\t21.824312),\n",
        "    'ES': (40.463667,\t-3.74922),\n",
        "    'FI': (61.92411,\t25.748151),\n",
        "    'FR': (46.227638,\t2.213749),\n",
        "    'HR': (45.1, 15.2),\n",
        "    'HU': (47.162494,\t19.503304),\n",
        "    'IE': (53.41291,\t-8.24389),\n",
        "    'IS': (64.963051,\t-19.020835),\n",
        "    'IT': (41.87194,\t12.56738),\n",
        "    'LT': (55.169438,\t23.881275),\n",
        "    'LU': (49.815273,\t6.129583),\n",
        "    'LV': (56.879635,\t24.603189),\n",
        "    'ME': (42.708678, 19.37439),\n",
        "    'MK': (41.608635,\t21.745275),\n",
        "    'MT': (35.937496,\t14.375416),\n",
        "    'NL': (52.132633,\t5.291266),\n",
        "    'NO': (60.472024,\t8.468946),\n",
        "    'PL': (51.919438,\t19.145136),\n",
        "    'PT':\t(39.399872,\t-8.224454),\n",
        "    'RO': (45.943161, 24.96676),\n",
        "    'RS': (44.016521,\t21.005859),\n",
        "    'SE': (60.128161,\t18.643501),\n",
        "    'SI': (46.151241,\t14.995463),\n",
        "    'SK': (48.669026,\t19.699024),\n",
        "    'TR': (38.963745,\t35.243322),\n",
        "    'UK': (55.378051, -3.435973),\n",
        "    'XK': (42.602636,\t20.902977)}\n",
        "\n",
        "df_happiness_clustered = df_happiness.join(pd.DataFrame.from_dict(coordinates,\n",
        "                                                                  orient='index', \n",
        "                                                                  columns=['latitude', 'longitude']),\n",
        "                                           on='geo')\n",
        "\n",
        "df_happiness_clustered.sample(5)"
      ],
      "execution_count": null,
      "outputs": [
        {
          "output_type": "execute_result",
          "data": {
            "text/html": [
              "<div>\n",
              "<style scoped>\n",
              "    .dataframe tbody tr th:only-of-type {\n",
              "        vertical-align: middle;\n",
              "    }\n",
              "\n",
              "    .dataframe tbody tr th {\n",
              "        vertical-align: top;\n",
              "    }\n",
              "\n",
              "    .dataframe thead th {\n",
              "        text-align: right;\n",
              "    }\n",
              "</style>\n",
              "<table border=\"1\" class=\"dataframe\">\n",
              "  <thead>\n",
              "    <tr style=\"text-align: right;\">\n",
              "      <th></th>\n",
              "      <th>isced11</th>\n",
              "      <th>sex</th>\n",
              "      <th>age</th>\n",
              "      <th>geo</th>\n",
              "      <th>time</th>\n",
              "      <th>ACCSAT</th>\n",
              "      <th>COMSAT</th>\n",
              "      <th>FINSAT</th>\n",
              "      <th>GREENSAT</th>\n",
              "      <th>JOBSAT</th>\n",
              "      <th>LIFESAT</th>\n",
              "      <th>LIVENVSAT</th>\n",
              "      <th>MEANLIFE</th>\n",
              "      <th>RELSAT</th>\n",
              "      <th>TIMESAT</th>\n",
              "      <th>latitude</th>\n",
              "      <th>longitude</th>\n",
              "    </tr>\n",
              "  </thead>\n",
              "  <tbody>\n",
              "    <tr>\n",
              "      <th>1103</th>\n",
              "      <td>ED3_4</td>\n",
              "      <td>M</td>\n",
              "      <td>Y16-24</td>\n",
              "      <td>NL</td>\n",
              "      <td>2013</td>\n",
              "      <td>8.2</td>\n",
              "      <td>8.3</td>\n",
              "      <td>7.7</td>\n",
              "      <td>8.1</td>\n",
              "      <td>7.9</td>\n",
              "      <td>8.1</td>\n",
              "      <td>7.9</td>\n",
              "      <td>7.7</td>\n",
              "      <td>8.4</td>\n",
              "      <td>7.6</td>\n",
              "      <td>52.132633</td>\n",
              "      <td>5.291266</td>\n",
              "    </tr>\n",
              "    <tr>\n",
              "      <th>726</th>\n",
              "      <td>ED3_4</td>\n",
              "      <td>F</td>\n",
              "      <td>Y16-24</td>\n",
              "      <td>HR</td>\n",
              "      <td>2013</td>\n",
              "      <td>7.1</td>\n",
              "      <td>6.5</td>\n",
              "      <td>5.5</td>\n",
              "      <td>6.0</td>\n",
              "      <td>6.5</td>\n",
              "      <td>7.5</td>\n",
              "      <td>6.4</td>\n",
              "      <td>7.5</td>\n",
              "      <td>8.1</td>\n",
              "      <td>7.1</td>\n",
              "      <td>45.100000</td>\n",
              "      <td>15.200000</td>\n",
              "    </tr>\n",
              "    <tr>\n",
              "      <th>730</th>\n",
              "      <td>ED3_4</td>\n",
              "      <td>F</td>\n",
              "      <td>Y16-24</td>\n",
              "      <td>IE</td>\n",
              "      <td>2013</td>\n",
              "      <td>8.0</td>\n",
              "      <td>8.1</td>\n",
              "      <td>5.0</td>\n",
              "      <td>7.3</td>\n",
              "      <td>6.9</td>\n",
              "      <td>8.0</td>\n",
              "      <td>7.9</td>\n",
              "      <td>8.0</td>\n",
              "      <td>8.7</td>\n",
              "      <td>7.3</td>\n",
              "      <td>53.412910</td>\n",
              "      <td>-8.243890</td>\n",
              "    </tr>\n",
              "    <tr>\n",
              "      <th>975</th>\n",
              "      <td>ED3_4</td>\n",
              "      <td>F</td>\n",
              "      <td>Y50-64</td>\n",
              "      <td>SI</td>\n",
              "      <td>2013</td>\n",
              "      <td>7.7</td>\n",
              "      <td>8.0</td>\n",
              "      <td>5.3</td>\n",
              "      <td>8.1</td>\n",
              "      <td>7.2</td>\n",
              "      <td>6.7</td>\n",
              "      <td>7.7</td>\n",
              "      <td>8.0</td>\n",
              "      <td>8.4</td>\n",
              "      <td>7.1</td>\n",
              "      <td>46.151241</td>\n",
              "      <td>14.995463</td>\n",
              "    </tr>\n",
              "    <tr>\n",
              "      <th>789</th>\n",
              "      <td>ED3_4</td>\n",
              "      <td>F</td>\n",
              "      <td>Y25-34</td>\n",
              "      <td>EL</td>\n",
              "      <td>2013</td>\n",
              "      <td>6.5</td>\n",
              "      <td>6.1</td>\n",
              "      <td>4.3</td>\n",
              "      <td>6.1</td>\n",
              "      <td>6.2</td>\n",
              "      <td>6.6</td>\n",
              "      <td>6.2</td>\n",
              "      <td>7.1</td>\n",
              "      <td>7.2</td>\n",
              "      <td>6.3</td>\n",
              "      <td>39.074208</td>\n",
              "      <td>21.824312</td>\n",
              "    </tr>\n",
              "  </tbody>\n",
              "</table>\n",
              "</div>"
            ],
            "text/plain": [
              "     isced11 sex     age geo  ...  RELSAT  TIMESAT   latitude  longitude\n",
              "1103   ED3_4   M  Y16-24  NL  ...     8.4      7.6  52.132633   5.291266\n",
              "726    ED3_4   F  Y16-24  HR  ...     8.1      7.1  45.100000  15.200000\n",
              "730    ED3_4   F  Y16-24  IE  ...     8.7      7.3  53.412910  -8.243890\n",
              "975    ED3_4   F  Y50-64  SI  ...     8.4      7.1  46.151241  14.995463\n",
              "789    ED3_4   F  Y25-34  EL  ...     7.2      6.3  39.074208  21.824312\n",
              "\n",
              "[5 rows x 17 columns]"
            ]
          },
          "metadata": {},
          "execution_count": 24
        }
      ]
    },
    {
      "cell_type": "code",
      "metadata": {
        "id": "Z8m46LD3qPuA"
      },
      "source": [
        "from sklearn.cluster import KMeans\n",
        "\n",
        "kmeans = KMeans(n_clusters=6)\n",
        "df_happiness_clustered[\"cluster\"] = kmeans.fit_predict(df_happiness_clustered[['longitude', 'latitude']])\n",
        "df_happiness_clustered[\"cluster\"] = df_happiness_clustered[\"cluster\"].astype(\"category\")"
      ],
      "execution_count": null,
      "outputs": []
    },
    {
      "cell_type": "code",
      "metadata": {
        "colab": {
          "base_uri": "https://localhost:8080/",
          "height": 310
        },
        "id": "xfY_b2w8qiLL",
        "outputId": "936804ab-fdc6-485e-8f66-0e4e96d734d4"
      },
      "source": [
        "df_happiness_clustered.sample(5)"
      ],
      "execution_count": null,
      "outputs": [
        {
          "output_type": "execute_result",
          "data": {
            "text/html": [
              "<div>\n",
              "<style scoped>\n",
              "    .dataframe tbody tr th:only-of-type {\n",
              "        vertical-align: middle;\n",
              "    }\n",
              "\n",
              "    .dataframe tbody tr th {\n",
              "        vertical-align: top;\n",
              "    }\n",
              "\n",
              "    .dataframe thead th {\n",
              "        text-align: right;\n",
              "    }\n",
              "</style>\n",
              "<table border=\"1\" class=\"dataframe\">\n",
              "  <thead>\n",
              "    <tr style=\"text-align: right;\">\n",
              "      <th></th>\n",
              "      <th>isced11</th>\n",
              "      <th>sex</th>\n",
              "      <th>age</th>\n",
              "      <th>geo</th>\n",
              "      <th>time</th>\n",
              "      <th>ACCSAT</th>\n",
              "      <th>COMSAT</th>\n",
              "      <th>FINSAT</th>\n",
              "      <th>GREENSAT</th>\n",
              "      <th>JOBSAT</th>\n",
              "      <th>LIFESAT</th>\n",
              "      <th>LIVENVSAT</th>\n",
              "      <th>MEANLIFE</th>\n",
              "      <th>RELSAT</th>\n",
              "      <th>TIMESAT</th>\n",
              "      <th>latitude</th>\n",
              "      <th>longitude</th>\n",
              "      <th>cluster</th>\n",
              "    </tr>\n",
              "  </thead>\n",
              "  <tbody>\n",
              "    <tr>\n",
              "      <th>93</th>\n",
              "      <td>ED0-2</td>\n",
              "      <td>F</td>\n",
              "      <td>Y25-34</td>\n",
              "      <td>FI</td>\n",
              "      <td>2018</td>\n",
              "      <td>NaN</td>\n",
              "      <td>NaN</td>\n",
              "      <td>6.9</td>\n",
              "      <td>NaN</td>\n",
              "      <td>NaN</td>\n",
              "      <td>8.0</td>\n",
              "      <td>NaN</td>\n",
              "      <td>NaN</td>\n",
              "      <td>8.4</td>\n",
              "      <td>6.9</td>\n",
              "      <td>61.924110</td>\n",
              "      <td>25.748151</td>\n",
              "      <td>0</td>\n",
              "    </tr>\n",
              "    <tr>\n",
              "      <th>339</th>\n",
              "      <td>ED0-2</td>\n",
              "      <td>F</td>\n",
              "      <td>Y65-74</td>\n",
              "      <td>RS</td>\n",
              "      <td>2018</td>\n",
              "      <td>NaN</td>\n",
              "      <td>NaN</td>\n",
              "      <td>3.6</td>\n",
              "      <td>NaN</td>\n",
              "      <td>NaN</td>\n",
              "      <td>4.8</td>\n",
              "      <td>NaN</td>\n",
              "      <td>NaN</td>\n",
              "      <td>6.9</td>\n",
              "      <td>5.7</td>\n",
              "      <td>44.016521</td>\n",
              "      <td>21.005859</td>\n",
              "      <td>2</td>\n",
              "    </tr>\n",
              "    <tr>\n",
              "      <th>742</th>\n",
              "      <td>ED3_4</td>\n",
              "      <td>F</td>\n",
              "      <td>Y16-24</td>\n",
              "      <td>ME</td>\n",
              "      <td>2013</td>\n",
              "      <td>7.0</td>\n",
              "      <td>6.1</td>\n",
              "      <td>5.3</td>\n",
              "      <td>7.1</td>\n",
              "      <td>7.4</td>\n",
              "      <td>7.1</td>\n",
              "      <td>6.6</td>\n",
              "      <td>7.2</td>\n",
              "      <td>7.7</td>\n",
              "      <td>7.2</td>\n",
              "      <td>42.708678</td>\n",
              "      <td>19.374390</td>\n",
              "      <td>2</td>\n",
              "    </tr>\n",
              "    <tr>\n",
              "      <th>740</th>\n",
              "      <td>ED3_4</td>\n",
              "      <td>F</td>\n",
              "      <td>Y16-24</td>\n",
              "      <td>LV</td>\n",
              "      <td>2013</td>\n",
              "      <td>6.8</td>\n",
              "      <td>7.5</td>\n",
              "      <td>5.4</td>\n",
              "      <td>7.8</td>\n",
              "      <td>7.5</td>\n",
              "      <td>7.4</td>\n",
              "      <td>7.4</td>\n",
              "      <td>7.9</td>\n",
              "      <td>8.3</td>\n",
              "      <td>7.6</td>\n",
              "      <td>56.879635</td>\n",
              "      <td>24.603189</td>\n",
              "      <td>0</td>\n",
              "    </tr>\n",
              "    <tr>\n",
              "      <th>110</th>\n",
              "      <td>ED0-2</td>\n",
              "      <td>F</td>\n",
              "      <td>Y25-34</td>\n",
              "      <td>LV</td>\n",
              "      <td>2018</td>\n",
              "      <td>NaN</td>\n",
              "      <td>NaN</td>\n",
              "      <td>5.1</td>\n",
              "      <td>NaN</td>\n",
              "      <td>NaN</td>\n",
              "      <td>7.5</td>\n",
              "      <td>NaN</td>\n",
              "      <td>NaN</td>\n",
              "      <td>8.1</td>\n",
              "      <td>7.1</td>\n",
              "      <td>56.879635</td>\n",
              "      <td>24.603189</td>\n",
              "      <td>0</td>\n",
              "    </tr>\n",
              "  </tbody>\n",
              "</table>\n",
              "</div>"
            ],
            "text/plain": [
              "    isced11 sex     age geo  ...  TIMESAT   latitude  longitude  cluster\n",
              "93    ED0-2   F  Y25-34  FI  ...      6.9  61.924110  25.748151        0\n",
              "339   ED0-2   F  Y65-74  RS  ...      5.7  44.016521  21.005859        2\n",
              "742   ED3_4   F  Y16-24  ME  ...      7.2  42.708678  19.374390        2\n",
              "740   ED3_4   F  Y16-24  LV  ...      7.6  56.879635  24.603189        0\n",
              "110   ED0-2   F  Y25-34  LV  ...      7.1  56.879635  24.603189        0\n",
              "\n",
              "[5 rows x 18 columns]"
            ]
          },
          "metadata": {},
          "execution_count": 26
        }
      ]
    },
    {
      "cell_type": "code",
      "metadata": {
        "colab": {
          "base_uri": "https://localhost:8080/",
          "height": 405
        },
        "id": "uQzHq1LFs24j",
        "outputId": "ea1af93b-1fd9-41d9-f196-77f04f3dae5e"
      },
      "source": [
        "fig, ax = plt.subplots(figsize=(6, 6))\n",
        "sns.scatterplot(data=df_happiness_clustered,\n",
        "                x=\"longitude\",\n",
        "                y=\"latitude\",\n",
        "                hue='cluster',\n",
        "                s=100)"
      ],
      "execution_count": null,
      "outputs": [
        {
          "output_type": "execute_result",
          "data": {
            "text/plain": [
              "<matplotlib.axes._subplots.AxesSubplot at 0x7fc99159f090>"
            ]
          },
          "metadata": {},
          "execution_count": 27
        },
        {
          "output_type": "display_data",
          "data": {
            "image/png": "[encoded data removed]",
            "text/plain": [
              "<Figure size 432x432 with 1 Axes>"
            ]
          },
          "metadata": {
            "needs_background": "light"
          }
        }
      ]
    },
    {
      "cell_type": "code",
      "metadata": {
        "colab": {
          "base_uri": "https://localhost:8080/",
          "height": 458
        },
        "id": "XXtUlaW9tQqZ",
        "outputId": "4ca246e0-9781-4442-f482-b7876da31fea"
      },
      "source": [
        "sns.catplot(data=df_happiness_clustered,\n",
        "            x=\"GREENSAT\",\n",
        "            y=\"cluster\",\n",
        "            kind=\"boxen\", height=6)"
      ],
      "execution_count": null,
      "outputs": [
        {
          "output_type": "execute_result",
          "data": {
            "text/plain": [
              "<seaborn.axisgrid.FacetGrid at 0x7fc98803ef50>"
            ]
          },
          "metadata": {},
          "execution_count": 28
        },
        {
          "output_type": "display_data",
          "data": {
            "image/png": "[encoded data removed]",
            "text/plain": [
              "<Figure size 432x432 with 1 Axes>"
            ]
          },
          "metadata": {
            "needs_background": "light"
          }
        }
      ]
    },
    {
      "cell_type": "markdown",
      "metadata": {
        "id": "b8P6hfGvyXax"
      },
      "source": [
        "## Principal Component Analysis\n",
        "\n",
        "- Dimensionality reduction\n",
        "- Anomaly detection\n",
        "- Noise reduction\n",
        "- Decorrelation"
      ]
    },
    {
      "cell_type": "code",
      "metadata": {
        "id": "nPK54Wox36jk"
      },
      "source": [
        "from sklearn.preprocessing import StandardScaler\n",
        "\n",
        "# make sure you standardize your data before applying PCA\n",
        "scaler = StandardScaler()\n",
        "columns = ['petal_length', 'petal_width']\n",
        "df_iris_pca = df_iris.copy()\n",
        "df_iris_pca[columns] = pd.DataFrame(StandardScaler().fit_transform(df_iris[columns]),\n",
        "                                    columns=columns,\n",
        "                                    index=df_iris.index)\n",
        "\n",
        "from sklearn.decomposition import PCA\n",
        "\n",
        "pca = PCA()\n",
        "df_iris_pca[['size', 'shape']] = pd.DataFrame(pca.fit_transform(df_iris_pca[columns]),\n",
        "                                              index=df_iris.index)"
      ],
      "execution_count": null,
      "outputs": []
    },
    {
      "cell_type": "code",
      "metadata": {
        "colab": {
          "base_uri": "https://localhost:8080/",
          "height": 204
        },
        "id": "9LloROa06nJO",
        "outputId": "0257ffa2-6714-43c6-f289-0f6f802b20ba"
      },
      "source": [
        "df_iris_pca.sample(5)"
      ],
      "execution_count": null,
      "outputs": [
        {
          "output_type": "execute_result",
          "data": {
            "text/html": [
              "<div>\n",
              "<style scoped>\n",
              "    .dataframe tbody tr th:only-of-type {\n",
              "        vertical-align: middle;\n",
              "    }\n",
              "\n",
              "    .dataframe tbody tr th {\n",
              "        vertical-align: top;\n",
              "    }\n",
              "\n",
              "    .dataframe thead th {\n",
              "        text-align: right;\n",
              "    }\n",
              "</style>\n",
              "<table border=\"1\" class=\"dataframe\">\n",
              "  <thead>\n",
              "    <tr style=\"text-align: right;\">\n",
              "      <th></th>\n",
              "      <th>sepal_length</th>\n",
              "      <th>sepal_width</th>\n",
              "      <th>petal_length</th>\n",
              "      <th>petal_width</th>\n",
              "      <th>class</th>\n",
              "      <th>size</th>\n",
              "      <th>shape</th>\n",
              "    </tr>\n",
              "  </thead>\n",
              "  <tbody>\n",
              "    <tr>\n",
              "      <th>138</th>\n",
              "      <td>6.0</td>\n",
              "      <td>3.0</td>\n",
              "      <td>0.592162</td>\n",
              "      <td>0.790591</td>\n",
              "      <td>Iris-virginica</td>\n",
              "      <td>0.977754</td>\n",
              "      <td>0.140311</td>\n",
              "    </tr>\n",
              "    <tr>\n",
              "      <th>55</th>\n",
              "      <td>5.7</td>\n",
              "      <td>2.8</td>\n",
              "      <td>0.421564</td>\n",
              "      <td>0.133226</td>\n",
              "      <td>Iris-versicolor</td>\n",
              "      <td>0.392296</td>\n",
              "      <td>-0.203886</td>\n",
              "    </tr>\n",
              "    <tr>\n",
              "      <th>107</th>\n",
              "      <td>7.3</td>\n",
              "      <td>2.9</td>\n",
              "      <td>1.445147</td>\n",
              "      <td>0.790591</td>\n",
              "      <td>Iris-virginica</td>\n",
              "      <td>1.580905</td>\n",
              "      <td>-0.462841</td>\n",
              "    </tr>\n",
              "    <tr>\n",
              "      <th>91</th>\n",
              "      <td>6.1</td>\n",
              "      <td>3.0</td>\n",
              "      <td>0.478430</td>\n",
              "      <td>0.264699</td>\n",
              "      <td>Iris-versicolor</td>\n",
              "      <td>0.525472</td>\n",
              "      <td>-0.151131</td>\n",
              "    </tr>\n",
              "    <tr>\n",
              "      <th>63</th>\n",
              "      <td>6.1</td>\n",
              "      <td>2.9</td>\n",
              "      <td>0.535296</td>\n",
              "      <td>0.264699</td>\n",
              "      <td>Iris-versicolor</td>\n",
              "      <td>0.565682</td>\n",
              "      <td>-0.191341</td>\n",
              "    </tr>\n",
              "  </tbody>\n",
              "</table>\n",
              "</div>"
            ],
            "text/plain": [
              "     sepal_length  sepal_width  ...      size     shape\n",
              "138           6.0          3.0  ...  0.977754  0.140311\n",
              "55            5.7          2.8  ...  0.392296 -0.203886\n",
              "107           7.3          2.9  ...  1.580905 -0.462841\n",
              "91            6.1          3.0  ...  0.525472 -0.151131\n",
              "63            6.1          2.9  ...  0.565682 -0.191341\n",
              "\n",
              "[5 rows x 7 columns]"
            ]
          },
          "metadata": {},
          "execution_count": 30
        }
      ]
    },
    {
      "cell_type": "code",
      "metadata": {
        "colab": {
          "base_uri": "https://localhost:8080/",
          "height": 460
        },
        "id": "wFDMISEB0uqf",
        "outputId": "8515d226-dc42-4b62-bbe2-6d776881e272"
      },
      "source": [
        "fig, ax = plt.subplots(1, 2, figsize=(16, 7))\n",
        "sns.scatterplot(data=df_iris,\n",
        "                x='petal_length',\n",
        "                y='petal_width',\n",
        "                hue='class',\n",
        "                ax=ax[0])\n",
        "\n",
        "sns.scatterplot(data=df_iris_pca,\n",
        "                x='size',\n",
        "                y='shape',\n",
        "                hue='class',\n",
        "                ax=ax[1])"
      ],
      "execution_count": null,
      "outputs": [
        {
          "output_type": "execute_result",
          "data": {
            "text/plain": [
              "<matplotlib.axes._subplots.AxesSubplot at 0x7fc98676cc10>"
            ]
          },
          "metadata": {},
          "execution_count": 31
        },
        {
          "output_type": "display_data",
          "data": {
            "image/png": "[encoded data removed]",
            "text/plain": [
              "<Figure size 1152x504 with 2 Axes>"
            ]
          },
          "metadata": {
            "needs_background": "light"
          }
        }
      ]
    },
    {
      "cell_type": "code",
      "metadata": {
        "colab": {
          "base_uri": "https://localhost:8080/",
          "height": 111
        },
        "id": "DPRReiOp7nek",
        "outputId": "722a10d4-e94a-499b-ec88-e0de8a7179cd"
      },
      "source": [
        "pd.DataFrame(\n",
        "    pca.components_.T,\n",
        "    columns=['size', 'shape'],\n",
        "    index=columns,\n",
        ")"
      ],
      "execution_count": null,
      "outputs": [
        {
          "output_type": "execute_result",
          "data": {
            "text/html": [
              "<div>\n",
              "<style scoped>\n",
              "    .dataframe tbody tr th:only-of-type {\n",
              "        vertical-align: middle;\n",
              "    }\n",
              "\n",
              "    .dataframe tbody tr th {\n",
              "        vertical-align: top;\n",
              "    }\n",
              "\n",
              "    .dataframe thead th {\n",
              "        text-align: right;\n",
              "    }\n",
              "</style>\n",
              "<table border=\"1\" class=\"dataframe\">\n",
              "  <thead>\n",
              "    <tr style=\"text-align: right;\">\n",
              "      <th></th>\n",
              "      <th>size</th>\n",
              "      <th>shape</th>\n",
              "    </tr>\n",
              "  </thead>\n",
              "  <tbody>\n",
              "    <tr>\n",
              "      <th>petal_length</th>\n",
              "      <td>0.707107</td>\n",
              "      <td>-0.707107</td>\n",
              "    </tr>\n",
              "    <tr>\n",
              "      <th>petal_width</th>\n",
              "      <td>0.707107</td>\n",
              "      <td>0.707107</td>\n",
              "    </tr>\n",
              "  </tbody>\n",
              "</table>\n",
              "</div>"
            ],
            "text/plain": [
              "                  size     shape\n",
              "petal_length  0.707107 -0.707107\n",
              "petal_width   0.707107  0.707107"
            ]
          },
          "metadata": {},
          "execution_count": 32
        }
      ]
    },
    {
      "cell_type": "code",
      "metadata": {
        "colab": {
          "base_uri": "https://localhost:8080/"
        },
        "id": "XlIynLJD8Ukc",
        "outputId": "cb51165f-d9f4-469f-bee8-cdb56fb07b21"
      },
      "source": [
        "pca.explained_variance_ratio_"
      ],
      "execution_count": null,
      "outputs": [
        {
          "output_type": "execute_result",
          "data": {
            "text/plain": [
              "array([0.98137855, 0.01862145])"
            ]
          },
          "metadata": {},
          "execution_count": 33
        }
      ]
    },
    {
      "cell_type": "code",
      "metadata": {
        "colab": {
          "base_uri": "https://localhost:8080/",
          "height": 282
        },
        "id": "yU_-kCps8na-",
        "outputId": "ac59853b-4762-4645-c730-7c2e689fc404"
      },
      "source": [
        "fig, ax = plt.subplots(figsize=(14, 4))\n",
        "sns.barplot(y=['size', 'shape'],\n",
        "            x=pca.explained_variance_ratio_,\n",
        "            orient='h')"
      ],
      "execution_count": null,
      "outputs": [
        {
          "output_type": "execute_result",
          "data": {
            "text/plain": [
              "<matplotlib.axes._subplots.AxesSubplot at 0x7fc98661bad0>"
            ]
          },
          "metadata": {},
          "execution_count": 34
        },
        {
          "output_type": "display_data",
          "data": {
            "image/png": "[encoded data removed]",
            "text/plain": [
              "<Figure size 1008x288 with 1 Axes>"
            ]
          },
          "metadata": {
            "needs_background": "light"
          }
        }
      ]
    },
    {
      "cell_type": "markdown",
      "metadata": {
        "id": "lh-kGqji9_Sz"
      },
      "source": [
        "## Target Encoding"
      ]
    },
    {
      "cell_type": "code",
      "metadata": {
        "colab": {
          "base_uri": "https://localhost:8080/",
          "height": 204
        },
        "id": "4e2QxKs-86QB",
        "outputId": "8af73c50-888e-4000-e9d2-da0868611d91"
      },
      "source": [
        "df_happiness_labelencoded = df_happiness.copy()\n",
        "\n",
        "df_happiness_labelencoded[\"geo_encoded\"] = df_happiness_labelencoded.groupby('geo')['LIFESAT'].transform(np.mean)\n",
        "\n",
        "df_happiness_labelencoded.sample(5)"
      ],
      "execution_count": null,
      "outputs": [
        {
          "output_type": "execute_result",
          "data": {
            "text/html": [
              "<div>\n",
              "<style scoped>\n",
              "    .dataframe tbody tr th:only-of-type {\n",
              "        vertical-align: middle;\n",
              "    }\n",
              "\n",
              "    .dataframe tbody tr th {\n",
              "        vertical-align: top;\n",
              "    }\n",
              "\n",
              "    .dataframe thead th {\n",
              "        text-align: right;\n",
              "    }\n",
              "</style>\n",
              "<table border=\"1\" class=\"dataframe\">\n",
              "  <thead>\n",
              "    <tr style=\"text-align: right;\">\n",
              "      <th></th>\n",
              "      <th>isced11</th>\n",
              "      <th>sex</th>\n",
              "      <th>age</th>\n",
              "      <th>geo</th>\n",
              "      <th>time</th>\n",
              "      <th>ACCSAT</th>\n",
              "      <th>COMSAT</th>\n",
              "      <th>FINSAT</th>\n",
              "      <th>GREENSAT</th>\n",
              "      <th>JOBSAT</th>\n",
              "      <th>LIFESAT</th>\n",
              "      <th>LIVENVSAT</th>\n",
              "      <th>MEANLIFE</th>\n",
              "      <th>RELSAT</th>\n",
              "      <th>TIMESAT</th>\n",
              "      <th>geo_encoded</th>\n",
              "    </tr>\n",
              "  </thead>\n",
              "  <tbody>\n",
              "    <tr>\n",
              "      <th>1505</th>\n",
              "      <td>ED5-8</td>\n",
              "      <td>F</td>\n",
              "      <td>Y25-34</td>\n",
              "      <td>LT</td>\n",
              "      <td>2018</td>\n",
              "      <td>NaN</td>\n",
              "      <td>NaN</td>\n",
              "      <td>6.8</td>\n",
              "      <td>NaN</td>\n",
              "      <td>7.7</td>\n",
              "      <td>7.8</td>\n",
              "      <td>NaN</td>\n",
              "      <td>NaN</td>\n",
              "      <td>8.2</td>\n",
              "      <td>6.1</td>\n",
              "      <td>6.643860</td>\n",
              "    </tr>\n",
              "    <tr>\n",
              "      <th>847</th>\n",
              "      <td>ED3_4</td>\n",
              "      <td>F</td>\n",
              "      <td>Y35-49</td>\n",
              "      <td>BG</td>\n",
              "      <td>2013</td>\n",
              "      <td>6.2</td>\n",
              "      <td>5.8</td>\n",
              "      <td>3.7</td>\n",
              "      <td>5.2</td>\n",
              "      <td>5.5</td>\n",
              "      <td>4.9</td>\n",
              "      <td>5.3</td>\n",
              "      <td>6.4</td>\n",
              "      <td>5.7</td>\n",
              "      <td>5.1</td>\n",
              "      <td>5.228070</td>\n",
              "    </tr>\n",
              "    <tr>\n",
              "      <th>1178</th>\n",
              "      <td>ED3_4</td>\n",
              "      <td>M</td>\n",
              "      <td>Y25-34</td>\n",
              "      <td>PL</td>\n",
              "      <td>2013</td>\n",
              "      <td>6.9</td>\n",
              "      <td>7.3</td>\n",
              "      <td>5.8</td>\n",
              "      <td>7.5</td>\n",
              "      <td>7.5</td>\n",
              "      <td>7.6</td>\n",
              "      <td>7.5</td>\n",
              "      <td>7.6</td>\n",
              "      <td>8.0</td>\n",
              "      <td>6.3</td>\n",
              "      <td>7.596667</td>\n",
              "    </tr>\n",
              "    <tr>\n",
              "      <th>1876</th>\n",
              "      <td>ED5-8</td>\n",
              "      <td>M</td>\n",
              "      <td>Y35-49</td>\n",
              "      <td>EL</td>\n",
              "      <td>2013</td>\n",
              "      <td>6.7</td>\n",
              "      <td>6.2</td>\n",
              "      <td>5.1</td>\n",
              "      <td>5.6</td>\n",
              "      <td>6.6</td>\n",
              "      <td>6.6</td>\n",
              "      <td>5.9</td>\n",
              "      <td>7.1</td>\n",
              "      <td>7.2</td>\n",
              "      <td>6.0</td>\n",
              "      <td>6.458333</td>\n",
              "    </tr>\n",
              "    <tr>\n",
              "      <th>2071</th>\n",
              "      <td>ED5_6</td>\n",
              "      <td>F</td>\n",
              "      <td>Y16-24</td>\n",
              "      <td>MT</td>\n",
              "      <td>2013</td>\n",
              "      <td>8.8</td>\n",
              "      <td>NaN</td>\n",
              "      <td>6.9</td>\n",
              "      <td>5.8</td>\n",
              "      <td>NaN</td>\n",
              "      <td>8.0</td>\n",
              "      <td>7.4</td>\n",
              "      <td>7.9</td>\n",
              "      <td>8.5</td>\n",
              "      <td>5.8</td>\n",
              "      <td>7.562857</td>\n",
              "    </tr>\n",
              "  </tbody>\n",
              "</table>\n",
              "</div>"
            ],
            "text/plain": [
              "     isced11 sex     age geo  ...  MEANLIFE  RELSAT  TIMESAT  geo_encoded\n",
              "1505   ED5-8   F  Y25-34  LT  ...       NaN     8.2      6.1     6.643860\n",
              "847    ED3_4   F  Y35-49  BG  ...       6.4     5.7      5.1     5.228070\n",
              "1178   ED3_4   M  Y25-34  PL  ...       7.6     8.0      6.3     7.596667\n",
              "1876   ED5-8   M  Y35-49  EL  ...       7.1     7.2      6.0     6.458333\n",
              "2071   ED5_6   F  Y16-24  MT  ...       7.9     8.5      5.8     7.562857\n",
              "\n",
              "[5 rows x 16 columns]"
            ]
          },
          "metadata": {},
          "execution_count": 35
        }
      ]
    },
    {
      "cell_type": "code",
      "metadata": {
        "colab": {
          "base_uri": "https://localhost:8080/",
          "height": 644
        },
        "id": "2AvsvT_2BCdJ",
        "outputId": "ce543850-6bcf-47fe-c157-7a87a4dde7bb"
      },
      "source": [
        "%%html\n",
        "<iframe src=\"https://contrib.scikit-learn.org/category_encoders/targetencoder.html\" width=\"1100\" height=\"600\"></iframe>"
      ],
      "execution_count": null,
      "outputs": [
        {
          "output_type": "display_data",
          "data": {
            "text/html": [
              "<iframe src=\"https://contrib.scikit-learn.org/category_encoders/targetencoder.html\" width=\"1100\" height=\"600\"></iframe>"
            ],
            "text/plain": [
              "<IPython.core.display.HTML object>"
            ]
          },
          "metadata": {}
        }
      ]
    },
    {
      "cell_type": "markdown",
      "metadata": {
        "id": "eiEh8UqDA8YT"
      },
      "source": [
        "# ❓ Exercise\n",
        "\n",
        "Experiment with some feature engineering techniques on one of the proposed datasets:\n",
        "- New numerical features\n",
        "- New categorical features\n",
        "- Reduction of number of features\n",
        "- Note: You may use your cleaned dataset from Notebook 2"
      ]
    },
    {
      "cell_type": "code",
      "metadata": {
        "id": "bfOxQNdMENzx"
      },
      "source": [
        ""
      ],
      "execution_count": null,
      "outputs": []
    }
  ]
}